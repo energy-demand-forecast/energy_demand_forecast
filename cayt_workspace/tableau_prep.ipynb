{
 "cells": [
  {
   "cell_type": "code",
   "execution_count": 19,
   "id": "591aedc3",
   "metadata": {},
   "outputs": [],
   "source": [
    "import numpy as np\n",
    "import pandas as pd\n",
    "\n",
    "import matplotlib.pyplot as plt\n",
    "import wrangle"
   ]
  },
  {
   "cell_type": "markdown",
   "id": "47ba41ac",
   "metadata": {},
   "source": [
    "###### Create a smaller dataset for exploring in Tableau"
   ]
  },
  {
   "cell_type": "code",
   "execution_count": 2,
   "id": "04a6c6fa",
   "metadata": {},
   "outputs": [],
   "source": [
    "#import the df\n",
    "df = wrangle.get_combined_df()"
   ]
  },
  {
   "cell_type": "code",
   "execution_count": 3,
   "id": "a7b3ecdc",
   "metadata": {},
   "outputs": [
    {
     "name": "stdout",
     "output_type": "stream",
     "text": [
      "<class 'pandas.core.frame.DataFrame'>\n",
      "DatetimeIndex: 109535 entries, 2010-01-01 00:00:00-06:00 to 2022-06-30 23:00:00-05:00\n",
      "Data columns (total 60 columns):\n",
      " #   Column               Non-Null Count   Dtype  \n",
      "---  ------               --------------   -----  \n",
      " 0   ercot_load           109535 non-null  float64\n",
      " 1   dow                  109535 non-null  object \n",
      " 2   is_weekday           109535 non-null  int64  \n",
      " 3   is_obs_holiday       109535 non-null  int64  \n",
      " 4   hs_temp              109535 non-null  float64\n",
      " 5   hs_feelslike         109535 non-null  float64\n",
      " 6   hs_dew               109535 non-null  float64\n",
      " 7   hs_humidity          109535 non-null  float64\n",
      " 8   hs_precip            109535 non-null  float64\n",
      " 9   hs_windgust          28674 non-null   float64\n",
      " 10  hs_windspeed         109535 non-null  float64\n",
      " 11  hs_winddir           109535 non-null  float64\n",
      " 12  hs_sealevelpressure  109435 non-null  float64\n",
      " 13  hs_cloudcover        109535 non-null  float64\n",
      " 14  hs_visibility        109535 non-null  float64\n",
      " 15  hs_solarradiation    109535 non-null  float64\n",
      " 16  hs_solarenergy       69237 non-null   float64\n",
      " 17  hs_uvindex           109535 non-null  int64  \n",
      " 18  gv_temp              109535 non-null  float64\n",
      " 19  gv_feelslike         109535 non-null  float64\n",
      " 20  gv_dew               109535 non-null  float64\n",
      " 21  gv_humidity          109535 non-null  float64\n",
      " 22  gv_precip            109535 non-null  float64\n",
      " 23  gv_windgust          53398 non-null   float64\n",
      " 24  gv_windspeed         109535 non-null  float64\n",
      " 25  gv_winddir           109535 non-null  float64\n",
      " 26  gv_sealevelpressure  109532 non-null  float64\n",
      " 27  gv_cloudcover        109535 non-null  float64\n",
      " 28  gv_visibility        109533 non-null  float64\n",
      " 29  gv_solarradiation    99620 non-null   float64\n",
      " 30  gv_solarenergy       66875 non-null   float64\n",
      " 31  gv_uvindex           99620 non-null   float64\n",
      " 32  pl_temp              109535 non-null  float64\n",
      " 33  pl_feelslike         109535 non-null  float64\n",
      " 34  pl_dew               109535 non-null  float64\n",
      " 35  pl_humidity          109535 non-null  float64\n",
      " 36  pl_precip            109535 non-null  float64\n",
      " 37  pl_windgust          49046 non-null   float64\n",
      " 38  pl_windspeed         109535 non-null  float64\n",
      " 39  pl_winddir           109535 non-null  float64\n",
      " 40  pl_sealevelpressure  109360 non-null  float64\n",
      " 41  pl_cloudcover        109535 non-null  float64\n",
      " 42  pl_visibility        109527 non-null  float64\n",
      " 43  pl_solarradiation    109535 non-null  float64\n",
      " 44  pl_solarenergy       63209 non-null   float64\n",
      " 45  pl_uvindex           109535 non-null  int64  \n",
      " 46  vc_temp              109535 non-null  float64\n",
      " 47  vc_feelslike         109535 non-null  float64\n",
      " 48  vc_dew               109535 non-null  float64\n",
      " 49  vc_humidity          109535 non-null  float64\n",
      " 50  vc_precip            109535 non-null  float64\n",
      " 51  vc_windgust          37687 non-null   float64\n",
      " 52  vc_windspeed         109535 non-null  float64\n",
      " 53  vc_winddir           109535 non-null  float64\n",
      " 54  vc_sealevelpressure  109458 non-null  float64\n",
      " 55  vc_cloudcover        109535 non-null  float64\n",
      " 56  vc_visibility        109500 non-null  float64\n",
      " 57  vc_solarradiation    109535 non-null  float64\n",
      " 58  vc_solarenergy       64818 non-null   float64\n",
      " 59  vc_uvindex           109535 non-null  int64  \n",
      "dtypes: float64(54), int64(5), object(1)\n",
      "memory usage: 51.0+ MB\n"
     ]
    }
   ],
   "source": [
    "df.info()"
   ]
  },
  {
   "cell_type": "code",
   "execution_count": 4,
   "id": "bb2ba490",
   "metadata": {},
   "outputs": [
    {
     "data": {
      "text/html": [
       "<div>\n",
       "<style scoped>\n",
       "    .dataframe tbody tr th:only-of-type {\n",
       "        vertical-align: middle;\n",
       "    }\n",
       "\n",
       "    .dataframe tbody tr th {\n",
       "        vertical-align: top;\n",
       "    }\n",
       "\n",
       "    .dataframe thead th {\n",
       "        text-align: right;\n",
       "    }\n",
       "</style>\n",
       "<table border=\"1\" class=\"dataframe\">\n",
       "  <thead>\n",
       "    <tr style=\"text-align: right;\">\n",
       "      <th></th>\n",
       "      <th>ercot_load</th>\n",
       "      <th>dow</th>\n",
       "      <th>is_weekday</th>\n",
       "      <th>is_obs_holiday</th>\n",
       "      <th>hs_temp</th>\n",
       "      <th>hs_feelslike</th>\n",
       "      <th>hs_dew</th>\n",
       "      <th>hs_humidity</th>\n",
       "      <th>hs_precip</th>\n",
       "      <th>hs_windgust</th>\n",
       "      <th>...</th>\n",
       "      <th>vc_precip</th>\n",
       "      <th>vc_windgust</th>\n",
       "      <th>vc_windspeed</th>\n",
       "      <th>vc_winddir</th>\n",
       "      <th>vc_sealevelpressure</th>\n",
       "      <th>vc_cloudcover</th>\n",
       "      <th>vc_visibility</th>\n",
       "      <th>vc_solarradiation</th>\n",
       "      <th>vc_solarenergy</th>\n",
       "      <th>vc_uvindex</th>\n",
       "    </tr>\n",
       "    <tr>\n",
       "      <th>datetime</th>\n",
       "      <th></th>\n",
       "      <th></th>\n",
       "      <th></th>\n",
       "      <th></th>\n",
       "      <th></th>\n",
       "      <th></th>\n",
       "      <th></th>\n",
       "      <th></th>\n",
       "      <th></th>\n",
       "      <th></th>\n",
       "      <th></th>\n",
       "      <th></th>\n",
       "      <th></th>\n",
       "      <th></th>\n",
       "      <th></th>\n",
       "      <th></th>\n",
       "      <th></th>\n",
       "      <th></th>\n",
       "      <th></th>\n",
       "      <th></th>\n",
       "      <th></th>\n",
       "    </tr>\n",
       "  </thead>\n",
       "  <tbody>\n",
       "    <tr>\n",
       "      <th>2010-01-01 00:00:00-06:00</th>\n",
       "      <td>7931.241900</td>\n",
       "      <td>Friday</td>\n",
       "      <td>1</td>\n",
       "      <td>1</td>\n",
       "      <td>47.3</td>\n",
       "      <td>41.2</td>\n",
       "      <td>43.2</td>\n",
       "      <td>85.37</td>\n",
       "      <td>0.0</td>\n",
       "      <td>27.5</td>\n",
       "      <td>...</td>\n",
       "      <td>0.0</td>\n",
       "      <td>24.2</td>\n",
       "      <td>16.1</td>\n",
       "      <td>360.0</td>\n",
       "      <td>1027.7</td>\n",
       "      <td>98.7</td>\n",
       "      <td>9.9</td>\n",
       "      <td>0.0</td>\n",
       "      <td>NaN</td>\n",
       "      <td>0</td>\n",
       "    </tr>\n",
       "    <tr>\n",
       "      <th>2010-01-01 01:00:00-06:00</th>\n",
       "      <td>7775.456846</td>\n",
       "      <td>Friday</td>\n",
       "      <td>1</td>\n",
       "      <td>1</td>\n",
       "      <td>46.8</td>\n",
       "      <td>39.9</td>\n",
       "      <td>41.4</td>\n",
       "      <td>81.38</td>\n",
       "      <td>0.0</td>\n",
       "      <td>24.2</td>\n",
       "      <td>...</td>\n",
       "      <td>0.0</td>\n",
       "      <td>26.5</td>\n",
       "      <td>15.1</td>\n",
       "      <td>350.0</td>\n",
       "      <td>1028.1</td>\n",
       "      <td>98.6</td>\n",
       "      <td>9.9</td>\n",
       "      <td>0.0</td>\n",
       "      <td>NaN</td>\n",
       "      <td>0</td>\n",
       "    </tr>\n",
       "    <tr>\n",
       "      <th>2010-01-01 02:00:00-06:00</th>\n",
       "      <td>7704.815982</td>\n",
       "      <td>Friday</td>\n",
       "      <td>1</td>\n",
       "      <td>1</td>\n",
       "      <td>45.0</td>\n",
       "      <td>37.1</td>\n",
       "      <td>39.6</td>\n",
       "      <td>81.24</td>\n",
       "      <td>0.0</td>\n",
       "      <td>28.9</td>\n",
       "      <td>...</td>\n",
       "      <td>0.0</td>\n",
       "      <td>31.1</td>\n",
       "      <td>21.9</td>\n",
       "      <td>350.0</td>\n",
       "      <td>1028.8</td>\n",
       "      <td>98.6</td>\n",
       "      <td>9.9</td>\n",
       "      <td>0.0</td>\n",
       "      <td>NaN</td>\n",
       "      <td>0</td>\n",
       "    </tr>\n",
       "    <tr>\n",
       "      <th>2010-01-01 03:00:00-06:00</th>\n",
       "      <td>7650.575724</td>\n",
       "      <td>Friday</td>\n",
       "      <td>1</td>\n",
       "      <td>1</td>\n",
       "      <td>45.0</td>\n",
       "      <td>38.3</td>\n",
       "      <td>39.3</td>\n",
       "      <td>80.35</td>\n",
       "      <td>0.0</td>\n",
       "      <td>26.4</td>\n",
       "      <td>...</td>\n",
       "      <td>0.0</td>\n",
       "      <td>25.4</td>\n",
       "      <td>17.2</td>\n",
       "      <td>350.0</td>\n",
       "      <td>1028.9</td>\n",
       "      <td>98.7</td>\n",
       "      <td>9.9</td>\n",
       "      <td>0.0</td>\n",
       "      <td>NaN</td>\n",
       "      <td>0</td>\n",
       "    </tr>\n",
       "    <tr>\n",
       "      <th>2010-01-01 04:00:00-06:00</th>\n",
       "      <td>7666.708317</td>\n",
       "      <td>Friday</td>\n",
       "      <td>1</td>\n",
       "      <td>1</td>\n",
       "      <td>45.0</td>\n",
       "      <td>37.7</td>\n",
       "      <td>37.8</td>\n",
       "      <td>75.72</td>\n",
       "      <td>0.0</td>\n",
       "      <td>NaN</td>\n",
       "      <td>...</td>\n",
       "      <td>0.0</td>\n",
       "      <td>32.3</td>\n",
       "      <td>24.2</td>\n",
       "      <td>10.0</td>\n",
       "      <td>1028.0</td>\n",
       "      <td>27.7</td>\n",
       "      <td>9.9</td>\n",
       "      <td>0.0</td>\n",
       "      <td>NaN</td>\n",
       "      <td>0</td>\n",
       "    </tr>\n",
       "  </tbody>\n",
       "</table>\n",
       "<p>5 rows × 60 columns</p>\n",
       "</div>"
      ],
      "text/plain": [
       "                            ercot_load     dow  is_weekday  is_obs_holiday  \\\n",
       "datetime                                                                     \n",
       "2010-01-01 00:00:00-06:00  7931.241900  Friday           1               1   \n",
       "2010-01-01 01:00:00-06:00  7775.456846  Friday           1               1   \n",
       "2010-01-01 02:00:00-06:00  7704.815982  Friday           1               1   \n",
       "2010-01-01 03:00:00-06:00  7650.575724  Friday           1               1   \n",
       "2010-01-01 04:00:00-06:00  7666.708317  Friday           1               1   \n",
       "\n",
       "                           hs_temp  hs_feelslike  hs_dew  hs_humidity  \\\n",
       "datetime                                                                \n",
       "2010-01-01 00:00:00-06:00     47.3          41.2    43.2        85.37   \n",
       "2010-01-01 01:00:00-06:00     46.8          39.9    41.4        81.38   \n",
       "2010-01-01 02:00:00-06:00     45.0          37.1    39.6        81.24   \n",
       "2010-01-01 03:00:00-06:00     45.0          38.3    39.3        80.35   \n",
       "2010-01-01 04:00:00-06:00     45.0          37.7    37.8        75.72   \n",
       "\n",
       "                           hs_precip  hs_windgust  ...  vc_precip  \\\n",
       "datetime                                           ...              \n",
       "2010-01-01 00:00:00-06:00        0.0         27.5  ...        0.0   \n",
       "2010-01-01 01:00:00-06:00        0.0         24.2  ...        0.0   \n",
       "2010-01-01 02:00:00-06:00        0.0         28.9  ...        0.0   \n",
       "2010-01-01 03:00:00-06:00        0.0         26.4  ...        0.0   \n",
       "2010-01-01 04:00:00-06:00        0.0          NaN  ...        0.0   \n",
       "\n",
       "                           vc_windgust  vc_windspeed  vc_winddir  \\\n",
       "datetime                                                           \n",
       "2010-01-01 00:00:00-06:00         24.2          16.1       360.0   \n",
       "2010-01-01 01:00:00-06:00         26.5          15.1       350.0   \n",
       "2010-01-01 02:00:00-06:00         31.1          21.9       350.0   \n",
       "2010-01-01 03:00:00-06:00         25.4          17.2       350.0   \n",
       "2010-01-01 04:00:00-06:00         32.3          24.2        10.0   \n",
       "\n",
       "                           vc_sealevelpressure  vc_cloudcover  vc_visibility  \\\n",
       "datetime                                                                       \n",
       "2010-01-01 00:00:00-06:00               1027.7           98.7            9.9   \n",
       "2010-01-01 01:00:00-06:00               1028.1           98.6            9.9   \n",
       "2010-01-01 02:00:00-06:00               1028.8           98.6            9.9   \n",
       "2010-01-01 03:00:00-06:00               1028.9           98.7            9.9   \n",
       "2010-01-01 04:00:00-06:00               1028.0           27.7            9.9   \n",
       "\n",
       "                           vc_solarradiation  vc_solarenergy  vc_uvindex  \n",
       "datetime                                                                  \n",
       "2010-01-01 00:00:00-06:00                0.0             NaN           0  \n",
       "2010-01-01 01:00:00-06:00                0.0             NaN           0  \n",
       "2010-01-01 02:00:00-06:00                0.0             NaN           0  \n",
       "2010-01-01 03:00:00-06:00                0.0             NaN           0  \n",
       "2010-01-01 04:00:00-06:00                0.0             NaN           0  \n",
       "\n",
       "[5 rows x 60 columns]"
      ]
     },
     "execution_count": 4,
     "metadata": {},
     "output_type": "execute_result"
    }
   ],
   "source": [
    "df.head()"
   ]
  },
  {
   "cell_type": "markdown",
   "id": "4faf3115",
   "metadata": {},
   "source": [
    "##### 1) We only want the train dataset (everything before 2017)"
   ]
  },
  {
   "cell_type": "code",
   "execution_count": 6,
   "id": "ddd998e0",
   "metadata": {},
   "outputs": [],
   "source": [
    "train = df.loc[:'2017']"
   ]
  },
  {
   "cell_type": "code",
   "execution_count": 7,
   "id": "e1786480",
   "metadata": {},
   "outputs": [
    {
     "data": {
      "text/plain": [
       "DatetimeIndex(['2010-01-01 00:00:00-06:00', '2010-01-01 01:00:00-06:00',\n",
       "               '2010-01-01 02:00:00-06:00', '2010-01-01 03:00:00-06:00',\n",
       "               '2010-01-01 04:00:00-06:00', '2010-01-01 05:00:00-06:00',\n",
       "               '2010-01-01 06:00:00-06:00', '2010-01-01 07:00:00-06:00',\n",
       "               '2010-01-01 08:00:00-06:00', '2010-01-01 09:00:00-06:00',\n",
       "               ...\n",
       "               '2017-12-31 14:00:00-06:00', '2017-12-31 15:00:00-06:00',\n",
       "               '2017-12-31 16:00:00-06:00', '2017-12-31 17:00:00-06:00',\n",
       "               '2017-12-31 18:00:00-06:00', '2017-12-31 19:00:00-06:00',\n",
       "               '2017-12-31 20:00:00-06:00', '2017-12-31 21:00:00-06:00',\n",
       "               '2017-12-31 22:00:00-06:00', '2017-12-31 23:00:00-06:00'],\n",
       "              dtype='datetime64[ns, US/Central]', name='datetime', length=70128, freq=None)"
      ]
     },
     "execution_count": 7,
     "metadata": {},
     "output_type": "execute_result"
    }
   ],
   "source": [
    "train.index"
   ]
  },
  {
   "cell_type": "markdown",
   "id": "4974c054",
   "metadata": {},
   "source": [
    "##### 2) Get rid of unwanted weather columns."
   ]
  },
  {
   "cell_type": "code",
   "execution_count": 16,
   "id": "ab2d3a10",
   "metadata": {},
   "outputs": [],
   "source": [
    "#drop all non -houston data\n",
    "train = train.loc[:,'ercot_load':'hs_uvindex']"
   ]
  },
  {
   "cell_type": "code",
   "execution_count": 17,
   "id": "48b43b17",
   "metadata": {},
   "outputs": [
    {
     "data": {
      "text/plain": [
       "Index(['ercot_load', 'dow', 'is_weekday', 'is_obs_holiday', 'hs_temp',\n",
       "       'hs_feelslike', 'hs_dew', 'hs_humidity', 'hs_precip', 'hs_windgust',\n",
       "       'hs_windspeed', 'hs_winddir', 'hs_sealevelpressure', 'hs_cloudcover',\n",
       "       'hs_visibility', 'hs_solarradiation', 'hs_solarenergy', 'hs_uvindex'],\n",
       "      dtype='object')"
      ]
     },
     "execution_count": 17,
     "metadata": {},
     "output_type": "execute_result"
    }
   ],
   "source": [
    "train.columns"
   ]
  },
  {
   "cell_type": "code",
   "execution_count": 18,
   "id": "dcbe557c",
   "metadata": {},
   "outputs": [
    {
     "name": "stdout",
     "output_type": "stream",
     "text": [
      "<class 'pandas.core.frame.DataFrame'>\n",
      "DatetimeIndex: 70128 entries, 2010-01-01 00:00:00-06:00 to 2017-12-31 23:00:00-06:00\n",
      "Data columns (total 18 columns):\n",
      " #   Column               Non-Null Count  Dtype  \n",
      "---  ------               --------------  -----  \n",
      " 0   ercot_load           70128 non-null  float64\n",
      " 1   dow                  70128 non-null  object \n",
      " 2   is_weekday           70128 non-null  int64  \n",
      " 3   is_obs_holiday       70128 non-null  int64  \n",
      " 4   hs_temp              70128 non-null  float64\n",
      " 5   hs_feelslike         70128 non-null  float64\n",
      " 6   hs_dew               70128 non-null  float64\n",
      " 7   hs_humidity          70128 non-null  float64\n",
      " 8   hs_precip            70128 non-null  float64\n",
      " 9   hs_windgust          13765 non-null  float64\n",
      " 10  hs_windspeed         70128 non-null  float64\n",
      " 11  hs_winddir           70128 non-null  float64\n",
      " 12  hs_sealevelpressure  70028 non-null  float64\n",
      " 13  hs_cloudcover        70128 non-null  float64\n",
      " 14  hs_visibility        70128 non-null  float64\n",
      " 15  hs_solarradiation    70128 non-null  float64\n",
      " 16  hs_solarenergy       37876 non-null  float64\n",
      " 17  hs_uvindex           70128 non-null  int64  \n",
      "dtypes: float64(14), int64(3), object(1)\n",
      "memory usage: 10.2+ MB\n"
     ]
    }
   ],
   "source": [
    "train.info()"
   ]
  },
  {
   "cell_type": "code",
   "execution_count": 24,
   "id": "2d0560b1",
   "metadata": {},
   "outputs": [],
   "source": [
    "#drop hs_windgust, hs_dew\n",
    "train.drop(columns=['hs_windgust','hs_dew'],inplace=True)"
   ]
  },
  {
   "cell_type": "code",
   "execution_count": 27,
   "id": "40ba10d7",
   "metadata": {},
   "outputs": [
    {
     "data": {
      "text/plain": [
       "datetime\n",
       "2010-01-01 00:00:00-06:00    NaN\n",
       "2010-01-01 01:00:00-06:00    NaN\n",
       "2010-01-01 02:00:00-06:00    NaN\n",
       "2010-01-01 03:00:00-06:00    NaN\n",
       "2010-01-01 04:00:00-06:00    NaN\n",
       "2010-01-01 05:00:00-06:00    NaN\n",
       "2010-01-01 06:00:00-06:00    NaN\n",
       "2010-01-01 07:00:00-06:00    0.1\n",
       "2010-01-01 08:00:00-06:00    0.7\n",
       "2010-01-01 09:00:00-06:00    1.4\n",
       "2010-01-01 10:00:00-06:00    2.0\n",
       "2010-01-01 11:00:00-06:00    2.3\n",
       "2010-01-01 12:00:00-06:00    2.4\n",
       "2010-01-01 13:00:00-06:00    2.3\n",
       "2010-01-01 14:00:00-06:00    1.9\n",
       "2010-01-01 15:00:00-06:00    1.3\n",
       "2010-01-01 16:00:00-06:00    0.6\n",
       "2010-01-01 17:00:00-06:00    0.0\n",
       "2010-01-01 18:00:00-06:00    NaN\n",
       "2010-01-01 19:00:00-06:00    NaN\n",
       "2010-01-01 20:00:00-06:00    NaN\n",
       "2010-01-01 21:00:00-06:00    NaN\n",
       "2010-01-01 22:00:00-06:00    NaN\n",
       "2010-01-01 23:00:00-06:00    NaN\n",
       "Name: hs_solarenergy, dtype: float64"
      ]
     },
     "execution_count": 27,
     "metadata": {},
     "output_type": "execute_result"
    }
   ],
   "source": [
    "train.hs_solarenergy.head(24) #Looks like its zero at night....weird"
   ]
  },
  {
   "cell_type": "code",
   "execution_count": 26,
   "id": "98e23e71",
   "metadata": {},
   "outputs": [
    {
     "data": {
      "text/plain": [
       "0     2922\n",
       "1     2930\n",
       "2     2914\n",
       "3     2922\n",
       "4     2922\n",
       "5     2922\n",
       "6     1645\n",
       "7       12\n",
       "18     910\n",
       "19    1169\n",
       "20    2221\n",
       "21    2921\n",
       "22    2921\n",
       "23    2921\n",
       "Name: datetime, dtype: int64"
      ]
     },
     "execution_count": 26,
     "metadata": {},
     "output_type": "execute_result"
    }
   ],
   "source": [
    "#confirm solar energy is nan at night\n",
    "train[train.hs_solarenergy.isna()].index.hour.value_counts().sort_index()"
   ]
  },
  {
   "cell_type": "code",
   "execution_count": 29,
   "id": "eed1268e",
   "metadata": {},
   "outputs": [],
   "source": [
    "#looks so >> fill solar energy nan\n",
    "train.hs_solarenergy.fillna(value=0,inplace=True)"
   ]
  },
  {
   "cell_type": "code",
   "execution_count": 30,
   "id": "0edec6b9",
   "metadata": {},
   "outputs": [
    {
     "data": {
      "text/plain": [
       "datetime\n",
       "2010-01-01 00:00:00-06:00    0.0\n",
       "2010-01-01 01:00:00-06:00    0.0\n",
       "2010-01-01 02:00:00-06:00    0.0\n",
       "2010-01-01 03:00:00-06:00    0.0\n",
       "2010-01-01 04:00:00-06:00    0.0\n",
       "2010-01-01 05:00:00-06:00    0.0\n",
       "2010-01-01 06:00:00-06:00    0.0\n",
       "2010-01-01 07:00:00-06:00    0.1\n",
       "2010-01-01 08:00:00-06:00    0.7\n",
       "2010-01-01 09:00:00-06:00    1.4\n",
       "2010-01-01 10:00:00-06:00    2.0\n",
       "2010-01-01 11:00:00-06:00    2.3\n",
       "2010-01-01 12:00:00-06:00    2.4\n",
       "2010-01-01 13:00:00-06:00    2.3\n",
       "2010-01-01 14:00:00-06:00    1.9\n",
       "2010-01-01 15:00:00-06:00    1.3\n",
       "2010-01-01 16:00:00-06:00    0.6\n",
       "2010-01-01 17:00:00-06:00    0.0\n",
       "2010-01-01 18:00:00-06:00    0.0\n",
       "2010-01-01 19:00:00-06:00    0.0\n",
       "2010-01-01 20:00:00-06:00    0.0\n",
       "2010-01-01 21:00:00-06:00    0.0\n",
       "2010-01-01 22:00:00-06:00    0.0\n",
       "2010-01-01 23:00:00-06:00    0.0\n",
       "Name: hs_solarenergy, dtype: float64"
      ]
     },
     "execution_count": 30,
     "metadata": {},
     "output_type": "execute_result"
    }
   ],
   "source": [
    "train.hs_solarenergy.head(24)"
   ]
  },
  {
   "cell_type": "code",
   "execution_count": 31,
   "id": "b0be215d",
   "metadata": {},
   "outputs": [
    {
     "name": "stdout",
     "output_type": "stream",
     "text": [
      "<class 'pandas.core.frame.DataFrame'>\n",
      "DatetimeIndex: 70128 entries, 2010-01-01 00:00:00-06:00 to 2017-12-31 23:00:00-06:00\n",
      "Data columns (total 16 columns):\n",
      " #   Column               Non-Null Count  Dtype  \n",
      "---  ------               --------------  -----  \n",
      " 0   ercot_load           70128 non-null  float64\n",
      " 1   dow                  70128 non-null  object \n",
      " 2   is_weekday           70128 non-null  int64  \n",
      " 3   is_obs_holiday       70128 non-null  int64  \n",
      " 4   hs_temp              70128 non-null  float64\n",
      " 5   hs_feelslike         70128 non-null  float64\n",
      " 6   hs_humidity          70128 non-null  float64\n",
      " 7   hs_precip            70128 non-null  float64\n",
      " 8   hs_windspeed         70128 non-null  float64\n",
      " 9   hs_winddir           70128 non-null  float64\n",
      " 10  hs_sealevelpressure  70028 non-null  float64\n",
      " 11  hs_cloudcover        70128 non-null  float64\n",
      " 12  hs_visibility        70128 non-null  float64\n",
      " 13  hs_solarradiation    70128 non-null  float64\n",
      " 14  hs_solarenergy       70128 non-null  float64\n",
      " 15  hs_uvindex           70128 non-null  int64  \n",
      "dtypes: float64(12), int64(3), object(1)\n",
      "memory usage: 9.1+ MB\n"
     ]
    }
   ],
   "source": [
    "train.info()"
   ]
  },
  {
   "cell_type": "code",
   "execution_count": 32,
   "id": "34e12cea",
   "metadata": {},
   "outputs": [],
   "source": [
    "train.to_csv('for_tableau_central.csv')"
   ]
  }
 ],
 "metadata": {
  "kernelspec": {
   "display_name": "Python 3 (ipykernel)",
   "language": "python",
   "name": "python3"
  },
  "language_info": {
   "codemirror_mode": {
    "name": "ipython",
    "version": 3
   },
   "file_extension": ".py",
   "mimetype": "text/x-python",
   "name": "python",
   "nbconvert_exporter": "python",
   "pygments_lexer": "ipython3",
   "version": "3.9.7"
  }
 },
 "nbformat": 4,
 "nbformat_minor": 5
}
