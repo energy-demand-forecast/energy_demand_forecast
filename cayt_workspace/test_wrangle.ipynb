{
 "cells": [
  {
   "cell_type": "markdown",
   "id": "93b0d099",
   "metadata": {},
   "source": [
    "This notebook is to test the copy of wrangle from the main folder\n",
    "\n",
    "\n",
    "It also serves to re-write the prepped dataframe to CSV."
   ]
  },
  {
   "cell_type": "code",
   "execution_count": 1,
   "id": "e4e1eaa9",
   "metadata": {},
   "outputs": [],
   "source": [
    "import pandas as pd\n",
    "import numpy as np\n",
    "\n",
    "import wrangle"
   ]
  },
  {
   "cell_type": "code",
   "execution_count": 2,
   "id": "a5cf7263",
   "metadata": {},
   "outputs": [],
   "source": [
    "df = wrangle.get_ercot_df()"
   ]
  },
  {
   "cell_type": "code",
   "execution_count": 3,
   "id": "87e8734b",
   "metadata": {},
   "outputs": [
    {
     "name": "stdout",
     "output_type": "stream",
     "text": [
      "<class 'pandas.core.frame.DataFrame'>\n",
      "DatetimeIndex: 109535 entries, 2010-01-01 00:00:00-06:00 to 2022-06-30 23:00:00-05:00\n",
      "Data columns (total 4 columns):\n",
      " #   Column          Non-Null Count   Dtype  \n",
      "---  ------          --------------   -----  \n",
      " 0   ercot_load      109535 non-null  float64\n",
      " 1   dow             109535 non-null  object \n",
      " 2   is_weekday      109535 non-null  int64  \n",
      " 3   is_obs_holiday  109535 non-null  int64  \n",
      "dtypes: float64(1), int64(2), object(1)\n",
      "memory usage: 4.2+ MB\n"
     ]
    }
   ],
   "source": [
    "df.info()"
   ]
  },
  {
   "cell_type": "code",
   "execution_count": 4,
   "id": "cdd65f9a",
   "metadata": {},
   "outputs": [
    {
     "data": {
      "text/html": [
       "<div>\n",
       "<style scoped>\n",
       "    .dataframe tbody tr th:only-of-type {\n",
       "        vertical-align: middle;\n",
       "    }\n",
       "\n",
       "    .dataframe tbody tr th {\n",
       "        vertical-align: top;\n",
       "    }\n",
       "\n",
       "    .dataframe thead th {\n",
       "        text-align: right;\n",
       "    }\n",
       "</style>\n",
       "<table border=\"1\" class=\"dataframe\">\n",
       "  <thead>\n",
       "    <tr style=\"text-align: right;\">\n",
       "      <th></th>\n",
       "      <th>ercot_load</th>\n",
       "      <th>dow</th>\n",
       "      <th>is_weekday</th>\n",
       "      <th>is_obs_holiday</th>\n",
       "    </tr>\n",
       "    <tr>\n",
       "      <th>new_datetime</th>\n",
       "      <th></th>\n",
       "      <th></th>\n",
       "      <th></th>\n",
       "      <th></th>\n",
       "    </tr>\n",
       "  </thead>\n",
       "  <tbody>\n",
       "    <tr>\n",
       "      <th>2010-01-01 00:00:00-06:00</th>\n",
       "      <td>7931.241900</td>\n",
       "      <td>Friday</td>\n",
       "      <td>1</td>\n",
       "      <td>1</td>\n",
       "    </tr>\n",
       "    <tr>\n",
       "      <th>2010-01-01 01:00:00-06:00</th>\n",
       "      <td>7775.456846</td>\n",
       "      <td>Friday</td>\n",
       "      <td>1</td>\n",
       "      <td>1</td>\n",
       "    </tr>\n",
       "    <tr>\n",
       "      <th>2010-01-01 02:00:00-06:00</th>\n",
       "      <td>7704.815982</td>\n",
       "      <td>Friday</td>\n",
       "      <td>1</td>\n",
       "      <td>1</td>\n",
       "    </tr>\n",
       "    <tr>\n",
       "      <th>2010-01-01 03:00:00-06:00</th>\n",
       "      <td>7650.575724</td>\n",
       "      <td>Friday</td>\n",
       "      <td>1</td>\n",
       "      <td>1</td>\n",
       "    </tr>\n",
       "    <tr>\n",
       "      <th>2010-01-01 04:00:00-06:00</th>\n",
       "      <td>7666.708317</td>\n",
       "      <td>Friday</td>\n",
       "      <td>1</td>\n",
       "      <td>1</td>\n",
       "    </tr>\n",
       "  </tbody>\n",
       "</table>\n",
       "</div>"
      ],
      "text/plain": [
       "                            ercot_load     dow  is_weekday  is_obs_holiday\n",
       "new_datetime                                                              \n",
       "2010-01-01 00:00:00-06:00  7931.241900  Friday           1               1\n",
       "2010-01-01 01:00:00-06:00  7775.456846  Friday           1               1\n",
       "2010-01-01 02:00:00-06:00  7704.815982  Friday           1               1\n",
       "2010-01-01 03:00:00-06:00  7650.575724  Friday           1               1\n",
       "2010-01-01 04:00:00-06:00  7666.708317  Friday           1               1"
      ]
     },
     "execution_count": 4,
     "metadata": {},
     "output_type": "execute_result"
    }
   ],
   "source": [
    "df.head()"
   ]
  },
  {
   "cell_type": "code",
   "execution_count": 5,
   "id": "d9cef38f",
   "metadata": {},
   "outputs": [
    {
     "data": {
      "text/plain": [
       "ercot_load        0\n",
       "dow               0\n",
       "is_weekday        0\n",
       "is_obs_holiday    0\n",
       "dtype: int64"
      ]
     },
     "execution_count": 5,
     "metadata": {},
     "output_type": "execute_result"
    }
   ],
   "source": [
    "df.isna().sum()"
   ]
  },
  {
   "cell_type": "code",
   "execution_count": 6,
   "id": "12ad917b",
   "metadata": {},
   "outputs": [
    {
     "data": {
      "text/html": [
       "<div>\n",
       "<style scoped>\n",
       "    .dataframe tbody tr th:only-of-type {\n",
       "        vertical-align: middle;\n",
       "    }\n",
       "\n",
       "    .dataframe tbody tr th {\n",
       "        vertical-align: top;\n",
       "    }\n",
       "\n",
       "    .dataframe thead th {\n",
       "        text-align: right;\n",
       "    }\n",
       "</style>\n",
       "<table border=\"1\" class=\"dataframe\">\n",
       "  <thead>\n",
       "    <tr style=\"text-align: right;\">\n",
       "      <th></th>\n",
       "      <th>ercot_load</th>\n",
       "      <th>dow</th>\n",
       "      <th>is_weekday</th>\n",
       "      <th>is_obs_holiday</th>\n",
       "    </tr>\n",
       "    <tr>\n",
       "      <th>new_datetime</th>\n",
       "      <th></th>\n",
       "      <th></th>\n",
       "      <th></th>\n",
       "      <th></th>\n",
       "    </tr>\n",
       "  </thead>\n",
       "  <tbody>\n",
       "    <tr>\n",
       "      <th>2022-06-30 19:00:00-05:00</th>\n",
       "      <td>15040.841510</td>\n",
       "      <td>Thursday</td>\n",
       "      <td>1</td>\n",
       "      <td>0</td>\n",
       "    </tr>\n",
       "    <tr>\n",
       "      <th>2022-06-30 20:00:00-05:00</th>\n",
       "      <td>14700.132848</td>\n",
       "      <td>Thursday</td>\n",
       "      <td>1</td>\n",
       "      <td>0</td>\n",
       "    </tr>\n",
       "    <tr>\n",
       "      <th>2022-06-30 21:00:00-05:00</th>\n",
       "      <td>14637.633680</td>\n",
       "      <td>Thursday</td>\n",
       "      <td>1</td>\n",
       "      <td>0</td>\n",
       "    </tr>\n",
       "    <tr>\n",
       "      <th>2022-06-30 22:00:00-05:00</th>\n",
       "      <td>14543.743791</td>\n",
       "      <td>Thursday</td>\n",
       "      <td>1</td>\n",
       "      <td>0</td>\n",
       "    </tr>\n",
       "    <tr>\n",
       "      <th>2022-06-30 23:00:00-05:00</th>\n",
       "      <td>14065.386852</td>\n",
       "      <td>Thursday</td>\n",
       "      <td>1</td>\n",
       "      <td>0</td>\n",
       "    </tr>\n",
       "  </tbody>\n",
       "</table>\n",
       "</div>"
      ],
      "text/plain": [
       "                             ercot_load       dow  is_weekday  is_obs_holiday\n",
       "new_datetime                                                                 \n",
       "2022-06-30 19:00:00-05:00  15040.841510  Thursday           1               0\n",
       "2022-06-30 20:00:00-05:00  14700.132848  Thursday           1               0\n",
       "2022-06-30 21:00:00-05:00  14637.633680  Thursday           1               0\n",
       "2022-06-30 22:00:00-05:00  14543.743791  Thursday           1               0\n",
       "2022-06-30 23:00:00-05:00  14065.386852  Thursday           1               0"
      ]
     },
     "execution_count": 6,
     "metadata": {},
     "output_type": "execute_result"
    }
   ],
   "source": [
    "df.tail()"
   ]
  },
  {
   "cell_type": "code",
   "execution_count": 8,
   "id": "dcffe335",
   "metadata": {},
   "outputs": [
    {
     "data": {
      "text/html": [
       "<div>\n",
       "<style scoped>\n",
       "    .dataframe tbody tr th:only-of-type {\n",
       "        vertical-align: middle;\n",
       "    }\n",
       "\n",
       "    .dataframe tbody tr th {\n",
       "        vertical-align: top;\n",
       "    }\n",
       "\n",
       "    .dataframe thead th {\n",
       "        text-align: right;\n",
       "    }\n",
       "</style>\n",
       "<table border=\"1\" class=\"dataframe\">\n",
       "  <thead>\n",
       "    <tr style=\"text-align: right;\">\n",
       "      <th></th>\n",
       "      <th>ercot_load</th>\n",
       "      <th>dow</th>\n",
       "      <th>is_weekday</th>\n",
       "      <th>is_obs_holiday</th>\n",
       "    </tr>\n",
       "    <tr>\n",
       "      <th>new_datetime</th>\n",
       "      <th></th>\n",
       "      <th></th>\n",
       "      <th></th>\n",
       "      <th></th>\n",
       "    </tr>\n",
       "  </thead>\n",
       "  <tbody>\n",
       "    <tr>\n",
       "      <th>2017-03-12 00:00:00-06:00</th>\n",
       "      <td>9120.385718</td>\n",
       "      <td>Sunday</td>\n",
       "      <td>0</td>\n",
       "      <td>0</td>\n",
       "    </tr>\n",
       "    <tr>\n",
       "      <th>2017-03-12 01:00:00-06:00</th>\n",
       "      <td>8579.644600</td>\n",
       "      <td>Sunday</td>\n",
       "      <td>0</td>\n",
       "      <td>0</td>\n",
       "    </tr>\n",
       "    <tr>\n",
       "      <th>2017-03-12 03:00:00-05:00</th>\n",
       "      <td>8251.748166</td>\n",
       "      <td>Sunday</td>\n",
       "      <td>0</td>\n",
       "      <td>0</td>\n",
       "    </tr>\n",
       "    <tr>\n",
       "      <th>2017-03-12 04:00:00-05:00</th>\n",
       "      <td>8016.291377</td>\n",
       "      <td>Sunday</td>\n",
       "      <td>0</td>\n",
       "      <td>0</td>\n",
       "    </tr>\n",
       "    <tr>\n",
       "      <th>2017-03-12 05:00:00-05:00</th>\n",
       "      <td>7894.080492</td>\n",
       "      <td>Sunday</td>\n",
       "      <td>0</td>\n",
       "      <td>0</td>\n",
       "    </tr>\n",
       "  </tbody>\n",
       "</table>\n",
       "</div>"
      ],
      "text/plain": [
       "                            ercot_load     dow  is_weekday  is_obs_holiday\n",
       "new_datetime                                                              \n",
       "2017-03-12 00:00:00-06:00  9120.385718  Sunday           0               0\n",
       "2017-03-12 01:00:00-06:00  8579.644600  Sunday           0               0\n",
       "2017-03-12 03:00:00-05:00  8251.748166  Sunday           0               0\n",
       "2017-03-12 04:00:00-05:00  8016.291377  Sunday           0               0\n",
       "2017-03-12 05:00:00-05:00  7894.080492  Sunday           0               0"
      ]
     },
     "execution_count": 8,
     "metadata": {},
     "output_type": "execute_result"
    }
   ],
   "source": [
    "df.loc['2017-03-12'].head()"
   ]
  },
  {
   "cell_type": "code",
   "execution_count": 9,
   "id": "6e00a3b4",
   "metadata": {},
   "outputs": [
    {
     "data": {
      "text/html": [
       "<div>\n",
       "<style scoped>\n",
       "    .dataframe tbody tr th:only-of-type {\n",
       "        vertical-align: middle;\n",
       "    }\n",
       "\n",
       "    .dataframe tbody tr th {\n",
       "        vertical-align: top;\n",
       "    }\n",
       "\n",
       "    .dataframe thead th {\n",
       "        text-align: right;\n",
       "    }\n",
       "</style>\n",
       "<table border=\"1\" class=\"dataframe\">\n",
       "  <thead>\n",
       "    <tr style=\"text-align: right;\">\n",
       "      <th></th>\n",
       "      <th>ercot_load</th>\n",
       "      <th>dow</th>\n",
       "      <th>is_weekday</th>\n",
       "      <th>is_obs_holiday</th>\n",
       "    </tr>\n",
       "    <tr>\n",
       "      <th>new_datetime</th>\n",
       "      <th></th>\n",
       "      <th></th>\n",
       "      <th></th>\n",
       "      <th></th>\n",
       "    </tr>\n",
       "  </thead>\n",
       "  <tbody>\n",
       "    <tr>\n",
       "      <th>2010-11-07 00:00:00-05:00</th>\n",
       "      <td>7487.208500</td>\n",
       "      <td>Sunday</td>\n",
       "      <td>0</td>\n",
       "      <td>0</td>\n",
       "    </tr>\n",
       "    <tr>\n",
       "      <th>2010-11-07 01:00:00-05:00</th>\n",
       "      <td>7218.432121</td>\n",
       "      <td>Sunday</td>\n",
       "      <td>0</td>\n",
       "      <td>0</td>\n",
       "    </tr>\n",
       "    <tr>\n",
       "      <th>2010-11-07 01:00:00-06:00</th>\n",
       "      <td>7051.515830</td>\n",
       "      <td>Sunday</td>\n",
       "      <td>0</td>\n",
       "      <td>0</td>\n",
       "    </tr>\n",
       "    <tr>\n",
       "      <th>2010-11-07 02:00:00-06:00</th>\n",
       "      <td>6914.202568</td>\n",
       "      <td>Sunday</td>\n",
       "      <td>0</td>\n",
       "      <td>0</td>\n",
       "    </tr>\n",
       "    <tr>\n",
       "      <th>2010-11-07 03:00:00-06:00</th>\n",
       "      <td>6881.075592</td>\n",
       "      <td>Sunday</td>\n",
       "      <td>0</td>\n",
       "      <td>0</td>\n",
       "    </tr>\n",
       "  </tbody>\n",
       "</table>\n",
       "</div>"
      ],
      "text/plain": [
       "                            ercot_load     dow  is_weekday  is_obs_holiday\n",
       "new_datetime                                                              \n",
       "2010-11-07 00:00:00-05:00  7487.208500  Sunday           0               0\n",
       "2010-11-07 01:00:00-05:00  7218.432121  Sunday           0               0\n",
       "2010-11-07 01:00:00-06:00  7051.515830  Sunday           0               0\n",
       "2010-11-07 02:00:00-06:00  6914.202568  Sunday           0               0\n",
       "2010-11-07 03:00:00-06:00  6881.075592  Sunday           0               0"
      ]
     },
     "execution_count": 9,
     "metadata": {},
     "output_type": "execute_result"
    }
   ],
   "source": [
    "df.loc['2010-11-07'].head()"
   ]
  },
  {
   "cell_type": "code",
   "execution_count": 10,
   "id": "b8f51fb2",
   "metadata": {},
   "outputs": [],
   "source": [
    "df.to_csv('prepped_ercot.csv')"
   ]
  }
 ],
 "metadata": {
  "kernelspec": {
   "display_name": "Python 3 (ipykernel)",
   "language": "python",
   "name": "python3"
  },
  "language_info": {
   "codemirror_mode": {
    "name": "ipython",
    "version": 3
   },
   "file_extension": ".py",
   "mimetype": "text/x-python",
   "name": "python",
   "nbconvert_exporter": "python",
   "pygments_lexer": "ipython3",
   "version": "3.9.7"
  }
 },
 "nbformat": 4,
 "nbformat_minor": 5
}
