{
 "cells": [
  {
   "cell_type": "code",
   "execution_count": 1,
   "id": "3b692e3b",
   "metadata": {},
   "outputs": [],
   "source": [
    "import numpy as np\n",
    "import pandas as pd\n",
    "import datetime\n",
    "import re\n",
    "import os\n",
    "\n",
    "import wrangle\n"
   ]
  },
  {
   "cell_type": "code",
   "execution_count": 2,
   "id": "5174b0bf",
   "metadata": {},
   "outputs": [],
   "source": [
    "df = pd.read_csv('coast_df.csv')"
   ]
  },
  {
   "cell_type": "code",
   "execution_count": 3,
   "id": "9e30c360",
   "metadata": {},
   "outputs": [],
   "source": [
    "df2 = df.copy()"
   ]
  },
  {
   "cell_type": "code",
   "execution_count": 4,
   "id": "9994c691",
   "metadata": {},
   "outputs": [
    {
     "name": "stdout",
     "output_type": "stream",
     "text": [
      "<class 'pandas.core.frame.DataFrame'>\n",
      "RangeIndex: 118295 entries, 0 to 118294\n",
      "Data columns (total 3 columns):\n",
      " #   Column      Non-Null Count   Dtype  \n",
      "---  ------      --------------   -----  \n",
      " 0   Unnamed: 0  118295 non-null  int64  \n",
      " 1   datetime    118295 non-null  object \n",
      " 2   ercot_load  118294 non-null  float64\n",
      "dtypes: float64(1), int64(1), object(1)\n",
      "memory usage: 2.7+ MB\n"
     ]
    }
   ],
   "source": [
    "df.info()"
   ]
  },
  {
   "cell_type": "code",
   "execution_count": 5,
   "id": "0a92e2b1",
   "metadata": {},
   "outputs": [
    {
     "data": {
      "text/html": [
       "<div>\n",
       "<style scoped>\n",
       "    .dataframe tbody tr th:only-of-type {\n",
       "        vertical-align: middle;\n",
       "    }\n",
       "\n",
       "    .dataframe tbody tr th {\n",
       "        vertical-align: top;\n",
       "    }\n",
       "\n",
       "    .dataframe thead th {\n",
       "        text-align: right;\n",
       "    }\n",
       "</style>\n",
       "<table border=\"1\" class=\"dataframe\">\n",
       "  <thead>\n",
       "    <tr style=\"text-align: right;\">\n",
       "      <th></th>\n",
       "      <th>Unnamed: 0</th>\n",
       "      <th>datetime</th>\n",
       "      <th>ercot_load</th>\n",
       "    </tr>\n",
       "  </thead>\n",
       "  <tbody>\n",
       "    <tr>\n",
       "      <th>0</th>\n",
       "      <td>0</td>\n",
       "      <td>2009-01-01 01:00:00.003000</td>\n",
       "      <td>7300.317873</td>\n",
       "    </tr>\n",
       "    <tr>\n",
       "      <th>1</th>\n",
       "      <td>1</td>\n",
       "      <td>2009-01-01 01:59:59.997000</td>\n",
       "      <td>7174.769899</td>\n",
       "    </tr>\n",
       "    <tr>\n",
       "      <th>2</th>\n",
       "      <td>2</td>\n",
       "      <td>2009-01-01 03:00:00</td>\n",
       "      <td>7108.488956</td>\n",
       "    </tr>\n",
       "    <tr>\n",
       "      <th>3</th>\n",
       "      <td>3</td>\n",
       "      <td>2009-01-01 04:00:00.003000</td>\n",
       "      <td>7024.863242</td>\n",
       "    </tr>\n",
       "    <tr>\n",
       "      <th>4</th>\n",
       "      <td>4</td>\n",
       "      <td>2009-01-01 04:59:59.997000</td>\n",
       "      <td>7049.567942</td>\n",
       "    </tr>\n",
       "  </tbody>\n",
       "</table>\n",
       "</div>"
      ],
      "text/plain": [
       "   Unnamed: 0                    datetime   ercot_load\n",
       "0           0  2009-01-01 01:00:00.003000  7300.317873\n",
       "1           1  2009-01-01 01:59:59.997000  7174.769899\n",
       "2           2         2009-01-01 03:00:00  7108.488956\n",
       "3           3  2009-01-01 04:00:00.003000  7024.863242\n",
       "4           4  2009-01-01 04:59:59.997000  7049.567942"
      ]
     },
     "execution_count": 5,
     "metadata": {},
     "output_type": "execute_result"
    }
   ],
   "source": [
    "df.head()"
   ]
  },
  {
   "cell_type": "code",
   "execution_count": 6,
   "id": "59f692ca",
   "metadata": {},
   "outputs": [],
   "source": [
    "# 1. Pull out first 16 characters\n",
    "df.datetime = df.datetime.str[:16]\n",
    "# 2. Deconstruct into date and time columns\n",
    "df['date'] = df.datetime.str[:10]\n",
    "df['time'] = df.datetime.str[-5:]\n",
    "# 3. Convert date column into datetime format\n",
    "df['date'] = pd.to_datetime(df.date)\n",
    "\n",
    "# 4. Find any time where starts with 24, then for that index, add one day to to date column then update time to 00\n",
    "#For all indices w/ a time that starts with 24, add one day to the date\n",
    "df.loc[df.time.str.startswith('24'),'date'] = df.date + datetime.timedelta(days=1)\n",
    "#Replace all '24:' in time with '00:'\n",
    "df.time = df.time.apply(lambda x: re.sub(r'24:','00:',x))\n",
    "\n",
    "# 5. Convert date column back to string and Concat date and time column >> datetime\n",
    "df['new_datetime'] = df.date.astype(str) + ' ' + df.time"
   ]
  },
  {
   "cell_type": "code",
   "execution_count": 7,
   "id": "41ce1ab3",
   "metadata": {},
   "outputs": [
    {
     "name": "stdout",
     "output_type": "stream",
     "text": [
      "<class 'pandas.core.frame.DataFrame'>\n",
      "RangeIndex: 118295 entries, 0 to 118294\n",
      "Data columns (total 6 columns):\n",
      " #   Column        Non-Null Count   Dtype         \n",
      "---  ------        --------------   -----         \n",
      " 0   Unnamed: 0    118295 non-null  int64         \n",
      " 1   datetime      118295 non-null  object        \n",
      " 2   ercot_load    118294 non-null  float64       \n",
      " 3   date          118295 non-null  datetime64[ns]\n",
      " 4   time          118295 non-null  object        \n",
      " 5   new_datetime  118295 non-null  object        \n",
      "dtypes: datetime64[ns](1), float64(1), int64(1), object(3)\n",
      "memory usage: 5.4+ MB\n"
     ]
    }
   ],
   "source": [
    "df.info()"
   ]
  },
  {
   "cell_type": "code",
   "execution_count": 8,
   "id": "66d2ebb3",
   "metadata": {},
   "outputs": [
    {
     "data": {
      "text/html": [
       "<div>\n",
       "<style scoped>\n",
       "    .dataframe tbody tr th:only-of-type {\n",
       "        vertical-align: middle;\n",
       "    }\n",
       "\n",
       "    .dataframe tbody tr th {\n",
       "        vertical-align: top;\n",
       "    }\n",
       "\n",
       "    .dataframe thead th {\n",
       "        text-align: right;\n",
       "    }\n",
       "</style>\n",
       "<table border=\"1\" class=\"dataframe\">\n",
       "  <thead>\n",
       "    <tr style=\"text-align: right;\">\n",
       "      <th></th>\n",
       "      <th>Unnamed: 0</th>\n",
       "      <th>datetime</th>\n",
       "      <th>ercot_load</th>\n",
       "      <th>date</th>\n",
       "      <th>time</th>\n",
       "      <th>new_datetime</th>\n",
       "    </tr>\n",
       "  </thead>\n",
       "  <tbody>\n",
       "    <tr>\n",
       "      <th>0</th>\n",
       "      <td>0</td>\n",
       "      <td>2009-01-01 01:00</td>\n",
       "      <td>7300.317873</td>\n",
       "      <td>2009-01-01</td>\n",
       "      <td>01:00</td>\n",
       "      <td>2009-01-01 01:00</td>\n",
       "    </tr>\n",
       "    <tr>\n",
       "      <th>1</th>\n",
       "      <td>1</td>\n",
       "      <td>2009-01-01 01:59</td>\n",
       "      <td>7174.769899</td>\n",
       "      <td>2009-01-01</td>\n",
       "      <td>01:59</td>\n",
       "      <td>2009-01-01 01:59</td>\n",
       "    </tr>\n",
       "    <tr>\n",
       "      <th>2</th>\n",
       "      <td>2</td>\n",
       "      <td>2009-01-01 03:00</td>\n",
       "      <td>7108.488956</td>\n",
       "      <td>2009-01-01</td>\n",
       "      <td>03:00</td>\n",
       "      <td>2009-01-01 03:00</td>\n",
       "    </tr>\n",
       "    <tr>\n",
       "      <th>3</th>\n",
       "      <td>3</td>\n",
       "      <td>2009-01-01 04:00</td>\n",
       "      <td>7024.863242</td>\n",
       "      <td>2009-01-01</td>\n",
       "      <td>04:00</td>\n",
       "      <td>2009-01-01 04:00</td>\n",
       "    </tr>\n",
       "    <tr>\n",
       "      <th>4</th>\n",
       "      <td>4</td>\n",
       "      <td>2009-01-01 04:59</td>\n",
       "      <td>7049.567942</td>\n",
       "      <td>2009-01-01</td>\n",
       "      <td>04:59</td>\n",
       "      <td>2009-01-01 04:59</td>\n",
       "    </tr>\n",
       "  </tbody>\n",
       "</table>\n",
       "</div>"
      ],
      "text/plain": [
       "   Unnamed: 0          datetime   ercot_load       date   time  \\\n",
       "0           0  2009-01-01 01:00  7300.317873 2009-01-01  01:00   \n",
       "1           1  2009-01-01 01:59  7174.769899 2009-01-01  01:59   \n",
       "2           2  2009-01-01 03:00  7108.488956 2009-01-01  03:00   \n",
       "3           3  2009-01-01 04:00  7024.863242 2009-01-01  04:00   \n",
       "4           4  2009-01-01 04:59  7049.567942 2009-01-01  04:59   \n",
       "\n",
       "       new_datetime  \n",
       "0  2009-01-01 01:00  \n",
       "1  2009-01-01 01:59  \n",
       "2  2009-01-01 03:00  \n",
       "3  2009-01-01 04:00  \n",
       "4  2009-01-01 04:59  "
      ]
     },
     "execution_count": 8,
     "metadata": {},
     "output_type": "execute_result"
    }
   ],
   "source": [
    "df.head()"
   ]
  },
  {
   "cell_type": "markdown",
   "id": "0ec9af7b",
   "metadata": {},
   "source": [
    "**NOTES:**  now we have the cleaned new_datetime column, but it's a string"
   ]
  },
  {
   "cell_type": "code",
   "execution_count": 9,
   "id": "3782d015",
   "metadata": {},
   "outputs": [],
   "source": [
    "# 6. Convert new datetime column to datetime\n",
    "df['new_datetime'] = pd.to_datetime(df.new_datetime)\n",
    "\n",
    "# 7. Perform dt.round\n",
    "df.new_datetime = df.new_datetime.dt.round(\"H\")"
   ]
  },
  {
   "cell_type": "code",
   "execution_count": 10,
   "id": "59060cbd",
   "metadata": {},
   "outputs": [
    {
     "name": "stdout",
     "output_type": "stream",
     "text": [
      "<class 'pandas.core.frame.DataFrame'>\n",
      "RangeIndex: 118295 entries, 0 to 118294\n",
      "Data columns (total 6 columns):\n",
      " #   Column        Non-Null Count   Dtype         \n",
      "---  ------        --------------   -----         \n",
      " 0   Unnamed: 0    118295 non-null  int64         \n",
      " 1   datetime      118295 non-null  object        \n",
      " 2   ercot_load    118294 non-null  float64       \n",
      " 3   date          118295 non-null  datetime64[ns]\n",
      " 4   time          118295 non-null  object        \n",
      " 5   new_datetime  118295 non-null  datetime64[ns]\n",
      "dtypes: datetime64[ns](2), float64(1), int64(1), object(2)\n",
      "memory usage: 5.4+ MB\n"
     ]
    }
   ],
   "source": [
    "df.info()"
   ]
  },
  {
   "cell_type": "code",
   "execution_count": 11,
   "id": "ade83dfa",
   "metadata": {},
   "outputs": [
    {
     "data": {
      "text/html": [
       "<div>\n",
       "<style scoped>\n",
       "    .dataframe tbody tr th:only-of-type {\n",
       "        vertical-align: middle;\n",
       "    }\n",
       "\n",
       "    .dataframe tbody tr th {\n",
       "        vertical-align: top;\n",
       "    }\n",
       "\n",
       "    .dataframe thead th {\n",
       "        text-align: right;\n",
       "    }\n",
       "</style>\n",
       "<table border=\"1\" class=\"dataframe\">\n",
       "  <thead>\n",
       "    <tr style=\"text-align: right;\">\n",
       "      <th></th>\n",
       "      <th>Unnamed: 0</th>\n",
       "      <th>datetime</th>\n",
       "      <th>ercot_load</th>\n",
       "      <th>date</th>\n",
       "      <th>time</th>\n",
       "      <th>new_datetime</th>\n",
       "    </tr>\n",
       "  </thead>\n",
       "  <tbody>\n",
       "    <tr>\n",
       "      <th>0</th>\n",
       "      <td>0</td>\n",
       "      <td>2009-01-01 01:00</td>\n",
       "      <td>7300.317873</td>\n",
       "      <td>2009-01-01</td>\n",
       "      <td>01:00</td>\n",
       "      <td>2009-01-01 01:00:00</td>\n",
       "    </tr>\n",
       "    <tr>\n",
       "      <th>1</th>\n",
       "      <td>1</td>\n",
       "      <td>2009-01-01 01:59</td>\n",
       "      <td>7174.769899</td>\n",
       "      <td>2009-01-01</td>\n",
       "      <td>01:59</td>\n",
       "      <td>2009-01-01 02:00:00</td>\n",
       "    </tr>\n",
       "    <tr>\n",
       "      <th>2</th>\n",
       "      <td>2</td>\n",
       "      <td>2009-01-01 03:00</td>\n",
       "      <td>7108.488956</td>\n",
       "      <td>2009-01-01</td>\n",
       "      <td>03:00</td>\n",
       "      <td>2009-01-01 03:00:00</td>\n",
       "    </tr>\n",
       "    <tr>\n",
       "      <th>3</th>\n",
       "      <td>3</td>\n",
       "      <td>2009-01-01 04:00</td>\n",
       "      <td>7024.863242</td>\n",
       "      <td>2009-01-01</td>\n",
       "      <td>04:00</td>\n",
       "      <td>2009-01-01 04:00:00</td>\n",
       "    </tr>\n",
       "    <tr>\n",
       "      <th>4</th>\n",
       "      <td>4</td>\n",
       "      <td>2009-01-01 04:59</td>\n",
       "      <td>7049.567942</td>\n",
       "      <td>2009-01-01</td>\n",
       "      <td>04:59</td>\n",
       "      <td>2009-01-01 05:00:00</td>\n",
       "    </tr>\n",
       "  </tbody>\n",
       "</table>\n",
       "</div>"
      ],
      "text/plain": [
       "   Unnamed: 0          datetime   ercot_load       date   time  \\\n",
       "0           0  2009-01-01 01:00  7300.317873 2009-01-01  01:00   \n",
       "1           1  2009-01-01 01:59  7174.769899 2009-01-01  01:59   \n",
       "2           2  2009-01-01 03:00  7108.488956 2009-01-01  03:00   \n",
       "3           3  2009-01-01 04:00  7024.863242 2009-01-01  04:00   \n",
       "4           4  2009-01-01 04:59  7049.567942 2009-01-01  04:59   \n",
       "\n",
       "         new_datetime  \n",
       "0 2009-01-01 01:00:00  \n",
       "1 2009-01-01 02:00:00  \n",
       "2 2009-01-01 03:00:00  \n",
       "3 2009-01-01 04:00:00  \n",
       "4 2009-01-01 05:00:00  "
      ]
     },
     "execution_count": 11,
     "metadata": {},
     "output_type": "execute_result"
    }
   ],
   "source": [
    "df.head()"
   ]
  },
  {
   "cell_type": "markdown",
   "id": "900056be",
   "metadata": {},
   "source": [
    "**NOTES:** Now we have that same info as a datetime and rounded to the nearest hour"
   ]
  },
  {
   "cell_type": "code",
   "execution_count": 12,
   "id": "98a5a136",
   "metadata": {},
   "outputs": [
    {
     "data": {
      "text/html": [
       "<div>\n",
       "<style scoped>\n",
       "    .dataframe tbody tr th:only-of-type {\n",
       "        vertical-align: middle;\n",
       "    }\n",
       "\n",
       "    .dataframe tbody tr th {\n",
       "        vertical-align: top;\n",
       "    }\n",
       "\n",
       "    .dataframe thead th {\n",
       "        text-align: right;\n",
       "    }\n",
       "</style>\n",
       "<table border=\"1\" class=\"dataframe\">\n",
       "  <thead>\n",
       "    <tr style=\"text-align: right;\">\n",
       "      <th></th>\n",
       "      <th>Unnamed: 0</th>\n",
       "      <th>datetime</th>\n",
       "      <th>ercot_load</th>\n",
       "      <th>date</th>\n",
       "      <th>time</th>\n",
       "      <th>new_datetime</th>\n",
       "    </tr>\n",
       "  </thead>\n",
       "  <tbody>\n",
       "    <tr>\n",
       "      <th>71807</th>\n",
       "      <td>1679</td>\n",
       "      <td>03/11/2017 24:00</td>\n",
       "      <td>9120.385718</td>\n",
       "      <td>2017-03-12</td>\n",
       "      <td>00:00</td>\n",
       "      <td>2017-03-12 00:00:00</td>\n",
       "    </tr>\n",
       "    <tr>\n",
       "      <th>71808</th>\n",
       "      <td>1680</td>\n",
       "      <td>03/12/2017 01:00</td>\n",
       "      <td>8579.644600</td>\n",
       "      <td>2017-03-12</td>\n",
       "      <td>01:00</td>\n",
       "      <td>2017-03-12 01:00:00</td>\n",
       "    </tr>\n",
       "    <tr>\n",
       "      <th>71809</th>\n",
       "      <td>1681</td>\n",
       "      <td>03/12/2017 02:00</td>\n",
       "      <td>8251.748166</td>\n",
       "      <td>2017-03-12</td>\n",
       "      <td>02:00</td>\n",
       "      <td>2017-03-12 02:00:00</td>\n",
       "    </tr>\n",
       "    <tr>\n",
       "      <th>71810</th>\n",
       "      <td>1682</td>\n",
       "      <td>03/12/2017 04:00</td>\n",
       "      <td>8016.291377</td>\n",
       "      <td>2017-03-12</td>\n",
       "      <td>04:00</td>\n",
       "      <td>2017-03-12 04:00:00</td>\n",
       "    </tr>\n",
       "    <tr>\n",
       "      <th>71811</th>\n",
       "      <td>1683</td>\n",
       "      <td>03/12/2017 05:00</td>\n",
       "      <td>7894.080492</td>\n",
       "      <td>2017-03-12</td>\n",
       "      <td>05:00</td>\n",
       "      <td>2017-03-12 05:00:00</td>\n",
       "    </tr>\n",
       "  </tbody>\n",
       "</table>\n",
       "</div>"
      ],
      "text/plain": [
       "       Unnamed: 0          datetime   ercot_load       date   time  \\\n",
       "71807        1679  03/11/2017 24:00  9120.385718 2017-03-12  00:00   \n",
       "71808        1680  03/12/2017 01:00  8579.644600 2017-03-12  01:00   \n",
       "71809        1681  03/12/2017 02:00  8251.748166 2017-03-12  02:00   \n",
       "71810        1682  03/12/2017 04:00  8016.291377 2017-03-12  04:00   \n",
       "71811        1683  03/12/2017 05:00  7894.080492 2017-03-12  05:00   \n",
       "\n",
       "             new_datetime  \n",
       "71807 2017-03-12 00:00:00  \n",
       "71808 2017-03-12 01:00:00  \n",
       "71809 2017-03-12 02:00:00  \n",
       "71810 2017-03-12 04:00:00  \n",
       "71811 2017-03-12 05:00:00  "
      ]
     },
     "execution_count": 12,
     "metadata": {},
     "output_type": "execute_result"
    }
   ],
   "source": [
    "df.loc[71807:71811] #Here we see 3am skipped, when it should skip 2am"
   ]
  },
  {
   "cell_type": "code",
   "execution_count": 13,
   "id": "418044aa",
   "metadata": {},
   "outputs": [
    {
     "data": {
      "text/html": [
       "<div>\n",
       "<style scoped>\n",
       "    .dataframe tbody tr th:only-of-type {\n",
       "        vertical-align: middle;\n",
       "    }\n",
       "\n",
       "    .dataframe tbody tr th {\n",
       "        vertical-align: top;\n",
       "    }\n",
       "\n",
       "    .dataframe thead th {\n",
       "        text-align: right;\n",
       "    }\n",
       "</style>\n",
       "<table border=\"1\" class=\"dataframe\">\n",
       "  <thead>\n",
       "    <tr style=\"text-align: right;\">\n",
       "      <th></th>\n",
       "      <th>Unnamed: 0</th>\n",
       "      <th>datetime</th>\n",
       "      <th>ercot_load</th>\n",
       "      <th>date</th>\n",
       "      <th>time</th>\n",
       "      <th>new_datetime</th>\n",
       "    </tr>\n",
       "  </thead>\n",
       "  <tbody>\n",
       "    <tr>\n",
       "      <th>77518</th>\n",
       "      <td>7390</td>\n",
       "      <td>11/04/2017 24:00</td>\n",
       "      <td>11692.944342</td>\n",
       "      <td>2017-11-05</td>\n",
       "      <td>00:00</td>\n",
       "      <td>2017-11-05 00:00:00</td>\n",
       "    </tr>\n",
       "    <tr>\n",
       "      <th>77519</th>\n",
       "      <td>7391</td>\n",
       "      <td>11/05/2017 01:00</td>\n",
       "      <td>11086.848799</td>\n",
       "      <td>2017-11-05</td>\n",
       "      <td>01:00</td>\n",
       "      <td>2017-11-05 01:00:00</td>\n",
       "    </tr>\n",
       "    <tr>\n",
       "      <th>77520</th>\n",
       "      <td>7392</td>\n",
       "      <td>11/05/2017 02:00</td>\n",
       "      <td>10677.703425</td>\n",
       "      <td>2017-11-05</td>\n",
       "      <td>02:00</td>\n",
       "      <td>2017-11-05 02:00:00</td>\n",
       "    </tr>\n",
       "    <tr>\n",
       "      <th>77521</th>\n",
       "      <td>7393</td>\n",
       "      <td>11/05/2017 02:00</td>\n",
       "      <td>10377.230056</td>\n",
       "      <td>2017-11-05</td>\n",
       "      <td>02:00</td>\n",
       "      <td>2017-11-05 02:00:00</td>\n",
       "    </tr>\n",
       "    <tr>\n",
       "      <th>77522</th>\n",
       "      <td>7394</td>\n",
       "      <td>11/05/2017 03:00</td>\n",
       "      <td>10256.523453</td>\n",
       "      <td>2017-11-05</td>\n",
       "      <td>03:00</td>\n",
       "      <td>2017-11-05 03:00:00</td>\n",
       "    </tr>\n",
       "  </tbody>\n",
       "</table>\n",
       "</div>"
      ],
      "text/plain": [
       "       Unnamed: 0          datetime    ercot_load       date   time  \\\n",
       "77518        7390  11/04/2017 24:00  11692.944342 2017-11-05  00:00   \n",
       "77519        7391  11/05/2017 01:00  11086.848799 2017-11-05  01:00   \n",
       "77520        7392  11/05/2017 02:00  10677.703425 2017-11-05  02:00   \n",
       "77521        7393  11/05/2017 02:00  10377.230056 2017-11-05  02:00   \n",
       "77522        7394  11/05/2017 03:00  10256.523453 2017-11-05  03:00   \n",
       "\n",
       "             new_datetime  \n",
       "77518 2017-11-05 00:00:00  \n",
       "77519 2017-11-05 01:00:00  \n",
       "77520 2017-11-05 02:00:00  \n",
       "77521 2017-11-05 02:00:00  \n",
       "77522 2017-11-05 03:00:00  "
      ]
     },
     "execution_count": 13,
     "metadata": {},
     "output_type": "execute_result"
    }
   ],
   "source": [
    "df.loc[77518:77522] #Here we see 2am duplicated, when 1am should be duplicated"
   ]
  },
  {
   "cell_type": "code",
   "execution_count": 14,
   "id": "1beb7a79",
   "metadata": {},
   "outputs": [],
   "source": [
    "#indices we know to be affected\n",
    "mar_adj_ind = [71809, 80545, 89281, 98017, 106921, 115657]\n",
    "nov_adj_ind = [68784, 59880, 51144, 42408, 33672, 24936, 16200, 7296, 77520, 86256, 94992, 103728, 112632]"
   ]
  },
  {
   "cell_type": "code",
   "execution_count": 15,
   "id": "45bdac3c",
   "metadata": {},
   "outputs": [],
   "source": [
    "# to the March, we are adding 1 hour to the 2am time \n",
    "#. b/c ERCOT skips 3am, when it should skip 2am\n",
    "df.loc[mar_adj_ind,'new_datetime'] = df.loc[mar_adj_ind,'new_datetime'] + datetime.timedelta(hours=1)\n",
    "\n",
    "#to the November, we are subtracting 1 hour from the first 2am, \n",
    "#  as there are supposed to be two 1ams, not two 2ams\n",
    "df.loc[nov_adj_ind,'new_datetime'] = df.loc[nov_adj_ind,'new_datetime'] - datetime.timedelta(hours=1)"
   ]
  },
  {
   "cell_type": "code",
   "execution_count": 16,
   "id": "55de7ef2",
   "metadata": {},
   "outputs": [
    {
     "data": {
      "text/html": [
       "<div>\n",
       "<style scoped>\n",
       "    .dataframe tbody tr th:only-of-type {\n",
       "        vertical-align: middle;\n",
       "    }\n",
       "\n",
       "    .dataframe tbody tr th {\n",
       "        vertical-align: top;\n",
       "    }\n",
       "\n",
       "    .dataframe thead th {\n",
       "        text-align: right;\n",
       "    }\n",
       "</style>\n",
       "<table border=\"1\" class=\"dataframe\">\n",
       "  <thead>\n",
       "    <tr style=\"text-align: right;\">\n",
       "      <th></th>\n",
       "      <th>Unnamed: 0</th>\n",
       "      <th>datetime</th>\n",
       "      <th>ercot_load</th>\n",
       "      <th>date</th>\n",
       "      <th>time</th>\n",
       "      <th>new_datetime</th>\n",
       "    </tr>\n",
       "  </thead>\n",
       "  <tbody>\n",
       "    <tr>\n",
       "      <th>71807</th>\n",
       "      <td>1679</td>\n",
       "      <td>03/11/2017 24:00</td>\n",
       "      <td>9120.385718</td>\n",
       "      <td>2017-03-12</td>\n",
       "      <td>00:00</td>\n",
       "      <td>2017-03-12 00:00:00</td>\n",
       "    </tr>\n",
       "    <tr>\n",
       "      <th>71808</th>\n",
       "      <td>1680</td>\n",
       "      <td>03/12/2017 01:00</td>\n",
       "      <td>8579.644600</td>\n",
       "      <td>2017-03-12</td>\n",
       "      <td>01:00</td>\n",
       "      <td>2017-03-12 01:00:00</td>\n",
       "    </tr>\n",
       "    <tr>\n",
       "      <th>71809</th>\n",
       "      <td>1681</td>\n",
       "      <td>03/12/2017 02:00</td>\n",
       "      <td>8251.748166</td>\n",
       "      <td>2017-03-12</td>\n",
       "      <td>02:00</td>\n",
       "      <td>2017-03-12 03:00:00</td>\n",
       "    </tr>\n",
       "    <tr>\n",
       "      <th>71810</th>\n",
       "      <td>1682</td>\n",
       "      <td>03/12/2017 04:00</td>\n",
       "      <td>8016.291377</td>\n",
       "      <td>2017-03-12</td>\n",
       "      <td>04:00</td>\n",
       "      <td>2017-03-12 04:00:00</td>\n",
       "    </tr>\n",
       "    <tr>\n",
       "      <th>71811</th>\n",
       "      <td>1683</td>\n",
       "      <td>03/12/2017 05:00</td>\n",
       "      <td>7894.080492</td>\n",
       "      <td>2017-03-12</td>\n",
       "      <td>05:00</td>\n",
       "      <td>2017-03-12 05:00:00</td>\n",
       "    </tr>\n",
       "  </tbody>\n",
       "</table>\n",
       "</div>"
      ],
      "text/plain": [
       "       Unnamed: 0          datetime   ercot_load       date   time  \\\n",
       "71807        1679  03/11/2017 24:00  9120.385718 2017-03-12  00:00   \n",
       "71808        1680  03/12/2017 01:00  8579.644600 2017-03-12  01:00   \n",
       "71809        1681  03/12/2017 02:00  8251.748166 2017-03-12  02:00   \n",
       "71810        1682  03/12/2017 04:00  8016.291377 2017-03-12  04:00   \n",
       "71811        1683  03/12/2017 05:00  7894.080492 2017-03-12  05:00   \n",
       "\n",
       "             new_datetime  \n",
       "71807 2017-03-12 00:00:00  \n",
       "71808 2017-03-12 01:00:00  \n",
       "71809 2017-03-12 03:00:00  \n",
       "71810 2017-03-12 04:00:00  \n",
       "71811 2017-03-12 05:00:00  "
      ]
     },
     "execution_count": 16,
     "metadata": {},
     "output_type": "execute_result"
    }
   ],
   "source": [
    "df.loc[71807:71811] #YAY - now 2am is skipped"
   ]
  },
  {
   "cell_type": "code",
   "execution_count": 17,
   "id": "aa8b0b1a",
   "metadata": {},
   "outputs": [
    {
     "data": {
      "text/html": [
       "<div>\n",
       "<style scoped>\n",
       "    .dataframe tbody tr th:only-of-type {\n",
       "        vertical-align: middle;\n",
       "    }\n",
       "\n",
       "    .dataframe tbody tr th {\n",
       "        vertical-align: top;\n",
       "    }\n",
       "\n",
       "    .dataframe thead th {\n",
       "        text-align: right;\n",
       "    }\n",
       "</style>\n",
       "<table border=\"1\" class=\"dataframe\">\n",
       "  <thead>\n",
       "    <tr style=\"text-align: right;\">\n",
       "      <th></th>\n",
       "      <th>Unnamed: 0</th>\n",
       "      <th>datetime</th>\n",
       "      <th>ercot_load</th>\n",
       "      <th>date</th>\n",
       "      <th>time</th>\n",
       "      <th>new_datetime</th>\n",
       "    </tr>\n",
       "  </thead>\n",
       "  <tbody>\n",
       "    <tr>\n",
       "      <th>77518</th>\n",
       "      <td>7390</td>\n",
       "      <td>11/04/2017 24:00</td>\n",
       "      <td>11692.944342</td>\n",
       "      <td>2017-11-05</td>\n",
       "      <td>00:00</td>\n",
       "      <td>2017-11-05 00:00:00</td>\n",
       "    </tr>\n",
       "    <tr>\n",
       "      <th>77519</th>\n",
       "      <td>7391</td>\n",
       "      <td>11/05/2017 01:00</td>\n",
       "      <td>11086.848799</td>\n",
       "      <td>2017-11-05</td>\n",
       "      <td>01:00</td>\n",
       "      <td>2017-11-05 01:00:00</td>\n",
       "    </tr>\n",
       "    <tr>\n",
       "      <th>77520</th>\n",
       "      <td>7392</td>\n",
       "      <td>11/05/2017 02:00</td>\n",
       "      <td>10677.703425</td>\n",
       "      <td>2017-11-05</td>\n",
       "      <td>02:00</td>\n",
       "      <td>2017-11-05 01:00:00</td>\n",
       "    </tr>\n",
       "    <tr>\n",
       "      <th>77521</th>\n",
       "      <td>7393</td>\n",
       "      <td>11/05/2017 02:00</td>\n",
       "      <td>10377.230056</td>\n",
       "      <td>2017-11-05</td>\n",
       "      <td>02:00</td>\n",
       "      <td>2017-11-05 02:00:00</td>\n",
       "    </tr>\n",
       "    <tr>\n",
       "      <th>77522</th>\n",
       "      <td>7394</td>\n",
       "      <td>11/05/2017 03:00</td>\n",
       "      <td>10256.523453</td>\n",
       "      <td>2017-11-05</td>\n",
       "      <td>03:00</td>\n",
       "      <td>2017-11-05 03:00:00</td>\n",
       "    </tr>\n",
       "  </tbody>\n",
       "</table>\n",
       "</div>"
      ],
      "text/plain": [
       "       Unnamed: 0          datetime    ercot_load       date   time  \\\n",
       "77518        7390  11/04/2017 24:00  11692.944342 2017-11-05  00:00   \n",
       "77519        7391  11/05/2017 01:00  11086.848799 2017-11-05  01:00   \n",
       "77520        7392  11/05/2017 02:00  10677.703425 2017-11-05  02:00   \n",
       "77521        7393  11/05/2017 02:00  10377.230056 2017-11-05  02:00   \n",
       "77522        7394  11/05/2017 03:00  10256.523453 2017-11-05  03:00   \n",
       "\n",
       "             new_datetime  \n",
       "77518 2017-11-05 00:00:00  \n",
       "77519 2017-11-05 01:00:00  \n",
       "77520 2017-11-05 01:00:00  \n",
       "77521 2017-11-05 02:00:00  \n",
       "77522 2017-11-05 03:00:00  "
      ]
     },
     "execution_count": 17,
     "metadata": {},
     "output_type": "execute_result"
    }
   ],
   "source": [
    "df.loc[77518:77522] #Yay! Now 1am should be duplicated"
   ]
  },
  {
   "cell_type": "code",
   "execution_count": 18,
   "id": "955e2660",
   "metadata": {},
   "outputs": [],
   "source": [
    "#Make Time Zone aware\n",
    "df = df.set_index('new_datetime').tz_localize(tz='US/Central',ambiguous='infer')\n",
    "\n",
    "## GENERATES ERROR:\n",
    "#.  AmbiguousTimeError: 2009-11-01 01:00:00"
   ]
  },
  {
   "cell_type": "markdown",
   "id": "5392128c",
   "metadata": {},
   "source": [
    "**NOTES:** Each of these created errors earlier: needed to add them to the nov_adj_ind list as they were double 2ams instead of 1ams\n",
    "\n",
    "df[df.new_datetime.astype(str).str.startswith('2016-11-06')]"
   ]
  },
  {
   "cell_type": "markdown",
   "id": "673337b2",
   "metadata": {},
   "source": [
    "# LET's look at that date:\n",
    "df.loc[7294:7299]"
   ]
  },
  {
   "cell_type": "markdown",
   "id": "731bda26",
   "metadata": {},
   "source": [
    "# LET's look at that date:\n",
    "df.loc[16198:16202]"
   ]
  },
  {
   "cell_type": "markdown",
   "id": "16c4674f",
   "metadata": {},
   "source": [
    "# LET's look at that date:\n",
    "df.loc[24934:24938]"
   ]
  },
  {
   "cell_type": "markdown",
   "id": "275d1365",
   "metadata": {},
   "source": [
    "# LET's look at that date:\n",
    "df.loc[33670:33674]"
   ]
  },
  {
   "cell_type": "markdown",
   "id": "44df3362",
   "metadata": {},
   "source": [
    "# LET's look at that date:\n",
    "df.loc[42406:42410]"
   ]
  },
  {
   "cell_type": "markdown",
   "id": "ceb5a423",
   "metadata": {},
   "source": [
    "# LET's look at that date:\n",
    "df.loc[51142:51146]"
   ]
  },
  {
   "cell_type": "markdown",
   "id": "d91f4bdf",
   "metadata": {},
   "source": [
    "# LET's look at that date:\n",
    "df.loc[59878:59882]"
   ]
  },
  {
   "cell_type": "markdown",
   "id": "4bc63441",
   "metadata": {},
   "source": [
    "# LET's look at that date:\n",
    "df.loc[68782:68786]"
   ]
  },
  {
   "cell_type": "markdown",
   "id": "9ea91553",
   "metadata": {},
   "source": [
    "**NOTES:** Okay, I've now updated nov_adj_ind with all the other aaffected dates"
   ]
  },
  {
   "cell_type": "code",
   "execution_count": null,
   "id": "c2a30e6e",
   "metadata": {},
   "outputs": [],
   "source": []
  }
 ],
 "metadata": {
  "kernelspec": {
   "display_name": "Python 3 (ipykernel)",
   "language": "python",
   "name": "python3"
  },
  "language_info": {
   "codemirror_mode": {
    "name": "ipython",
    "version": 3
   },
   "file_extension": ".py",
   "mimetype": "text/x-python",
   "name": "python",
   "nbconvert_exporter": "python",
   "pygments_lexer": "ipython3",
   "version": "3.9.7"
  }
 },
 "nbformat": 4,
 "nbformat_minor": 5
}
