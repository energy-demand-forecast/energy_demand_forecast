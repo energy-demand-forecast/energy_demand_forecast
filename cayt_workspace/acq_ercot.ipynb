{
 "cells": [
  {
   "cell_type": "markdown",
   "id": "08ea3c17",
   "metadata": {},
   "source": [
    "This file was created to scrap the ERCOT load data from: https://www.ercot.com/gridinfo/load/load_hist/\n",
    "\n",
    "Long story short, it is stored in multiple file types and there since there are only 20(ish) that we are interested in, it was simpler to just grab the files individually."
   ]
  },
  {
   "cell_type": "code",
   "execution_count": 1,
   "id": "6b675138",
   "metadata": {},
   "outputs": [],
   "source": [
    "#Basics\n",
    "import numpy as np\n",
    "import pandas as pd\n",
    "\n",
    "import os\n",
    "import requests\n",
    "import time\n",
    "from bs4 import BeautifulSoup as BSoup"
   ]
  },
  {
   "cell_type": "markdown",
   "id": "b2ae8e36",
   "metadata": {},
   "source": [
    "1) Get the request/beautifulsoup of the main page: https://www.ercot.com/gridinfo/load/load_hist/\n",
    "\n",
    "2) From that page, pull all the excel hrefs into a list\n",
    "\n",
    "3) Loop over that list and for each URL, read the excel document into pandas\n",
    "\n",
    "4) For the next iteration of the loop read the info and concat the dataframes together (keep growing the dataframe)\n",
    "\n",
    "5) Save the resulting dataframe as a CSV so we don't have to run the scrapping again\n",
    "\n",
    "6) Save a shorter dataframe (with just the coastal data) as a CSV\n",
    "\n",
    "7) Drop all this acquire into a function\n"
   ]
  },
  {
   "cell_type": "code",
   "execution_count": 2,
   "id": "7689411c",
   "metadata": {},
   "outputs": [],
   "source": [
    "headers = {'User-Agent': 'Codeup Data Science'}"
   ]
  },
  {
   "cell_type": "code",
   "execution_count": 3,
   "id": "9a38f224",
   "metadata": {},
   "outputs": [
    {
     "data": {
      "text/plain": [
       "200"
      ]
     },
     "execution_count": 3,
     "metadata": {},
     "output_type": "execute_result"
    }
   ],
   "source": [
    "response = requests.get('https://www.ercot.com/gridinfo/load/load_hist/',headers=headers)\n",
    "response.status_code"
   ]
  },
  {
   "cell_type": "code",
   "execution_count": 4,
   "id": "2f65a38d",
   "metadata": {},
   "outputs": [],
   "source": [
    "soup = BSoup(response.text,'html.parser')"
   ]
  },
  {
   "cell_type": "markdown",
   "id": "01d58efd",
   "metadata": {},
   "source": [
    "**Page Inspection Notes:**\n",
    "\n",
    "href examples:\n",
    "\n",
    "href=\"https://www.ercot.com/files/docs/2022/02/08/Native_Load_2022.zip\" title=\"2022 ERCOT Hourly Load Data \" download=\"\" class=\"d-block pb-2\">2022 ERCOT Hourly Load Data \n",
    "\n",
    "href=\"https://www.ercot.com/files/docs/2021/11/12/Native_Load_2021.zip\" title=\"2021 ERCOT Hourly Load Data\" download=\"\" class=\"d-block pb-2\">2021 ERCOT Hourly Load Data"
   ]
  },
  {
   "cell_type": "code",
   "execution_count": 5,
   "id": "6c5ac9b2",
   "metadata": {},
   "outputs": [
    {
     "data": {
      "text/plain": [
       "263"
      ]
     },
     "execution_count": 5,
     "metadata": {},
     "output_type": "execute_result"
    }
   ],
   "source": [
    "len(soup.select('a',{'class':'d-block pb-2'}))"
   ]
  },
  {
   "cell_type": "code",
   "execution_count": 6,
   "id": "ef4f4a97",
   "metadata": {},
   "outputs": [
    {
     "data": {
      "text/plain": [
       "[<a href=\"#\" onclick=\"navigate(pageProxySecureContextRequest);\">MIS LOG IN</a>,\n",
       " <a href=\"https://www.ercot.com\" id=\"hlogo\">\n",
       " <svg aria-label=\"Electric Reliability Council of Texas (ERCOT)\" role=\"img\" viewbox=\"0 0 226.91 83.27\" xmlns=\"http://www.w3.org/2000/svg\">\n",
       " <defs>\n",
       " <style>\n",
       "             .erc-1 {\n",
       "               fill: #5d6770;\n",
       "             }\n",
       " \n",
       "             .erc-2 {\n",
       "               fill: #00abc7;\n",
       "             }\n",
       "           </style>\n",
       " </defs>\n",
       " <title>ERCOT-logo</title>\n",
       " <path class=\"erc-1\" d=\"M29.43,49.05c-2.89,9.26-8.73,13.56-17.94,13.56-4.58,0-7.81-1.15-9.62-3.43C-.18,56.59-.55,52.42.78,46.77L3.93,33.3C6.49,22.34,12.6,17,22.61,17c4.58,0,7.81,1.15,9.62,3.43,2.05,2.59,2.42,6.76,1.1,12.41l-1.56,6.86a1.12,1.12,0,0,1-1.21.91H11.34c-.76,0-1.07,0-1.24.77L8.55,48c-.76,3.26-.57,5.56.59,7a5,5,0,0,0,4.18,1.68c4.14,0,6.9-2.67,8.21-7.94a.8.8,0,0,1,.75-.58h6.55a.57.57,0,0,1,.6.85M20.78,22.9c-4.22,0-7,2.77-8.28,8.25l-.44,2.05a1.7,1.7,0,0,0,0,1.07c.2.46.52.46,1.16.46H23.82c.77,0,1-.1,1.19-.83l.54-2.31c.76-3.26.57-5.55-.58-7a5,5,0,0,0-4.19-1.68\"></path>\n",
       " <path class=\"erc-1\" d=\"M65.73,17.65c-.34,1.48-1.19,5.11-1.53,6.56a.61.61,0,0,1-.74.45,19.91,19.91,0,0,0-4.93-.57A9.21,9.21,0,0,0,49.39,31L42.3,61.29a.6.6,0,0,1-.59.47h-7a.48.48,0,0,1-.48-.59l10-42.84a.63.63,0,0,1,.6-.47H51c.58,0,.92.11.78.67l-.14,1c-.18,1,.53,1.07,1.49.37a15.91,15.91,0,0,1,12.09-3,.61.61,0,0,1,.5.75\"></path>\n",
       " <path class=\"erc-1\" d=\"M92,46.33a.44.44,0,0,1,.42.54c-2.65,10.6-8.72,15.74-18.55,15.74-4.58,0-7.81-1.15-9.62-3.43-2-2.59-2.42-6.76-1.1-12.41L66.27,33.3C68.84,22.34,75,17,85,17c4.5,0,7.71,1.11,9.52,3.31s2.41,5.83,1.59,10.61a.8.8,0,0,1-.79.66H88.46A.46.46,0,0,1,88,31c.62-3,.38-5.08-.71-6.45a5,5,0,0,0-4.18-1.68c-4.22,0-7,2.77-8.28,8.25L70.9,48c-.76,3.26-.57,5.56.58,7a5,5,0,0,0,4.19,1.68c4.21,0,7-2.77,8.28-8.25l.41-1.72a.53.53,0,0,1,.52-.42Z\"></path>\n",
       " <path class=\"erc-1\" d=\"M109.4,62.61c-4.57,0-7.81-1.15-9.62-3.43-2-2.59-2.42-6.76-1.09-12.41l3.15-13.47c2.56-11,8.67-16.29,18.68-16.29,4.58,0,7.81,1.15,9.62,3.43,2.05,2.59,2.42,6.76,1.1,12.41l-3.15,13.47c-2.57,11-8.68,16.29-18.69,16.29m9.29-39.71c-4.21,0-7,2.77-8.28,8.25l-4,16.88c-.76,3.26-.57,5.56.59,7a5,5,0,0,0,4.18,1.68c4.22,0,7-2.77,8.28-8.25l3.95-16.88c.77-3.26.57-5.55-.58-7a5,5,0,0,0-4.19-1.68\"></path>\n",
       " <path class=\"erc-1\" d=\"M142.39,24.43l-6.8,29.07c-.68,2.9-.43,5.11.74,6.59,1.33,1.67,3.91,2.52,7.68,2.52a20.14,20.14,0,0,0,4-.29.49.49,0,0,0,.4-.38l1.32-5.67a.33.33,0,0,0-.32-.4h-1.68c-1.37,0-2.78-.15-3.41-.95s-.46-2.38-.08-4l6.22-26.58c.12-.51.41-.59.89-.59h5.46a.67.67,0,0,0,.65-.52l1.13-4.82a.45.45,0,0,0-.44-.55h-5.53a.49.49,0,0,1-.47-.71l2.54-10.9c.16-.77-.52-.75-.52-.75H147.4a.7.7,0,0,0-.68.45L144.05,17.3c-.12.42-.18.56-.69.56H138s-.45,0-.71.62l-1.1,4.63c-.14.54.48.64.48.64h5.08s.78,0,.6.68\"></path>\n",
       " <path class=\"erc-2\" d=\"M211.46,40.86,191.05,64.53a.24.24,0,0,1-.42-.19l2-10.6a.56.56,0,0,0-.71-.64l-4.7,1.38a1.17,1.17,0,0,0-.83.93l-4.56,27.14c-.09.71.5,1,1,.41l36.29-42.55a1,1,0,0,0,.07-1.14,10.88,10.88,0,0,0-5.56-4.36c-6.84-2.69-14.8,2.07-20.24,5-13.91,7.35-22.24.54-23.94-1.21a1,1,0,0,0-.69-.28h-5.93a.38.38,0,0,0-.31.61c1.3,1.73,5.24,6.62,10.76,8.44C178.2,49,186,50.39,196.21,45l.13-.08c5.48-3.12,11.31-5.79,14.92-4.57,0,0,.47.16.2.55M194.81,20.74c-8.58,5.08-14.36,5.66-16.47,4.46a.75.75,0,0,1-.36-.82l3.83-18.23a.52.52,0,0,1,.51-.41h11.46a.28.28,0,0,1,.28.36l-2.15,9.47a.35.35,0,0,0,.5.4l4.92-2.19a1,1,0,0,0,.58-.72L200.64,1a.8.8,0,0,0-.78-1l-22.1,0a.84.84,0,0,0-.82.67L171.49,26.6a1.07,1.07,0,0,0,.2.9l.58.75c.44.56,3.06,3.3,8.74,3.29,3.84,0,8.43-1.28,17.34-5.91.14-.07,13.79-8.27,21.56.87a.89.89,0,0,0,.7.33h5.92a.38.38,0,0,0,.32-.58c-9.9-15.62-24.78-9.81-32-5.51\"></path>\n",
       " </svg>\n",
       " </a>,\n",
       " <a class=\"\" href=\"/about\">About ERCOT</a>,\n",
       " <a class=\"\" href=\"/about/profile\">Company Profile</a>,\n",
       " <a class=\"\" href=\"/about/profile/vision\">Vision and Mission</a>,\n",
       " <a class=\"\" href=\"/about/profile/community\">Community Involvement</a>,\n",
       " <a class=\"\" href=\"/about/governance\">Governance</a>,\n",
       " <a class=\"\" href=\"/about/governance/directors\">Board of Directors</a>,\n",
       " <a class=\"\" href=\"/about/governance/executives\">Executive Team</a>,\n",
       " <a class=\"\" href=\"/about/governance/members\">Membership</a>,\n",
       " <a class=\"\" href=\"/about/governance/FinancialInformation\">Financial Information</a>,\n",
       " <a class=\"\" href=\"/about/governance/boardethicsagmts\">Board Ethics Agreements</a>,\n",
       " <a class=\"\" href=\"/about/governance/ethics\">Ethics</a>,\n",
       " <a class=\"\" href=\"/about/governance/legal_notices\">Legal Notices</a>,\n",
       " <a class=\"\" href=\"/about/news\">News and Publications</a>,\n",
       " <a class=\"\" href=\"/about/news/mediakit\">Media Kit</a>,\n",
       " <a class=\"\" href=\"/about/news/presentations\">Helpful Resources</a>,\n",
       " <a class=\"\" href=\"/about/news/releases\">News Releases</a>,\n",
       " <a class=\"\" href=\"/about/news/trendingtopics\">Trending Topics</a>,\n",
       " <a class=\"\" href=\"/about/news/summer\">Summer 2022</a>,\n",
       " <a class=\"\" href=\"/about/hb4492securitization\">HB 4492 Securitization</a>,\n",
       " <a class=\"\" href=\"/about/hb4492securitization/subchapterm\">Subchapter M Default Balance Securitization</a>,\n",
       " <a class=\"\" href=\"/about/hb4492securitization/subchaptern\">Subchapter N Uplift Balance Securitization </a>,\n",
       " <a class=\"\" href=\"/about/sunsetreview\">ERCOT Sunset Review </a>,\n",
       " <a class=\"\" href=\"/about/careers\">Careers</a>,\n",
       " <a class=\"\" href=\"/about/careers/culture\">Life at ERCOT</a>,\n",
       " <a class=\"\" href=\"/about/careers/edp\">Engineer Development Program</a>,\n",
       " <a class=\"\" href=\"/about/careers/ercotinternship\">Internship Program</a>,\n",
       " <a class=\"\" href=\"/about/procurement\">Procurement</a>,\n",
       " <a class=\"\" href=\"/about/procurement/rfp\">Request for Proposal</a>,\n",
       " <a class=\"\" href=\"/about/locations\">Locations</a>,\n",
       " <a class=\"\" href=\"/about/contact\">Contact Us</a>,\n",
       " <a class=\"\" href=\"/about/contact/inforequest\">Info Request</a>,\n",
       " <a href=\"/about/news/summer\">Get the latest info &gt;</a>,\n",
       " <a class=\"\" href=\"/services\">Services</a>,\n",
       " <a class=\"\" href=\"/services/client_svcs\">Client Services</a>,\n",
       " <a class=\"\" href=\"/services/client_svcs/acctmgmt\">Account Management</a>,\n",
       " <a class=\"\" href=\"/services/client_svcs/mktsupport\">Market Support</a>,\n",
       " <a class=\"\" href=\"/services/client_svcs/mktrk_info\">MarkeTrak Information</a>,\n",
       " <a class=\"\" href=\"/services/comm\">Market Participant Communications</a>,\n",
       " <a class=\"\" href=\"/services/comm/archives\">Market Notice Archives</a>,\n",
       " <a class=\"\" href=\"/services/comm/opsmessages\">Operations Messages</a>,\n",
       " <a class=\"\" href=\"/services/comm/pobs\">Power Operations Bulletins</a>,\n",
       " <a class=\"\" href=\"/services/comm/notices\">Public Notices</a>,\n",
       " <a class=\"\" href=\"/services/comm/outage_notices\">System Outage Notices</a>,\n",
       " <a class=\"\" href=\"/services/programs\">Programs</a>,\n",
       " <a class=\"\" href=\"/services/programs/tcmp\">Texas Cybersecurity Monitor Program</a>,\n",
       " <a class=\"\" href=\"/services/programs/load\">Demand Response</a>,\n",
       " <a class=\"\" href=\"/services/programs/firmfuelsupply\">Firm Fuel Supply Service</a>,\n",
       " <a class=\"\" href=\"/services/programs/qse\">QSE Services Available on Short Notice</a>,\n",
       " <a class=\"\" href=\"/services/programs/rec\">Renewable Energy Credit</a>,\n",
       " <a class=\"\" href=\"/services/projects\">Projects</a>,\n",
       " <a class=\"\" href=\"/services/rq\">Registration and Qualification</a>,\n",
       " <a class=\"\" href=\"/services/rq/crr\">Congestion Revenue Rights Account Holder</a>,\n",
       " <a class=\"\" href=\"/services/rq/credit\">Credit</a>,\n",
       " <a class=\"\" href=\"/services/rq/imre\">Independent Market Information System Registered Entity</a>,\n",
       " <a class=\"\" href=\"/services/rq/lse\">Load Serving Entities</a>,\n",
       " <a class=\"\" href=\"/services/rq/qse\">Qualified Scheduling Entities</a>,\n",
       " <a class=\"\" href=\"/services/rq/re\">Resource Entities</a>,\n",
       " <a class=\"\" href=\"/services/rq/integration\">Resource Integration</a>,\n",
       " <a class=\"\" href=\"/services/rq/tlscertification\">TLS 1.2 Certification </a>,\n",
       " <a class=\"\" href=\"/services/rq/tdsp\">Transmission/Distribution Service Providers</a>,\n",
       " <a class=\"\" href=\"/services/sla\">Service Level Agreements</a>,\n",
       " <a class=\"\" href=\"/services/training\">Training</a>,\n",
       " <a class=\"\" href=\"/services/training/courses\">Course Catalog</a>,\n",
       " <a class=\"\" href=\"/services/training/recommendations\">Course Recommendations</a>,\n",
       " <a class=\"\" href=\"/services/training/exams\">ERCOT System Operator Certification Exam</a>,\n",
       " <a class=\"\" href=\"/services/training/archives\">Archived Workshop Materials</a>,\n",
       " <a class=\"\" href=\"/services/mdt\">Market Data Transparency</a>,\n",
       " <a class=\"\" href=\"/services/mdt/ddls\">DDLs</a>,\n",
       " <a class=\"\" href=\"/services/mdt/userguides\">User Guides</a>,\n",
       " <a class=\"\" href=\"/services/mdt/webservices\">Digital Certificate Security Information</a>,\n",
       " <a class=\"\" href=\"/services/mdt/xsds\">XSDs</a>,\n",
       " <a href=\"/services/rq/lse/tfi\">View the test flight info &gt;</a>,\n",
       " <a class=\"\" href=\"/committees\">Committees and Groups</a>,\n",
       " <a class=\"\" href=\"/committees/calendar\">Meeting Calendar</a>,\n",
       " <a class=\"\" href=\"/committees/puct\">PUCT</a>,\n",
       " <a class=\"\" href=\"/committees/board\">Board of Directors</a>,\n",
       " <a class=\"\" href=\"/committees/board/finance_audit\">Finance and Audit Committee</a>,\n",
       " <a class=\"\" href=\"/committees/board/hr_governance\">HR and Governance Committee</a>,\n",
       " <a class=\"\" href=\"/committees/board/reliabilitymarkets\">Reliability and Markets Committee</a>,\n",
       " <a class=\"\" href=\"/committees/tac\">Technical Advisory Committee</a>,\n",
       " <a class=\"\" href=\"/committees/tac/lfltf\">Large Flexible Load Task Force</a>,\n",
       " <a class=\"\" href=\"/committees/prs\">Protocol Revision Subcommittee</a>,\n",
       " <a class=\"\" href=\"/committees/rms\">Retail Market Subcommittee</a>,\n",
       " <a class=\"\" href=\"/committees/rms/mct\">Market Coordination Team for Texas SET Version Releases</a>,\n",
       " <a class=\"\" href=\"/committees/rms/pwg\">Profiling Working Group</a>,\n",
       " <a class=\"\" href=\"/committees/rms/rmttf\">Retail Market Training Task Force</a>,\n",
       " <a class=\"\" href=\"/committees/rms/tdtms\">Texas Data Transport and MarkeTrak Systems Working Group</a>,\n",
       " <a class=\"\" href=\"/committees/rms/txset\">Texas Standard Electronic Transaction Working Group</a>,\n",
       " <a class=\"\" href=\"/committees/ros\">Reliability and Operations Subcommittee</a>,\n",
       " <a class=\"\" href=\"/committees/ros/bswg\">Black Start Working Group</a>,\n",
       " <a class=\"\" href=\"/committees/ros/dwg\">Dynamics Working Group</a>,\n",
       " <a class=\"\" href=\"/committees/ros/ibrtf\">Inverter-Based Resource Task Force</a>,\n",
       " <a class=\"\" href=\"/committees/ros/ndswg\">Network Data Support Working Group</a>,\n",
       " <a class=\"\" href=\"/committees/ros/otwg\">Operations Training Working Group</a>,\n",
       " <a class=\"\" href=\"/committees/ros/owg\">Operations Working Group</a>,\n",
       " <a class=\"\" href=\"/committees/ros/pdcwg\">Performance, Disturbance, Compliance Working Group</a>,\n",
       " <a class=\"\" href=\"/committees/ros/pgdtf\">Planning Geomagnetic Disturbance Task Force</a>,\n",
       " <a class=\"\" href=\"/committees/ros/plwg\">Planning Working Group</a>,\n",
       " <a class=\"\" href=\"/committees/ros/spwg\">System Protection Working Group</a>,\n",
       " <a class=\"\" href=\"/committees/ros/sswg\">Steady State Working Group</a>,\n",
       " <a class=\"\" href=\"/committees/ros/vpwg\">Voltage Profile Working Group</a>,\n",
       " <a class=\"\" href=\"/committees/wms\">Wholesale Market Subcommittee</a>,\n",
       " <a class=\"\" href=\"/committees/wms/cmwg\">Congestion Management Working Group</a>,\n",
       " <a class=\"\" href=\"/committees/wms/dswg\">Demand Side Working Group</a>,\n",
       " <a class=\"\" href=\"/committees/wms/mcwg\">Market Credit Working Group</a>,\n",
       " <a class=\"\" href=\"/committees/wms/mswg\">Market Settlements Working Group</a>,\n",
       " <a class=\"\" href=\"/committees/wms/mwg\">Metering Working Group</a>,\n",
       " <a class=\"\" href=\"/committees/wms/rcwg\">Resource Cost Working Group</a>,\n",
       " <a class=\"\" href=\"/committees/wms/sawg\">Supply Analysis Working Group</a>,\n",
       " <a class=\"\" href=\"/committees/wms/wmwg\">Wholesale Market Working Group</a>,\n",
       " <a class=\"\" href=\"/committees/inactive\">Inactive Groups</a>,\n",
       " <a class=\"\" href=\"/committees/other\">Other Groups</a>,\n",
       " <a class=\"\" href=\"/committees/workshops\">Workshops</a>,\n",
       " <a class=\"\" href=\"/committees/mktparticipants\">Market Participants</a>,\n",
       " <a class=\"\" href=\"/mktrules\">Market Rules</a>,\n",
       " <a class=\"\" href=\"/mktrules/nprotocols\">Protocols - Nodal</a>,\n",
       " <a class=\"\" href=\"/mktrules/nprotocols/current\">Current Protocols - Nodal</a>,\n",
       " <a class=\"\" href=\"/mktrules/nprotocols/library\">Protocol Library - Nodal</a>,\n",
       " <a class=\"\" href=\"/mktrules/nprotocols/nprr\">Nodal Protocol Revision Requests</a>,\n",
       " <a class=\"\" href=\"/mktrules/nprotocols/nprr_process\">NPRR Submission Process</a>,\n",
       " <a class=\"\" href=\"/mktrules/nprotocols/pir_process\">Protocol Interpretation Request Submission Process</a>,\n",
       " <a class=\"\" href=\"/mktrules/protocols\">Archives - Zonal</a>,\n",
       " <a class=\"\" href=\"/mktrules/puctDirectives\">PUCT Directives</a>,\n",
       " <a class=\"\" href=\"/mktrules/puctDirectives/southernCross\">Southern Cross Transmission</a>,\n",
       " <a class=\"\" href=\"/mktrules/puctDirectives/rtCoOptimization\">Real-Time Co-Optimization</a>,\n",
       " <a class=\"\" href=\"/mktrules/puctDirectives/emergencyoperationsplans\">Emergency Operations Plans</a>,\n",
       " <a class=\"\" href=\"/mktrules/guides\">Market Guides</a>,\n",
       " <a class=\"\" href=\"/mktrules/guides/commercialops\">Commercial Operations Market Guide</a>,\n",
       " <a class=\"\" href=\"/mktrules/guides/data_transport\">Data Transport Guides</a>,\n",
       " <a class=\"\" href=\"/mktrules/guides/loadprofiling\">Load Profiling Guide</a>,\n",
       " <a class=\"\" href=\"/mktrules/guides/noperating\">Nodal Operating Guide</a>,\n",
       " <a class=\"\" href=\"/mktrules/guides/procedures\">Operating Procedures</a>,\n",
       " <a class=\"\" href=\"/mktrules/guides/planning\">Planning Guide</a>,\n",
       " <a class=\"\" href=\"/mktrules/guides/resourcereg\">Resource Registration Glossary</a>,\n",
       " <a class=\"\" href=\"/mktrules/guides/retail\">Retail Market Guide</a>,\n",
       " <a class=\"\" href=\"/mktrules/guides/settlement\">Settlement Metering Operating Guide</a>,\n",
       " <a class=\"\" href=\"/mktrules/guides/txset\">Texas Standard Electronic Transaction Guides</a>,\n",
       " <a class=\"\" href=\"/mktrules/guides/vcm\">Verifiable Cost Manual</a>,\n",
       " <a class=\"\" href=\"/mktrules/guides/archives\">Inactive Market Guides</a>,\n",
       " <a class=\"\" href=\"/mktrules/pilots\">Pilot Projects</a>,\n",
       " <a class=\"\" href=\"/mktrules/pilots/ers\">30-Minute Emergency Response Service - Completed</a>,\n",
       " <a class=\"\" href=\"/mktrules/pilots/frrs\">Fast Responding Regulation Service - Completed</a>,\n",
       " <a class=\"\" href=\"/mktrules/pilots/wsers\">Weather-Sensitive Emergency Response Service - Completed</a>,\n",
       " <a class=\"\" href=\"/mktrules/syschangereq\">System Changes</a>,\n",
       " <a class=\"\" href=\"/mktrules/syschangereq/scr\">System Change Requests</a>,\n",
       " <a class=\"\" href=\"/mktrules/compliance\">Compliance in ERCOT</a>,\n",
       " <a class=\"\" href=\"/mktrules/bpm\">Business Practice Manual</a>,\n",
       " <a class=\"\" href=\"/mktrules/obd\">Other Binding Documents</a>,\n",
       " <a class=\"\" href=\"/mktrules/obd/obdlist\">Other Binding Documents List</a>,\n",
       " <a class=\"\" href=\"/mktrules/obd/obdrr\">Other Binding Documents Revision Requests</a>,\n",
       " <a class=\"\" href=\"/mktrules/keypriorities\">Key Priorities</a>,\n",
       " <a class=\"\" href=\"/mktrules/keypriorities/bes\">Battery Energy Storage</a>,\n",
       " <a class=\"\" href=\"/mktinfo\">Market Information</a>,\n",
       " <a class=\"\" href=\"/mktinfo/crr\">Congestion Revenue Rights</a>,\n",
       " <a class=\"\" href=\"/mktinfo/dam\">Day-Ahead Market</a>,\n",
       " <a class=\"\" href=\"/mktinfo/rtm\">Real-Time Market</a>,\n",
       " <a class=\"\" href=\"/mktinfo/rtm/marginallosses\">Marginal Losses</a>,\n",
       " <a class=\"\" href=\"/mktinfo/prices\">Market Prices</a>,\n",
       " <a class=\"\" href=\"/mktinfo/retail\">Retail</a>,\n",
       " <a class=\"\" href=\"/mktinfo/retail/electric\">Labeling of Electricity</a>,\n",
       " <a class=\"\" href=\"/mktinfo/loadprofile\">Load Profiling</a>,\n",
       " <a class=\"\" href=\"/mktinfo/loadprofile/alp\">Backcasted (Actual) Load Profiles - Historical</a>,\n",
       " <a class=\"\" href=\"/mktinfo/metering\">Metering</a>,\n",
       " <a class=\"\" href=\"/mktinfo/metering/competitive\">Competitive Metering</a>,\n",
       " <a class=\"\" href=\"/mktinfo/metering/eps\">ERCOT-Polled Settlement Metering</a>,\n",
       " <a class=\"\" href=\"/mktinfo/metering/dlfmethodology\">TDSP Distribution Loss Factors - Methodology</a>,\n",
       " <a class=\"\" href=\"/mktinfo/data_agg\">Data Aggregation</a>,\n",
       " <a class=\"\" href=\"/mktinfo/data_agg/idr_pcv\">IDR Protocol Compliance Verification - Historical</a>,\n",
       " <a class=\"\" href=\"/mktinfo/data_agg/4cp\">ERCOT Four Coincident Peak Calculations</a>,\n",
       " <a class=\"\" href=\"/mktinfo/data_agg/ssig\">Shadow Settlement Instruction Guides</a>,\n",
       " <a class=\"\" href=\"/mktinfo/data_agg/ufe\">UFE Analysis Reports</a>,\n",
       " <a class=\"\" href=\"/mktinfo/settlements\">Settlements</a>,\n",
       " <a class=\"\" href=\"/mktinfo/reports\">Market Reports</a>,\n",
       " <a class=\"\" href=\"/gridinfo\">Grid Information</a>,\n",
       " <a class=\"\" href=\"/gridinfo/csc\">Current System Conditions</a>,\n",
       " <a class=\"\" href=\"/gridinfo/generation\">Generation</a>,\n",
       " <a class=\"\" href=\"/gridinfo/generation/windandsolar\">Wind and Solar Integration Reports</a>,\n",
       " <a class=\"\" href=\"/gridinfo/generation/winterready\">Winter Weather Readiness</a>,\n",
       " <a class=\"\" href=\"/gridinfo/load\">Load</a>,\n",
       " <a class=\"\" href=\"/gridinfo/load/load_hist\">Hourly Load Data Archives</a>,\n",
       " <a class=\"\" href=\"/gridinfo/load/covid-19-load-forecast\">Supplemental Data for COVID-19 Scenario </a>,\n",
       " <a class=\"\" href=\"/gridinfo/load/forecast\">Load Forecast</a>,\n",
       " <a class=\"\" href=\"/gridinfo/transmission\">Transmission</a>,\n",
       " <a class=\"\" href=\"/gridinfo/transmission/opsys-change-schedule\">Production Load Schedule</a>,\n",
       " <a class=\"\" href=\"/gridinfo/resource\">Resource Adequacy</a>,\n",
       " <a class=\"\" href=\"/gridinfo/sysplan\">Market Reports</a>,\n",
       " <a class=\"\" href=\"/gridinfo/planning\">Planning</a>,\n",
       " <a href=\"/gridinfo/resource\" target=\"_blank\">View the Summer SARA and the latest CDR report &gt;</a>,\n",
       " <a class=\"\" href=\"/mp\">Market Participants</a>,\n",
       " <a class=\"\" href=\"/mp/data-products\">EMIL</a>,\n",
       " <a class=\"\" href=\"/mp/data-products/markets\">Markets</a>,\n",
       " <a class=\"\" href=\"/mp/data-products/grid\">Grid</a>,\n",
       " <a class=\"\" href=\"/mp/data-products/compliance-and-disclosure\">Compliance &amp; Disclosure</a>,\n",
       " <a class=\"\" href=\"/mp/data-products/group-reports\">Group Reports</a>,\n",
       " <a class=\"\" href=\"/mp/data-products/services\">Services</a>,\n",
       " <a class=\"\" href=\"/mp/applications\">Applications</a>,\n",
       " <a class=\"\" href=\"/mp/notices\">Notices</a>,\n",
       " <a class=\"\" href=\"/releases\">News Releases</a>,\n",
       " <a href=\"/\">Home</a>,\n",
       " <a href=\"/gridinfo\">Grid Information</a>,\n",
       " <a href=\"/gridinfo/load\">Load</a>,\n",
       " <a class=\"d-block pb-2\" download=\"\" href=\"https://www.ercot.com/files/docs/2022/02/08/Native_Load_2022.zip\" title=\"2022 ERCOT Hourly Load Data \">2022 ERCOT Hourly Load Data </a>,\n",
       " <a class=\"d-block pb-2\" download=\"\" href=\"https://www.ercot.com/files/docs/2021/11/12/Native_Load_2021.zip\" title=\"2021 ERCOT Hourly Load Data\">2021 ERCOT Hourly Load Data</a>,\n",
       " <a class=\"d-block pb-2\" download=\"\" href=\"https://www.ercot.com/files/docs/2021/01/12/Native_Load_2020.zip\" title=\"2020 ERCOT Hourly Load Data\">2020 ERCOT Hourly Load Data</a>,\n",
       " <a class=\"d-block pb-2\" download=\"\" href=\"https://www.ercot.com/files/docs/2020/01/09/Native_Load_2019.zip\" title=\"2019 ERCOT Hourly Load Data\">2019 ERCOT Hourly Load Data</a>,\n",
       " <a class=\"d-block pb-2\" download=\"\" href=\"https://www.ercot.com/files/docs/2019/01/07/native_load_2018.zip\" title=\"2018 ERCOT Hourly Load Data \">2018 ERCOT Hourly Load Data </a>,\n",
       " <a class=\"d-block pb-2\" download=\"\" href=\"https://www.ercot.com/files/docs/2018/01/09/native_load_2017.zip\" title=\"2017 ERCOT Hourly Load Data\">2017 ERCOT Hourly Load Data</a>,\n",
       " <a class=\"d-block pb-2\" download=\"\" href=\"https://www.ercot.com/files/docs/2017/01/10/native_Load_2016.zip\" title=\"2016 ERCOT Hourly Load Data\">2016 ERCOT Hourly Load Data</a>,\n",
       " <a class=\"d-block pb-2\" download=\"\" href=\"https://www.ercot.com/files/docs/2016/01/07/native_load_2015.xls\" title=\"2015 ERCOT Hourly Load Data\">2015 ERCOT Hourly Load Data</a>,\n",
       " <a class=\"d-block pb-2\" download=\"\" href=\"https://www.ercot.com/files/docs/2015/10/22/2014_ercot_hourly_load_data.xls\" title=\"2014 ERCOT Hourly Load Data\">2014 ERCOT Hourly Load Data</a>,\n",
       " <a class=\"d-block pb-2\" download=\"\" href=\"https://www.ercot.com/files/docs/2015/10/22/2013_ercot_hourly_load_data.xls\" title=\"2013 ERCOT Hourly Load Data\">2013 ERCOT Hourly Load Data</a>,\n",
       " <a class=\"d-block pb-2\" download=\"\" href=\"https://www.ercot.com/files/docs/2015/10/22/2012_ercot_hourly_load_data.xls\" title=\"2012 ERCOT Hourly Load Data\">2012 ERCOT Hourly Load Data</a>,\n",
       " <a class=\"d-block pb-2\" download=\"\" href=\"https://www.ercot.com/files/docs/2015/10/22/2011_ercot_hourly_load_data.xls\" title=\"2011 ERCOT Hourly Load Data\">2011 ERCOT Hourly Load Data</a>,\n",
       " <a class=\"d-block pb-2\" download=\"\" href=\"https://www.ercot.com/files/docs/2015/10/22/2010_ercot_hourly_load_data.xls\" title=\"2010 ERCOT Hourly Load Data\">2010 ERCOT Hourly Load Data</a>,\n",
       " <a class=\"d-block pb-2\" download=\"\" href=\"https://www.ercot.com/files/docs/2015/10/22/2009_ercot_hourly_load_data.xls\" title=\"2009 ERCOT Hourly Load Data\">2009 ERCOT Hourly Load Data</a>,\n",
       " <a class=\"d-block pb-2\" download=\"\" href=\"https://www.ercot.com/files/docs/2015/10/22/2008_ercot_hourly_load_data.xls\" title=\"2008 ERCOT Hourly Load Data\">2008 ERCOT Hourly Load Data</a>,\n",
       " <a class=\"d-block pb-2\" download=\"\" href=\"https://www.ercot.com/files/docs/2015/10/22/2007_ercot_hourly_load_data.xls\" title=\"2007 ERCOT Hourly Load Data\">2007 ERCOT Hourly Load Data</a>,\n",
       " <a class=\"d-block pb-2\" download=\"\" href=\"https://www.ercot.com/files/docs/2015/10/22/2006_ercot_hourly_load_data.xls\" title=\"2006 ERCOT Hourly Load Data\">2006 ERCOT Hourly Load Data</a>,\n",
       " <a class=\"d-block pb-2\" download=\"\" href=\"https://www.ercot.com/files/docs/2015/10/22/2005_ercot_hourly_load_data.xls\" title=\"2005 ERCOT Hourly Load Data\">2005 ERCOT Hourly Load Data</a>,\n",
       " <a class=\"d-block pb-2\" download=\"\" href=\"https://www.ercot.com/files/docs/2015/10/22/2004_ercot_hourly_load_data.xls\" title=\"2004 ERCOT Hourly Load Data\">2004 ERCOT Hourly Load Data</a>,\n",
       " <a class=\"d-block pb-2\" download=\"\" href=\"https://www.ercot.com/files/docs/2015/10/22/2003_ercot_hourly_load_data.xls\" title=\"2003 ERCOT Hourly Load Data\">2003 ERCOT Hourly Load Data</a>,\n",
       " <a class=\"d-block pb-2\" download=\"\" href=\"https://www.ercot.com/files/docs/2015/10/22/2002_ercot_hourly_load_data.xls\" title=\"2002 ERCOT Hourly Load Data\">2002 ERCOT Hourly Load Data</a>,\n",
       " <a class=\"d-block pb-2\" download=\"\" href=\"https://www.ercot.com/files/docs/2005/11/10/2000ferc714.zip\" title=\"2000 ERCOT Hourly Load Data\">2000 ERCOT Hourly Load Data</a>,\n",
       " <a class=\"d-block pb-2\" download=\"\" href=\"https://www.ercot.com/files/docs/2002/12/11/1999ferc714.zip\" title=\"1999 ERCOT Hourly Load Data\">1999 ERCOT Hourly Load Data</a>,\n",
       " <a class=\"d-block pb-2\" download=\"\" href=\"https://www.ercot.com/files/docs/2002/12/11/ferc714.zip\" title=\"1998 ERCOT Hourly Load Data\">1998 ERCOT Hourly Load Data</a>,\n",
       " <a class=\"d-block pb-2\" download=\"\" href=\"https://www.ercot.com/files/docs/2002/12/11/97frc714.zip\" title=\"1997 ERCOT Hourly Load Data\">1997 ERCOT Hourly Load Data</a>,\n",
       " <a class=\"d-block pb-2\" download=\"\" href=\"https://www.ercot.com/files/docs/2004/07/26/erceei97.xls\" title=\"1997 ERCOT Hourly Load Data\">1997 ERCOT Hourly Load Data</a>,\n",
       " <a class=\"d-block pb-2\" download=\"\" href=\"https://www.ercot.com/files/docs/2004/07/26/erceei97.txt\" title=\"1997 ERCOT Hourly Load Data (Raw)\">1997 ERCOT Hourly Load Data (Raw)</a>,\n",
       " <a class=\"d-block pb-2\" download=\"\" href=\"https://www.ercot.com/files/docs/2004/07/26/96load.txt\" title=\"1996 ERCOT Hourly Load Data\">1996 ERCOT Hourly Load Data</a>,\n",
       " <a class=\"d-block pb-2\" download=\"\" href=\"https://www.ercot.com/files/docs/2004/07/26/erceei95.txt\" title=\"1995 ERCOT Hourly Load Data\">1995 ERCOT Hourly Load Data</a>,\n",
       " <a href=\"/about\">About ERCOT</a>,\n",
       " <a href=\"/services\">Services</a>,\n",
       " <a href=\"/committees\">Committees &amp; Groups</a>,\n",
       " <a href=\"/mktrules\">Market Rules</a>,\n",
       " <a href=\"/mktinfo\">Market Information</a>,\n",
       " <a href=\"/gridinfo\">Grid Information</a>,\n",
       " <a href=\"/mp\">Market Participants </a>,\n",
       " <a href=\"/about/contact\">Contact Us</a>,\n",
       " <a href=\"/glossary\">Glossary</a>,\n",
       " <a href=\"/careers\">Careers</a>,\n",
       " <a href=\"/about/locations\">Locations</a>,\n",
       " <a href=\"/calendar\">Calendar</a>,\n",
       " <a href=\"/about/governance/ethics\">Ethics Point</a>,\n",
       " <a href=\"/services/comm/mkt_notices/opsmessages\">Operations Messages</a>,\n",
       " <a href=\"/services/projects\">Project Status</a>,\n",
       " <a href=\"/services/sla\">Service Level Agreements</a>,\n",
       " <a href=\"/mp/applications\">ERCOT Applications</a>,\n",
       " <a href=\"/gridmktinfo/dashboards\">Grid and Market Conditions</a>,\n",
       " <a href=\"/mp/data-products\">ERCOT Market Information List</a>,\n",
       " <a href=\"https://sa.ercot.com/rioo-rs/\">Resource Integration &amp; Ongoing Operations – Resource Services</a>,\n",
       " <a href=\"https://www.facebook.com/ERCOTISO/\" target=\"_blank\">\n",
       " <svg class=\"icon\"><use xlink:href=\"#fb\"></use></svg>\n",
       " </a>,\n",
       " <a href=\"https://twitter.com/ercot_iso\" target=\"_blank\">\n",
       " <svg class=\"icon\"><use xlink:href=\"#tw\"></use></svg>\n",
       " </a>,\n",
       " <a href=\"https://www.linkedin.com/company/ercot/\" target=\"_blank\">\n",
       " <svg class=\"icon\"><use xlink:href=\"#li\"></use></svg>\n",
       " </a>,\n",
       " <a href=\"https://www.youtube.com/user/ERCOTISO\" target=\"_blank\">\n",
       " <svg class=\"icon\"><use xlink:href=\"#yt\"></use></svg>\n",
       " </a>,\n",
       " <a href=\"http://www.ercot.com/news\" target=\"_blank\">\n",
       " <svg class=\"icon\"><use xlink:href=\"#app-icon\"></use></svg>\n",
       " </a>,\n",
       " <a class=\"hasicon\" href=\"https://lists.ercot.com/\">\n",
       " <svg class=\"icon\"><use xlink:href=\"#mail-icon\"></use></svg>\n",
       "         Mailing Lists</a>,\n",
       " <a class=\"hasicon\" href=\"/news\">\n",
       " <svg class=\"icon\"><use xlink:href=\"#news-icon\"></use></svg>\n",
       "         News &amp; Publications</a>,\n",
       " <a href=\"/help/sitemap\">Sitemap</a>,\n",
       " <a href=\"/help/terms\">Terms of Use</a>,\n",
       " <a href=\"/help/privacy\">Privacy</a>,\n",
       " <a href=\"https://www.ercot.com\" id=\"flogo\">\n",
       " <svg class=\"logo\"><use xlink:href=\"#ercot-lockup-white\"></use></svg>\n",
       " </a>]"
      ]
     },
     "execution_count": 6,
     "metadata": {},
     "output_type": "execute_result"
    }
   ],
   "source": [
    "soup.select('a',{'class':'d-block pb-2'})\n"
   ]
  },
  {
   "cell_type": "code",
   "execution_count": 7,
   "id": "fb3269e9",
   "metadata": {},
   "outputs": [
    {
     "data": {
      "text/plain": [
       "235"
      ]
     },
     "execution_count": 7,
     "metadata": {},
     "output_type": "execute_result"
    }
   ],
   "source": [
    "#<div class=\"col-12 col-md\">\n",
    "len(soup.select('div',{'class':'row'}))"
   ]
  },
  {
   "cell_type": "code",
   "execution_count": 8,
   "id": "cdb8df6e",
   "metadata": {},
   "outputs": [
    {
     "data": {
      "text/plain": [
       "235"
      ]
     },
     "execution_count": 8,
     "metadata": {},
     "output_type": "execute_result"
    }
   ],
   "source": [
    "len(soup.select('div',{'id':'details-70372353-7ccc-4458-b9d8-ebb5841796c0'}))"
   ]
  },
  {
   "cell_type": "code",
   "execution_count": 9,
   "id": "25390516",
   "metadata": {},
   "outputs": [
    {
     "data": {
      "text/plain": [
       "235"
      ]
     },
     "execution_count": 9,
     "metadata": {},
     "output_type": "execute_result"
    }
   ],
   "source": [
    "len(soup.select('div',{'id':'bcrumb'}))"
   ]
  },
  {
   "cell_type": "code",
   "execution_count": 10,
   "id": "aa9a7d8b",
   "metadata": {},
   "outputs": [
    {
     "data": {
      "text/plain": [
       "29"
      ]
     },
     "execution_count": 10,
     "metadata": {},
     "output_type": "execute_result"
    }
   ],
   "source": [
    "len(soup.find_all('a', href=True, title=True))"
   ]
  },
  {
   "cell_type": "code",
   "execution_count": 11,
   "id": "a4017f97",
   "metadata": {},
   "outputs": [
    {
     "name": "stdout",
     "output_type": "stream",
     "text": [
      "https://www.ercot.com/files/docs/2022/02/08/Native_Load_2022.zip\n",
      "https://www.ercot.com/files/docs/2021/11/12/Native_Load_2021.zip\n",
      "https://www.ercot.com/files/docs/2021/01/12/Native_Load_2020.zip\n",
      "https://www.ercot.com/files/docs/2020/01/09/Native_Load_2019.zip\n",
      "https://www.ercot.com/files/docs/2019/01/07/native_load_2018.zip\n",
      "https://www.ercot.com/files/docs/2018/01/09/native_load_2017.zip\n",
      "https://www.ercot.com/files/docs/2017/01/10/native_Load_2016.zip\n",
      "https://www.ercot.com/files/docs/2016/01/07/native_load_2015.xls\n",
      "https://www.ercot.com/files/docs/2015/10/22/2014_ercot_hourly_load_data.xls\n",
      "https://www.ercot.com/files/docs/2015/10/22/2013_ercot_hourly_load_data.xls\n",
      "https://www.ercot.com/files/docs/2015/10/22/2012_ercot_hourly_load_data.xls\n",
      "https://www.ercot.com/files/docs/2015/10/22/2011_ercot_hourly_load_data.xls\n",
      "https://www.ercot.com/files/docs/2015/10/22/2010_ercot_hourly_load_data.xls\n",
      "https://www.ercot.com/files/docs/2015/10/22/2009_ercot_hourly_load_data.xls\n",
      "https://www.ercot.com/files/docs/2015/10/22/2008_ercot_hourly_load_data.xls\n",
      "https://www.ercot.com/files/docs/2015/10/22/2007_ercot_hourly_load_data.xls\n",
      "https://www.ercot.com/files/docs/2015/10/22/2006_ercot_hourly_load_data.xls\n",
      "https://www.ercot.com/files/docs/2015/10/22/2005_ercot_hourly_load_data.xls\n",
      "https://www.ercot.com/files/docs/2015/10/22/2004_ercot_hourly_load_data.xls\n",
      "https://www.ercot.com/files/docs/2015/10/22/2003_ercot_hourly_load_data.xls\n",
      "https://www.ercot.com/files/docs/2015/10/22/2002_ercot_hourly_load_data.xls\n",
      "https://www.ercot.com/files/docs/2005/11/10/2000ferc714.zip\n",
      "https://www.ercot.com/files/docs/2002/12/11/1999ferc714.zip\n",
      "https://www.ercot.com/files/docs/2002/12/11/ferc714.zip\n",
      "https://www.ercot.com/files/docs/2002/12/11/97frc714.zip\n",
      "https://www.ercot.com/files/docs/2004/07/26/erceei97.xls\n",
      "https://www.ercot.com/files/docs/2004/07/26/erceei97.txt\n",
      "https://www.ercot.com/files/docs/2004/07/26/96load.txt\n",
      "https://www.ercot.com/files/docs/2004/07/26/erceei95.txt\n"
     ]
    }
   ],
   "source": [
    "for a in soup.find_all('a', href=True, title=True):\n",
    "    print(a['href'])"
   ]
  },
  {
   "cell_type": "code",
   "execution_count": null,
   "id": "60880f5b",
   "metadata": {},
   "outputs": [],
   "source": []
  }
 ],
 "metadata": {
  "kernelspec": {
   "display_name": "Python 3 (ipykernel)",
   "language": "python",
   "name": "python3"
  },
  "language_info": {
   "codemirror_mode": {
    "name": "ipython",
    "version": 3
   },
   "file_extension": ".py",
   "mimetype": "text/x-python",
   "name": "python",
   "nbconvert_exporter": "python",
   "pygments_lexer": "ipython3",
   "version": "3.9.7"
  }
 },
 "nbformat": 4,
 "nbformat_minor": 5
}
