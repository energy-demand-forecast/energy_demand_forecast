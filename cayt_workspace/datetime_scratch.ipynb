{
 "cells": [
  {
   "cell_type": "code",
   "execution_count": 39,
   "id": "95f6ce49",
   "metadata": {},
   "outputs": [],
   "source": [
    "#basic\n",
    "import pandas as pd\n",
    "import numpy as np\n",
    "import datetime\n",
    "import re\n",
    "from pandas.tseries.holiday import USFederalHolidayCalendar"
   ]
  },
  {
   "cell_type": "code",
   "execution_count": 40,
   "id": "c8ba6d23",
   "metadata": {},
   "outputs": [],
   "source": [
    "df = pd.read_csv('coast_df.csv')"
   ]
  },
  {
   "cell_type": "code",
   "execution_count": 41,
   "id": "dcdbc01f",
   "metadata": {},
   "outputs": [
    {
     "name": "stdout",
     "output_type": "stream",
     "text": [
      "<class 'pandas.core.frame.DataFrame'>\n",
      "RangeIndex: 118295 entries, 0 to 118294\n",
      "Data columns (total 3 columns):\n",
      " #   Column      Non-Null Count   Dtype  \n",
      "---  ------      --------------   -----  \n",
      " 0   Unnamed: 0  118295 non-null  int64  \n",
      " 1   datetime    118295 non-null  object \n",
      " 2   ercot_load  118294 non-null  float64\n",
      "dtypes: float64(1), int64(1), object(1)\n",
      "memory usage: 2.7+ MB\n"
     ]
    }
   ],
   "source": [
    "df.info()"
   ]
  },
  {
   "cell_type": "code",
   "execution_count": 42,
   "id": "bcfb3985",
   "metadata": {},
   "outputs": [
    {
     "data": {
      "text/html": [
       "<div>\n",
       "<style scoped>\n",
       "    .dataframe tbody tr th:only-of-type {\n",
       "        vertical-align: middle;\n",
       "    }\n",
       "\n",
       "    .dataframe tbody tr th {\n",
       "        vertical-align: top;\n",
       "    }\n",
       "\n",
       "    .dataframe thead th {\n",
       "        text-align: right;\n",
       "    }\n",
       "</style>\n",
       "<table border=\"1\" class=\"dataframe\">\n",
       "  <thead>\n",
       "    <tr style=\"text-align: right;\">\n",
       "      <th></th>\n",
       "      <th>Unnamed: 0</th>\n",
       "      <th>datetime</th>\n",
       "      <th>ercot_load</th>\n",
       "    </tr>\n",
       "  </thead>\n",
       "  <tbody>\n",
       "    <tr>\n",
       "      <th>0</th>\n",
       "      <td>0</td>\n",
       "      <td>2009-01-01 01:00:00.003000</td>\n",
       "      <td>7300.317873</td>\n",
       "    </tr>\n",
       "    <tr>\n",
       "      <th>1</th>\n",
       "      <td>1</td>\n",
       "      <td>2009-01-01 01:59:59.997000</td>\n",
       "      <td>7174.769899</td>\n",
       "    </tr>\n",
       "    <tr>\n",
       "      <th>2</th>\n",
       "      <td>2</td>\n",
       "      <td>2009-01-01 03:00:00</td>\n",
       "      <td>7108.488956</td>\n",
       "    </tr>\n",
       "    <tr>\n",
       "      <th>3</th>\n",
       "      <td>3</td>\n",
       "      <td>2009-01-01 04:00:00.003000</td>\n",
       "      <td>7024.863242</td>\n",
       "    </tr>\n",
       "    <tr>\n",
       "      <th>4</th>\n",
       "      <td>4</td>\n",
       "      <td>2009-01-01 04:59:59.997000</td>\n",
       "      <td>7049.567942</td>\n",
       "    </tr>\n",
       "    <tr>\n",
       "      <th>5</th>\n",
       "      <td>5</td>\n",
       "      <td>2009-01-01 06:00:00</td>\n",
       "      <td>7257.599048</td>\n",
       "    </tr>\n",
       "    <tr>\n",
       "      <th>6</th>\n",
       "      <td>6</td>\n",
       "      <td>2009-01-01 07:00:00.003000</td>\n",
       "      <td>7335.601821</td>\n",
       "    </tr>\n",
       "    <tr>\n",
       "      <th>7</th>\n",
       "      <td>7</td>\n",
       "      <td>2009-01-01 07:59:59.997000</td>\n",
       "      <td>7359.628591</td>\n",
       "    </tr>\n",
       "    <tr>\n",
       "      <th>8</th>\n",
       "      <td>8</td>\n",
       "      <td>2009-01-01 09:00:00</td>\n",
       "      <td>7361.144903</td>\n",
       "    </tr>\n",
       "    <tr>\n",
       "      <th>9</th>\n",
       "      <td>9</td>\n",
       "      <td>2009-01-01 10:00:00.003000</td>\n",
       "      <td>7714.843729</td>\n",
       "    </tr>\n",
       "    <tr>\n",
       "      <th>10</th>\n",
       "      <td>10</td>\n",
       "      <td>2009-01-01 10:59:59.997000</td>\n",
       "      <td>7989.904995</td>\n",
       "    </tr>\n",
       "    <tr>\n",
       "      <th>11</th>\n",
       "      <td>11</td>\n",
       "      <td>2009-01-01 12:00:00</td>\n",
       "      <td>8096.268147</td>\n",
       "    </tr>\n",
       "    <tr>\n",
       "      <th>12</th>\n",
       "      <td>12</td>\n",
       "      <td>2009-01-01 13:00:00.003000</td>\n",
       "      <td>7975.795971</td>\n",
       "    </tr>\n",
       "    <tr>\n",
       "      <th>13</th>\n",
       "      <td>13</td>\n",
       "      <td>2009-01-01 13:59:59.997000</td>\n",
       "      <td>7757.421429</td>\n",
       "    </tr>\n",
       "    <tr>\n",
       "      <th>14</th>\n",
       "      <td>14</td>\n",
       "      <td>2009-01-01 15:00:00</td>\n",
       "      <td>7667.644931</td>\n",
       "    </tr>\n",
       "    <tr>\n",
       "      <th>15</th>\n",
       "      <td>15</td>\n",
       "      <td>2009-01-01 16:00:00.003000</td>\n",
       "      <td>7637.955922</td>\n",
       "    </tr>\n",
       "    <tr>\n",
       "      <th>16</th>\n",
       "      <td>16</td>\n",
       "      <td>2009-01-01 16:59:59.997000</td>\n",
       "      <td>7755.928934</td>\n",
       "    </tr>\n",
       "    <tr>\n",
       "      <th>17</th>\n",
       "      <td>17</td>\n",
       "      <td>2009-01-01 18:00:00</td>\n",
       "      <td>8094.981207</td>\n",
       "    </tr>\n",
       "    <tr>\n",
       "      <th>18</th>\n",
       "      <td>18</td>\n",
       "      <td>2009-01-01 19:00:00.003000</td>\n",
       "      <td>8432.994347</td>\n",
       "    </tr>\n",
       "    <tr>\n",
       "      <th>19</th>\n",
       "      <td>19</td>\n",
       "      <td>2009-01-01 19:59:59.997000</td>\n",
       "      <td>8310.114541</td>\n",
       "    </tr>\n",
       "    <tr>\n",
       "      <th>20</th>\n",
       "      <td>20</td>\n",
       "      <td>2009-01-01 21:00:00</td>\n",
       "      <td>8053.679423</td>\n",
       "    </tr>\n",
       "    <tr>\n",
       "      <th>21</th>\n",
       "      <td>21</td>\n",
       "      <td>2009-01-01 22:00:00.003000</td>\n",
       "      <td>7780.629878</td>\n",
       "    </tr>\n",
       "    <tr>\n",
       "      <th>22</th>\n",
       "      <td>22</td>\n",
       "      <td>2009-01-01 22:59:59.997000</td>\n",
       "      <td>7279.662495</td>\n",
       "    </tr>\n",
       "    <tr>\n",
       "      <th>23</th>\n",
       "      <td>23</td>\n",
       "      <td>2009-01-02 00:00:00</td>\n",
       "      <td>6786.339600</td>\n",
       "    </tr>\n",
       "    <tr>\n",
       "      <th>24</th>\n",
       "      <td>24</td>\n",
       "      <td>2009-01-02 01:00:00.003000</td>\n",
       "      <td>6567.030243</td>\n",
       "    </tr>\n",
       "    <tr>\n",
       "      <th>25</th>\n",
       "      <td>25</td>\n",
       "      <td>2009-01-02 01:59:59.997000</td>\n",
       "      <td>6277.111631</td>\n",
       "    </tr>\n",
       "    <tr>\n",
       "      <th>26</th>\n",
       "      <td>26</td>\n",
       "      <td>2009-01-02 03:00:00</td>\n",
       "      <td>6186.937126</td>\n",
       "    </tr>\n",
       "    <tr>\n",
       "      <th>27</th>\n",
       "      <td>27</td>\n",
       "      <td>2009-01-02 04:00:00.003000</td>\n",
       "      <td>6192.735066</td>\n",
       "    </tr>\n",
       "    <tr>\n",
       "      <th>28</th>\n",
       "      <td>28</td>\n",
       "      <td>2009-01-02 04:59:59.997000</td>\n",
       "      <td>6247.570880</td>\n",
       "    </tr>\n",
       "    <tr>\n",
       "      <th>29</th>\n",
       "      <td>29</td>\n",
       "      <td>2009-01-02 06:00:00</td>\n",
       "      <td>6551.083176</td>\n",
       "    </tr>\n",
       "  </tbody>\n",
       "</table>\n",
       "</div>"
      ],
      "text/plain": [
       "    Unnamed: 0                    datetime   ercot_load\n",
       "0            0  2009-01-01 01:00:00.003000  7300.317873\n",
       "1            1  2009-01-01 01:59:59.997000  7174.769899\n",
       "2            2         2009-01-01 03:00:00  7108.488956\n",
       "3            3  2009-01-01 04:00:00.003000  7024.863242\n",
       "4            4  2009-01-01 04:59:59.997000  7049.567942\n",
       "5            5         2009-01-01 06:00:00  7257.599048\n",
       "6            6  2009-01-01 07:00:00.003000  7335.601821\n",
       "7            7  2009-01-01 07:59:59.997000  7359.628591\n",
       "8            8         2009-01-01 09:00:00  7361.144903\n",
       "9            9  2009-01-01 10:00:00.003000  7714.843729\n",
       "10          10  2009-01-01 10:59:59.997000  7989.904995\n",
       "11          11         2009-01-01 12:00:00  8096.268147\n",
       "12          12  2009-01-01 13:00:00.003000  7975.795971\n",
       "13          13  2009-01-01 13:59:59.997000  7757.421429\n",
       "14          14         2009-01-01 15:00:00  7667.644931\n",
       "15          15  2009-01-01 16:00:00.003000  7637.955922\n",
       "16          16  2009-01-01 16:59:59.997000  7755.928934\n",
       "17          17         2009-01-01 18:00:00  8094.981207\n",
       "18          18  2009-01-01 19:00:00.003000  8432.994347\n",
       "19          19  2009-01-01 19:59:59.997000  8310.114541\n",
       "20          20         2009-01-01 21:00:00  8053.679423\n",
       "21          21  2009-01-01 22:00:00.003000  7780.629878\n",
       "22          22  2009-01-01 22:59:59.997000  7279.662495\n",
       "23          23         2009-01-02 00:00:00  6786.339600\n",
       "24          24  2009-01-02 01:00:00.003000  6567.030243\n",
       "25          25  2009-01-02 01:59:59.997000  6277.111631\n",
       "26          26         2009-01-02 03:00:00  6186.937126\n",
       "27          27  2009-01-02 04:00:00.003000  6192.735066\n",
       "28          28  2009-01-02 04:59:59.997000  6247.570880\n",
       "29          29         2009-01-02 06:00:00  6551.083176"
      ]
     },
     "execution_count": 42,
     "metadata": {},
     "output_type": "execute_result"
    }
   ],
   "source": [
    "df.head(30)"
   ]
  },
  {
   "cell_type": "code",
   "execution_count": 43,
   "id": "75d8c9c7",
   "metadata": {},
   "outputs": [],
   "source": [
    "df.drop(columns=['Unnamed: 0'],inplace=True)"
   ]
  },
  {
   "cell_type": "code",
   "execution_count": 44,
   "id": "900e5ea2",
   "metadata": {},
   "outputs": [
    {
     "name": "stdout",
     "output_type": "stream",
     "text": [
      "<class 'pandas.core.frame.DataFrame'>\n",
      "RangeIndex: 118295 entries, 0 to 118294\n",
      "Data columns (total 2 columns):\n",
      " #   Column      Non-Null Count   Dtype  \n",
      "---  ------      --------------   -----  \n",
      " 0   datetime    118295 non-null  object \n",
      " 1   ercot_load  118294 non-null  float64\n",
      "dtypes: float64(1), object(1)\n",
      "memory usage: 1.8+ MB\n"
     ]
    }
   ],
   "source": [
    "df.info()"
   ]
  },
  {
   "cell_type": "code",
   "execution_count": 45,
   "id": "ff031cdf",
   "metadata": {},
   "outputs": [
    {
     "data": {
      "text/html": [
       "<div>\n",
       "<style scoped>\n",
       "    .dataframe tbody tr th:only-of-type {\n",
       "        vertical-align: middle;\n",
       "    }\n",
       "\n",
       "    .dataframe tbody tr th {\n",
       "        vertical-align: top;\n",
       "    }\n",
       "\n",
       "    .dataframe thead th {\n",
       "        text-align: right;\n",
       "    }\n",
       "</style>\n",
       "<table border=\"1\" class=\"dataframe\">\n",
       "  <thead>\n",
       "    <tr style=\"text-align: right;\">\n",
       "      <th></th>\n",
       "      <th>datetime</th>\n",
       "      <th>ercot_load</th>\n",
       "    </tr>\n",
       "  </thead>\n",
       "  <tbody>\n",
       "    <tr>\n",
       "      <th>118290</th>\n",
       "      <td>06/30/2022 20:00</td>\n",
       "      <td>14700.132848</td>\n",
       "    </tr>\n",
       "    <tr>\n",
       "      <th>118291</th>\n",
       "      <td>06/30/2022 21:00</td>\n",
       "      <td>14637.633680</td>\n",
       "    </tr>\n",
       "    <tr>\n",
       "      <th>118292</th>\n",
       "      <td>06/30/2022 22:00</td>\n",
       "      <td>14543.743791</td>\n",
       "    </tr>\n",
       "    <tr>\n",
       "      <th>118293</th>\n",
       "      <td>06/30/2022 23:00</td>\n",
       "      <td>14065.386852</td>\n",
       "    </tr>\n",
       "    <tr>\n",
       "      <th>118294</th>\n",
       "      <td>06/30/2022 24:00</td>\n",
       "      <td>13484.378935</td>\n",
       "    </tr>\n",
       "  </tbody>\n",
       "</table>\n",
       "</div>"
      ],
      "text/plain": [
       "                datetime    ercot_load\n",
       "118290  06/30/2022 20:00  14700.132848\n",
       "118291  06/30/2022 21:00  14637.633680\n",
       "118292  06/30/2022 22:00  14543.743791\n",
       "118293  06/30/2022 23:00  14065.386852\n",
       "118294  06/30/2022 24:00  13484.378935"
      ]
     },
     "execution_count": 45,
     "metadata": {},
     "output_type": "execute_result"
    }
   ],
   "source": [
    "df.tail()"
   ]
  },
  {
   "cell_type": "code",
   "execution_count": 46,
   "id": "b25f52f3",
   "metadata": {},
   "outputs": [
    {
     "data": {
      "text/html": [
       "<div>\n",
       "<style scoped>\n",
       "    .dataframe tbody tr th:only-of-type {\n",
       "        vertical-align: middle;\n",
       "    }\n",
       "\n",
       "    .dataframe tbody tr th {\n",
       "        vertical-align: top;\n",
       "    }\n",
       "\n",
       "    .dataframe thead th {\n",
       "        text-align: right;\n",
       "    }\n",
       "</style>\n",
       "<table border=\"1\" class=\"dataframe\">\n",
       "  <thead>\n",
       "    <tr style=\"text-align: right;\">\n",
       "      <th></th>\n",
       "      <th>datetime</th>\n",
       "      <th>ercot_load</th>\n",
       "    </tr>\n",
       "  </thead>\n",
       "  <tbody>\n",
       "    <tr>\n",
       "      <th>70128</th>\n",
       "      <td>01/01/2017 01:00</td>\n",
       "      <td>8791.789509</td>\n",
       "    </tr>\n",
       "    <tr>\n",
       "      <th>70129</th>\n",
       "      <td>01/01/2017 02:00</td>\n",
       "      <td>8569.708419</td>\n",
       "    </tr>\n",
       "    <tr>\n",
       "      <th>70130</th>\n",
       "      <td>01/01/2017 03:00</td>\n",
       "      <td>8326.425638</td>\n",
       "    </tr>\n",
       "    <tr>\n",
       "      <th>70131</th>\n",
       "      <td>01/01/2017 04:00</td>\n",
       "      <td>8137.497400</td>\n",
       "    </tr>\n",
       "    <tr>\n",
       "      <th>70132</th>\n",
       "      <td>01/01/2017 05:00</td>\n",
       "      <td>8011.869581</td>\n",
       "    </tr>\n",
       "    <tr>\n",
       "      <th>...</th>\n",
       "      <td>...</td>\n",
       "      <td>...</td>\n",
       "    </tr>\n",
       "    <tr>\n",
       "      <th>118290</th>\n",
       "      <td>06/30/2022 20:00</td>\n",
       "      <td>14700.132848</td>\n",
       "    </tr>\n",
       "    <tr>\n",
       "      <th>118291</th>\n",
       "      <td>06/30/2022 21:00</td>\n",
       "      <td>14637.633680</td>\n",
       "    </tr>\n",
       "    <tr>\n",
       "      <th>118292</th>\n",
       "      <td>06/30/2022 22:00</td>\n",
       "      <td>14543.743791</td>\n",
       "    </tr>\n",
       "    <tr>\n",
       "      <th>118293</th>\n",
       "      <td>06/30/2022 23:00</td>\n",
       "      <td>14065.386852</td>\n",
       "    </tr>\n",
       "    <tr>\n",
       "      <th>118294</th>\n",
       "      <td>06/30/2022 24:00</td>\n",
       "      <td>13484.378935</td>\n",
       "    </tr>\n",
       "  </tbody>\n",
       "</table>\n",
       "<p>48167 rows × 2 columns</p>\n",
       "</div>"
      ],
      "text/plain": [
       "                datetime    ercot_load\n",
       "70128   01/01/2017 01:00   8791.789509\n",
       "70129   01/01/2017 02:00   8569.708419\n",
       "70130   01/01/2017 03:00   8326.425638\n",
       "70131   01/01/2017 04:00   8137.497400\n",
       "70132   01/01/2017 05:00   8011.869581\n",
       "...                  ...           ...\n",
       "118290  06/30/2022 20:00  14700.132848\n",
       "118291  06/30/2022 21:00  14637.633680\n",
       "118292  06/30/2022 22:00  14543.743791\n",
       "118293  06/30/2022 23:00  14065.386852\n",
       "118294  06/30/2022 24:00  13484.378935\n",
       "\n",
       "[48167 rows x 2 columns]"
      ]
     },
     "execution_count": 46,
     "metadata": {},
     "output_type": "execute_result"
    }
   ],
   "source": [
    "df[~df.datetime.str.startswith('2')]"
   ]
  },
  {
   "cell_type": "code",
   "execution_count": 47,
   "id": "3b456e24",
   "metadata": {},
   "outputs": [
    {
     "data": {
      "text/html": [
       "<div>\n",
       "<style scoped>\n",
       "    .dataframe tbody tr th:only-of-type {\n",
       "        vertical-align: middle;\n",
       "    }\n",
       "\n",
       "    .dataframe tbody tr th {\n",
       "        vertical-align: top;\n",
       "    }\n",
       "\n",
       "    .dataframe thead th {\n",
       "        text-align: right;\n",
       "    }\n",
       "</style>\n",
       "<table border=\"1\" class=\"dataframe\">\n",
       "  <thead>\n",
       "    <tr style=\"text-align: right;\">\n",
       "      <th></th>\n",
       "      <th>datetime</th>\n",
       "      <th>ercot_load</th>\n",
       "    </tr>\n",
       "  </thead>\n",
       "  <tbody>\n",
       "    <tr>\n",
       "      <th>0</th>\n",
       "      <td>2009-01-01 01:00:00.003000</td>\n",
       "      <td>7300.317873</td>\n",
       "    </tr>\n",
       "    <tr>\n",
       "      <th>1</th>\n",
       "      <td>2009-01-01 01:59:59.997000</td>\n",
       "      <td>7174.769899</td>\n",
       "    </tr>\n",
       "    <tr>\n",
       "      <th>2</th>\n",
       "      <td>2009-01-01 03:00:00</td>\n",
       "      <td>7108.488956</td>\n",
       "    </tr>\n",
       "    <tr>\n",
       "      <th>3</th>\n",
       "      <td>2009-01-01 04:00:00.003000</td>\n",
       "      <td>7024.863242</td>\n",
       "    </tr>\n",
       "    <tr>\n",
       "      <th>4</th>\n",
       "      <td>2009-01-01 04:59:59.997000</td>\n",
       "      <td>7049.567942</td>\n",
       "    </tr>\n",
       "    <tr>\n",
       "      <th>5</th>\n",
       "      <td>2009-01-01 06:00:00</td>\n",
       "      <td>7257.599048</td>\n",
       "    </tr>\n",
       "    <tr>\n",
       "      <th>6</th>\n",
       "      <td>2009-01-01 07:00:00.003000</td>\n",
       "      <td>7335.601821</td>\n",
       "    </tr>\n",
       "    <tr>\n",
       "      <th>7</th>\n",
       "      <td>2009-01-01 07:59:59.997000</td>\n",
       "      <td>7359.628591</td>\n",
       "    </tr>\n",
       "    <tr>\n",
       "      <th>8</th>\n",
       "      <td>2009-01-01 09:00:00</td>\n",
       "      <td>7361.144903</td>\n",
       "    </tr>\n",
       "    <tr>\n",
       "      <th>9</th>\n",
       "      <td>2009-01-01 10:00:00.003000</td>\n",
       "      <td>7714.843729</td>\n",
       "    </tr>\n",
       "    <tr>\n",
       "      <th>10</th>\n",
       "      <td>2009-01-01 10:59:59.997000</td>\n",
       "      <td>7989.904995</td>\n",
       "    </tr>\n",
       "    <tr>\n",
       "      <th>11</th>\n",
       "      <td>2009-01-01 12:00:00</td>\n",
       "      <td>8096.268147</td>\n",
       "    </tr>\n",
       "    <tr>\n",
       "      <th>12</th>\n",
       "      <td>2009-01-01 13:00:00.003000</td>\n",
       "      <td>7975.795971</td>\n",
       "    </tr>\n",
       "    <tr>\n",
       "      <th>13</th>\n",
       "      <td>2009-01-01 13:59:59.997000</td>\n",
       "      <td>7757.421429</td>\n",
       "    </tr>\n",
       "    <tr>\n",
       "      <th>14</th>\n",
       "      <td>2009-01-01 15:00:00</td>\n",
       "      <td>7667.644931</td>\n",
       "    </tr>\n",
       "  </tbody>\n",
       "</table>\n",
       "</div>"
      ],
      "text/plain": [
       "                      datetime   ercot_load\n",
       "0   2009-01-01 01:00:00.003000  7300.317873\n",
       "1   2009-01-01 01:59:59.997000  7174.769899\n",
       "2          2009-01-01 03:00:00  7108.488956\n",
       "3   2009-01-01 04:00:00.003000  7024.863242\n",
       "4   2009-01-01 04:59:59.997000  7049.567942\n",
       "5          2009-01-01 06:00:00  7257.599048\n",
       "6   2009-01-01 07:00:00.003000  7335.601821\n",
       "7   2009-01-01 07:59:59.997000  7359.628591\n",
       "8          2009-01-01 09:00:00  7361.144903\n",
       "9   2009-01-01 10:00:00.003000  7714.843729\n",
       "10  2009-01-01 10:59:59.997000  7989.904995\n",
       "11         2009-01-01 12:00:00  8096.268147\n",
       "12  2009-01-01 13:00:00.003000  7975.795971\n",
       "13  2009-01-01 13:59:59.997000  7757.421429\n",
       "14         2009-01-01 15:00:00  7667.644931"
      ]
     },
     "execution_count": 47,
     "metadata": {},
     "output_type": "execute_result"
    }
   ],
   "source": [
    "df.head(15)"
   ]
  },
  {
   "cell_type": "code",
   "execution_count": 48,
   "id": "47ae6631",
   "metadata": {},
   "outputs": [
    {
     "data": {
      "text/plain": [
       "(118295, 2)"
      ]
     },
     "execution_count": 48,
     "metadata": {},
     "output_type": "execute_result"
    }
   ],
   "source": [
    "df.shape"
   ]
  },
  {
   "cell_type": "code",
   "execution_count": 49,
   "id": "8233f031",
   "metadata": {},
   "outputs": [
    {
     "data": {
      "text/plain": [
       "0"
      ]
     },
     "execution_count": 49,
     "metadata": {},
     "output_type": "execute_result"
    }
   ],
   "source": [
    "df.datetime.isna().sum()"
   ]
  },
  {
   "cell_type": "code",
   "execution_count": 50,
   "id": "859fa57f",
   "metadata": {},
   "outputs": [
    {
     "data": {
      "text/plain": [
       "'2009-01-01 01:00:00.003000'"
      ]
     },
     "execution_count": 50,
     "metadata": {},
     "output_type": "execute_result"
    }
   ],
   "source": [
    "df.datetime[0]"
   ]
  },
  {
   "cell_type": "code",
   "execution_count": 51,
   "id": "8506a9f2",
   "metadata": {},
   "outputs": [
    {
     "data": {
      "text/plain": [
       "16    48162\n",
       "26    46752\n",
       "19    23376\n",
       "20        5\n",
       "Name: datetime, dtype: int64"
      ]
     },
     "execution_count": 51,
     "metadata": {},
     "output_type": "execute_result"
    }
   ],
   "source": [
    "df.datetime.apply(len).value_counts()"
   ]
  },
  {
   "cell_type": "code",
   "execution_count": 52,
   "id": "9554766b",
   "metadata": {},
   "outputs": [
    {
     "data": {
      "text/plain": [
       "0         2009-01-01 01:00\n",
       "1         2009-01-01 01:59\n",
       "2         2009-01-01 03:00\n",
       "3         2009-01-01 04:00\n",
       "4         2009-01-01 04:59\n",
       "                ...       \n",
       "118290    06/30/2022 20:00\n",
       "118291    06/30/2022 21:00\n",
       "118292    06/30/2022 22:00\n",
       "118293    06/30/2022 23:00\n",
       "118294    06/30/2022 24:00\n",
       "Name: datetime, Length: 118295, dtype: object"
      ]
     },
     "execution_count": 52,
     "metadata": {},
     "output_type": "execute_result"
    }
   ],
   "source": [
    "df.datetime.str[:16]"
   ]
  },
  {
   "cell_type": "code",
   "execution_count": 53,
   "id": "95a0a87f",
   "metadata": {},
   "outputs": [
    {
     "data": {
      "text/html": [
       "<div>\n",
       "<style scoped>\n",
       "    .dataframe tbody tr th:only-of-type {\n",
       "        vertical-align: middle;\n",
       "    }\n",
       "\n",
       "    .dataframe tbody tr th {\n",
       "        vertical-align: top;\n",
       "    }\n",
       "\n",
       "    .dataframe thead th {\n",
       "        text-align: right;\n",
       "    }\n",
       "</style>\n",
       "<table border=\"1\" class=\"dataframe\">\n",
       "  <thead>\n",
       "    <tr style=\"text-align: right;\">\n",
       "      <th></th>\n",
       "      <th>datetime</th>\n",
       "      <th>ercot_load</th>\n",
       "    </tr>\n",
       "  </thead>\n",
       "  <tbody>\n",
       "    <tr>\n",
       "      <th>0</th>\n",
       "      <td>2009-01-01 01:00</td>\n",
       "      <td>7300.317873</td>\n",
       "    </tr>\n",
       "    <tr>\n",
       "      <th>1</th>\n",
       "      <td>2009-01-01 01:59</td>\n",
       "      <td>7174.769899</td>\n",
       "    </tr>\n",
       "    <tr>\n",
       "      <th>2</th>\n",
       "      <td>2009-01-01 03:00</td>\n",
       "      <td>7108.488956</td>\n",
       "    </tr>\n",
       "  </tbody>\n",
       "</table>\n",
       "</div>"
      ],
      "text/plain": [
       "           datetime   ercot_load\n",
       "0  2009-01-01 01:00  7300.317873\n",
       "1  2009-01-01 01:59  7174.769899\n",
       "2  2009-01-01 03:00  7108.488956"
      ]
     },
     "execution_count": 53,
     "metadata": {},
     "output_type": "execute_result"
    }
   ],
   "source": [
    "# 1. Datetime to string\n",
    "# 2. Pull out first 19 characters\n",
    "df.datetime = df.datetime.str[:16]\n",
    "\n",
    "df.head(3)"
   ]
  },
  {
   "cell_type": "code",
   "execution_count": 54,
   "id": "e38dd79b",
   "metadata": {},
   "outputs": [
    {
     "data": {
      "text/plain": [
       "0         2009-01-01\n",
       "1         2009-01-01\n",
       "2         2009-01-01\n",
       "3         2009-01-01\n",
       "4         2009-01-01\n",
       "             ...    \n",
       "118290    06/30/2022\n",
       "118291    06/30/2022\n",
       "118292    06/30/2022\n",
       "118293    06/30/2022\n",
       "118294    06/30/2022\n",
       "Name: datetime, Length: 118295, dtype: object"
      ]
     },
     "execution_count": 54,
     "metadata": {},
     "output_type": "execute_result"
    }
   ],
   "source": [
    "df.datetime.str[:10]"
   ]
  },
  {
   "cell_type": "code",
   "execution_count": 55,
   "id": "35c63227",
   "metadata": {},
   "outputs": [
    {
     "data": {
      "text/plain": [
       "0         01:00\n",
       "1         01:59\n",
       "2         03:00\n",
       "3         04:00\n",
       "4         04:59\n",
       "          ...  \n",
       "118290    20:00\n",
       "118291    21:00\n",
       "118292    22:00\n",
       "118293    23:00\n",
       "118294    24:00\n",
       "Name: datetime, Length: 118295, dtype: object"
      ]
     },
     "execution_count": 55,
     "metadata": {},
     "output_type": "execute_result"
    }
   ],
   "source": [
    "df.datetime.str[-5:]"
   ]
  },
  {
   "cell_type": "code",
   "execution_count": 56,
   "id": "cfbb760a",
   "metadata": {},
   "outputs": [],
   "source": [
    "# 3. Deconstruct into date and time columns\n",
    "df['date'] = df.datetime.str[:10]\n",
    "df['time'] = df.datetime.str[-5:]"
   ]
  },
  {
   "cell_type": "code",
   "execution_count": 57,
   "id": "d35f8c91",
   "metadata": {},
   "outputs": [
    {
     "data": {
      "text/html": [
       "<div>\n",
       "<style scoped>\n",
       "    .dataframe tbody tr th:only-of-type {\n",
       "        vertical-align: middle;\n",
       "    }\n",
       "\n",
       "    .dataframe tbody tr th {\n",
       "        vertical-align: top;\n",
       "    }\n",
       "\n",
       "    .dataframe thead th {\n",
       "        text-align: right;\n",
       "    }\n",
       "</style>\n",
       "<table border=\"1\" class=\"dataframe\">\n",
       "  <thead>\n",
       "    <tr style=\"text-align: right;\">\n",
       "      <th></th>\n",
       "      <th>datetime</th>\n",
       "      <th>ercot_load</th>\n",
       "      <th>date</th>\n",
       "      <th>time</th>\n",
       "    </tr>\n",
       "  </thead>\n",
       "  <tbody>\n",
       "    <tr>\n",
       "      <th>0</th>\n",
       "      <td>2009-01-01 01:00</td>\n",
       "      <td>7300.317873</td>\n",
       "      <td>2009-01-01</td>\n",
       "      <td>01:00</td>\n",
       "    </tr>\n",
       "    <tr>\n",
       "      <th>1</th>\n",
       "      <td>2009-01-01 01:59</td>\n",
       "      <td>7174.769899</td>\n",
       "      <td>2009-01-01</td>\n",
       "      <td>01:59</td>\n",
       "    </tr>\n",
       "    <tr>\n",
       "      <th>2</th>\n",
       "      <td>2009-01-01 03:00</td>\n",
       "      <td>7108.488956</td>\n",
       "      <td>2009-01-01</td>\n",
       "      <td>03:00</td>\n",
       "    </tr>\n",
       "    <tr>\n",
       "      <th>3</th>\n",
       "      <td>2009-01-01 04:00</td>\n",
       "      <td>7024.863242</td>\n",
       "      <td>2009-01-01</td>\n",
       "      <td>04:00</td>\n",
       "    </tr>\n",
       "    <tr>\n",
       "      <th>4</th>\n",
       "      <td>2009-01-01 04:59</td>\n",
       "      <td>7049.567942</td>\n",
       "      <td>2009-01-01</td>\n",
       "      <td>04:59</td>\n",
       "    </tr>\n",
       "    <tr>\n",
       "      <th>...</th>\n",
       "      <td>...</td>\n",
       "      <td>...</td>\n",
       "      <td>...</td>\n",
       "      <td>...</td>\n",
       "    </tr>\n",
       "    <tr>\n",
       "      <th>118290</th>\n",
       "      <td>06/30/2022 20:00</td>\n",
       "      <td>14700.132848</td>\n",
       "      <td>06/30/2022</td>\n",
       "      <td>20:00</td>\n",
       "    </tr>\n",
       "    <tr>\n",
       "      <th>118291</th>\n",
       "      <td>06/30/2022 21:00</td>\n",
       "      <td>14637.633680</td>\n",
       "      <td>06/30/2022</td>\n",
       "      <td>21:00</td>\n",
       "    </tr>\n",
       "    <tr>\n",
       "      <th>118292</th>\n",
       "      <td>06/30/2022 22:00</td>\n",
       "      <td>14543.743791</td>\n",
       "      <td>06/30/2022</td>\n",
       "      <td>22:00</td>\n",
       "    </tr>\n",
       "    <tr>\n",
       "      <th>118293</th>\n",
       "      <td>06/30/2022 23:00</td>\n",
       "      <td>14065.386852</td>\n",
       "      <td>06/30/2022</td>\n",
       "      <td>23:00</td>\n",
       "    </tr>\n",
       "    <tr>\n",
       "      <th>118294</th>\n",
       "      <td>06/30/2022 24:00</td>\n",
       "      <td>13484.378935</td>\n",
       "      <td>06/30/2022</td>\n",
       "      <td>24:00</td>\n",
       "    </tr>\n",
       "  </tbody>\n",
       "</table>\n",
       "<p>118295 rows × 4 columns</p>\n",
       "</div>"
      ],
      "text/plain": [
       "                datetime    ercot_load        date   time\n",
       "0       2009-01-01 01:00   7300.317873  2009-01-01  01:00\n",
       "1       2009-01-01 01:59   7174.769899  2009-01-01  01:59\n",
       "2       2009-01-01 03:00   7108.488956  2009-01-01  03:00\n",
       "3       2009-01-01 04:00   7024.863242  2009-01-01  04:00\n",
       "4       2009-01-01 04:59   7049.567942  2009-01-01  04:59\n",
       "...                  ...           ...         ...    ...\n",
       "118290  06/30/2022 20:00  14700.132848  06/30/2022  20:00\n",
       "118291  06/30/2022 21:00  14637.633680  06/30/2022  21:00\n",
       "118292  06/30/2022 22:00  14543.743791  06/30/2022  22:00\n",
       "118293  06/30/2022 23:00  14065.386852  06/30/2022  23:00\n",
       "118294  06/30/2022 24:00  13484.378935  06/30/2022  24:00\n",
       "\n",
       "[118295 rows x 4 columns]"
      ]
     },
     "execution_count": 57,
     "metadata": {},
     "output_type": "execute_result"
    }
   ],
   "source": [
    "df"
   ]
  },
  {
   "cell_type": "code",
   "execution_count": 58,
   "id": "63deae91",
   "metadata": {},
   "outputs": [
    {
     "data": {
      "text/plain": [
       "0        2009-01-01\n",
       "1        2009-01-01\n",
       "2        2009-01-01\n",
       "3        2009-01-01\n",
       "4        2009-01-01\n",
       "            ...    \n",
       "118290   2022-06-30\n",
       "118291   2022-06-30\n",
       "118292   2022-06-30\n",
       "118293   2022-06-30\n",
       "118294   2022-06-30\n",
       "Name: date, Length: 118295, dtype: datetime64[ns]"
      ]
     },
     "execution_count": 58,
     "metadata": {},
     "output_type": "execute_result"
    }
   ],
   "source": [
    "pd.to_datetime(df.date)"
   ]
  },
  {
   "cell_type": "code",
   "execution_count": 59,
   "id": "de60693c",
   "metadata": {},
   "outputs": [
    {
     "data": {
      "text/html": [
       "<div>\n",
       "<style scoped>\n",
       "    .dataframe tbody tr th:only-of-type {\n",
       "        vertical-align: middle;\n",
       "    }\n",
       "\n",
       "    .dataframe tbody tr th {\n",
       "        vertical-align: top;\n",
       "    }\n",
       "\n",
       "    .dataframe thead th {\n",
       "        text-align: right;\n",
       "    }\n",
       "</style>\n",
       "<table border=\"1\" class=\"dataframe\">\n",
       "  <thead>\n",
       "    <tr style=\"text-align: right;\">\n",
       "      <th></th>\n",
       "      <th>datetime</th>\n",
       "      <th>ercot_load</th>\n",
       "      <th>date</th>\n",
       "      <th>time</th>\n",
       "    </tr>\n",
       "  </thead>\n",
       "  <tbody>\n",
       "    <tr>\n",
       "      <th>0</th>\n",
       "      <td>2009-01-01 01:00</td>\n",
       "      <td>7300.317873</td>\n",
       "      <td>2009-01-01</td>\n",
       "      <td>01:00</td>\n",
       "    </tr>\n",
       "    <tr>\n",
       "      <th>1</th>\n",
       "      <td>2009-01-01 01:59</td>\n",
       "      <td>7174.769899</td>\n",
       "      <td>2009-01-01</td>\n",
       "      <td>01:59</td>\n",
       "    </tr>\n",
       "    <tr>\n",
       "      <th>2</th>\n",
       "      <td>2009-01-01 03:00</td>\n",
       "      <td>7108.488956</td>\n",
       "      <td>2009-01-01</td>\n",
       "      <td>03:00</td>\n",
       "    </tr>\n",
       "    <tr>\n",
       "      <th>3</th>\n",
       "      <td>2009-01-01 04:00</td>\n",
       "      <td>7024.863242</td>\n",
       "      <td>2009-01-01</td>\n",
       "      <td>04:00</td>\n",
       "    </tr>\n",
       "    <tr>\n",
       "      <th>4</th>\n",
       "      <td>2009-01-01 04:59</td>\n",
       "      <td>7049.567942</td>\n",
       "      <td>2009-01-01</td>\n",
       "      <td>04:59</td>\n",
       "    </tr>\n",
       "    <tr>\n",
       "      <th>...</th>\n",
       "      <td>...</td>\n",
       "      <td>...</td>\n",
       "      <td>...</td>\n",
       "      <td>...</td>\n",
       "    </tr>\n",
       "    <tr>\n",
       "      <th>118290</th>\n",
       "      <td>06/30/2022 20:00</td>\n",
       "      <td>14700.132848</td>\n",
       "      <td>2022-06-30</td>\n",
       "      <td>20:00</td>\n",
       "    </tr>\n",
       "    <tr>\n",
       "      <th>118291</th>\n",
       "      <td>06/30/2022 21:00</td>\n",
       "      <td>14637.633680</td>\n",
       "      <td>2022-06-30</td>\n",
       "      <td>21:00</td>\n",
       "    </tr>\n",
       "    <tr>\n",
       "      <th>118292</th>\n",
       "      <td>06/30/2022 22:00</td>\n",
       "      <td>14543.743791</td>\n",
       "      <td>2022-06-30</td>\n",
       "      <td>22:00</td>\n",
       "    </tr>\n",
       "    <tr>\n",
       "      <th>118293</th>\n",
       "      <td>06/30/2022 23:00</td>\n",
       "      <td>14065.386852</td>\n",
       "      <td>2022-06-30</td>\n",
       "      <td>23:00</td>\n",
       "    </tr>\n",
       "    <tr>\n",
       "      <th>118294</th>\n",
       "      <td>06/30/2022 24:00</td>\n",
       "      <td>13484.378935</td>\n",
       "      <td>2022-06-30</td>\n",
       "      <td>24:00</td>\n",
       "    </tr>\n",
       "  </tbody>\n",
       "</table>\n",
       "<p>118295 rows × 4 columns</p>\n",
       "</div>"
      ],
      "text/plain": [
       "                datetime    ercot_load       date   time\n",
       "0       2009-01-01 01:00   7300.317873 2009-01-01  01:00\n",
       "1       2009-01-01 01:59   7174.769899 2009-01-01  01:59\n",
       "2       2009-01-01 03:00   7108.488956 2009-01-01  03:00\n",
       "3       2009-01-01 04:00   7024.863242 2009-01-01  04:00\n",
       "4       2009-01-01 04:59   7049.567942 2009-01-01  04:59\n",
       "...                  ...           ...        ...    ...\n",
       "118290  06/30/2022 20:00  14700.132848 2022-06-30  20:00\n",
       "118291  06/30/2022 21:00  14637.633680 2022-06-30  21:00\n",
       "118292  06/30/2022 22:00  14543.743791 2022-06-30  22:00\n",
       "118293  06/30/2022 23:00  14065.386852 2022-06-30  23:00\n",
       "118294  06/30/2022 24:00  13484.378935 2022-06-30  24:00\n",
       "\n",
       "[118295 rows x 4 columns]"
      ]
     },
     "execution_count": 59,
     "metadata": {},
     "output_type": "execute_result"
    }
   ],
   "source": [
    "# 4. Convert date column into datetime format\n",
    "df['date'] = pd.to_datetime(df.date)\n",
    "#NOTE: may need to come back here and specify datetime format to store it as\n",
    "# if date addition or similar doesn't work\n",
    "\n",
    "df"
   ]
  },
  {
   "cell_type": "code",
   "execution_count": 60,
   "id": "0f964fd7",
   "metadata": {},
   "outputs": [
    {
     "data": {
      "text/plain": [
       "01    7851\n",
       "10    7851\n",
       "22    7851\n",
       "16    7851\n",
       "13    7851\n",
       "19    7851\n",
       "07    7851\n",
       "04    7851\n",
       "09    4929\n",
       "12    4929\n",
       "15    4929\n",
       "06    4929\n",
       "18    4929\n",
       "21    4929\n",
       "03    4923\n",
       "00    2922\n",
       "02    2012\n",
       "05    2007\n",
       "08    2007\n",
       "11    2007\n",
       "14    2007\n",
       "17    2007\n",
       "20    2007\n",
       "23    2007\n",
       "24    2007\n",
       "Name: time, dtype: int64"
      ]
     },
     "execution_count": 60,
     "metadata": {},
     "output_type": "execute_result"
    }
   ],
   "source": [
    "# 5. Find any time where starts with 24, then for that index, update time to 00 and add one day to to date column\n",
    "df.time.str[:2].value_counts()"
   ]
  },
  {
   "cell_type": "code",
   "execution_count": 61,
   "id": "aba5b9e6",
   "metadata": {},
   "outputs": [
    {
     "data": {
      "text/html": [
       "<div>\n",
       "<style scoped>\n",
       "    .dataframe tbody tr th:only-of-type {\n",
       "        vertical-align: middle;\n",
       "    }\n",
       "\n",
       "    .dataframe tbody tr th {\n",
       "        vertical-align: top;\n",
       "    }\n",
       "\n",
       "    .dataframe thead th {\n",
       "        text-align: right;\n",
       "    }\n",
       "</style>\n",
       "<table border=\"1\" class=\"dataframe\">\n",
       "  <thead>\n",
       "    <tr style=\"text-align: right;\">\n",
       "      <th></th>\n",
       "      <th>datetime</th>\n",
       "      <th>ercot_load</th>\n",
       "      <th>date</th>\n",
       "      <th>time</th>\n",
       "    </tr>\n",
       "  </thead>\n",
       "  <tbody>\n",
       "    <tr>\n",
       "      <th>70151</th>\n",
       "      <td>01/01/2017 24:00</td>\n",
       "      <td>9287.697168</td>\n",
       "      <td>2017-01-01</td>\n",
       "      <td>24:00</td>\n",
       "    </tr>\n",
       "    <tr>\n",
       "      <th>70175</th>\n",
       "      <td>01/02/2017 24:00</td>\n",
       "      <td>8935.488453</td>\n",
       "      <td>2017-01-02</td>\n",
       "      <td>24:00</td>\n",
       "    </tr>\n",
       "    <tr>\n",
       "      <th>70199</th>\n",
       "      <td>01/03/2017 24:00</td>\n",
       "      <td>8916.940782</td>\n",
       "      <td>2017-01-03</td>\n",
       "      <td>24:00</td>\n",
       "    </tr>\n",
       "    <tr>\n",
       "      <th>70223</th>\n",
       "      <td>01/04/2017 24:00</td>\n",
       "      <td>9784.496622</td>\n",
       "      <td>2017-01-04</td>\n",
       "      <td>24:00</td>\n",
       "    </tr>\n",
       "    <tr>\n",
       "      <th>70247</th>\n",
       "      <td>01/05/2017 24:00</td>\n",
       "      <td>9959.715620</td>\n",
       "      <td>2017-01-05</td>\n",
       "      <td>24:00</td>\n",
       "    </tr>\n",
       "    <tr>\n",
       "      <th>...</th>\n",
       "      <td>...</td>\n",
       "      <td>...</td>\n",
       "      <td>...</td>\n",
       "      <td>...</td>\n",
       "    </tr>\n",
       "    <tr>\n",
       "      <th>118198</th>\n",
       "      <td>06/26/2022 24:00</td>\n",
       "      <td>16630.511189</td>\n",
       "      <td>2022-06-26</td>\n",
       "      <td>24:00</td>\n",
       "    </tr>\n",
       "    <tr>\n",
       "      <th>118222</th>\n",
       "      <td>06/27/2022 24:00</td>\n",
       "      <td>13866.196748</td>\n",
       "      <td>2022-06-27</td>\n",
       "      <td>24:00</td>\n",
       "    </tr>\n",
       "    <tr>\n",
       "      <th>118246</th>\n",
       "      <td>06/28/2022 24:00</td>\n",
       "      <td>14675.349674</td>\n",
       "      <td>2022-06-28</td>\n",
       "      <td>24:00</td>\n",
       "    </tr>\n",
       "    <tr>\n",
       "      <th>118270</th>\n",
       "      <td>06/29/2022 24:00</td>\n",
       "      <td>14877.471376</td>\n",
       "      <td>2022-06-29</td>\n",
       "      <td>24:00</td>\n",
       "    </tr>\n",
       "    <tr>\n",
       "      <th>118294</th>\n",
       "      <td>06/30/2022 24:00</td>\n",
       "      <td>13484.378935</td>\n",
       "      <td>2022-06-30</td>\n",
       "      <td>24:00</td>\n",
       "    </tr>\n",
       "  </tbody>\n",
       "</table>\n",
       "<p>2007 rows × 4 columns</p>\n",
       "</div>"
      ],
      "text/plain": [
       "                datetime    ercot_load       date   time\n",
       "70151   01/01/2017 24:00   9287.697168 2017-01-01  24:00\n",
       "70175   01/02/2017 24:00   8935.488453 2017-01-02  24:00\n",
       "70199   01/03/2017 24:00   8916.940782 2017-01-03  24:00\n",
       "70223   01/04/2017 24:00   9784.496622 2017-01-04  24:00\n",
       "70247   01/05/2017 24:00   9959.715620 2017-01-05  24:00\n",
       "...                  ...           ...        ...    ...\n",
       "118198  06/26/2022 24:00  16630.511189 2022-06-26  24:00\n",
       "118222  06/27/2022 24:00  13866.196748 2022-06-27  24:00\n",
       "118246  06/28/2022 24:00  14675.349674 2022-06-28  24:00\n",
       "118270  06/29/2022 24:00  14877.471376 2022-06-29  24:00\n",
       "118294  06/30/2022 24:00  13484.378935 2022-06-30  24:00\n",
       "\n",
       "[2007 rows x 4 columns]"
      ]
     },
     "execution_count": 61,
     "metadata": {},
     "output_type": "execute_result"
    }
   ],
   "source": [
    "df[df.time.str.startswith('24')]"
   ]
  },
  {
   "cell_type": "code",
   "execution_count": 62,
   "id": "e8566355",
   "metadata": {},
   "outputs": [
    {
     "data": {
      "text/html": [
       "<div>\n",
       "<style scoped>\n",
       "    .dataframe tbody tr th:only-of-type {\n",
       "        vertical-align: middle;\n",
       "    }\n",
       "\n",
       "    .dataframe tbody tr th {\n",
       "        vertical-align: top;\n",
       "    }\n",
       "\n",
       "    .dataframe thead th {\n",
       "        text-align: right;\n",
       "    }\n",
       "</style>\n",
       "<table border=\"1\" class=\"dataframe\">\n",
       "  <thead>\n",
       "    <tr style=\"text-align: right;\">\n",
       "      <th></th>\n",
       "      <th>datetime</th>\n",
       "      <th>ercot_load</th>\n",
       "      <th>date</th>\n",
       "      <th>time</th>\n",
       "    </tr>\n",
       "  </thead>\n",
       "  <tbody>\n",
       "    <tr>\n",
       "      <th>61389</th>\n",
       "      <td>2016-01-02 22:00</td>\n",
       "      <td>10445.642738</td>\n",
       "      <td>2016-01-02</td>\n",
       "      <td>22:00</td>\n",
       "    </tr>\n",
       "    <tr>\n",
       "      <th>61390</th>\n",
       "      <td>2016-01-02 22:59</td>\n",
       "      <td>10095.253700</td>\n",
       "      <td>2016-01-02</td>\n",
       "      <td>22:59</td>\n",
       "    </tr>\n",
       "    <tr>\n",
       "      <th>61391</th>\n",
       "      <td>2016-01-03 00:00</td>\n",
       "      <td>9695.159800</td>\n",
       "      <td>2016-01-03</td>\n",
       "      <td>00:00</td>\n",
       "    </tr>\n",
       "    <tr>\n",
       "      <th>61392</th>\n",
       "      <td>2016-01-03 01:00</td>\n",
       "      <td>9316.843422</td>\n",
       "      <td>2016-01-03</td>\n",
       "      <td>01:00</td>\n",
       "    </tr>\n",
       "    <tr>\n",
       "      <th>61393</th>\n",
       "      <td>2016-01-03 01:59</td>\n",
       "      <td>9091.157271</td>\n",
       "      <td>2016-01-03</td>\n",
       "      <td>01:59</td>\n",
       "    </tr>\n",
       "  </tbody>\n",
       "</table>\n",
       "</div>"
      ],
      "text/plain": [
       "               datetime    ercot_load       date   time\n",
       "61389  2016-01-02 22:00  10445.642738 2016-01-02  22:00\n",
       "61390  2016-01-02 22:59  10095.253700 2016-01-02  22:59\n",
       "61391  2016-01-03 00:00   9695.159800 2016-01-03  00:00\n",
       "61392  2016-01-03 01:00   9316.843422 2016-01-03  01:00\n",
       "61393  2016-01-03 01:59   9091.157271 2016-01-03  01:59"
      ]
     },
     "execution_count": 62,
     "metadata": {},
     "output_type": "execute_result"
    }
   ],
   "source": [
    "df.loc[61389:61393]"
   ]
  },
  {
   "cell_type": "code",
   "execution_count": 63,
   "id": "8afe4f53",
   "metadata": {},
   "outputs": [
    {
     "data": {
      "text/html": [
       "<div>\n",
       "<style scoped>\n",
       "    .dataframe tbody tr th:only-of-type {\n",
       "        vertical-align: middle;\n",
       "    }\n",
       "\n",
       "    .dataframe tbody tr th {\n",
       "        vertical-align: top;\n",
       "    }\n",
       "\n",
       "    .dataframe thead th {\n",
       "        text-align: right;\n",
       "    }\n",
       "</style>\n",
       "<table border=\"1\" class=\"dataframe\">\n",
       "  <thead>\n",
       "    <tr style=\"text-align: right;\">\n",
       "      <th></th>\n",
       "      <th>datetime</th>\n",
       "      <th>ercot_load</th>\n",
       "      <th>date</th>\n",
       "      <th>time</th>\n",
       "    </tr>\n",
       "  </thead>\n",
       "  <tbody>\n",
       "    <tr>\n",
       "      <th>109436</th>\n",
       "      <td>06/26/2021 22:00</td>\n",
       "      <td>16173.913328</td>\n",
       "      <td>2021-06-26</td>\n",
       "      <td>22:00</td>\n",
       "    </tr>\n",
       "    <tr>\n",
       "      <th>109437</th>\n",
       "      <td>06/26/2021 23:00</td>\n",
       "      <td>15537.893378</td>\n",
       "      <td>2021-06-26</td>\n",
       "      <td>23:00</td>\n",
       "    </tr>\n",
       "    <tr>\n",
       "      <th>109438</th>\n",
       "      <td>06/26/2021 24:00</td>\n",
       "      <td>14816.228809</td>\n",
       "      <td>2021-06-26</td>\n",
       "      <td>24:00</td>\n",
       "    </tr>\n",
       "    <tr>\n",
       "      <th>109439</th>\n",
       "      <td>06/27/2021 01:00</td>\n",
       "      <td>14102.087483</td>\n",
       "      <td>2021-06-27</td>\n",
       "      <td>01:00</td>\n",
       "    </tr>\n",
       "    <tr>\n",
       "      <th>109440</th>\n",
       "      <td>06/27/2021 02:00</td>\n",
       "      <td>13468.970119</td>\n",
       "      <td>2021-06-27</td>\n",
       "      <td>02:00</td>\n",
       "    </tr>\n",
       "  </tbody>\n",
       "</table>\n",
       "</div>"
      ],
      "text/plain": [
       "                datetime    ercot_load       date   time\n",
       "109436  06/26/2021 22:00  16173.913328 2021-06-26  22:00\n",
       "109437  06/26/2021 23:00  15537.893378 2021-06-26  23:00\n",
       "109438  06/26/2021 24:00  14816.228809 2021-06-26  24:00\n",
       "109439  06/27/2021 01:00  14102.087483 2021-06-27  01:00\n",
       "109440  06/27/2021 02:00  13468.970119 2021-06-27  02:00"
      ]
     },
     "execution_count": 63,
     "metadata": {},
     "output_type": "execute_result"
    }
   ],
   "source": [
    "df.loc[109436:109440]"
   ]
  },
  {
   "cell_type": "code",
   "execution_count": 64,
   "id": "348ff4d0",
   "metadata": {},
   "outputs": [],
   "source": [
    "# 5. Find any time where starts with 24, then for that index, add one day to to date column and update time to 00 \n",
    "\n",
    "    "
   ]
  },
  {
   "cell_type": "code",
   "execution_count": 65,
   "id": "c86445ed",
   "metadata": {},
   "outputs": [],
   "source": [
    "df.loc[df.time.str.startswith('24'),'date'] = df.date + datetime.timedelta(days=1)"
   ]
  },
  {
   "cell_type": "code",
   "execution_count": 66,
   "id": "4db53353",
   "metadata": {},
   "outputs": [
    {
     "data": {
      "text/html": [
       "<div>\n",
       "<style scoped>\n",
       "    .dataframe tbody tr th:only-of-type {\n",
       "        vertical-align: middle;\n",
       "    }\n",
       "\n",
       "    .dataframe tbody tr th {\n",
       "        vertical-align: top;\n",
       "    }\n",
       "\n",
       "    .dataframe thead th {\n",
       "        text-align: right;\n",
       "    }\n",
       "</style>\n",
       "<table border=\"1\" class=\"dataframe\">\n",
       "  <thead>\n",
       "    <tr style=\"text-align: right;\">\n",
       "      <th></th>\n",
       "      <th>datetime</th>\n",
       "      <th>ercot_load</th>\n",
       "      <th>date</th>\n",
       "      <th>time</th>\n",
       "    </tr>\n",
       "  </thead>\n",
       "  <tbody>\n",
       "    <tr>\n",
       "      <th>61389</th>\n",
       "      <td>2016-01-02 22:00</td>\n",
       "      <td>10445.642738</td>\n",
       "      <td>2016-01-02</td>\n",
       "      <td>22:00</td>\n",
       "    </tr>\n",
       "    <tr>\n",
       "      <th>61390</th>\n",
       "      <td>2016-01-02 22:59</td>\n",
       "      <td>10095.253700</td>\n",
       "      <td>2016-01-02</td>\n",
       "      <td>22:59</td>\n",
       "    </tr>\n",
       "    <tr>\n",
       "      <th>61391</th>\n",
       "      <td>2016-01-03 00:00</td>\n",
       "      <td>9695.159800</td>\n",
       "      <td>2016-01-03</td>\n",
       "      <td>00:00</td>\n",
       "    </tr>\n",
       "    <tr>\n",
       "      <th>61392</th>\n",
       "      <td>2016-01-03 01:00</td>\n",
       "      <td>9316.843422</td>\n",
       "      <td>2016-01-03</td>\n",
       "      <td>01:00</td>\n",
       "    </tr>\n",
       "    <tr>\n",
       "      <th>61393</th>\n",
       "      <td>2016-01-03 01:59</td>\n",
       "      <td>9091.157271</td>\n",
       "      <td>2016-01-03</td>\n",
       "      <td>01:59</td>\n",
       "    </tr>\n",
       "  </tbody>\n",
       "</table>\n",
       "</div>"
      ],
      "text/plain": [
       "               datetime    ercot_load       date   time\n",
       "61389  2016-01-02 22:00  10445.642738 2016-01-02  22:00\n",
       "61390  2016-01-02 22:59  10095.253700 2016-01-02  22:59\n",
       "61391  2016-01-03 00:00   9695.159800 2016-01-03  00:00\n",
       "61392  2016-01-03 01:00   9316.843422 2016-01-03  01:00\n",
       "61393  2016-01-03 01:59   9091.157271 2016-01-03  01:59"
      ]
     },
     "execution_count": 66,
     "metadata": {},
     "output_type": "execute_result"
    }
   ],
   "source": [
    "df.loc[61389:61393]"
   ]
  },
  {
   "cell_type": "code",
   "execution_count": 67,
   "id": "8e6f0307",
   "metadata": {},
   "outputs": [
    {
     "data": {
      "text/html": [
       "<div>\n",
       "<style scoped>\n",
       "    .dataframe tbody tr th:only-of-type {\n",
       "        vertical-align: middle;\n",
       "    }\n",
       "\n",
       "    .dataframe tbody tr th {\n",
       "        vertical-align: top;\n",
       "    }\n",
       "\n",
       "    .dataframe thead th {\n",
       "        text-align: right;\n",
       "    }\n",
       "</style>\n",
       "<table border=\"1\" class=\"dataframe\">\n",
       "  <thead>\n",
       "    <tr style=\"text-align: right;\">\n",
       "      <th></th>\n",
       "      <th>datetime</th>\n",
       "      <th>ercot_load</th>\n",
       "      <th>date</th>\n",
       "      <th>time</th>\n",
       "    </tr>\n",
       "  </thead>\n",
       "  <tbody>\n",
       "    <tr>\n",
       "      <th>109436</th>\n",
       "      <td>06/26/2021 22:00</td>\n",
       "      <td>16173.913328</td>\n",
       "      <td>2021-06-26</td>\n",
       "      <td>22:00</td>\n",
       "    </tr>\n",
       "    <tr>\n",
       "      <th>109437</th>\n",
       "      <td>06/26/2021 23:00</td>\n",
       "      <td>15537.893378</td>\n",
       "      <td>2021-06-26</td>\n",
       "      <td>23:00</td>\n",
       "    </tr>\n",
       "    <tr>\n",
       "      <th>109438</th>\n",
       "      <td>06/26/2021 24:00</td>\n",
       "      <td>14816.228809</td>\n",
       "      <td>2021-06-27</td>\n",
       "      <td>24:00</td>\n",
       "    </tr>\n",
       "    <tr>\n",
       "      <th>109439</th>\n",
       "      <td>06/27/2021 01:00</td>\n",
       "      <td>14102.087483</td>\n",
       "      <td>2021-06-27</td>\n",
       "      <td>01:00</td>\n",
       "    </tr>\n",
       "    <tr>\n",
       "      <th>109440</th>\n",
       "      <td>06/27/2021 02:00</td>\n",
       "      <td>13468.970119</td>\n",
       "      <td>2021-06-27</td>\n",
       "      <td>02:00</td>\n",
       "    </tr>\n",
       "  </tbody>\n",
       "</table>\n",
       "</div>"
      ],
      "text/plain": [
       "                datetime    ercot_load       date   time\n",
       "109436  06/26/2021 22:00  16173.913328 2021-06-26  22:00\n",
       "109437  06/26/2021 23:00  15537.893378 2021-06-26  23:00\n",
       "109438  06/26/2021 24:00  14816.228809 2021-06-27  24:00\n",
       "109439  06/27/2021 01:00  14102.087483 2021-06-27  01:00\n",
       "109440  06/27/2021 02:00  13468.970119 2021-06-27  02:00"
      ]
     },
     "execution_count": 67,
     "metadata": {},
     "output_type": "execute_result"
    }
   ],
   "source": [
    "df.loc[109436:109440]"
   ]
  },
  {
   "cell_type": "code",
   "execution_count": 68,
   "id": "45313014",
   "metadata": {},
   "outputs": [
    {
     "data": {
      "text/plain": [
       "'24:00'"
      ]
     },
     "execution_count": 68,
     "metadata": {},
     "output_type": "execute_result"
    }
   ],
   "source": [
    "df.loc[109438,'time']"
   ]
  },
  {
   "cell_type": "code",
   "execution_count": 69,
   "id": "b0fa9d58",
   "metadata": {},
   "outputs": [
    {
     "data": {
      "text/plain": [
       "'00:00'"
      ]
     },
     "execution_count": 69,
     "metadata": {},
     "output_type": "execute_result"
    }
   ],
   "source": [
    "re.sub(r'24:','00:',df.loc[109438,'time'])"
   ]
  },
  {
   "cell_type": "code",
   "execution_count": 70,
   "id": "9259ff5d",
   "metadata": {},
   "outputs": [
    {
     "data": {
      "text/plain": [
       "0         01:00\n",
       "1         01:59\n",
       "2         03:00\n",
       "3         04:00\n",
       "4         04:59\n",
       "          ...  \n",
       "118290    20:00\n",
       "118291    21:00\n",
       "118292    22:00\n",
       "118293    23:00\n",
       "118294    00:00\n",
       "Name: time, Length: 118295, dtype: object"
      ]
     },
     "execution_count": 70,
     "metadata": {},
     "output_type": "execute_result"
    }
   ],
   "source": [
    "df.time.apply(lambda x: re.sub(r'24:','00:',x))"
   ]
  },
  {
   "cell_type": "code",
   "execution_count": 71,
   "id": "784f59d5",
   "metadata": {},
   "outputs": [],
   "source": [
    "df.time = df.time.apply(lambda x: re.sub(r'24:','00:',x))"
   ]
  },
  {
   "cell_type": "code",
   "execution_count": 72,
   "id": "dfaa72e0",
   "metadata": {},
   "outputs": [
    {
     "data": {
      "text/html": [
       "<div>\n",
       "<style scoped>\n",
       "    .dataframe tbody tr th:only-of-type {\n",
       "        vertical-align: middle;\n",
       "    }\n",
       "\n",
       "    .dataframe tbody tr th {\n",
       "        vertical-align: top;\n",
       "    }\n",
       "\n",
       "    .dataframe thead th {\n",
       "        text-align: right;\n",
       "    }\n",
       "</style>\n",
       "<table border=\"1\" class=\"dataframe\">\n",
       "  <thead>\n",
       "    <tr style=\"text-align: right;\">\n",
       "      <th></th>\n",
       "      <th>datetime</th>\n",
       "      <th>ercot_load</th>\n",
       "      <th>date</th>\n",
       "      <th>time</th>\n",
       "    </tr>\n",
       "  </thead>\n",
       "  <tbody>\n",
       "    <tr>\n",
       "      <th>61389</th>\n",
       "      <td>2016-01-02 22:00</td>\n",
       "      <td>10445.642738</td>\n",
       "      <td>2016-01-02</td>\n",
       "      <td>22:00</td>\n",
       "    </tr>\n",
       "    <tr>\n",
       "      <th>61390</th>\n",
       "      <td>2016-01-02 22:59</td>\n",
       "      <td>10095.253700</td>\n",
       "      <td>2016-01-02</td>\n",
       "      <td>22:59</td>\n",
       "    </tr>\n",
       "    <tr>\n",
       "      <th>61391</th>\n",
       "      <td>2016-01-03 00:00</td>\n",
       "      <td>9695.159800</td>\n",
       "      <td>2016-01-03</td>\n",
       "      <td>00:00</td>\n",
       "    </tr>\n",
       "    <tr>\n",
       "      <th>61392</th>\n",
       "      <td>2016-01-03 01:00</td>\n",
       "      <td>9316.843422</td>\n",
       "      <td>2016-01-03</td>\n",
       "      <td>01:00</td>\n",
       "    </tr>\n",
       "    <tr>\n",
       "      <th>61393</th>\n",
       "      <td>2016-01-03 01:59</td>\n",
       "      <td>9091.157271</td>\n",
       "      <td>2016-01-03</td>\n",
       "      <td>01:59</td>\n",
       "    </tr>\n",
       "  </tbody>\n",
       "</table>\n",
       "</div>"
      ],
      "text/plain": [
       "               datetime    ercot_load       date   time\n",
       "61389  2016-01-02 22:00  10445.642738 2016-01-02  22:00\n",
       "61390  2016-01-02 22:59  10095.253700 2016-01-02  22:59\n",
       "61391  2016-01-03 00:00   9695.159800 2016-01-03  00:00\n",
       "61392  2016-01-03 01:00   9316.843422 2016-01-03  01:00\n",
       "61393  2016-01-03 01:59   9091.157271 2016-01-03  01:59"
      ]
     },
     "execution_count": 72,
     "metadata": {},
     "output_type": "execute_result"
    }
   ],
   "source": [
    "df.loc[61389:61393]"
   ]
  },
  {
   "cell_type": "code",
   "execution_count": 73,
   "id": "4d87b92c",
   "metadata": {},
   "outputs": [
    {
     "data": {
      "text/html": [
       "<div>\n",
       "<style scoped>\n",
       "    .dataframe tbody tr th:only-of-type {\n",
       "        vertical-align: middle;\n",
       "    }\n",
       "\n",
       "    .dataframe tbody tr th {\n",
       "        vertical-align: top;\n",
       "    }\n",
       "\n",
       "    .dataframe thead th {\n",
       "        text-align: right;\n",
       "    }\n",
       "</style>\n",
       "<table border=\"1\" class=\"dataframe\">\n",
       "  <thead>\n",
       "    <tr style=\"text-align: right;\">\n",
       "      <th></th>\n",
       "      <th>datetime</th>\n",
       "      <th>ercot_load</th>\n",
       "      <th>date</th>\n",
       "      <th>time</th>\n",
       "    </tr>\n",
       "  </thead>\n",
       "  <tbody>\n",
       "    <tr>\n",
       "      <th>109436</th>\n",
       "      <td>06/26/2021 22:00</td>\n",
       "      <td>16173.913328</td>\n",
       "      <td>2021-06-26</td>\n",
       "      <td>22:00</td>\n",
       "    </tr>\n",
       "    <tr>\n",
       "      <th>109437</th>\n",
       "      <td>06/26/2021 23:00</td>\n",
       "      <td>15537.893378</td>\n",
       "      <td>2021-06-26</td>\n",
       "      <td>23:00</td>\n",
       "    </tr>\n",
       "    <tr>\n",
       "      <th>109438</th>\n",
       "      <td>06/26/2021 24:00</td>\n",
       "      <td>14816.228809</td>\n",
       "      <td>2021-06-27</td>\n",
       "      <td>00:00</td>\n",
       "    </tr>\n",
       "    <tr>\n",
       "      <th>109439</th>\n",
       "      <td>06/27/2021 01:00</td>\n",
       "      <td>14102.087483</td>\n",
       "      <td>2021-06-27</td>\n",
       "      <td>01:00</td>\n",
       "    </tr>\n",
       "    <tr>\n",
       "      <th>109440</th>\n",
       "      <td>06/27/2021 02:00</td>\n",
       "      <td>13468.970119</td>\n",
       "      <td>2021-06-27</td>\n",
       "      <td>02:00</td>\n",
       "    </tr>\n",
       "  </tbody>\n",
       "</table>\n",
       "</div>"
      ],
      "text/plain": [
       "                datetime    ercot_load       date   time\n",
       "109436  06/26/2021 22:00  16173.913328 2021-06-26  22:00\n",
       "109437  06/26/2021 23:00  15537.893378 2021-06-26  23:00\n",
       "109438  06/26/2021 24:00  14816.228809 2021-06-27  00:00\n",
       "109439  06/27/2021 01:00  14102.087483 2021-06-27  01:00\n",
       "109440  06/27/2021 02:00  13468.970119 2021-06-27  02:00"
      ]
     },
     "execution_count": 73,
     "metadata": {},
     "output_type": "execute_result"
    }
   ],
   "source": [
    "df.loc[109436:109440]"
   ]
  },
  {
   "cell_type": "code",
   "execution_count": 74,
   "id": "23bdf500",
   "metadata": {},
   "outputs": [
    {
     "data": {
      "text/plain": [
       "0         2009-01-01\n",
       "1         2009-01-01\n",
       "2         2009-01-01\n",
       "3         2009-01-01\n",
       "4         2009-01-01\n",
       "             ...    \n",
       "118290    2022-06-30\n",
       "118291    2022-06-30\n",
       "118292    2022-06-30\n",
       "118293    2022-06-30\n",
       "118294    2022-07-01\n",
       "Name: date, Length: 118295, dtype: object"
      ]
     },
     "execution_count": 74,
     "metadata": {},
     "output_type": "execute_result"
    }
   ],
   "source": [
    "df.date.astype(str)"
   ]
  },
  {
   "cell_type": "code",
   "execution_count": 75,
   "id": "9d86d3c1",
   "metadata": {},
   "outputs": [
    {
     "data": {
      "text/html": [
       "<div>\n",
       "<style scoped>\n",
       "    .dataframe tbody tr th:only-of-type {\n",
       "        vertical-align: middle;\n",
       "    }\n",
       "\n",
       "    .dataframe tbody tr th {\n",
       "        vertical-align: top;\n",
       "    }\n",
       "\n",
       "    .dataframe thead th {\n",
       "        text-align: right;\n",
       "    }\n",
       "</style>\n",
       "<table border=\"1\" class=\"dataframe\">\n",
       "  <thead>\n",
       "    <tr style=\"text-align: right;\">\n",
       "      <th></th>\n",
       "      <th>datetime</th>\n",
       "      <th>ercot_load</th>\n",
       "      <th>date</th>\n",
       "      <th>time</th>\n",
       "      <th>new_datetime</th>\n",
       "    </tr>\n",
       "  </thead>\n",
       "  <tbody>\n",
       "    <tr>\n",
       "      <th>0</th>\n",
       "      <td>2009-01-01 01:00</td>\n",
       "      <td>7300.317873</td>\n",
       "      <td>2009-01-01</td>\n",
       "      <td>01:00</td>\n",
       "      <td>2009-01-01 01:00</td>\n",
       "    </tr>\n",
       "    <tr>\n",
       "      <th>1</th>\n",
       "      <td>2009-01-01 01:59</td>\n",
       "      <td>7174.769899</td>\n",
       "      <td>2009-01-01</td>\n",
       "      <td>01:59</td>\n",
       "      <td>2009-01-01 01:59</td>\n",
       "    </tr>\n",
       "    <tr>\n",
       "      <th>2</th>\n",
       "      <td>2009-01-01 03:00</td>\n",
       "      <td>7108.488956</td>\n",
       "      <td>2009-01-01</td>\n",
       "      <td>03:00</td>\n",
       "      <td>2009-01-01 03:00</td>\n",
       "    </tr>\n",
       "    <tr>\n",
       "      <th>3</th>\n",
       "      <td>2009-01-01 04:00</td>\n",
       "      <td>7024.863242</td>\n",
       "      <td>2009-01-01</td>\n",
       "      <td>04:00</td>\n",
       "      <td>2009-01-01 04:00</td>\n",
       "    </tr>\n",
       "    <tr>\n",
       "      <th>4</th>\n",
       "      <td>2009-01-01 04:59</td>\n",
       "      <td>7049.567942</td>\n",
       "      <td>2009-01-01</td>\n",
       "      <td>04:59</td>\n",
       "      <td>2009-01-01 04:59</td>\n",
       "    </tr>\n",
       "    <tr>\n",
       "      <th>...</th>\n",
       "      <td>...</td>\n",
       "      <td>...</td>\n",
       "      <td>...</td>\n",
       "      <td>...</td>\n",
       "      <td>...</td>\n",
       "    </tr>\n",
       "    <tr>\n",
       "      <th>118290</th>\n",
       "      <td>06/30/2022 20:00</td>\n",
       "      <td>14700.132848</td>\n",
       "      <td>2022-06-30</td>\n",
       "      <td>20:00</td>\n",
       "      <td>2022-06-30 20:00</td>\n",
       "    </tr>\n",
       "    <tr>\n",
       "      <th>118291</th>\n",
       "      <td>06/30/2022 21:00</td>\n",
       "      <td>14637.633680</td>\n",
       "      <td>2022-06-30</td>\n",
       "      <td>21:00</td>\n",
       "      <td>2022-06-30 21:00</td>\n",
       "    </tr>\n",
       "    <tr>\n",
       "      <th>118292</th>\n",
       "      <td>06/30/2022 22:00</td>\n",
       "      <td>14543.743791</td>\n",
       "      <td>2022-06-30</td>\n",
       "      <td>22:00</td>\n",
       "      <td>2022-06-30 22:00</td>\n",
       "    </tr>\n",
       "    <tr>\n",
       "      <th>118293</th>\n",
       "      <td>06/30/2022 23:00</td>\n",
       "      <td>14065.386852</td>\n",
       "      <td>2022-06-30</td>\n",
       "      <td>23:00</td>\n",
       "      <td>2022-06-30 23:00</td>\n",
       "    </tr>\n",
       "    <tr>\n",
       "      <th>118294</th>\n",
       "      <td>06/30/2022 24:00</td>\n",
       "      <td>13484.378935</td>\n",
       "      <td>2022-07-01</td>\n",
       "      <td>00:00</td>\n",
       "      <td>2022-07-01 00:00</td>\n",
       "    </tr>\n",
       "  </tbody>\n",
       "</table>\n",
       "<p>118295 rows × 5 columns</p>\n",
       "</div>"
      ],
      "text/plain": [
       "                datetime    ercot_load       date   time      new_datetime\n",
       "0       2009-01-01 01:00   7300.317873 2009-01-01  01:00  2009-01-01 01:00\n",
       "1       2009-01-01 01:59   7174.769899 2009-01-01  01:59  2009-01-01 01:59\n",
       "2       2009-01-01 03:00   7108.488956 2009-01-01  03:00  2009-01-01 03:00\n",
       "3       2009-01-01 04:00   7024.863242 2009-01-01  04:00  2009-01-01 04:00\n",
       "4       2009-01-01 04:59   7049.567942 2009-01-01  04:59  2009-01-01 04:59\n",
       "...                  ...           ...        ...    ...               ...\n",
       "118290  06/30/2022 20:00  14700.132848 2022-06-30  20:00  2022-06-30 20:00\n",
       "118291  06/30/2022 21:00  14637.633680 2022-06-30  21:00  2022-06-30 21:00\n",
       "118292  06/30/2022 22:00  14543.743791 2022-06-30  22:00  2022-06-30 22:00\n",
       "118293  06/30/2022 23:00  14065.386852 2022-06-30  23:00  2022-06-30 23:00\n",
       "118294  06/30/2022 24:00  13484.378935 2022-07-01  00:00  2022-07-01 00:00\n",
       "\n",
       "[118295 rows x 5 columns]"
      ]
     },
     "execution_count": 75,
     "metadata": {},
     "output_type": "execute_result"
    }
   ],
   "source": [
    "# 6. Check indices where known issue\n",
    "df['new_datetime'] = df.date.astype(str) + ' ' + df.time\n",
    "\n",
    "df"
   ]
  },
  {
   "cell_type": "code",
   "execution_count": 76,
   "id": "d477fc7b",
   "metadata": {},
   "outputs": [
    {
     "data": {
      "text/html": [
       "<div>\n",
       "<style scoped>\n",
       "    .dataframe tbody tr th:only-of-type {\n",
       "        vertical-align: middle;\n",
       "    }\n",
       "\n",
       "    .dataframe tbody tr th {\n",
       "        vertical-align: top;\n",
       "    }\n",
       "\n",
       "    .dataframe thead th {\n",
       "        text-align: right;\n",
       "    }\n",
       "</style>\n",
       "<table border=\"1\" class=\"dataframe\">\n",
       "  <thead>\n",
       "    <tr style=\"text-align: right;\">\n",
       "      <th></th>\n",
       "      <th>datetime</th>\n",
       "      <th>ercot_load</th>\n",
       "      <th>date</th>\n",
       "      <th>time</th>\n",
       "      <th>new_datetime</th>\n",
       "    </tr>\n",
       "  </thead>\n",
       "  <tbody>\n",
       "    <tr>\n",
       "      <th>71807</th>\n",
       "      <td>03/11/2017 24:00</td>\n",
       "      <td>9120.385718</td>\n",
       "      <td>2017-03-12</td>\n",
       "      <td>00:00</td>\n",
       "      <td>2017-03-12 00:00</td>\n",
       "    </tr>\n",
       "    <tr>\n",
       "      <th>71808</th>\n",
       "      <td>03/12/2017 01:00</td>\n",
       "      <td>8579.644600</td>\n",
       "      <td>2017-03-12</td>\n",
       "      <td>01:00</td>\n",
       "      <td>2017-03-12 01:00</td>\n",
       "    </tr>\n",
       "    <tr>\n",
       "      <th>71809</th>\n",
       "      <td>03/12/2017 02:00</td>\n",
       "      <td>8251.748166</td>\n",
       "      <td>2017-03-12</td>\n",
       "      <td>02:00</td>\n",
       "      <td>2017-03-12 02:00</td>\n",
       "    </tr>\n",
       "    <tr>\n",
       "      <th>71810</th>\n",
       "      <td>03/12/2017 04:00</td>\n",
       "      <td>8016.291377</td>\n",
       "      <td>2017-03-12</td>\n",
       "      <td>04:00</td>\n",
       "      <td>2017-03-12 04:00</td>\n",
       "    </tr>\n",
       "    <tr>\n",
       "      <th>71811</th>\n",
       "      <td>03/12/2017 05:00</td>\n",
       "      <td>7894.080492</td>\n",
       "      <td>2017-03-12</td>\n",
       "      <td>05:00</td>\n",
       "      <td>2017-03-12 05:00</td>\n",
       "    </tr>\n",
       "    <tr>\n",
       "      <th>71812</th>\n",
       "      <td>03/12/2017 06:00</td>\n",
       "      <td>7871.827685</td>\n",
       "      <td>2017-03-12</td>\n",
       "      <td>06:00</td>\n",
       "      <td>2017-03-12 06:00</td>\n",
       "    </tr>\n",
       "    <tr>\n",
       "      <th>71813</th>\n",
       "      <td>03/12/2017 07:00</td>\n",
       "      <td>8034.402546</td>\n",
       "      <td>2017-03-12</td>\n",
       "      <td>07:00</td>\n",
       "      <td>2017-03-12 07:00</td>\n",
       "    </tr>\n",
       "    <tr>\n",
       "      <th>71814</th>\n",
       "      <td>03/12/2017 08:00</td>\n",
       "      <td>8192.101434</td>\n",
       "      <td>2017-03-12</td>\n",
       "      <td>08:00</td>\n",
       "      <td>2017-03-12 08:00</td>\n",
       "    </tr>\n",
       "    <tr>\n",
       "      <th>71815</th>\n",
       "      <td>03/12/2017 09:00</td>\n",
       "      <td>8395.224430</td>\n",
       "      <td>2017-03-12</td>\n",
       "      <td>09:00</td>\n",
       "      <td>2017-03-12 09:00</td>\n",
       "    </tr>\n",
       "    <tr>\n",
       "      <th>71816</th>\n",
       "      <td>03/12/2017 10:00</td>\n",
       "      <td>8817.761577</td>\n",
       "      <td>2017-03-12</td>\n",
       "      <td>10:00</td>\n",
       "      <td>2017-03-12 10:00</td>\n",
       "    </tr>\n",
       "    <tr>\n",
       "      <th>71817</th>\n",
       "      <td>03/12/2017 11:00</td>\n",
       "      <td>9218.897392</td>\n",
       "      <td>2017-03-12</td>\n",
       "      <td>11:00</td>\n",
       "      <td>2017-03-12 11:00</td>\n",
       "    </tr>\n",
       "    <tr>\n",
       "      <th>71818</th>\n",
       "      <td>03/12/2017 12:00</td>\n",
       "      <td>9535.095465</td>\n",
       "      <td>2017-03-12</td>\n",
       "      <td>12:00</td>\n",
       "      <td>2017-03-12 12:00</td>\n",
       "    </tr>\n",
       "    <tr>\n",
       "      <th>71819</th>\n",
       "      <td>03/12/2017 13:00</td>\n",
       "      <td>9651.844482</td>\n",
       "      <td>2017-03-12</td>\n",
       "      <td>13:00</td>\n",
       "      <td>2017-03-12 13:00</td>\n",
       "    </tr>\n",
       "    <tr>\n",
       "      <th>71820</th>\n",
       "      <td>03/12/2017 14:00</td>\n",
       "      <td>9603.323580</td>\n",
       "      <td>2017-03-12</td>\n",
       "      <td>14:00</td>\n",
       "      <td>2017-03-12 14:00</td>\n",
       "    </tr>\n",
       "    <tr>\n",
       "      <th>71821</th>\n",
       "      <td>03/12/2017 15:00</td>\n",
       "      <td>9460.848568</td>\n",
       "      <td>2017-03-12</td>\n",
       "      <td>15:00</td>\n",
       "      <td>2017-03-12 15:00</td>\n",
       "    </tr>\n",
       "    <tr>\n",
       "      <th>71822</th>\n",
       "      <td>03/12/2017 16:00</td>\n",
       "      <td>9295.347442</td>\n",
       "      <td>2017-03-12</td>\n",
       "      <td>16:00</td>\n",
       "      <td>2017-03-12 16:00</td>\n",
       "    </tr>\n",
       "    <tr>\n",
       "      <th>71823</th>\n",
       "      <td>03/12/2017 17:00</td>\n",
       "      <td>9204.943138</td>\n",
       "      <td>2017-03-12</td>\n",
       "      <td>17:00</td>\n",
       "      <td>2017-03-12 17:00</td>\n",
       "    </tr>\n",
       "    <tr>\n",
       "      <th>71824</th>\n",
       "      <td>03/12/2017 18:00</td>\n",
       "      <td>9194.145087</td>\n",
       "      <td>2017-03-12</td>\n",
       "      <td>18:00</td>\n",
       "      <td>2017-03-12 18:00</td>\n",
       "    </tr>\n",
       "    <tr>\n",
       "      <th>71825</th>\n",
       "      <td>03/12/2017 19:00</td>\n",
       "      <td>9231.290243</td>\n",
       "      <td>2017-03-12</td>\n",
       "      <td>19:00</td>\n",
       "      <td>2017-03-12 19:00</td>\n",
       "    </tr>\n",
       "    <tr>\n",
       "      <th>71826</th>\n",
       "      <td>03/12/2017 20:00</td>\n",
       "      <td>9635.354626</td>\n",
       "      <td>2017-03-12</td>\n",
       "      <td>20:00</td>\n",
       "      <td>2017-03-12 20:00</td>\n",
       "    </tr>\n",
       "    <tr>\n",
       "      <th>71827</th>\n",
       "      <td>03/12/2017 21:00</td>\n",
       "      <td>9880.170733</td>\n",
       "      <td>2017-03-12</td>\n",
       "      <td>21:00</td>\n",
       "      <td>2017-03-12 21:00</td>\n",
       "    </tr>\n",
       "    <tr>\n",
       "      <th>71828</th>\n",
       "      <td>03/12/2017 22:00</td>\n",
       "      <td>9707.682717</td>\n",
       "      <td>2017-03-12</td>\n",
       "      <td>22:00</td>\n",
       "      <td>2017-03-12 22:00</td>\n",
       "    </tr>\n",
       "    <tr>\n",
       "      <th>71829</th>\n",
       "      <td>03/12/2017 23:00</td>\n",
       "      <td>9371.168940</td>\n",
       "      <td>2017-03-12</td>\n",
       "      <td>23:00</td>\n",
       "      <td>2017-03-12 23:00</td>\n",
       "    </tr>\n",
       "  </tbody>\n",
       "</table>\n",
       "</div>"
      ],
      "text/plain": [
       "               datetime   ercot_load       date   time      new_datetime\n",
       "71807  03/11/2017 24:00  9120.385718 2017-03-12  00:00  2017-03-12 00:00\n",
       "71808  03/12/2017 01:00  8579.644600 2017-03-12  01:00  2017-03-12 01:00\n",
       "71809  03/12/2017 02:00  8251.748166 2017-03-12  02:00  2017-03-12 02:00\n",
       "71810  03/12/2017 04:00  8016.291377 2017-03-12  04:00  2017-03-12 04:00\n",
       "71811  03/12/2017 05:00  7894.080492 2017-03-12  05:00  2017-03-12 05:00\n",
       "71812  03/12/2017 06:00  7871.827685 2017-03-12  06:00  2017-03-12 06:00\n",
       "71813  03/12/2017 07:00  8034.402546 2017-03-12  07:00  2017-03-12 07:00\n",
       "71814  03/12/2017 08:00  8192.101434 2017-03-12  08:00  2017-03-12 08:00\n",
       "71815  03/12/2017 09:00  8395.224430 2017-03-12  09:00  2017-03-12 09:00\n",
       "71816  03/12/2017 10:00  8817.761577 2017-03-12  10:00  2017-03-12 10:00\n",
       "71817  03/12/2017 11:00  9218.897392 2017-03-12  11:00  2017-03-12 11:00\n",
       "71818  03/12/2017 12:00  9535.095465 2017-03-12  12:00  2017-03-12 12:00\n",
       "71819  03/12/2017 13:00  9651.844482 2017-03-12  13:00  2017-03-12 13:00\n",
       "71820  03/12/2017 14:00  9603.323580 2017-03-12  14:00  2017-03-12 14:00\n",
       "71821  03/12/2017 15:00  9460.848568 2017-03-12  15:00  2017-03-12 15:00\n",
       "71822  03/12/2017 16:00  9295.347442 2017-03-12  16:00  2017-03-12 16:00\n",
       "71823  03/12/2017 17:00  9204.943138 2017-03-12  17:00  2017-03-12 17:00\n",
       "71824  03/12/2017 18:00  9194.145087 2017-03-12  18:00  2017-03-12 18:00\n",
       "71825  03/12/2017 19:00  9231.290243 2017-03-12  19:00  2017-03-12 19:00\n",
       "71826  03/12/2017 20:00  9635.354626 2017-03-12  20:00  2017-03-12 20:00\n",
       "71827  03/12/2017 21:00  9880.170733 2017-03-12  21:00  2017-03-12 21:00\n",
       "71828  03/12/2017 22:00  9707.682717 2017-03-12  22:00  2017-03-12 22:00\n",
       "71829  03/12/2017 23:00  9371.168940 2017-03-12  23:00  2017-03-12 23:00"
      ]
     },
     "execution_count": 76,
     "metadata": {},
     "output_type": "execute_result"
    }
   ],
   "source": [
    "df[df.new_datetime.str.startswith('2017-03-12')]"
   ]
  },
  {
   "cell_type": "code",
   "execution_count": 77,
   "id": "1f180cad",
   "metadata": {},
   "outputs": [
    {
     "data": {
      "text/plain": [
       "RangeIndex(start=0, stop=118295, step=1)"
      ]
     },
     "execution_count": 77,
     "metadata": {},
     "output_type": "execute_result"
    }
   ],
   "source": [
    "tz_df.index"
   ]
  },
  {
   "cell_type": "code",
   "execution_count": 78,
   "id": "907ec702",
   "metadata": {},
   "outputs": [],
   "source": [
    "mar_adj_dates = ['2017-03-12 02:00:00',\n",
    "                '2018-03-11 02:00:00',\n",
    "                '2019-03-10 02:00:00',\n",
    "                '2020-03-08 02:00:00',\n",
    "                '2021-03-14 02:00:00',\n",
    "                '2022-03-13 02:00:00']\n",
    "\n",
    "nov_adj_ind = [77520,\n",
    "                86256,\n",
    "                94992,\n",
    "                103728,\n",
    "                112632]"
   ]
  },
  {
   "cell_type": "code",
   "execution_count": 79,
   "id": "6b18cfa5",
   "metadata": {},
   "outputs": [
    {
     "data": {
      "text/plain": [
       "0         2009-01-01 01:00:00\n",
       "1         2009-01-01 01:59:00\n",
       "2         2009-01-01 03:00:00\n",
       "3         2009-01-01 04:00:00\n",
       "4         2009-01-01 04:59:00\n",
       "                 ...         \n",
       "118290    2022-06-30 20:00:00\n",
       "118291    2022-06-30 21:00:00\n",
       "118292    2022-06-30 22:00:00\n",
       "118293    2022-06-30 23:00:00\n",
       "118294    2022-07-01 00:00:00\n",
       "Name: new_datetime, Length: 118295, dtype: object"
      ]
     },
     "execution_count": 79,
     "metadata": {},
     "output_type": "execute_result"
    }
   ],
   "source": [
    "tz_df.new_datetime.astype(str)"
   ]
  },
  {
   "cell_type": "code",
   "execution_count": 80,
   "id": "c3929356",
   "metadata": {},
   "outputs": [],
   "source": [
    "mar_adj_ind = list(tz_df[tz_df.new_datetime.astype(str).isin(mar_adj_dates)].index)"
   ]
  },
  {
   "cell_type": "code",
   "execution_count": 81,
   "id": "3a93f99e",
   "metadata": {},
   "outputs": [
    {
     "data": {
      "text/plain": [
       "[71809, 80545, 89281, 98017, 106921, 115657]"
      ]
     },
     "execution_count": 81,
     "metadata": {},
     "output_type": "execute_result"
    }
   ],
   "source": [
    "mar_adj_ind"
   ]
  },
  {
   "cell_type": "code",
   "execution_count": 82,
   "id": "18e67d4d",
   "metadata": {},
   "outputs": [],
   "source": [
    "# to the March, we are adding 1 hour to the 2am time \n",
    "#. b/c ERCOT skips 3am, when it should skip 2am\n",
    "tz_df.loc[mar_adj_ind,'new_datetime'] = tz_df.loc[mar_adj_ind,'new_datetime'] + datetime.timedelta(hours=1)\n",
    "\n",
    "#to the November, we are subtracting 1 hour from the first 2am, \n",
    "#  as there are supposed to be two 1ams, not two 2ams\n",
    "tz_df.loc[nov_adj_ind,'new_datetime'] = tz_df.loc[nov_adj_ind,'new_datetime'] - datetime.timedelta(hours=1)"
   ]
  },
  {
   "cell_type": "code",
   "execution_count": 83,
   "id": "26ef495e",
   "metadata": {},
   "outputs": [
    {
     "data": {
      "text/html": [
       "<div>\n",
       "<style scoped>\n",
       "    .dataframe tbody tr th:only-of-type {\n",
       "        vertical-align: middle;\n",
       "    }\n",
       "\n",
       "    .dataframe tbody tr th {\n",
       "        vertical-align: top;\n",
       "    }\n",
       "\n",
       "    .dataframe thead th {\n",
       "        text-align: right;\n",
       "    }\n",
       "</style>\n",
       "<table border=\"1\" class=\"dataframe\">\n",
       "  <thead>\n",
       "    <tr style=\"text-align: right;\">\n",
       "      <th></th>\n",
       "      <th>datetime</th>\n",
       "      <th>ercot_load</th>\n",
       "      <th>date</th>\n",
       "      <th>time</th>\n",
       "      <th>new_datetime</th>\n",
       "    </tr>\n",
       "  </thead>\n",
       "  <tbody>\n",
       "    <tr>\n",
       "      <th>71809</th>\n",
       "      <td>03/12/2017 02:00</td>\n",
       "      <td>8251.748166</td>\n",
       "      <td>2017-03-12</td>\n",
       "      <td>02:00</td>\n",
       "      <td>2017-03-12 03:00:00</td>\n",
       "    </tr>\n",
       "    <tr>\n",
       "      <th>80545</th>\n",
       "      <td>03/11/2018 02:00</td>\n",
       "      <td>9540.806925</td>\n",
       "      <td>2018-03-11</td>\n",
       "      <td>02:00</td>\n",
       "      <td>2018-03-11 03:00:00</td>\n",
       "    </tr>\n",
       "    <tr>\n",
       "      <th>89281</th>\n",
       "      <td>03/10/2019 02:00</td>\n",
       "      <td>9347.664413</td>\n",
       "      <td>2019-03-10</td>\n",
       "      <td>02:00</td>\n",
       "      <td>2019-03-10 03:00:00</td>\n",
       "    </tr>\n",
       "    <tr>\n",
       "      <th>98017</th>\n",
       "      <td>03/08/2020 02:00</td>\n",
       "      <td>9363.854764</td>\n",
       "      <td>2020-03-08</td>\n",
       "      <td>02:00</td>\n",
       "      <td>2020-03-08 03:00:00</td>\n",
       "    </tr>\n",
       "    <tr>\n",
       "      <th>106921</th>\n",
       "      <td>03/14/2021 02:00</td>\n",
       "      <td>9590.242305</td>\n",
       "      <td>2021-03-14</td>\n",
       "      <td>02:00</td>\n",
       "      <td>2021-03-14 03:00:00</td>\n",
       "    </tr>\n",
       "    <tr>\n",
       "      <th>115657</th>\n",
       "      <td>03/13/2022 02:00</td>\n",
       "      <td>11830.051429</td>\n",
       "      <td>2022-03-13</td>\n",
       "      <td>02:00</td>\n",
       "      <td>2022-03-13 03:00:00</td>\n",
       "    </tr>\n",
       "  </tbody>\n",
       "</table>\n",
       "</div>"
      ],
      "text/plain": [
       "                datetime    ercot_load       date   time        new_datetime\n",
       "71809   03/12/2017 02:00   8251.748166 2017-03-12  02:00 2017-03-12 03:00:00\n",
       "80545   03/11/2018 02:00   9540.806925 2018-03-11  02:00 2018-03-11 03:00:00\n",
       "89281   03/10/2019 02:00   9347.664413 2019-03-10  02:00 2019-03-10 03:00:00\n",
       "98017   03/08/2020 02:00   9363.854764 2020-03-08  02:00 2020-03-08 03:00:00\n",
       "106921  03/14/2021 02:00   9590.242305 2021-03-14  02:00 2021-03-14 03:00:00\n",
       "115657  03/13/2022 02:00  11830.051429 2022-03-13  02:00 2022-03-13 03:00:00"
      ]
     },
     "execution_count": 83,
     "metadata": {},
     "output_type": "execute_result"
    }
   ],
   "source": [
    "tz_df.loc[mar_adj_ind]"
   ]
  },
  {
   "cell_type": "code",
   "execution_count": 84,
   "id": "9898b3ef",
   "metadata": {},
   "outputs": [
    {
     "data": {
      "text/html": [
       "<div>\n",
       "<style scoped>\n",
       "    .dataframe tbody tr th:only-of-type {\n",
       "        vertical-align: middle;\n",
       "    }\n",
       "\n",
       "    .dataframe tbody tr th {\n",
       "        vertical-align: top;\n",
       "    }\n",
       "\n",
       "    .dataframe thead th {\n",
       "        text-align: right;\n",
       "    }\n",
       "</style>\n",
       "<table border=\"1\" class=\"dataframe\">\n",
       "  <thead>\n",
       "    <tr style=\"text-align: right;\">\n",
       "      <th></th>\n",
       "      <th>datetime</th>\n",
       "      <th>ercot_load</th>\n",
       "      <th>date</th>\n",
       "      <th>time</th>\n",
       "      <th>new_datetime</th>\n",
       "    </tr>\n",
       "  </thead>\n",
       "  <tbody>\n",
       "    <tr>\n",
       "      <th>77520</th>\n",
       "      <td>11/05/2017 02:00</td>\n",
       "      <td>10677.703425</td>\n",
       "      <td>2017-11-05</td>\n",
       "      <td>02:00</td>\n",
       "      <td>2017-11-05 01:00:00</td>\n",
       "    </tr>\n",
       "    <tr>\n",
       "      <th>86256</th>\n",
       "      <td>11/04/2018 02:00</td>\n",
       "      <td>8919.548072</td>\n",
       "      <td>2018-11-04</td>\n",
       "      <td>02:00</td>\n",
       "      <td>2018-11-04 01:00:00</td>\n",
       "    </tr>\n",
       "    <tr>\n",
       "      <th>94992</th>\n",
       "      <td>11/03/2019 02:00</td>\n",
       "      <td>9028.618802</td>\n",
       "      <td>2019-11-03</td>\n",
       "      <td>02:00</td>\n",
       "      <td>2019-11-03 01:00:00</td>\n",
       "    </tr>\n",
       "    <tr>\n",
       "      <th>103728</th>\n",
       "      <td>11/01/2020 02:00</td>\n",
       "      <td>9071.565670</td>\n",
       "      <td>2020-11-01</td>\n",
       "      <td>02:00</td>\n",
       "      <td>2020-11-01 01:00:00</td>\n",
       "    </tr>\n",
       "    <tr>\n",
       "      <th>112632</th>\n",
       "      <td>11/07/2021 02:00</td>\n",
       "      <td>9730.091432</td>\n",
       "      <td>2021-11-07</td>\n",
       "      <td>02:00</td>\n",
       "      <td>2021-11-07 01:00:00</td>\n",
       "    </tr>\n",
       "  </tbody>\n",
       "</table>\n",
       "</div>"
      ],
      "text/plain": [
       "                datetime    ercot_load       date   time        new_datetime\n",
       "77520   11/05/2017 02:00  10677.703425 2017-11-05  02:00 2017-11-05 01:00:00\n",
       "86256   11/04/2018 02:00   8919.548072 2018-11-04  02:00 2018-11-04 01:00:00\n",
       "94992   11/03/2019 02:00   9028.618802 2019-11-03  02:00 2019-11-03 01:00:00\n",
       "103728  11/01/2020 02:00   9071.565670 2020-11-01  02:00 2020-11-01 01:00:00\n",
       "112632  11/07/2021 02:00   9730.091432 2021-11-07  02:00 2021-11-07 01:00:00"
      ]
     },
     "execution_count": 84,
     "metadata": {},
     "output_type": "execute_result"
    }
   ],
   "source": [
    "tz_df.loc[nov_adj_ind]"
   ]
  },
  {
   "cell_type": "code",
   "execution_count": 85,
   "id": "b2ae257e",
   "metadata": {},
   "outputs": [
    {
     "data": {
      "text/html": [
       "<div>\n",
       "<style scoped>\n",
       "    .dataframe tbody tr th:only-of-type {\n",
       "        vertical-align: middle;\n",
       "    }\n",
       "\n",
       "    .dataframe tbody tr th {\n",
       "        vertical-align: top;\n",
       "    }\n",
       "\n",
       "    .dataframe thead th {\n",
       "        text-align: right;\n",
       "    }\n",
       "</style>\n",
       "<table border=\"1\" class=\"dataframe\">\n",
       "  <thead>\n",
       "    <tr style=\"text-align: right;\">\n",
       "      <th></th>\n",
       "      <th>datetime</th>\n",
       "      <th>ercot_load</th>\n",
       "      <th>date</th>\n",
       "      <th>time</th>\n",
       "      <th>new_datetime</th>\n",
       "    </tr>\n",
       "  </thead>\n",
       "  <tbody>\n",
       "    <tr>\n",
       "      <th>71805</th>\n",
       "      <td>03/11/2017 22:00</td>\n",
       "      <td>9960.180573</td>\n",
       "      <td>2017-03-11</td>\n",
       "      <td>22:00</td>\n",
       "      <td>2017-03-11 22:00:00</td>\n",
       "    </tr>\n",
       "    <tr>\n",
       "      <th>71806</th>\n",
       "      <td>03/11/2017 23:00</td>\n",
       "      <td>9566.640831</td>\n",
       "      <td>2017-03-11</td>\n",
       "      <td>23:00</td>\n",
       "      <td>2017-03-11 23:00:00</td>\n",
       "    </tr>\n",
       "    <tr>\n",
       "      <th>71807</th>\n",
       "      <td>03/11/2017 24:00</td>\n",
       "      <td>9120.385718</td>\n",
       "      <td>2017-03-12</td>\n",
       "      <td>00:00</td>\n",
       "      <td>2017-03-12 00:00:00</td>\n",
       "    </tr>\n",
       "    <tr>\n",
       "      <th>71808</th>\n",
       "      <td>03/12/2017 01:00</td>\n",
       "      <td>8579.644600</td>\n",
       "      <td>2017-03-12</td>\n",
       "      <td>01:00</td>\n",
       "      <td>2017-03-12 01:00:00</td>\n",
       "    </tr>\n",
       "    <tr>\n",
       "      <th>71809</th>\n",
       "      <td>03/12/2017 02:00</td>\n",
       "      <td>8251.748166</td>\n",
       "      <td>2017-03-12</td>\n",
       "      <td>02:00</td>\n",
       "      <td>2017-03-12 03:00:00</td>\n",
       "    </tr>\n",
       "    <tr>\n",
       "      <th>71810</th>\n",
       "      <td>03/12/2017 04:00</td>\n",
       "      <td>8016.291377</td>\n",
       "      <td>2017-03-12</td>\n",
       "      <td>04:00</td>\n",
       "      <td>2017-03-12 04:00:00</td>\n",
       "    </tr>\n",
       "  </tbody>\n",
       "</table>\n",
       "</div>"
      ],
      "text/plain": [
       "               datetime   ercot_load       date   time        new_datetime\n",
       "71805  03/11/2017 22:00  9960.180573 2017-03-11  22:00 2017-03-11 22:00:00\n",
       "71806  03/11/2017 23:00  9566.640831 2017-03-11  23:00 2017-03-11 23:00:00\n",
       "71807  03/11/2017 24:00  9120.385718 2017-03-12  00:00 2017-03-12 00:00:00\n",
       "71808  03/12/2017 01:00  8579.644600 2017-03-12  01:00 2017-03-12 01:00:00\n",
       "71809  03/12/2017 02:00  8251.748166 2017-03-12  02:00 2017-03-12 03:00:00\n",
       "71810  03/12/2017 04:00  8016.291377 2017-03-12  04:00 2017-03-12 04:00:00"
      ]
     },
     "execution_count": 85,
     "metadata": {},
     "output_type": "execute_result"
    }
   ],
   "source": [
    "tz_df.loc[71805:71810]"
   ]
  },
  {
   "cell_type": "code",
   "execution_count": 87,
   "id": "0d9807f5",
   "metadata": {},
   "outputs": [
    {
     "data": {
      "text/plain": [
       "[Timestamp('2017-11-05 01:00:00'),\n",
       " Timestamp('2018-11-04 01:00:00'),\n",
       " Timestamp('2019-11-03 01:00:00'),\n",
       " Timestamp('2020-11-01 01:00:00'),\n",
       " Timestamp('2021-11-07 01:00:00')]"
      ]
     },
     "execution_count": 87,
     "metadata": {},
     "output_type": "execute_result"
    }
   ],
   "source": [
    "list(tz_df.loc[nov_adj_ind,'new_datetime'])"
   ]
  },
  {
   "cell_type": "code",
   "execution_count": null,
   "id": "f1f37a22",
   "metadata": {},
   "outputs": [],
   "source": []
  },
  {
   "cell_type": "code",
   "execution_count": 88,
   "id": "508f9190",
   "metadata": {},
   "outputs": [
    {
     "ename": "AmbiguousTimeError",
     "evalue": "2017-11-05 01:00:00",
     "output_type": "error",
     "traceback": [
      "\u001b[0;31m---------------------------------------------------------------------------\u001b[0m",
      "\u001b[0;31mAmbiguousTimeError\u001b[0m                        Traceback (most recent call last)",
      "\u001b[0;32m/var/folders/dn/dr6y15951wq03xbh2xr9khq40000gn/T/ipykernel_68313/1630659874.py\u001b[0m in \u001b[0;36m<module>\u001b[0;34m\u001b[0m\n\u001b[1;32m      2\u001b[0m \u001b[0;31m# tz_df = df.copy()\u001b[0m\u001b[0;34m\u001b[0m\u001b[0;34m\u001b[0m\u001b[0m\n\u001b[1;32m      3\u001b[0m \u001b[0mtz_df\u001b[0m\u001b[0;34m[\u001b[0m\u001b[0;34m'new_datetime'\u001b[0m\u001b[0;34m]\u001b[0m \u001b[0;34m=\u001b[0m \u001b[0mpd\u001b[0m\u001b[0;34m.\u001b[0m\u001b[0mto_datetime\u001b[0m\u001b[0;34m(\u001b[0m\u001b[0mdf\u001b[0m\u001b[0;34m.\u001b[0m\u001b[0mnew_datetime\u001b[0m\u001b[0;34m)\u001b[0m\u001b[0;34m\u001b[0m\u001b[0;34m\u001b[0m\u001b[0m\n\u001b[0;32m----> 4\u001b[0;31m \u001b[0mtz_df\u001b[0m \u001b[0;34m=\u001b[0m \u001b[0mtz_df\u001b[0m\u001b[0;34m.\u001b[0m\u001b[0mset_index\u001b[0m\u001b[0;34m(\u001b[0m\u001b[0;34m'new_datetime'\u001b[0m\u001b[0;34m)\u001b[0m\u001b[0;34m.\u001b[0m\u001b[0mtz_localize\u001b[0m\u001b[0;34m(\u001b[0m\u001b[0mtz\u001b[0m\u001b[0;34m=\u001b[0m\u001b[0;34m'US/Central'\u001b[0m\u001b[0;34m,\u001b[0m\u001b[0mambiguous\u001b[0m\u001b[0;34m=\u001b[0m\u001b[0;34m'infer'\u001b[0m\u001b[0;34m)\u001b[0m\u001b[0;34m\u001b[0m\u001b[0;34m\u001b[0m\u001b[0m\n\u001b[0m\u001b[1;32m      5\u001b[0m \u001b[0;31m# infer_arr = np.array([True]*tz_df.shape[0])\u001b[0m\u001b[0;34m\u001b[0m\u001b[0;34m\u001b[0m\u001b[0m\n\u001b[1;32m      6\u001b[0m \u001b[0;31m# tz_df = tz_df.set_index('new_datetime').tz_localize(tz='US/Central',ambiguous=infer_arr)\u001b[0m\u001b[0;34m\u001b[0m\u001b[0;34m\u001b[0m\u001b[0m\n",
      "\u001b[0;32m/opt/homebrew/anaconda3/lib/python3.9/site-packages/pandas/core/generic.py\u001b[0m in \u001b[0;36mtz_localize\u001b[0;34m(self, tz, axis, level, copy, ambiguous, nonexistent)\u001b[0m\n\u001b[1;32m   9692\u001b[0m             \u001b[0;32mif\u001b[0m \u001b[0mlevel\u001b[0m \u001b[0;32mnot\u001b[0m \u001b[0;32min\u001b[0m \u001b[0;34m(\u001b[0m\u001b[0;32mNone\u001b[0m\u001b[0;34m,\u001b[0m \u001b[0;36m0\u001b[0m\u001b[0;34m,\u001b[0m \u001b[0max\u001b[0m\u001b[0;34m.\u001b[0m\u001b[0mname\u001b[0m\u001b[0;34m)\u001b[0m\u001b[0;34m:\u001b[0m\u001b[0;34m\u001b[0m\u001b[0;34m\u001b[0m\u001b[0m\n\u001b[1;32m   9693\u001b[0m                 \u001b[0;32mraise\u001b[0m \u001b[0mValueError\u001b[0m\u001b[0;34m(\u001b[0m\u001b[0;34mf\"The level {level} is not valid\"\u001b[0m\u001b[0;34m)\u001b[0m\u001b[0;34m\u001b[0m\u001b[0;34m\u001b[0m\u001b[0m\n\u001b[0;32m-> 9694\u001b[0;31m             \u001b[0max\u001b[0m \u001b[0;34m=\u001b[0m \u001b[0m_tz_localize\u001b[0m\u001b[0;34m(\u001b[0m\u001b[0max\u001b[0m\u001b[0;34m,\u001b[0m \u001b[0mtz\u001b[0m\u001b[0;34m,\u001b[0m \u001b[0mambiguous\u001b[0m\u001b[0;34m,\u001b[0m \u001b[0mnonexistent\u001b[0m\u001b[0;34m)\u001b[0m\u001b[0;34m\u001b[0m\u001b[0;34m\u001b[0m\u001b[0m\n\u001b[0m\u001b[1;32m   9695\u001b[0m \u001b[0;34m\u001b[0m\u001b[0m\n\u001b[1;32m   9696\u001b[0m         \u001b[0mresult\u001b[0m \u001b[0;34m=\u001b[0m \u001b[0mself\u001b[0m\u001b[0;34m.\u001b[0m\u001b[0mcopy\u001b[0m\u001b[0;34m(\u001b[0m\u001b[0mdeep\u001b[0m\u001b[0;34m=\u001b[0m\u001b[0mcopy\u001b[0m\u001b[0;34m)\u001b[0m\u001b[0;34m\u001b[0m\u001b[0;34m\u001b[0m\u001b[0m\n",
      "\u001b[0;32m/opt/homebrew/anaconda3/lib/python3.9/site-packages/pandas/core/generic.py\u001b[0m in \u001b[0;36m_tz_localize\u001b[0;34m(ax, tz, ambiguous, nonexistent)\u001b[0m\n\u001b[1;32m   9680\u001b[0m                     \u001b[0max\u001b[0m \u001b[0;34m=\u001b[0m \u001b[0mDatetimeIndex\u001b[0m\u001b[0;34m(\u001b[0m\u001b[0;34m[\u001b[0m\u001b[0;34m]\u001b[0m\u001b[0;34m,\u001b[0m \u001b[0mtz\u001b[0m\u001b[0;34m=\u001b[0m\u001b[0mtz\u001b[0m\u001b[0;34m)\u001b[0m\u001b[0;34m\u001b[0m\u001b[0;34m\u001b[0m\u001b[0m\n\u001b[1;32m   9681\u001b[0m             \u001b[0;32melse\u001b[0m\u001b[0;34m:\u001b[0m\u001b[0;34m\u001b[0m\u001b[0;34m\u001b[0m\u001b[0m\n\u001b[0;32m-> 9682\u001b[0;31m                 \u001b[0max\u001b[0m \u001b[0;34m=\u001b[0m \u001b[0max\u001b[0m\u001b[0;34m.\u001b[0m\u001b[0mtz_localize\u001b[0m\u001b[0;34m(\u001b[0m\u001b[0mtz\u001b[0m\u001b[0;34m,\u001b[0m \u001b[0mambiguous\u001b[0m\u001b[0;34m=\u001b[0m\u001b[0mambiguous\u001b[0m\u001b[0;34m,\u001b[0m \u001b[0mnonexistent\u001b[0m\u001b[0;34m=\u001b[0m\u001b[0mnonexistent\u001b[0m\u001b[0;34m)\u001b[0m\u001b[0;34m\u001b[0m\u001b[0;34m\u001b[0m\u001b[0m\n\u001b[0m\u001b[1;32m   9683\u001b[0m             \u001b[0;32mreturn\u001b[0m \u001b[0max\u001b[0m\u001b[0;34m\u001b[0m\u001b[0;34m\u001b[0m\u001b[0m\n\u001b[1;32m   9684\u001b[0m \u001b[0;34m\u001b[0m\u001b[0m\n",
      "\u001b[0;32m/opt/homebrew/anaconda3/lib/python3.9/site-packages/pandas/core/indexes/datetimes.py\u001b[0m in \u001b[0;36mtz_localize\u001b[0;34m(self, tz, ambiguous, nonexistent)\u001b[0m\n\u001b[1;32m    277\u001b[0m     \u001b[0;34m@\u001b[0m\u001b[0mdoc\u001b[0m\u001b[0;34m(\u001b[0m\u001b[0mDatetimeArray\u001b[0m\u001b[0;34m.\u001b[0m\u001b[0mtz_localize\u001b[0m\u001b[0;34m)\u001b[0m\u001b[0;34m\u001b[0m\u001b[0;34m\u001b[0m\u001b[0m\n\u001b[1;32m    278\u001b[0m     \u001b[0;32mdef\u001b[0m \u001b[0mtz_localize\u001b[0m\u001b[0;34m(\u001b[0m\u001b[0mself\u001b[0m\u001b[0;34m,\u001b[0m \u001b[0mtz\u001b[0m\u001b[0;34m,\u001b[0m \u001b[0mambiguous\u001b[0m\u001b[0;34m=\u001b[0m\u001b[0;34m\"raise\"\u001b[0m\u001b[0;34m,\u001b[0m \u001b[0mnonexistent\u001b[0m\u001b[0;34m=\u001b[0m\u001b[0;34m\"raise\"\u001b[0m\u001b[0;34m)\u001b[0m \u001b[0;34m->\u001b[0m \u001b[0mDatetimeIndex\u001b[0m\u001b[0;34m:\u001b[0m\u001b[0;34m\u001b[0m\u001b[0;34m\u001b[0m\u001b[0m\n\u001b[0;32m--> 279\u001b[0;31m         \u001b[0marr\u001b[0m \u001b[0;34m=\u001b[0m \u001b[0mself\u001b[0m\u001b[0;34m.\u001b[0m\u001b[0m_data\u001b[0m\u001b[0;34m.\u001b[0m\u001b[0mtz_localize\u001b[0m\u001b[0;34m(\u001b[0m\u001b[0mtz\u001b[0m\u001b[0;34m,\u001b[0m \u001b[0mambiguous\u001b[0m\u001b[0;34m,\u001b[0m \u001b[0mnonexistent\u001b[0m\u001b[0;34m)\u001b[0m\u001b[0;34m\u001b[0m\u001b[0;34m\u001b[0m\u001b[0m\n\u001b[0m\u001b[1;32m    280\u001b[0m         \u001b[0;32mreturn\u001b[0m \u001b[0mtype\u001b[0m\u001b[0;34m(\u001b[0m\u001b[0mself\u001b[0m\u001b[0;34m)\u001b[0m\u001b[0;34m.\u001b[0m\u001b[0m_simple_new\u001b[0m\u001b[0;34m(\u001b[0m\u001b[0marr\u001b[0m\u001b[0;34m,\u001b[0m \u001b[0mname\u001b[0m\u001b[0;34m=\u001b[0m\u001b[0mself\u001b[0m\u001b[0;34m.\u001b[0m\u001b[0mname\u001b[0m\u001b[0;34m)\u001b[0m\u001b[0;34m\u001b[0m\u001b[0;34m\u001b[0m\u001b[0m\n\u001b[1;32m    281\u001b[0m \u001b[0;34m\u001b[0m\u001b[0m\n",
      "\u001b[0;32m/opt/homebrew/anaconda3/lib/python3.9/site-packages/pandas/core/arrays/_mixins.py\u001b[0m in \u001b[0;36mmethod\u001b[0;34m(self, *args, **kwargs)\u001b[0m\n\u001b[1;32m     56\u001b[0m     \u001b[0;32mdef\u001b[0m \u001b[0mmethod\u001b[0m\u001b[0;34m(\u001b[0m\u001b[0mself\u001b[0m\u001b[0;34m,\u001b[0m \u001b[0;34m*\u001b[0m\u001b[0margs\u001b[0m\u001b[0;34m,\u001b[0m \u001b[0;34m**\u001b[0m\u001b[0mkwargs\u001b[0m\u001b[0;34m)\u001b[0m\u001b[0;34m:\u001b[0m\u001b[0;34m\u001b[0m\u001b[0;34m\u001b[0m\u001b[0m\n\u001b[1;32m     57\u001b[0m         \u001b[0;32mif\u001b[0m \u001b[0mself\u001b[0m\u001b[0;34m.\u001b[0m\u001b[0mndim\u001b[0m \u001b[0;34m==\u001b[0m \u001b[0;36m1\u001b[0m\u001b[0;34m:\u001b[0m\u001b[0;34m\u001b[0m\u001b[0;34m\u001b[0m\u001b[0m\n\u001b[0;32m---> 58\u001b[0;31m             \u001b[0;32mreturn\u001b[0m \u001b[0mmeth\u001b[0m\u001b[0;34m(\u001b[0m\u001b[0mself\u001b[0m\u001b[0;34m,\u001b[0m \u001b[0;34m*\u001b[0m\u001b[0margs\u001b[0m\u001b[0;34m,\u001b[0m \u001b[0;34m**\u001b[0m\u001b[0mkwargs\u001b[0m\u001b[0;34m)\u001b[0m\u001b[0;34m\u001b[0m\u001b[0;34m\u001b[0m\u001b[0m\n\u001b[0m\u001b[1;32m     59\u001b[0m \u001b[0;34m\u001b[0m\u001b[0m\n\u001b[1;32m     60\u001b[0m         \u001b[0mflags\u001b[0m \u001b[0;34m=\u001b[0m \u001b[0mself\u001b[0m\u001b[0;34m.\u001b[0m\u001b[0m_ndarray\u001b[0m\u001b[0;34m.\u001b[0m\u001b[0mflags\u001b[0m\u001b[0;34m\u001b[0m\u001b[0;34m\u001b[0m\u001b[0m\n",
      "\u001b[0;32m/opt/homebrew/anaconda3/lib/python3.9/site-packages/pandas/core/arrays/datetimes.py\u001b[0m in \u001b[0;36mtz_localize\u001b[0;34m(self, tz, ambiguous, nonexistent)\u001b[0m\n\u001b[1;32m   1022\u001b[0m             \u001b[0;31m# Convert to UTC\u001b[0m\u001b[0;34m\u001b[0m\u001b[0;34m\u001b[0m\u001b[0m\n\u001b[1;32m   1023\u001b[0m \u001b[0;34m\u001b[0m\u001b[0m\n\u001b[0;32m-> 1024\u001b[0;31m             new_dates = tzconversion.tz_localize_to_utc(\n\u001b[0m\u001b[1;32m   1025\u001b[0m                 \u001b[0mself\u001b[0m\u001b[0;34m.\u001b[0m\u001b[0masi8\u001b[0m\u001b[0;34m,\u001b[0m \u001b[0mtz\u001b[0m\u001b[0;34m,\u001b[0m \u001b[0mambiguous\u001b[0m\u001b[0;34m=\u001b[0m\u001b[0mambiguous\u001b[0m\u001b[0;34m,\u001b[0m \u001b[0mnonexistent\u001b[0m\u001b[0;34m=\u001b[0m\u001b[0mnonexistent\u001b[0m\u001b[0;34m\u001b[0m\u001b[0;34m\u001b[0m\u001b[0m\n\u001b[1;32m   1026\u001b[0m             )\n",
      "\u001b[0;32m/opt/homebrew/anaconda3/lib/python3.9/site-packages/pandas/_libs/tslibs/tzconversion.pyx\u001b[0m in \u001b[0;36mpandas._libs.tslibs.tzconversion.tz_localize_to_utc\u001b[0;34m()\u001b[0m\n",
      "\u001b[0;31mAmbiguousTimeError\u001b[0m: 2017-11-05 01:00:00"
     ]
    }
   ],
   "source": [
    "#8.5 Make it ignore daylight savings somehow\n",
    "# tz_df = df.copy()\n",
    "tz_df['new_datetime'] = pd.to_datetime(df.new_datetime)\n",
    "tz_df = tz_df.set_index('new_datetime').tz_localize(tz='US/Central',ambiguous='infer')\n",
    "# infer_arr = np.array([True]*tz_df.shape[0])\n",
    "# tz_df = tz_df.set_index('new_datetime').tz_localize(tz='US/Central',ambiguous=infer_arr)\n",
    "tz_df.loc['2010-11-07']"
   ]
  },
  {
   "cell_type": "code",
   "execution_count": null,
   "id": "a0a59e5e",
   "metadata": {},
   "outputs": [],
   "source": [
    "tz_df.loc['2017-03-12']"
   ]
  },
  {
   "cell_type": "code",
   "execution_count": null,
   "id": "38877cc0",
   "metadata": {},
   "outputs": [],
   "source": [
    "tz_df.loc['2010-11-07'].index.hour"
   ]
  },
  {
   "cell_type": "code",
   "execution_count": null,
   "id": "ad4a0134",
   "metadata": {},
   "outputs": [],
   "source": []
  },
  {
   "cell_type": "code",
   "execution_count": null,
   "id": "b989d39f",
   "metadata": {},
   "outputs": [],
   "source": [
    "#CONVERT\n",
    "# tz_df.tz_convert\n",
    "# #see cool things\n",
    "# tz_df.loc['2010-11-07']"
   ]
  },
  {
   "cell_type": "code",
   "execution_count": null,
   "id": "375fd0de",
   "metadata": {},
   "outputs": [],
   "source": []
  },
  {
   "cell_type": "code",
   "execution_count": null,
   "id": "78d76596",
   "metadata": {},
   "outputs": [],
   "source": []
  },
  {
   "cell_type": "code",
   "execution_count": null,
   "id": "ed449bbc",
   "metadata": {},
   "outputs": [],
   "source": []
  },
  {
   "cell_type": "code",
   "execution_count": null,
   "id": "6595aec0",
   "metadata": {},
   "outputs": [],
   "source": []
  },
  {
   "cell_type": "code",
   "execution_count": null,
   "id": "ca25021d",
   "metadata": {},
   "outputs": [],
   "source": []
  },
  {
   "cell_type": "markdown",
   "id": "505880da",
   "metadata": {},
   "source": [
    "##### RESUME NORMALITY HERE"
   ]
  },
  {
   "cell_type": "code",
   "execution_count": null,
   "id": "a42c4536",
   "metadata": {},
   "outputs": [],
   "source": [
    "# 9. Convert datetime column to datetime\n",
    "df['new_datetime'] = pd.to_datetime(df.new_datetime)"
   ]
  },
  {
   "cell_type": "code",
   "execution_count": null,
   "id": "ed729b66",
   "metadata": {},
   "outputs": [],
   "source": [
    "df.head()"
   ]
  },
  {
   "cell_type": "code",
   "execution_count": null,
   "id": "e0c23de7",
   "metadata": {},
   "outputs": [],
   "source": [
    "df.info()"
   ]
  },
  {
   "cell_type": "code",
   "execution_count": null,
   "id": "04fda955",
   "metadata": {},
   "outputs": [],
   "source": [
    "df.loc[61389:61393]"
   ]
  },
  {
   "cell_type": "code",
   "execution_count": null,
   "id": "d6709f49",
   "metadata": {},
   "outputs": [],
   "source": [
    "df.loc[109436:109440]"
   ]
  },
  {
   "cell_type": "code",
   "execution_count": null,
   "id": "921b9233",
   "metadata": {},
   "outputs": [],
   "source": [
    "df.new_datetime = df.new_datetime.dt.round(\"H\")\n",
    "\n",
    "df"
   ]
  },
  {
   "cell_type": "code",
   "execution_count": null,
   "id": "c1efc242",
   "metadata": {},
   "outputs": [],
   "source": [
    "# 1. Datetime to string\n",
    "# df.datetime = df.datetime[:19]\n",
    "# 2. Pull out first 16 characters\n",
    "# 3. Deconstruct into date and time columns\n",
    "# 4. Convert date column into datetime format\n",
    "# 5. Find any time where starts with 24, then for that index, update time to 00 and add one day to to date column\n",
    "# 6. Check indices where known issue\n",
    "# 7. Convert date column back to string\n",
    "# 8. Concat date and time column >> datetime\n",
    "# 9. Convert datetime column to datetime\n",
    "# 10. Perform dt.round\n"
   ]
  },
  {
   "cell_type": "code",
   "execution_count": null,
   "id": "7f216ec8",
   "metadata": {},
   "outputs": [],
   "source": [
    "#drop unneeded columns\n",
    "df.drop(columns=['datetime','date','time'],inplace=True)"
   ]
  },
  {
   "cell_type": "code",
   "execution_count": null,
   "id": "baf88dc2",
   "metadata": {},
   "outputs": [],
   "source": [
    "df.head()"
   ]
  },
  {
   "cell_type": "code",
   "execution_count": null,
   "id": "e1f4282d",
   "metadata": {},
   "outputs": [],
   "source": [
    "#rename column and set as index\n",
    "df.rename(columns={'new_datetime':'datetime'},inplace=True)\n",
    "df = df.set_index('datetime').sort_index()\n",
    "df.head()"
   ]
  },
  {
   "cell_type": "code",
   "execution_count": null,
   "id": "af6ef707",
   "metadata": {},
   "outputs": [],
   "source": []
  },
  {
   "cell_type": "code",
   "execution_count": null,
   "id": "f343bed5",
   "metadata": {},
   "outputs": [],
   "source": []
  },
  {
   "cell_type": "markdown",
   "id": "8d857d2b",
   "metadata": {},
   "source": [
    "### Drop these actions in a function"
   ]
  },
  {
   "cell_type": "code",
   "execution_count": null,
   "id": "f16c4c1d",
   "metadata": {},
   "outputs": [],
   "source": [
    "def clean_ercot_datetime(df):\n",
    "    '''\n",
    "    This function is designed to take in our coast_df.csv and clean up the datetimes that were provided.\n",
    "    - gets dates in same format and stored as datetime\n",
    "    - adjusts any 24:00 entries to be 00: the following day\n",
    "    - Stores the datetime as the index\n",
    "    \n",
    "    Returns: Pandas Dateframe - w/ datetime index and load column\n",
    "    Parameters: df: pandas dataframe - expecting our coast_df.csv file\n",
    "    '''\n",
    "    # 1. Pull out first 16 characters\n",
    "    df.datetime = df.datetime.str[:16]\n",
    "    # 2. Deconstruct into date and time columns\n",
    "    df['date'] = df.datetime.str[:10]\n",
    "    df['time'] = df.datetime.str[-5:]\n",
    "    # 3. Convert date column into datetime format\n",
    "    df['date'] = pd.to_datetime(df.date)\n",
    "    \n",
    "    # 4. Find any time where starts with 24, then for that index, add one day to to date column then update time to 00\n",
    "    #For all indices w/ a time that starts with 24, add one day to the date\n",
    "    df.loc[df.time.str.startswith('24'),'date'] = df.date + datetime.timedelta(days=1)\n",
    "    #Replace all '24:' in time with '00:'\n",
    "    df.time = df.time.apply(lambda x: re.sub(r'24:','00:',x))\n",
    "\n",
    "    # 5. Convert date column back to string and Concat date and time column >> datetime\n",
    "    df['new_datetime'] = df.date.astype(str) + ' ' + df.time\n",
    "    \n",
    "    # 6. Convert new datetime column to datetime\n",
    "    df['new_datetime'] = pd.to_datetime(df.new_datetime)\n",
    "    \n",
    "    # 7. Perform dt.round\n",
    "    df.new_datetime = df.new_datetime.dt.round(\"H\")\n",
    "    \n",
    "    # 8. Drop old date/time columns and index\n",
    "    df.drop(columns=['datetime','date','time','Unnamed: 0'],inplace=True)\n",
    "    \n",
    "    # 9. Rename datetime column and set as index\n",
    "    df.rename(columns={'new_datetime':'datetime'},inplace=True)\n",
    "    df = df.set_index('datetime').sort_index()\n",
    "    \n",
    "    return df"
   ]
  },
  {
   "cell_type": "markdown",
   "id": "09cc4251",
   "metadata": {},
   "source": [
    "##### Test function"
   ]
  },
  {
   "cell_type": "code",
   "execution_count": null,
   "id": "424d601f",
   "metadata": {},
   "outputs": [],
   "source": [
    "test_clean = pd.read_csv('coast_df.csv')\n",
    "test_clean"
   ]
  },
  {
   "cell_type": "code",
   "execution_count": null,
   "id": "c4c3174b",
   "metadata": {},
   "outputs": [],
   "source": [
    "test_clean = clean_ercot_datetime(test_clean)\n",
    "test_clean"
   ]
  },
  {
   "cell_type": "markdown",
   "id": "5094944b",
   "metadata": {},
   "source": [
    "### Add new features on day type"
   ]
  },
  {
   "cell_type": "code",
   "execution_count": null,
   "id": "8b7b15a3",
   "metadata": {},
   "outputs": [],
   "source": [
    "df2 = test_clean.copy()"
   ]
  },
  {
   "cell_type": "code",
   "execution_count": null,
   "id": "2ec455b1",
   "metadata": {},
   "outputs": [],
   "source": [
    "df2.info()"
   ]
  },
  {
   "cell_type": "code",
   "execution_count": null,
   "id": "a6327baa",
   "metadata": {},
   "outputs": [],
   "source": [
    "df2['dow'] = df2.index.day_name()\n",
    "df2"
   ]
  },
  {
   "cell_type": "code",
   "execution_count": null,
   "id": "96a62018",
   "metadata": {},
   "outputs": [],
   "source": [
    "df2.dow.apply(lambda x: 0 if x in (['Saturday','Sunday']) else 1).head(26)"
   ]
  },
  {
   "cell_type": "code",
   "execution_count": null,
   "id": "1f011a5a",
   "metadata": {},
   "outputs": [],
   "source": [
    "df2['is_weekday'] = df2.dow.apply(lambda x: 0 if x in (['Saturday','Sunday']) else 1)"
   ]
  },
  {
   "cell_type": "code",
   "execution_count": null,
   "id": "9d5d99bf",
   "metadata": {},
   "outputs": [],
   "source": [
    "df2.head(25) "
   ]
  },
  {
   "cell_type": "code",
   "execution_count": null,
   "id": "5c030425",
   "metadata": {},
   "outputs": [],
   "source": [
    "2/7"
   ]
  },
  {
   "cell_type": "code",
   "execution_count": null,
   "id": "a4da60b4",
   "metadata": {},
   "outputs": [],
   "source": [
    "1- df2.is_weekday.mean()"
   ]
  },
  {
   "cell_type": "code",
   "execution_count": null,
   "id": "8c7ea130",
   "metadata": {},
   "outputs": [],
   "source": [
    "#NOW figure out our holiday options\n",
    "cal = USFederalHolidayCalendar() #"
   ]
  },
  {
   "cell_type": "code",
   "execution_count": null,
   "id": "70c88649",
   "metadata": {},
   "outputs": [],
   "source": [
    "cal.rules"
   ]
  },
  {
   "cell_type": "markdown",
   "id": "0de9bb00",
   "metadata": {},
   "source": [
    "Looks like the usfederal calendar from pandas already contains the logic on observance days"
   ]
  },
  {
   "cell_type": "code",
   "execution_count": null,
   "id": "db61c190",
   "metadata": {},
   "outputs": [],
   "source": [
    "df2.index[0]"
   ]
  },
  {
   "cell_type": "code",
   "execution_count": null,
   "id": "628bf90b",
   "metadata": {},
   "outputs": [],
   "source": [
    "df2.index[-1]"
   ]
  },
  {
   "cell_type": "code",
   "execution_count": null,
   "id": "f5751c80",
   "metadata": {},
   "outputs": [],
   "source": [
    "#Let's look at the holidays\n",
    "start = df2.index[0] - datetime.timedelta(days=1) #this is need b/c it will skip 1/1/2010 (I think b/c it starts at one hour into that day)\n",
    "end = df2.index[-1] + datetime.timedelta(days=1)\n",
    "obsholidays = cal.holidays(start, end) #returns datetime index\n",
    "obsholiday_names = cal.holidays(start, end, return_name = True) #returns series\n",
    "print(f'start date: {start}\\nend date: {end}')"
   ]
  },
  {
   "cell_type": "code",
   "execution_count": null,
   "id": "d9fdbb3f",
   "metadata": {},
   "outputs": [],
   "source": [
    "obsholidays"
   ]
  },
  {
   "cell_type": "code",
   "execution_count": null,
   "id": "25fd279f",
   "metadata": {},
   "outputs": [],
   "source": [
    "type(obsholiday_names)"
   ]
  },
  {
   "cell_type": "code",
   "execution_count": null,
   "id": "3c4d5a95",
   "metadata": {},
   "outputs": [],
   "source": [
    "#convert the dates from above into day of week, then see distribution\n",
    "pd.Series(pd.to_datetime(obsholiday_names.index).dayofweek).value_counts()"
   ]
  },
  {
   "cell_type": "markdown",
   "id": "1970cd39",
   "metadata": {},
   "source": [
    "No Saturdays/Sundays shows that this is only OBSERVED holidays"
   ]
  },
  {
   "cell_type": "code",
   "execution_count": null,
   "id": "f3f7aa2b",
   "metadata": {},
   "outputs": [],
   "source": [
    "df2.index.isin(obsholidays)"
   ]
  },
  {
   "cell_type": "code",
   "execution_count": null,
   "id": "4e4f154d",
   "metadata": {},
   "outputs": [],
   "source": [
    "df2.index.isin(obsholidays).astype(int)"
   ]
  },
  {
   "cell_type": "code",
   "execution_count": null,
   "id": "d582b133",
   "metadata": {},
   "outputs": [],
   "source": [
    "df2.index.isin(obsholidays).sum()"
   ]
  },
  {
   "cell_type": "code",
   "execution_count": null,
   "id": "7be1e725",
   "metadata": {},
   "outputs": [],
   "source": [
    "df2['is_obs_holiday'] = df2.index.isin(obsholidays).astype(int)"
   ]
  },
  {
   "cell_type": "code",
   "execution_count": null,
   "id": "9f3f19fe",
   "metadata": {},
   "outputs": [],
   "source": [
    "df2.head(20)"
   ]
  },
  {
   "cell_type": "markdown",
   "id": "d5f38db4",
   "metadata": {},
   "source": [
    "**NOT WORKING** This is I think because it doesn't like the time on it.  It may be counting that as the next day (similar to how a start datetime of 1am on 1/1 didn't return us the 1/1 holiday)\n",
    "\n",
    "**Instead:** convert datetime to datetime (days), then check the list\n"
   ]
  },
  {
   "cell_type": "code",
   "execution_count": null,
   "id": "9a2855ba",
   "metadata": {},
   "outputs": [],
   "source": [
    "pd.to_datetime(df2.index,unit='D').isin(obsholidays).astype(int) #didn't work"
   ]
  },
  {
   "cell_type": "code",
   "execution_count": null,
   "id": "1ff73261",
   "metadata": {},
   "outputs": [],
   "source": [
    "df2.index.date"
   ]
  },
  {
   "cell_type": "code",
   "execution_count": null,
   "id": "9590f2b8",
   "metadata": {},
   "outputs": [],
   "source": [
    "pd.Series(df2.index.date).isin(obsholidays).astype(int)"
   ]
  },
  {
   "cell_type": "code",
   "execution_count": null,
   "id": "846cdcbf",
   "metadata": {},
   "outputs": [],
   "source": [
    "pd.Series(df2.index).dt.date"
   ]
  },
  {
   "cell_type": "code",
   "execution_count": null,
   "id": "32e64f92",
   "metadata": {},
   "outputs": [],
   "source": [
    "obsholidays.date"
   ]
  },
  {
   "cell_type": "code",
   "execution_count": null,
   "id": "2d0a162b",
   "metadata": {},
   "outputs": [],
   "source": [
    "pd.Series(df2.index).dt.date.isin(list(obsholidays.date))"
   ]
  },
  {
   "cell_type": "markdown",
   "id": "1dc92f56",
   "metadata": {},
   "source": [
    "**Notes:** both these really seemed to need to be converted to dates, then compared"
   ]
  },
  {
   "cell_type": "code",
   "execution_count": null,
   "id": "f9c6221c",
   "metadata": {},
   "outputs": [],
   "source": [
    "#convert index to series to grabe date then use isin \n",
    "#(needs to be series, else getting date converts to Numpy array which can't use isin *insert dramatic sigh here*\n",
    "pd.Series(df2.index).dt.date.isin(obsholidays.date).astype(int)"
   ]
  },
  {
   "cell_type": "code",
   "execution_count": null,
   "id": "959111b7",
   "metadata": {},
   "outputs": [],
   "source": [
    "#let's try this again!\n",
    "df2['is_obs_holiday'] = pd.Series(df2.index,index=df2.index).dt.date.isin(obsholidays.date).astype(int)"
   ]
  },
  {
   "cell_type": "code",
   "execution_count": null,
   "id": "111f19eb",
   "metadata": {},
   "outputs": [],
   "source": [
    "df2.is_obs_holiday.mean()"
   ]
  },
  {
   "cell_type": "markdown",
   "id": "0f4dfc17",
   "metadata": {},
   "source": [
    "#### Combine prep into function"
   ]
  },
  {
   "cell_type": "code",
   "execution_count": null,
   "id": "e74e8323",
   "metadata": {},
   "outputs": [],
   "source": [
    "from pandas.tseries.holiday import USFederalHolidayCalendar\n",
    "\n",
    "def create_day_columns(df2):\n",
    "    '''\n",
    "    Expects the cleaned ERCOT dataframe, returns the dataframe with new columns for:\n",
    "    - dow: Day of week (category EX: Monday)\n",
    "    - is_weekday: 1 if day is a weekday (M-F), else 0\n",
    "    \n",
    "    '''\n",
    "    #create day of week category\n",
    "    df2['dow'] = df2.index.day_name()\n",
    "    #create bool is_weekday column\n",
    "    df2['is_weekday'] = df2.dow.apply(lambda x: 0 if x in (['Saturday','Sunday']) else 1)\n",
    "    \n",
    "    #get holiday information\n",
    "    start = df2.index[0] - datetime.timedelta(days=1) #this is need b/c it will skip 1/1/2010 (I think b/c it starts at one hour into that day)\n",
    "    end = df2.index[-1] + datetime.timedelta(days=1)\n",
    "    obsholidays = cal.holidays(start, end) #returns datetime index\n",
    "    #Create is observed holiday column\n",
    "    df2['is_obs_holiday'] = pd.Series(df2.index,index=df2.index).dt.date.isin(obsholidays.date).astype(int)\n",
    "    \n",
    "    return df2\n",
    "    "
   ]
  },
  {
   "cell_type": "code",
   "execution_count": null,
   "id": "801eae92",
   "metadata": {},
   "outputs": [],
   "source": [
    "test_holiday = pd.read_csv('coast_df.csv')\n",
    "test_holiday = clean_ercot_datetime(test_holiday)\n",
    "test_holiday = create_day_columns(test_holiday)\n",
    "test_holiday"
   ]
  },
  {
   "cell_type": "markdown",
   "id": "8c678d83",
   "metadata": {},
   "source": [
    "### Combine into Prep Ercot function"
   ]
  },
  {
   "cell_type": "code",
   "execution_count": null,
   "id": "9bd7182e",
   "metadata": {},
   "outputs": [],
   "source": [
    "def prep_ercot():\n",
    "    '''\n",
    "    Preps and the ercot dataframe - requires coast_df.csv file in working directory\n",
    "    \n",
    "    Returns: Pandas Dataframe\n",
    "    '''\n",
    "    #load ercot data\n",
    "    df = pd.read_csv('coast_df.csv')\n",
    "    \n",
    "    #clean up datetime info\n",
    "    df = clean_ercot_datetime(df)\n",
    "    \n",
    "    #create new day type features\n",
    "    df = create_day_columns(df)\n",
    "    \n",
    "    return(df)\n",
    "    "
   ]
  },
  {
   "cell_type": "markdown",
   "id": "ec02fe94",
   "metadata": {},
   "source": [
    "##### Test function"
   ]
  },
  {
   "cell_type": "code",
   "execution_count": null,
   "id": "07f3728f",
   "metadata": {},
   "outputs": [],
   "source": [
    "df = prep_ercot()"
   ]
  },
  {
   "cell_type": "code",
   "execution_count": null,
   "id": "073307e9",
   "metadata": {},
   "outputs": [],
   "source": [
    "df"
   ]
  },
  {
   "cell_type": "code",
   "execution_count": null,
   "id": "cfb4ceb6",
   "metadata": {},
   "outputs": [],
   "source": [
    "df.info()"
   ]
  },
  {
   "cell_type": "code",
   "execution_count": null,
   "id": "f38e43d9",
   "metadata": {},
   "outputs": [],
   "source": [
    "#STORE for now\n",
    "df.to_csv('prepped_ercot.csv')"
   ]
  },
  {
   "cell_type": "code",
   "execution_count": null,
   "id": "2b257534",
   "metadata": {},
   "outputs": [],
   "source": [
    "#now confirm I can pull it\n",
    "test = pd.read_csv('prepped_ercot.csv')\n",
    "test"
   ]
  },
  {
   "cell_type": "code",
   "execution_count": null,
   "id": "b2316c64",
   "metadata": {},
   "outputs": [],
   "source": [
    "#best pull method\n",
    "test = pd.read_csv('prepped_ercot.csv',index_col='datetime')\n",
    "test"
   ]
  },
  {
   "cell_type": "code",
   "execution_count": null,
   "id": "fb4144d1",
   "metadata": {},
   "outputs": [],
   "source": [
    "test.info()"
   ]
  },
  {
   "cell_type": "code",
   "execution_count": null,
   "id": "a90eff08",
   "metadata": {},
   "outputs": [],
   "source": [
    "test.index"
   ]
  },
  {
   "cell_type": "code",
   "execution_count": null,
   "id": "c57a032a",
   "metadata": {},
   "outputs": [],
   "source": [
    "test2 = pd.read_csv('prepped_ercot.csv',index_col='datetime',parse_dates=['datetime'])"
   ]
  },
  {
   "cell_type": "code",
   "execution_count": null,
   "id": "0668804e",
   "metadata": {},
   "outputs": [],
   "source": [
    "test2.info()"
   ]
  },
  {
   "cell_type": "code",
   "execution_count": null,
   "id": "6c9b27c9",
   "metadata": {},
   "outputs": [],
   "source": [
    "def get_ercot_df():\n",
    "    '''\n",
    "    Retrieves ERCOT data from local csv, and returns as dataframe\n",
    "    '''\n",
    "    return pd.read_csv('prepped_ercot.csv',index_col='datetime',parse_dates=['datetime'])\n",
    "    "
   ]
  },
  {
   "cell_type": "code",
   "execution_count": null,
   "id": "b42e31fd",
   "metadata": {},
   "outputs": [],
   "source": [
    "df3 = get_ercot_df()\n",
    "df3.info()"
   ]
  },
  {
   "cell_type": "markdown",
   "id": "99d5b7fc",
   "metadata": {},
   "source": [
    "##### Trim dataframe"
   ]
  },
  {
   "cell_type": "code",
   "execution_count": null,
   "id": "c8cc61c5",
   "metadata": {},
   "outputs": [],
   "source": [
    "df3.index.min()"
   ]
  },
  {
   "cell_type": "code",
   "execution_count": null,
   "id": "e3bc84e0",
   "metadata": {},
   "outputs": [],
   "source": [
    "df3.index.max()"
   ]
  },
  {
   "cell_type": "code",
   "execution_count": null,
   "id": "280413b9",
   "metadata": {},
   "outputs": [],
   "source": [
    "df3.tail()"
   ]
  },
  {
   "cell_type": "code",
   "execution_count": null,
   "id": "6876c139",
   "metadata": {},
   "outputs": [],
   "source": [
    "df3.loc['2010-01':'2022-06']"
   ]
  },
  {
   "cell_type": "code",
   "execution_count": null,
   "id": "326bd077",
   "metadata": {},
   "outputs": [],
   "source": [
    "df3 = df3.loc['2010-01':'2022-06']"
   ]
  },
  {
   "cell_type": "code",
   "execution_count": null,
   "id": "73db09fa",
   "metadata": {},
   "outputs": [],
   "source": [
    "df3.index.min()"
   ]
  },
  {
   "cell_type": "code",
   "execution_count": null,
   "id": "44db2dcd",
   "metadata": {},
   "outputs": [],
   "source": [
    "df3.index.max()"
   ]
  },
  {
   "cell_type": "markdown",
   "id": "42541c62",
   "metadata": {},
   "source": [
    "##### Now look at Nans"
   ]
  },
  {
   "cell_type": "code",
   "execution_count": null,
   "id": "ca5095b9",
   "metadata": {},
   "outputs": [],
   "source": [
    "test2[test2.ercot_load.isna()]"
   ]
  },
  {
   "cell_type": "code",
   "execution_count": null,
   "id": "a87e0fff",
   "metadata": {},
   "outputs": [],
   "source": [
    "test2['2016-11-06':'2016-11-07']"
   ]
  }
 ],
 "metadata": {
  "kernelspec": {
   "display_name": "Python 3 (ipykernel)",
   "language": "python",
   "name": "python3"
  },
  "language_info": {
   "codemirror_mode": {
    "name": "ipython",
    "version": 3
   },
   "file_extension": ".py",
   "mimetype": "text/x-python",
   "name": "python",
   "nbconvert_exporter": "python",
   "pygments_lexer": "ipython3",
   "version": "3.9.7"
  }
 },
 "nbformat": 4,
 "nbformat_minor": 5
}
