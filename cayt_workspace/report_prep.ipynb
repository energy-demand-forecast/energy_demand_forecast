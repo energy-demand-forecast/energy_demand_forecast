{
 "cells": [
  {
   "cell_type": "code",
   "execution_count": 29,
   "id": "a4a6afb0",
   "metadata": {},
   "outputs": [],
   "source": [
    "#Basics\n",
    "import pandas as pd\n",
    "import numpy as np\n",
    "import itertools\n",
    "\n",
    "#Time series \n",
    "import datetime\n",
    "from pandas.tseries.holiday import USFederalHolidayCalendar\n",
    "from prophet import Prophet\n",
    "from prophet.diagnostics import cross_validation\n",
    "from prophet.diagnostics import performance_metrics\n",
    "\n",
    "# Ignoring warning messages from python\n",
    "import logging, sys\n",
    "logging.disable(logging.INFO)\n",
    "# logging.disable(sys.maxsize)\n",
    "\n",
    "import warnings\n",
    "warnings.filterwarnings('ignore')\n",
    "\n",
    "#Modules\n",
    "import wrangle as wr"
   ]
  },
  {
   "cell_type": "markdown",
   "id": "fb219c8d",
   "metadata": {},
   "source": [
    "<div class=\"alert alert-info\"><b>Model Evaluation:  These models will be evalutated using root-mean-square errorr (RMSE) and mean absolute percentage error (MAPE) on a 1 day and 3 day basis.</b>\n",
    "    <ul>\n",
    "        <li><b>RMSE</b> allows us to see the overall error of the model in the energy load units (MW).</li>\n",
    "        <li><b>MAPE</b> complements that by telling us how accurate the model is on a percentage basis.  This is important as the energy load varies greatly throughout the year, so a 1000 MW RMSE on a hot summer day will have a much lower MAPE percentage than a 1000 MW RMSE on a comfortable Saturday in the Fall.</li>\n",
    "        <li>The <b>3 day metrics</b> will tell us the overall performance of the 3 day forecast.  However, we expect the 3rd day to be less accurate than the 1st day and production models will be re-run on a daily or sub-daily basis. For that reason, we also will look at <b>1 day metrics</b> to see the model performance over the first day only.</li>\n",
    "    </ul></div>"
   ]
  },
  {
   "cell_type": "markdown",
   "id": "912a9fd1",
   "metadata": {},
   "source": [
    "<div class=\"alert alert-info\"><b>Cross-Validation Notes:</b><br><br>Cross validation was performed on a sliding window.  Models were trained on <b>4 year initial windows</b>, with a <b>forecasting horizon of 3 days</b>.  Due to the large amount of data we had available, we minimized processing time by using a <b>36 day sliding offset</b>.  A 36 day offset ensured that our forecasting window started at different days of the week and rotated through different parts of the month. <br><br> The downside to this approach is that it is possible the model is not tested over more anomalous time periods (such as holidays or major weather events like Hurrican Harvey).  A smaller sliding offset (such as 1 or 2 days) would catch those time periods, however it would require much more processing time. </div>"
   ]
  },
  {
   "cell_type": "markdown",
   "id": "3170a4d1",
   "metadata": {},
   "source": [
    "### Prophet Models\n",
    "\n",
    "**Note:** You will notice that we re-acquire the dataframes in this section.  Prophet requires time zone naive inputs, however we wanted our explore section above to display CST time zones for readability.\n",
    "\n",
    "<div class=\"alert alert-danger\"><b>Final Report Prep:  Make sure those two get prophet functions (seen in next cell) are in the main wrangle file.  I have not added them yet as I'm not sure if Greg has all his changes in there or not. - Cayt</b></div>"
   ]
  },
  {
   "cell_type": "code",
   "execution_count": 14,
   "id": "9b98893a",
   "metadata": {},
   "outputs": [],
   "source": [
    "#Acquire data\n",
    "dfr = wr.get_prophet_df_w_meantemp()\n",
    "#Filter train based on CST time (EOY 2017, time zone naive UTC time is in this df)\n",
    "trainr = dfr[dfr.ds < '2018-01-01 06:00:00']\n",
    "testr = dfr[dfr.ds > '2014-01-01 04:00:00']\n",
    "\n",
    "#Create df w/o regression column\n",
    "train = trainr[['ds','y']].copy()"
   ]
  },
  {
   "cell_type": "code",
   "execution_count": 4,
   "id": "839e73a0",
   "metadata": {},
   "outputs": [],
   "source": [
    "#Set metrics to evaluate\n",
    "metrics = ['rmse','mape']"
   ]
  },
  {
   "cell_type": "markdown",
   "id": "40336530",
   "metadata": {},
   "source": [
    "##### Basic Prophet model\n",
    "\n",
    "<div class='alert alert-success'>Uses default Prophet settings:\n",
    "<ul>\n",
    "    <li>Auto for all seasonality</li>\n",
    "    <li>No holidays</li>\n",
    "    <li>No regression</li>\n",
    "    </ul>\n",
    "    </div>"
   ]
  },
  {
   "cell_type": "code",
   "execution_count": 5,
   "id": "6b1e8013",
   "metadata": {},
   "outputs": [],
   "source": [
    "#Create and Fit Basic Prophet model\n",
    "model = Prophet().fit(train)\n",
    "\n",
    "#Create cross-validation matrix\n",
    "df_cv = cross_validation(model,initial='1461 days', period='36 days', horizon = '3 days',disable_tqdm=True)\n",
    "\n",
    "#Get 1 and 3 day model performance\n",
    "df_p_1d = performance_metrics(df_cv,rolling_window=.33,metrics=metrics)\n",
    "df_p_3d = performance_metrics(df_cv,rolling_window=1,metrics=metrics)"
   ]
  },
  {
   "cell_type": "code",
   "execution_count": 6,
   "id": "0d9dbcb3",
   "metadata": {},
   "outputs": [
    {
     "name": "stdout",
     "output_type": "stream",
     "text": [
      "\u001b[1mBasic Prophet model performance:\u001b[0m\n",
      "1 day rmse: 1220.0 MW\n",
      "1 day mape: 8.1%\n",
      "3 day rmse: 1302.0 MW\n",
      "3 day mape: 8.5%\n"
     ]
    }
   ],
   "source": [
    "#print model results\n",
    "wr.print_model_results('Basic Prophet',df_p_1d,df_p_3d)"
   ]
  },
  {
   "cell_type": "markdown",
   "id": "cf399276",
   "metadata": {},
   "source": [
    "<div class=\"alert alert-danger\"><b>Final Report Prep:  Need to add this new function to wrangle, then update the above line to reference wrangle.</b></div>"
   ]
  },
  {
   "cell_type": "markdown",
   "id": "fb76c30d",
   "metadata": {},
   "source": [
    "<div class='alert alert-success'><b>Seasonality Notes:</b>\n",
    "<ul>\n",
    "    <li>The auto seasonality set a scale of 10 for the yearly, weekly and daily seasons.  Based off our industry knowledge and exploration of the data, we expect the daily and weekly seasonalities to carry a higher weight than the yearly seasonality.  In addition, we are concerned that yearly seasonality is a proxy for a temperature regressor and that including both may be detrimental to the model.</li>\n",
    "    <li>The yearly fourier order of 10 seemed quite high compared to the weekly order of 3 and daily order of 4.</li>\n",
    "    <li>We want all seasonalities to be additive.</li>\n",
    "    </ul>\n",
    "</div>"
   ]
  },
  {
   "cell_type": "markdown",
   "id": "04bb68b9",
   "metadata": {},
   "source": [
    "##### Prophet Model v2 - Hyperparameter first pass \n",
    "\n",
    "\n",
    "<div class='alert alert-success'>Prophet settings:\n",
    "<ul>\n",
    "    <li>Remove auto-seasonality</li>\n",
    "    <li>Manually add seasonality:\n",
    "    <ul>\n",
    "        <li>daily fourier order of 6, with a scale of 30</li>\n",
    "        <li>weekly fourier order of 6, with a scale of 30</li>\n",
    "        <li>yearly fourier order of 6, with a scale of 10</li>\n",
    "        <li>NOTES: choose a higher daily and weekly order and scale, while lowering yearly scale.\n",
    "        </ul>\n",
    "    </li>\n",
    "    <li>Added US Federal observed holidays</li>\n",
    "    <li>Added mean temperature regressor</li>\n",
    "    </ul>\n",
    "    </div>"
   ]
  },
  {
   "cell_type": "code",
   "execution_count": 7,
   "id": "7d51dbff",
   "metadata": {},
   "outputs": [
    {
     "name": "stderr",
     "output_type": "stream",
     "text": [
      "/opt/homebrew/anaconda3/lib/python3.9/site-packages/pandas/core/generic.py:5516: SettingWithCopyWarning: \n",
      "A value is trying to be set on a copy of a slice from a DataFrame.\n",
      "Try using .loc[row_indexer,col_indexer] = value instead\n",
      "\n",
      "See the caveats in the documentation: https://pandas.pydata.org/pandas-docs/stable/user_guide/indexing.html#returning-a-view-versus-a-copy\n",
      "  self[name] = value\n"
     ]
    }
   ],
   "source": [
    "#Get US holidays\n",
    "only_holidays = wr.get_holiday_df(trainr)"
   ]
  },
  {
   "cell_type": "code",
   "execution_count": 8,
   "id": "54bd5a7f",
   "metadata": {},
   "outputs": [
    {
     "data": {
      "application/vnd.jupyter.widget-view+json": {
       "model_id": "dac597ccf5ee41d7a3de9b4ff594c1ec",
       "version_major": 2,
       "version_minor": 0
      },
      "text/plain": [
       "  0%|          | 0/41 [00:00<?, ?it/s]"
      ]
     },
     "metadata": {},
     "output_type": "display_data"
    },
    {
     "ename": "TypeError",
     "evalue": "print_model_results() got an unexpected keyword argument 'disable_tqdm'",
     "output_type": "error",
     "traceback": [
      "\u001b[0;31m---------------------------------------------------------------------------\u001b[0m",
      "\u001b[0;31mTypeError\u001b[0m                                 Traceback (most recent call last)",
      "\u001b[0;32m/var/folders/dn/dr6y15951wq03xbh2xr9khq40000gn/T/ipykernel_25724/3687323725.py\u001b[0m in \u001b[0;36m<module>\u001b[0;34m\u001b[0m\n\u001b[1;32m     36\u001b[0m \u001b[0;34m\u001b[0m\u001b[0m\n\u001b[1;32m     37\u001b[0m \u001b[0;31m#print model results\u001b[0m\u001b[0;34m\u001b[0m\u001b[0;34m\u001b[0m\u001b[0m\n\u001b[0;32m---> 38\u001b[0;31m \u001b[0mwr\u001b[0m\u001b[0;34m.\u001b[0m\u001b[0mprint_model_results\u001b[0m\u001b[0;34m(\u001b[0m\u001b[0;34m'Prophet - First Hyperparameter Pass'\u001b[0m\u001b[0;34m,\u001b[0m\u001b[0mdf_v2_1d\u001b[0m\u001b[0;34m,\u001b[0m\u001b[0mdf_v2_3d\u001b[0m\u001b[0;34m,\u001b[0m\u001b[0mdisable_tqdm\u001b[0m\u001b[0;34m=\u001b[0m\u001b[0;32mTrue\u001b[0m\u001b[0;34m)\u001b[0m\u001b[0;34m\u001b[0m\u001b[0;34m\u001b[0m\u001b[0m\n\u001b[0m",
      "\u001b[0;31mTypeError\u001b[0m: print_model_results() got an unexpected keyword argument 'disable_tqdm'"
     ]
    }
   ],
   "source": [
    "#Create and fit model\n",
    "\n",
    "#Create model\n",
    "m = Prophet(yearly_seasonality=False,\n",
    "            weekly_seasonality=False,\n",
    "            daily_seasonality=False,\n",
    "            holidays=only_holidays)\n",
    "#Add Seasonality\n",
    "m = m.add_seasonality(name='daily', \n",
    "                      period=1, \n",
    "                      fourier_order=6,\n",
    "                      prior_scale=30\n",
    "                     )\n",
    "\n",
    "m = m.add_seasonality(name='weekly', \n",
    "                      period=7, \n",
    "                      fourier_order=6,\n",
    "                      prior_scale=30\n",
    "                     )\n",
    "m = m.add_seasonality(name='yearly', \n",
    "                      period=365.25, \n",
    "                      fourier_order=6,\n",
    "                      prior_scale=10\n",
    "                     )\n",
    "#Add Regressor\n",
    "m = m.add_regressor('mean_temp')\n",
    "\n",
    "#fit model\n",
    "m.fit(trainr)\n",
    "\n",
    "#Perform cross-validation\n",
    "df_cv_v2 = cross_validation(m, initial='1461 days', period='36 days', horizon = '3 days') \n",
    "#Get performance metrics\n",
    "df_v2_1d = performance_metrics(df_cv_v2, rolling_window=.33, metrics=metrics)\n",
    "df_v2_3d = performance_metrics(df_cv_v2, rolling_window=1, metrics=metrics)\n"
   ]
  },
  {
   "cell_type": "code",
   "execution_count": 9,
   "id": "ee2abde6",
   "metadata": {},
   "outputs": [
    {
     "name": "stdout",
     "output_type": "stream",
     "text": [
      "\u001b[1mProphet - First Hyperparameter Pass model performance:\u001b[0m\n",
      "1 day rmse: 1191.0 MW\n",
      "1 day mape: 8.0%\n",
      "3 day rmse: 1279.0 MW\n",
      "3 day mape: 8.4%\n"
     ]
    }
   ],
   "source": [
    "#print model results\n",
    "wr.print_model_results('Prophet - First Hyperparameter Pass',df_v2_1d,df_v2_3d)"
   ]
  },
  {
   "cell_type": "markdown",
   "id": "f58b3d1c",
   "metadata": {},
   "source": [
    "##### Prophet post-Hyperparameter tuning\n",
    "\n",
    "**Note:** While we would have preferred to run more hyperparameter combinations all at once, we were limited by the processing time.  We chose to do smaller batches of hyperparameters so that we could perform more iterations while still maximizing the combinations.\n",
    "\n",
    "<div class='alert alert-info'><b>Hyperparameter Tuning - Round 1 - 48 models</b>\n",
    "<br><br><u>Hyperparameters:</u>\n",
    "    <ul>\n",
    "        <li>Remove yearly seasonality as it is a proxy for the temperature regressor. We suspect the two are not independent.</li>\n",
    "        <li>Keep the mean temperature as a regressor.</li>\n",
    "        <li>Try multiple scales [10,20,30] and fourier orders [2,3] for daily and weekly seasonalities</li>\n",
    "        </ul>\n",
    "\n",
    "<br><b>Results:</b> \n",
    "<ul>\n",
    "    <li>This performed significantly worse than the first pass, with the highest performing model having a 3 day MAPE of 13.2%. <b>Action:</b> Re-add in the yearly seasonality</li>\n",
    "    <li>Seasonal scales of 10 across the board performed the best - which may be due to using the default holiday and regressor scale.  <b>Action:</b> Go with lower seasonal scales. </li>\n",
    "    <li>The top performing models all had daily and weekly fourier orders of 3. <b>Action:</b> Try fourier orders of 3+.</li>\n",
    "    </ul>\n",
    "</div>\n",
    "\n",
    "<div class='alert alert-info'><b>Hyperparameter Tuning - Round 2 - 36 models</b>\n",
    "<br><br><u>Hyperparameters:</u>\n",
    "    <ul>\n",
    "        <li>Added yearly seasonality with scale of 5 and 10</li>\n",
    "        <li>Use a daily and weekly scale of 10</li>\n",
    "        <li>Use daily and yearly fourier orders of 3-5, and a weekly fourier order of 3 and 4.</li>\n",
    "        </ul>\n",
    "\n",
    "<br><b>Results:</b> \n",
    "<ul>\n",
    "    <li>Significant improvement in 3 day MAPE from the first round of models, with the best at 8.2%. <b>Action:</b> Keep yearly seasonality</li>\n",
    "    <li>Top models contained a daily fourier order of 5. <b>Action:</b> Try 5+ in next round. </li>\n",
    "    <li>Top models contained a yearly fourier order of 3. <b>Action:</b> Try 2 and 3 in next round. </li>\n",
    "    <li>Mixed results on yearly scale options of 5 and 10 and weekly order of 3 and 4. Slight edge for a scale of 5 and order of 3.</li>\n",
    "    </ul>\n",
    "</div>\n",
    "\n",
    "<div class='alert alert-info'><b>Hyperparameter Tuning - Round 3 - 12 models</b>\n",
    "<br><br><u>Hyperparameters:</u>\n",
    "    <ul>\n",
    "        <li>Keep daily, weekly, yearly scales of 10, 10 and 5, respectively.  Try regressor scales of 10 and 15.</li>\n",
    "        <li>Use a daily fourier order of 5-7</li>\n",
    "        <li>Use yearly fourier order of 2 and 3.</li>\n",
    "        </ul>\n",
    "\n",
    "<br><b>Results:</b> \n",
    "<ul>\n",
    "    <li>Yearly fourier order of 3 consistently outperformed. <b>Action:</b> Keep yearly at 3.</li>\n",
    "    <li>Regressor scales of 10 mostly outperformed scales of 15. <b>Action:</b> Keep regressor scale of 10. </li>\n",
    "    <li>Mixed results on daily fourier order, however 5 performed best in situations with the last two bullets. <b>Action:</b> Keep daily order of 5</li>\n",
    "    </ul>\n",
    "</div>\n",
    "\n",
    "<div class='alert alert-info'><b>Hyperparameter Tuning - Round 4 - 24 models</b>\n",
    "<br><br><u>Hyperparameters:</u>\n",
    "    <ul>\n",
    "        <li>Try smaller scale changes of 8 and 10 for daily, 8, 10 and 12 for weekly and 5 and 7 for yearly. Keep regressor at 10.</li>\n",
    "        <li>Use a daily fourier order of 5 and a yearly fourier order of 3</li>\n",
    "        <li>Use weekly fourier order of 3 and 5.</li>\n",
    "        </ul>\n",
    "\n",
    "<br><b>Results:</b> \n",
    "<ul>\n",
    "    <li>Weekly fourier order of 5 consistently outperformed. <b>Action:</b> Potentially try 5+.</li>\n",
    "    <li>Yearly scale of 7 consistently outperformed <b>Action:</b> Keep yearly scale of 7, consider trying 10 again on final round since it performed very closesly to 5 in the past. </li>\n",
    "    <li>Given the above bullets, daily and weekly scales of 10 performed best. <b>Action:</b> Keep at 10</li>\n",
    "    </ul>\n",
    "</div>\n",
    "\n",
    "<div class='alert alert-info'><b>Hyperparameter Tuning - Round 5 (Final) - 12 models</b>\n",
    "<br><br><u>Hyperparameters:</u>\n",
    "    <ul>\n",
    "        <li>Daily, weekly and regressor scales at 10. Yearly scales at 7 and 10.</li>\n",
    "        <li>Daily fourier order of 5, yearly fourier order of 3.  Weekly fourier order of 5-10.</li>\n",
    "        <li>US Federal Observed holidays</li>\n",
    "        <li>Mean Temperature regressor</li>\n",
    "        </ul>\n",
    "\n",
    "<br><b>Results:</b> \n",
    "<ul>\n",
    "    <li></li>\n",
    "    <li></li>\n",
    "    <li></li>\n",
    "    </ul>\n",
    "</div>\n",
    "\n",
    "<div class='alert alert-success'><b>Top Performing Model</b>\n",
    "<br><br><u>Hyperparameters:</u>\n",
    "    <ul>\n",
    "        <li>Daily, weekly and regressor scales at 10. Yearly scales at <b>???</b>.</li>\n",
    "        <li>Daily fourier order of 5, yearly fourier order of 3.  Weekly fourier order of <b>???</b></li>\n",
    "        <li>US Federal Observed holidays</li>\n",
    "        <li>Mean Temperature regressor</li>\n",
    "        </ul>\n",
    "</div>"
   ]
  },
  {
   "cell_type": "code",
   "execution_count": null,
   "id": "907daa9d",
   "metadata": {},
   "outputs": [],
   "source": [
    "#Create the model\n",
    "m = Prophet(yearly_seasonality=False,\n",
    "            weekly_seasonality=False,\n",
    "            daily_seasonality=False,\n",
    "            holidays=only_holidays)\n",
    "#Add seasonalities\n",
    "m = m.add_seasonality(name='daily', \n",
    "                      period=1, \n",
    "                      fourier_order=5,\n",
    "                      prior_scale=10\n",
    "                     )\n",
    "m = m.add_seasonality(name='weekly', \n",
    "                      period=7, \n",
    "                      fourier_order=,\n",
    "                      prior_scale=10\n",
    "                     )\n",
    "m = m.add_seasonality(name='yearly', \n",
    "                      period=365.25, \n",
    "                      fourier_order=3,\n",
    "                      prior_scale=\n",
    "                     )\n",
    "#Add Regressors\n",
    "m = m.add_regressor('mean_temp')\n",
    "\n",
    "#fit model\n",
    "m.fit(trainr)\n",
    "\n",
    "#Perform cross-validation\n",
    "df_cv_final = cross_validation(m, initial='1461 days', period='36 days', horizon = '3 days',disable_tqdm=True) \n",
    "#Get performance metrics\n",
    "df_final_1d = performance_metrics(df_cv_final, rolling_window=.33, metrics=metrics)\n",
    "df_final_3d = performance_metrics(df_cv_final, rolling_window=1, metrics=metrics)\n",
    "\n",
    "#print model results\n",
    "wr.print_model_results('Tuned Prophet Model',df_final_1d,df_final_3d)"
   ]
  },
  {
   "cell_type": "markdown",
   "id": "03193a58",
   "metadata": {},
   "source": [
    "### Run Model on Test Dataset"
   ]
  },
  {
   "cell_type": "code",
   "execution_count": 15,
   "id": "757eb079",
   "metadata": {},
   "outputs": [
    {
     "name": "stdout",
     "output_type": "stream",
     "text": [
      "<class 'pandas.core.frame.DataFrame'>\n",
      "Int64Index: 74472 entries, 35063 to 109534\n",
      "Data columns (total 3 columns):\n",
      " #   Column     Non-Null Count  Dtype         \n",
      "---  ------     --------------  -----         \n",
      " 0   ds         74472 non-null  datetime64[ns]\n",
      " 1   y          74472 non-null  float64       \n",
      " 2   mean_temp  74472 non-null  float64       \n",
      "dtypes: datetime64[ns](1), float64(2)\n",
      "memory usage: 2.3 MB\n"
     ]
    }
   ],
   "source": [
    "testr.info()"
   ]
  },
  {
   "cell_type": "code",
   "execution_count": 30,
   "id": "610cded5",
   "metadata": {},
   "outputs": [],
   "source": [
    "# Initialize performance dataframe\n",
    "baseline_test_df_1d = pd.DataFrame(columns=['rmse', 'mape'])\n",
    "baseline_test_df_3d = pd.DataFrame(columns=['rmse', 'mape'])\n",
    "\n",
    "#Create cross-validation splits and run baseline on each\n",
    "for i, (train_index, val_index) in enumerate (sws.split(testr)):\n",
    "    # Storing windows in our window function\n",
    "    train_df = testr.iloc[train_index]\n",
    "    val_df = testr.iloc[train_index[-1]+1:val_index[0]+1]\n",
    "    \n",
    "    # Creating a baseline as the last week of each train window\n",
    "    baseline = train_df.iloc[-168:].y.mean()\n",
    "    #Store as predicted values\n",
    "    val_df['yhat'] = baseline\n",
    "\n",
    "    #Get model performance\n",
    "    rmse1 = sqrt(mean_squared_error(val_df.y[:24], val_df.yhat[:24]))\n",
    "    mape1 = wr.mean_absolute_percentage_error(val_df.y[:24], val_df.yhat[:24])\n",
    "    rmse3 = sqrt(mean_squared_error(val_df.y, val_df.yhat))\n",
    "    mape3 = wr.mean_absolute_percentage_error(val_df.y, val_df.yhat)\n",
    "\n",
    "    #store baseline performance in df\n",
    "    perf1 = {'rmse' : rmse1, 'mape':mape1}\n",
    "    perf3 = {'rmse' : rmse3, 'mape':mape3}     \n",
    "    baseline_test_df_1d = baseline_test_df_1d.append(perf1,ignore_index=True)\n",
    "    baseline_test_df_3d = baseline_test_df_3d.append(perf3,ignore_index=True)"
   ]
  },
  {
   "cell_type": "code",
   "execution_count": 31,
   "id": "4fd0a55e",
   "metadata": {},
   "outputs": [
    {
     "name": "stdout",
     "output_type": "stream",
     "text": [
      "\u001b[1mTest Baseline model performance:\u001b[0m\n",
      "1 day rmse: 1685.0 MW\n",
      "1 day mape: 11.9%\n",
      "3 day rmse: 2889.0 MW\n",
      "3 day mape: 18.8%\n"
     ]
    }
   ],
   "source": [
    "wr.print_model_results('Test Baseline',baseline_test_df_1d,baseline_test_df_3d)"
   ]
  },
  {
   "cell_type": "code",
   "execution_count": null,
   "id": "58ca2f3f",
   "metadata": {},
   "outputs": [],
   "source": [
    "#refit same model as above\n",
    "m.fit(testr)\n",
    "#Perform cross-validation\n",
    "df_cv_test = cross_validation(m, initial='1461 days', period='36 days', horizon = '3 days',disable_tqdm=True) \n",
    "#Get performance metrics\n",
    "df_test_1d = performance_metrics(df_cv_test, rolling_window=.33, metrics=metrics)\n",
    "df_test_3d = performance_metrics(df_cv_test, rolling_window=1, metrics=metrics)\n",
    "\n",
    "#print model results\n",
    "wr.print_model_results('Tuned Prophet Model',df_test_1d,df_test_3d)"
   ]
  },
  {
   "cell_type": "code",
   "execution_count": null,
   "id": "e03e92fb",
   "metadata": {},
   "outputs": [],
   "source": []
  },
  {
   "cell_type": "code",
   "execution_count": null,
   "id": "4a38bdcb",
   "metadata": {},
   "outputs": [],
   "source": []
  },
  {
   "cell_type": "code",
   "execution_count": null,
   "id": "8838ea05",
   "metadata": {},
   "outputs": [],
   "source": []
  },
  {
   "cell_type": "markdown",
   "id": "e1b2593b",
   "metadata": {},
   "source": [
    "Recommendations\n",
    "- Review acquisition/prep - find more reliable source of load data. Likely need to look at how it is written\n",
    "- Use previous weather forecasts to actual weather and difference in load to create uncertainty bands\n",
    "- Do more day type patterning for holidays\n",
    "- Run an LSTM model.  Better able to use more historical data for day type patterning, with short term historical data for time series forecasting"
   ]
  },
  {
   "cell_type": "code",
   "execution_count": null,
   "id": "af878bfb",
   "metadata": {},
   "outputs": [],
   "source": []
  },
  {
   "cell_type": "markdown",
   "id": "9b74e823",
   "metadata": {},
   "source": [
    "### REMOVE BELOW IF ALL WENT WELL"
   ]
  },
  {
   "cell_type": "code",
   "execution_count": 19,
   "id": "3db66141",
   "metadata": {},
   "outputs": [],
   "source": [
    "# Setup for the implementation of the SlidingWindowSplitter\n",
    "from sktime.forecasting.model_selection import SlidingWindowSplitter\n",
    "window_length = 1461*24\n",
    "fh = 24*3\n",
    "step_length=36*24\n",
    "#Create Splitter object\n",
    "sws = SlidingWindowSplitter(window_length=window_length, fh=fh, step_length=step_length)"
   ]
  },
  {
   "cell_type": "code",
   "execution_count": 24,
   "id": "3c35e575",
   "metadata": {},
   "outputs": [],
   "source": [
    "from math import sqrt\n",
    "from sklearn.metrics import mean_squared_error"
   ]
  },
  {
   "cell_type": "code",
   "execution_count": null,
   "id": "140b46e8",
   "metadata": {},
   "outputs": [],
   "source": []
  },
  {
   "cell_type": "code",
   "execution_count": null,
   "id": "8638cd61",
   "metadata": {},
   "outputs": [],
   "source": []
  },
  {
   "cell_type": "code",
   "execution_count": null,
   "id": "ca0a7c79",
   "metadata": {},
   "outputs": [],
   "source": [
    "# #PREP Holidays\n",
    "# #create calendar object\n",
    "# cal = USFederalHolidayCalendar()\n",
    "# #get holidays as list of dates\n",
    "# train_holidays = cal.holidays(start=trainr.ds.min(),end=trainr.ds.max())\n",
    "\n",
    "# # Transition to dataframe with holiday, ds columns\n",
    "# holiday_df = pd.DataFrame(trainr.ds)\n",
    "# #For each datetime, get if it lands on a holiday\n",
    "# holiday_df['holiday'] = holiday_df.ds.dt.date.astype(str).isin(train_holidays.astype(str)).astype(int)\n",
    "# #Filter down to just the holidays\n",
    "# only_holidays = holiday_df[holiday_df.holiday==1]\n",
    "# #Convert that column to string\n",
    "# only_holidays.holiday = only_holidays.holiday.astype(str)"
   ]
  }
 ],
 "metadata": {
  "kernelspec": {
   "display_name": "Python 3 (ipykernel)",
   "language": "python",
   "name": "python3"
  },
  "language_info": {
   "codemirror_mode": {
    "name": "ipython",
    "version": 3
   },
   "file_extension": ".py",
   "mimetype": "text/x-python",
   "name": "python",
   "nbconvert_exporter": "python",
   "pygments_lexer": "ipython3",
   "version": "3.9.7"
  }
 },
 "nbformat": 4,
 "nbformat_minor": 5
}
