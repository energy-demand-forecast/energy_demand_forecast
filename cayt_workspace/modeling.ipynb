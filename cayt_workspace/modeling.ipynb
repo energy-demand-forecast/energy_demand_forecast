{
 "cells": [
  {
   "cell_type": "markdown",
   "id": "99cf9c9c",
   "metadata": {},
   "source": [
    "## Modeling\n",
    "\n",
    "### Prophet Research\n",
    "\n",
    "**Install Notes:**\n",
    "- Numpy\n",
    "  - Numpy is 1.23.0\n",
    "  - scipy wants < 1.23.0\n",
    "  - numba wants < 1.21\n",
    "- daal4py\n",
    "  - wants daal==2021.2.3 (which isn't installed)\n",
    "- Plotly\n",
    "  - may need to install to utilize some of the interactive figures\n",
    "\n",
    "**DataFrame Prep:**\n",
    "- Needs Pandas dataframe with 2 columns:\n",
    "  - 'ds': datestamp that pandas recognizes\n",
    "    - Says preferrably YYYY-MM-DD HH:MM:SS for timestamp, but hoping it takes time zone aware stuff\n",
    "  - 'y': the target variable we want to forecast\n",
    "    - if these are the only inputs, then I wonder if we can include temperatures :(\n",
    "\n",
    "**Cross_valdiation:**\n",
    "- Parameters:\n",
    "  - horizon: forecast time period (3 days?)\n",
    "  - initial: initial training period (3 years? - minimum training window?)\n",
    "  - period: spacing between cutoff dates\n",
    "- Example:\n",
    "  - from prophet.diagnostics import cross_validation\n",
    "  - df_cv = cross_validation(m, initial='730 days', period='180 days', horizon = '365 days')\n",
    "\n",
    "  \n",
    "    \n",
    "**Regression:**\n",
    "- Looks like we should be able to add weather data via add_regressors\n",
    "  - Read up on [this article](https://towardsdatascience.com/forecast-model-tuning-with-additional-regressors-in-prophet-ffcbf1777dda)\n",
    "  - Non-continuous variable: would need to bucket temperatures:\n",
    "    - Maybe: is hot day? or is cold day?\n",
    "    - Should this is hot/is cold be based on time of day?  would need to see inflection point for that\n"
   ]
  },
  {
   "cell_type": "markdown",
   "id": "0fe3c1c4",
   "metadata": {},
   "source": [
    "### Prophet Planning:\n",
    "\n",
    "1. Create reshape dataframe function\n",
    "2. Perform Basic Prophet model\n",
    "  - Use default or very basic parameters\n",
    "  - Store performance variables\n",
    "3. Perform Basic Prophet model w/ cross-validation\n",
    "  - Use same parameters as #2\n",
    "  - Add in cross-validation to get aggregated performance\n",
    "  - sliding window if possible\n",
    "4. Modify reshape function to add in a regressor"
   ]
  }
 ],
 "metadata": {
  "kernelspec": {
   "display_name": "Python 3 (ipykernel)",
   "language": "python",
   "name": "python3"
  },
  "language_info": {
   "codemirror_mode": {
    "name": "ipython",
    "version": 3
   },
   "file_extension": ".py",
   "mimetype": "text/x-python",
   "name": "python",
   "nbconvert_exporter": "python",
   "pygments_lexer": "ipython3",
   "version": "3.9.7"
  }
 },
 "nbformat": 4,
 "nbformat_minor": 5
}
