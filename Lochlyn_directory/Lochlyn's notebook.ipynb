{
 "cells": [
  {
   "cell_type": "code",
   "execution_count": 84,
   "id": "b7385144",
   "metadata": {},
   "outputs": [],
   "source": [
    "import pandas as pd\n",
    "import os\n",
    "from datetime import datetime as dt\n",
    "import wrangle\n",
    "import re\n",
    "from pandas.tseries.holiday import USFederalHolidayCalendar\n",
    "import numpy as np\n"
   ]
  },
  {
   "cell_type": "code",
   "execution_count": 2,
   "id": "4258bee0",
   "metadata": {
    "scrolled": true
   },
   "outputs": [
    {
     "data": {
      "text/html": [
       "<div>\n",
       "<style scoped>\n",
       "    .dataframe tbody tr th:only-of-type {\n",
       "        vertical-align: middle;\n",
       "    }\n",
       "\n",
       "    .dataframe tbody tr th {\n",
       "        vertical-align: top;\n",
       "    }\n",
       "\n",
       "    .dataframe thead th {\n",
       "        text-align: right;\n",
       "    }\n",
       "</style>\n",
       "<table border=\"1\" class=\"dataframe\">\n",
       "  <thead>\n",
       "    <tr style=\"text-align: right;\">\n",
       "      <th></th>\n",
       "      <th>Hour Ending</th>\n",
       "      <th>COAST</th>\n",
       "      <th>EAST</th>\n",
       "      <th>FWEST</th>\n",
       "      <th>NORTH</th>\n",
       "      <th>NCENT</th>\n",
       "      <th>SOUTH</th>\n",
       "      <th>SCENT</th>\n",
       "      <th>WEST</th>\n",
       "      <th>ERCOT</th>\n",
       "    </tr>\n",
       "  </thead>\n",
       "  <tbody>\n",
       "    <tr>\n",
       "      <th>4340</th>\n",
       "      <td>06/30/2022 22:00</td>\n",
       "      <td>14543.743791</td>\n",
       "      <td>2317.353423</td>\n",
       "      <td>5021.561581</td>\n",
       "      <td>1508.412332</td>\n",
       "      <td>21016.916699</td>\n",
       "      <td>5195.665749</td>\n",
       "      <td>11277.425213</td>\n",
       "      <td>1676.344944</td>\n",
       "      <td>62557.423731</td>\n",
       "    </tr>\n",
       "    <tr>\n",
       "      <th>4341</th>\n",
       "      <td>06/30/2022 23:00</td>\n",
       "      <td>14065.386852</td>\n",
       "      <td>2139.177590</td>\n",
       "      <td>4927.674302</td>\n",
       "      <td>1402.099350</td>\n",
       "      <td>19729.504600</td>\n",
       "      <td>4975.040599</td>\n",
       "      <td>10505.303075</td>\n",
       "      <td>1570.206421</td>\n",
       "      <td>59314.392788</td>\n",
       "    </tr>\n",
       "    <tr>\n",
       "      <th>4342</th>\n",
       "      <td>06/30/2022 24:00</td>\n",
       "      <td>13484.378935</td>\n",
       "      <td>1968.957888</td>\n",
       "      <td>4853.353997</td>\n",
       "      <td>1301.524698</td>\n",
       "      <td>18321.175210</td>\n",
       "      <td>4614.967884</td>\n",
       "      <td>9591.968920</td>\n",
       "      <td>1458.991228</td>\n",
       "      <td>55595.318760</td>\n",
       "    </tr>\n",
       "  </tbody>\n",
       "</table>\n",
       "</div>"
      ],
      "text/plain": [
       "           Hour Ending         COAST         EAST        FWEST        NORTH  \\\n",
       "4340  06/30/2022 22:00  14543.743791  2317.353423  5021.561581  1508.412332   \n",
       "4341  06/30/2022 23:00  14065.386852  2139.177590  4927.674302  1402.099350   \n",
       "4342  06/30/2022 24:00  13484.378935  1968.957888  4853.353997  1301.524698   \n",
       "\n",
       "             NCENT        SOUTH         SCENT         WEST         ERCOT  \n",
       "4340  21016.916699  5195.665749  11277.425213  1676.344944  62557.423731  \n",
       "4341  19729.504600  4975.040599  10505.303075  1570.206421  59314.392788  \n",
       "4342  18321.175210  4614.967884   9591.968920  1458.991228  55595.318760  "
      ]
     },
     "execution_count": 2,
     "metadata": {},
     "output_type": "execute_result"
    }
   ],
   "source": [
    "df_22 = pd.read_excel('2022 Ercot.xlsx')\n",
    "df_22.tail(3)"
   ]
  },
  {
   "cell_type": "code",
   "execution_count": 3,
   "id": "6bb9c71b",
   "metadata": {},
   "outputs": [
    {
     "data": {
      "text/plain": [
       "(4343, 10)"
      ]
     },
     "execution_count": 3,
     "metadata": {},
     "output_type": "execute_result"
    }
   ],
   "source": [
    "df_22.shape"
   ]
  },
  {
   "cell_type": "code",
   "execution_count": 4,
   "id": "3809078a",
   "metadata": {},
   "outputs": [
    {
     "data": {
      "text/html": [
       "<div>\n",
       "<style scoped>\n",
       "    .dataframe tbody tr th:only-of-type {\n",
       "        vertical-align: middle;\n",
       "    }\n",
       "\n",
       "    .dataframe tbody tr th {\n",
       "        vertical-align: top;\n",
       "    }\n",
       "\n",
       "    .dataframe thead th {\n",
       "        text-align: right;\n",
       "    }\n",
       "</style>\n",
       "<table border=\"1\" class=\"dataframe\">\n",
       "  <thead>\n",
       "    <tr style=\"text-align: right;\">\n",
       "      <th></th>\n",
       "      <th>Hour Ending</th>\n",
       "      <th>COAST</th>\n",
       "      <th>EAST</th>\n",
       "      <th>FWEST</th>\n",
       "      <th>NORTH</th>\n",
       "      <th>NCENT</th>\n",
       "      <th>SOUTH</th>\n",
       "      <th>SCENT</th>\n",
       "      <th>WEST</th>\n",
       "      <th>ERCOT</th>\n",
       "    </tr>\n",
       "  </thead>\n",
       "  <tbody>\n",
       "    <tr>\n",
       "      <th>8757</th>\n",
       "      <td>12/31/2021 22:00</td>\n",
       "      <td>13116.012129</td>\n",
       "      <td>1515.852644</td>\n",
       "      <td>4148.330779</td>\n",
       "      <td>859.408149</td>\n",
       "      <td>10978.547227</td>\n",
       "      <td>3515.077507</td>\n",
       "      <td>6800.707246</td>\n",
       "      <td>1071.686005</td>\n",
       "      <td>42005.621687</td>\n",
       "    </tr>\n",
       "    <tr>\n",
       "      <th>8758</th>\n",
       "      <td>12/31/2021 23:00</td>\n",
       "      <td>12754.392799</td>\n",
       "      <td>1457.080439</td>\n",
       "      <td>4161.355505</td>\n",
       "      <td>831.148872</td>\n",
       "      <td>10578.729201</td>\n",
       "      <td>3368.125857</td>\n",
       "      <td>6497.990404</td>\n",
       "      <td>1049.414195</td>\n",
       "      <td>40698.237272</td>\n",
       "    </tr>\n",
       "    <tr>\n",
       "      <th>8759</th>\n",
       "      <td>12/31/2021 24:00</td>\n",
       "      <td>12386.413060</td>\n",
       "      <td>1415.239264</td>\n",
       "      <td>4119.738722</td>\n",
       "      <td>807.084492</td>\n",
       "      <td>10140.379573</td>\n",
       "      <td>3234.113244</td>\n",
       "      <td>6151.440423</td>\n",
       "      <td>1016.183096</td>\n",
       "      <td>39270.591873</td>\n",
       "    </tr>\n",
       "  </tbody>\n",
       "</table>\n",
       "</div>"
      ],
      "text/plain": [
       "           Hour Ending         COAST         EAST        FWEST       NORTH  \\\n",
       "8757  12/31/2021 22:00  13116.012129  1515.852644  4148.330779  859.408149   \n",
       "8758  12/31/2021 23:00  12754.392799  1457.080439  4161.355505  831.148872   \n",
       "8759  12/31/2021 24:00  12386.413060  1415.239264  4119.738722  807.084492   \n",
       "\n",
       "             NCENT        SOUTH        SCENT         WEST         ERCOT  \n",
       "8757  10978.547227  3515.077507  6800.707246  1071.686005  42005.621687  \n",
       "8758  10578.729201  3368.125857  6497.990404  1049.414195  40698.237272  \n",
       "8759  10140.379573  3234.113244  6151.440423  1016.183096  39270.591873  "
      ]
     },
     "execution_count": 4,
     "metadata": {},
     "output_type": "execute_result"
    }
   ],
   "source": [
    "df_21 = pd.read_excel('2021 Ercot.xlsx')\n",
    "df_21.tail(3)"
   ]
  },
  {
   "cell_type": "code",
   "execution_count": 5,
   "id": "1529e465",
   "metadata": {},
   "outputs": [
    {
     "data": {
      "text/plain": [
       "(8760, 10)"
      ]
     },
     "execution_count": 5,
     "metadata": {},
     "output_type": "execute_result"
    }
   ],
   "source": [
    "df_21.shape"
   ]
  },
  {
   "cell_type": "code",
   "execution_count": 6,
   "id": "2cd4280e",
   "metadata": {},
   "outputs": [
    {
     "data": {
      "text/html": [
       "<div>\n",
       "<style scoped>\n",
       "    .dataframe tbody tr th:only-of-type {\n",
       "        vertical-align: middle;\n",
       "    }\n",
       "\n",
       "    .dataframe tbody tr th {\n",
       "        vertical-align: top;\n",
       "    }\n",
       "\n",
       "    .dataframe thead th {\n",
       "        text-align: right;\n",
       "    }\n",
       "</style>\n",
       "<table border=\"1\" class=\"dataframe\">\n",
       "  <thead>\n",
       "    <tr style=\"text-align: right;\">\n",
       "      <th></th>\n",
       "      <th>Hour Ending</th>\n",
       "      <th>COAST</th>\n",
       "      <th>EAST</th>\n",
       "      <th>FWEST</th>\n",
       "      <th>NORTH</th>\n",
       "      <th>NCENT</th>\n",
       "      <th>SOUTH</th>\n",
       "      <th>SCENT</th>\n",
       "      <th>WEST</th>\n",
       "      <th>ERCOT</th>\n",
       "    </tr>\n",
       "  </thead>\n",
       "  <tbody>\n",
       "    <tr>\n",
       "      <th>8781</th>\n",
       "      <td>12/31/2020 22:00</td>\n",
       "      <td>11560.408167</td>\n",
       "      <td>1680.800823</td>\n",
       "      <td>3925.708218</td>\n",
       "      <td>928.517370</td>\n",
       "      <td>15179.536570</td>\n",
       "      <td>3571.725609</td>\n",
       "      <td>8334.601541</td>\n",
       "      <td>1573.542580</td>\n",
       "      <td>46754.840878</td>\n",
       "    </tr>\n",
       "    <tr>\n",
       "      <th>8782</th>\n",
       "      <td>12/31/2020 23:00</td>\n",
       "      <td>11339.877692</td>\n",
       "      <td>1627.080961</td>\n",
       "      <td>3895.376959</td>\n",
       "      <td>891.856675</td>\n",
       "      <td>14650.060694</td>\n",
       "      <td>3524.972799</td>\n",
       "      <td>8024.802495</td>\n",
       "      <td>1521.383987</td>\n",
       "      <td>45475.412261</td>\n",
       "    </tr>\n",
       "    <tr>\n",
       "      <th>8783</th>\n",
       "      <td>12/31/2020 24:00</td>\n",
       "      <td>11168.525005</td>\n",
       "      <td>1587.730775</td>\n",
       "      <td>3871.535088</td>\n",
       "      <td>861.787382</td>\n",
       "      <td>14198.042157</td>\n",
       "      <td>3503.378353</td>\n",
       "      <td>7826.044794</td>\n",
       "      <td>1486.503788</td>\n",
       "      <td>44503.547341</td>\n",
       "    </tr>\n",
       "  </tbody>\n",
       "</table>\n",
       "</div>"
      ],
      "text/plain": [
       "           Hour Ending         COAST         EAST        FWEST       NORTH  \\\n",
       "8781  12/31/2020 22:00  11560.408167  1680.800823  3925.708218  928.517370   \n",
       "8782  12/31/2020 23:00  11339.877692  1627.080961  3895.376959  891.856675   \n",
       "8783  12/31/2020 24:00  11168.525005  1587.730775  3871.535088  861.787382   \n",
       "\n",
       "             NCENT        SOUTH        SCENT         WEST         ERCOT  \n",
       "8781  15179.536570  3571.725609  8334.601541  1573.542580  46754.840878  \n",
       "8782  14650.060694  3524.972799  8024.802495  1521.383987  45475.412261  \n",
       "8783  14198.042157  3503.378353  7826.044794  1486.503788  44503.547341  "
      ]
     },
     "execution_count": 6,
     "metadata": {},
     "output_type": "execute_result"
    }
   ],
   "source": [
    "df_20 = pd.read_excel('2020 Ercot.xlsx')\n",
    "df_20.tail(3)"
   ]
  },
  {
   "cell_type": "code",
   "execution_count": 7,
   "id": "fd0fde8a",
   "metadata": {},
   "outputs": [
    {
     "data": {
      "text/plain": [
       "(8784, 10)"
      ]
     },
     "execution_count": 7,
     "metadata": {},
     "output_type": "execute_result"
    }
   ],
   "source": [
    "df_20.shape"
   ]
  },
  {
   "cell_type": "code",
   "execution_count": 8,
   "id": "6c833e8f",
   "metadata": {},
   "outputs": [
    {
     "data": {
      "text/html": [
       "<div>\n",
       "<style scoped>\n",
       "    .dataframe tbody tr th:only-of-type {\n",
       "        vertical-align: middle;\n",
       "    }\n",
       "\n",
       "    .dataframe tbody tr th {\n",
       "        vertical-align: top;\n",
       "    }\n",
       "\n",
       "    .dataframe thead th {\n",
       "        text-align: right;\n",
       "    }\n",
       "</style>\n",
       "<table border=\"1\" class=\"dataframe\">\n",
       "  <thead>\n",
       "    <tr style=\"text-align: right;\">\n",
       "      <th></th>\n",
       "      <th>Hour Ending</th>\n",
       "      <th>COAST</th>\n",
       "      <th>EAST</th>\n",
       "      <th>FWEST</th>\n",
       "      <th>NORTH</th>\n",
       "      <th>NCENT</th>\n",
       "      <th>SOUTH</th>\n",
       "      <th>SCENT</th>\n",
       "      <th>WEST</th>\n",
       "      <th>ERCOT</th>\n",
       "    </tr>\n",
       "  </thead>\n",
       "  <tbody>\n",
       "    <tr>\n",
       "      <th>8757</th>\n",
       "      <td>12/31/2019 22:00</td>\n",
       "      <td>10592.539874</td>\n",
       "      <td>1403.990584</td>\n",
       "      <td>3639.463899</td>\n",
       "      <td>819.394012</td>\n",
       "      <td>12716.274141</td>\n",
       "      <td>2930.563230</td>\n",
       "      <td>5968.287603</td>\n",
       "      <td>1260.087906</td>\n",
       "      <td>39330.601248</td>\n",
       "    </tr>\n",
       "    <tr>\n",
       "      <th>8758</th>\n",
       "      <td>12/31/2019 23:00</td>\n",
       "      <td>10304.624870</td>\n",
       "      <td>1387.051521</td>\n",
       "      <td>3630.184859</td>\n",
       "      <td>804.714775</td>\n",
       "      <td>12413.090126</td>\n",
       "      <td>2829.531899</td>\n",
       "      <td>5769.745220</td>\n",
       "      <td>1238.412254</td>\n",
       "      <td>38377.355525</td>\n",
       "    </tr>\n",
       "    <tr>\n",
       "      <th>8759</th>\n",
       "      <td>12/31/2019 24:00</td>\n",
       "      <td>10019.771129</td>\n",
       "      <td>1357.841863</td>\n",
       "      <td>3628.068853</td>\n",
       "      <td>790.865357</td>\n",
       "      <td>12084.775970</td>\n",
       "      <td>2747.692143</td>\n",
       "      <td>5614.231555</td>\n",
       "      <td>1217.592105</td>\n",
       "      <td>37460.838975</td>\n",
       "    </tr>\n",
       "  </tbody>\n",
       "</table>\n",
       "</div>"
      ],
      "text/plain": [
       "           Hour Ending         COAST         EAST        FWEST       NORTH  \\\n",
       "8757  12/31/2019 22:00  10592.539874  1403.990584  3639.463899  819.394012   \n",
       "8758  12/31/2019 23:00  10304.624870  1387.051521  3630.184859  804.714775   \n",
       "8759  12/31/2019 24:00  10019.771129  1357.841863  3628.068853  790.865357   \n",
       "\n",
       "             NCENT        SOUTH        SCENT         WEST         ERCOT  \n",
       "8757  12716.274141  2930.563230  5968.287603  1260.087906  39330.601248  \n",
       "8758  12413.090126  2829.531899  5769.745220  1238.412254  38377.355525  \n",
       "8759  12084.775970  2747.692143  5614.231555  1217.592105  37460.838975  "
      ]
     },
     "execution_count": 8,
     "metadata": {},
     "output_type": "execute_result"
    }
   ],
   "source": [
    "df_19 = pd.read_excel('2019 Ercot.xlsx')\n",
    "df_19.tail(3)"
   ]
  },
  {
   "cell_type": "code",
   "execution_count": 9,
   "id": "773073dc",
   "metadata": {},
   "outputs": [
    {
     "data": {
      "text/plain": [
       "(8760, 10)"
      ]
     },
     "execution_count": 9,
     "metadata": {},
     "output_type": "execute_result"
    }
   ],
   "source": [
    "df_19.shape"
   ]
  },
  {
   "cell_type": "code",
   "execution_count": 10,
   "id": "964f9a8e",
   "metadata": {},
   "outputs": [
    {
     "data": {
      "text/html": [
       "<div>\n",
       "<style scoped>\n",
       "    .dataframe tbody tr th:only-of-type {\n",
       "        vertical-align: middle;\n",
       "    }\n",
       "\n",
       "    .dataframe tbody tr th {\n",
       "        vertical-align: top;\n",
       "    }\n",
       "\n",
       "    .dataframe thead th {\n",
       "        text-align: right;\n",
       "    }\n",
       "</style>\n",
       "<table border=\"1\" class=\"dataframe\">\n",
       "  <thead>\n",
       "    <tr style=\"text-align: right;\">\n",
       "      <th></th>\n",
       "      <th>Hour Ending</th>\n",
       "      <th>COAST</th>\n",
       "      <th>EAST</th>\n",
       "      <th>FWEST</th>\n",
       "      <th>NORTH</th>\n",
       "      <th>NCENT</th>\n",
       "      <th>SOUTH</th>\n",
       "      <th>SCENT</th>\n",
       "      <th>WEST</th>\n",
       "      <th>ERCOT</th>\n",
       "    </tr>\n",
       "  </thead>\n",
       "  <tbody>\n",
       "    <tr>\n",
       "      <th>8757</th>\n",
       "      <td>12/31/2018 22:00</td>\n",
       "      <td>10389.919171</td>\n",
       "      <td>1317.875105</td>\n",
       "      <td>3112.196787</td>\n",
       "      <td>840.751157</td>\n",
       "      <td>12238.695990</td>\n",
       "      <td>3135.496237</td>\n",
       "      <td>6252.541918</td>\n",
       "      <td>1248.207087</td>\n",
       "      <td>38535.683453</td>\n",
       "    </tr>\n",
       "    <tr>\n",
       "      <th>8758</th>\n",
       "      <td>12/31/2018 23:00</td>\n",
       "      <td>10179.719448</td>\n",
       "      <td>1285.166362</td>\n",
       "      <td>3110.924014</td>\n",
       "      <td>836.086501</td>\n",
       "      <td>11964.726843</td>\n",
       "      <td>3092.306962</td>\n",
       "      <td>6127.855412</td>\n",
       "      <td>1254.527211</td>\n",
       "      <td>37851.312753</td>\n",
       "    </tr>\n",
       "    <tr>\n",
       "      <th>8759</th>\n",
       "      <td>12/31/2018 24:00</td>\n",
       "      <td>10008.271141</td>\n",
       "      <td>1271.837587</td>\n",
       "      <td>3120.418939</td>\n",
       "      <td>826.962308</td>\n",
       "      <td>11775.973366</td>\n",
       "      <td>3071.164955</td>\n",
       "      <td>6035.861773</td>\n",
       "      <td>1260.779203</td>\n",
       "      <td>37371.269273</td>\n",
       "    </tr>\n",
       "  </tbody>\n",
       "</table>\n",
       "</div>"
      ],
      "text/plain": [
       "           Hour Ending         COAST         EAST        FWEST       NORTH  \\\n",
       "8757  12/31/2018 22:00  10389.919171  1317.875105  3112.196787  840.751157   \n",
       "8758  12/31/2018 23:00  10179.719448  1285.166362  3110.924014  836.086501   \n",
       "8759  12/31/2018 24:00  10008.271141  1271.837587  3120.418939  826.962308   \n",
       "\n",
       "             NCENT        SOUTH        SCENT         WEST         ERCOT  \n",
       "8757  12238.695990  3135.496237  6252.541918  1248.207087  38535.683453  \n",
       "8758  11964.726843  3092.306962  6127.855412  1254.527211  37851.312753  \n",
       "8759  11775.973366  3071.164955  6035.861773  1260.779203  37371.269273  "
      ]
     },
     "execution_count": 10,
     "metadata": {},
     "output_type": "execute_result"
    }
   ],
   "source": [
    "df_18 = pd.read_excel('2018 Ercot.xlsx')\n",
    "df_18.tail(3)"
   ]
  },
  {
   "cell_type": "code",
   "execution_count": 11,
   "id": "a8bfdc67",
   "metadata": {},
   "outputs": [
    {
     "data": {
      "text/plain": [
       "(8760, 10)"
      ]
     },
     "execution_count": 11,
     "metadata": {},
     "output_type": "execute_result"
    }
   ],
   "source": [
    "df_18.shape"
   ]
  },
  {
   "cell_type": "code",
   "execution_count": 12,
   "id": "83818188",
   "metadata": {},
   "outputs": [
    {
     "data": {
      "text/html": [
       "<div>\n",
       "<style scoped>\n",
       "    .dataframe tbody tr th:only-of-type {\n",
       "        vertical-align: middle;\n",
       "    }\n",
       "\n",
       "    .dataframe tbody tr th {\n",
       "        vertical-align: top;\n",
       "    }\n",
       "\n",
       "    .dataframe thead th {\n",
       "        text-align: right;\n",
       "    }\n",
       "</style>\n",
       "<table border=\"1\" class=\"dataframe\">\n",
       "  <thead>\n",
       "    <tr style=\"text-align: right;\">\n",
       "      <th></th>\n",
       "      <th>Hour Ending</th>\n",
       "      <th>COAST</th>\n",
       "      <th>EAST</th>\n",
       "      <th>FWEST</th>\n",
       "      <th>NORTH</th>\n",
       "      <th>NCENT</th>\n",
       "      <th>SOUTH</th>\n",
       "      <th>SCENT</th>\n",
       "      <th>WEST</th>\n",
       "      <th>ERCOT</th>\n",
       "    </tr>\n",
       "  </thead>\n",
       "  <tbody>\n",
       "    <tr>\n",
       "      <th>8757</th>\n",
       "      <td>12/31/2017 22:00</td>\n",
       "      <td>11754.250889</td>\n",
       "      <td>1890.359350</td>\n",
       "      <td>2942.227121</td>\n",
       "      <td>1178.171245</td>\n",
       "      <td>19726.459865</td>\n",
       "      <td>3690.567365</td>\n",
       "      <td>9402.193277</td>\n",
       "      <td>1767.742081</td>\n",
       "      <td>52351.971192</td>\n",
       "    </tr>\n",
       "    <tr>\n",
       "      <th>8758</th>\n",
       "      <td>12/31/2017 23:00</td>\n",
       "      <td>11579.853459</td>\n",
       "      <td>1855.937814</td>\n",
       "      <td>2898.567893</td>\n",
       "      <td>1157.488537</td>\n",
       "      <td>19211.158684</td>\n",
       "      <td>3689.751261</td>\n",
       "      <td>9260.416988</td>\n",
       "      <td>1735.764393</td>\n",
       "      <td>51388.939028</td>\n",
       "    </tr>\n",
       "    <tr>\n",
       "      <th>8759</th>\n",
       "      <td>12/31/2017 24:00</td>\n",
       "      <td>11452.163689</td>\n",
       "      <td>1834.871741</td>\n",
       "      <td>2856.941683</td>\n",
       "      <td>1145.645045</td>\n",
       "      <td>18944.980941</td>\n",
       "      <td>3726.039934</td>\n",
       "      <td>9172.714892</td>\n",
       "      <td>1701.543039</td>\n",
       "      <td>50834.900964</td>\n",
       "    </tr>\n",
       "  </tbody>\n",
       "</table>\n",
       "</div>"
      ],
      "text/plain": [
       "           Hour Ending         COAST         EAST        FWEST        NORTH  \\\n",
       "8757  12/31/2017 22:00  11754.250889  1890.359350  2942.227121  1178.171245   \n",
       "8758  12/31/2017 23:00  11579.853459  1855.937814  2898.567893  1157.488537   \n",
       "8759  12/31/2017 24:00  11452.163689  1834.871741  2856.941683  1145.645045   \n",
       "\n",
       "             NCENT        SOUTH        SCENT         WEST         ERCOT  \n",
       "8757  19726.459865  3690.567365  9402.193277  1767.742081  52351.971192  \n",
       "8758  19211.158684  3689.751261  9260.416988  1735.764393  51388.939028  \n",
       "8759  18944.980941  3726.039934  9172.714892  1701.543039  50834.900964  "
      ]
     },
     "execution_count": 12,
     "metadata": {},
     "output_type": "execute_result"
    }
   ],
   "source": [
    "df_17 = pd.read_excel('2017 Ercot.xlsx')\n",
    "df_17.tail(3)"
   ]
  },
  {
   "cell_type": "code",
   "execution_count": 13,
   "id": "5f86551b",
   "metadata": {},
   "outputs": [
    {
     "data": {
      "text/plain": [
       "(8760, 10)"
      ]
     },
     "execution_count": 13,
     "metadata": {},
     "output_type": "execute_result"
    }
   ],
   "source": [
    "df_17.shape"
   ]
  },
  {
   "cell_type": "code",
   "execution_count": 14,
   "id": "a4d182fa",
   "metadata": {},
   "outputs": [
    {
     "data": {
      "text/html": [
       "<div>\n",
       "<style scoped>\n",
       "    .dataframe tbody tr th:only-of-type {\n",
       "        vertical-align: middle;\n",
       "    }\n",
       "\n",
       "    .dataframe tbody tr th {\n",
       "        vertical-align: top;\n",
       "    }\n",
       "\n",
       "    .dataframe thead th {\n",
       "        text-align: right;\n",
       "    }\n",
       "</style>\n",
       "<table border=\"1\" class=\"dataframe\">\n",
       "  <thead>\n",
       "    <tr style=\"text-align: right;\">\n",
       "      <th></th>\n",
       "      <th>Hour Ending</th>\n",
       "      <th>COAST</th>\n",
       "      <th>EAST</th>\n",
       "      <th>FWEST</th>\n",
       "      <th>NORTH</th>\n",
       "      <th>NCENT</th>\n",
       "      <th>SOUTH</th>\n",
       "      <th>SCENT</th>\n",
       "      <th>WEST</th>\n",
       "      <th>ERCOT</th>\n",
       "    </tr>\n",
       "  </thead>\n",
       "  <tbody>\n",
       "    <tr>\n",
       "      <th>8781</th>\n",
       "      <td>2016-12-31 22:00:00.003</td>\n",
       "      <td>9668.239226</td>\n",
       "      <td>1106.560529</td>\n",
       "      <td>2045.303156</td>\n",
       "      <td>713.668403</td>\n",
       "      <td>10200.589061</td>\n",
       "      <td>2655.172757</td>\n",
       "      <td>5172.592743</td>\n",
       "      <td>975.840716</td>\n",
       "      <td>32537.966593</td>\n",
       "    </tr>\n",
       "    <tr>\n",
       "      <th>8782</th>\n",
       "      <td>2016-12-31 22:59:59.997</td>\n",
       "      <td>9332.315239</td>\n",
       "      <td>1076.492598</td>\n",
       "      <td>2018.220017</td>\n",
       "      <td>704.164722</td>\n",
       "      <td>9846.657014</td>\n",
       "      <td>2534.890339</td>\n",
       "      <td>4930.975674</td>\n",
       "      <td>950.065468</td>\n",
       "      <td>31393.781071</td>\n",
       "    </tr>\n",
       "    <tr>\n",
       "      <th>8783</th>\n",
       "      <td>2017-01-01 00:00:00.000</td>\n",
       "      <td>9029.597200</td>\n",
       "      <td>1029.875730</td>\n",
       "      <td>1991.563500</td>\n",
       "      <td>689.630460</td>\n",
       "      <td>9543.490800</td>\n",
       "      <td>2427.623800</td>\n",
       "      <td>4707.750510</td>\n",
       "      <td>932.266730</td>\n",
       "      <td>30351.798730</td>\n",
       "    </tr>\n",
       "  </tbody>\n",
       "</table>\n",
       "</div>"
      ],
      "text/plain": [
       "                 Hour Ending        COAST         EAST        FWEST  \\\n",
       "8781 2016-12-31 22:00:00.003  9668.239226  1106.560529  2045.303156   \n",
       "8782 2016-12-31 22:59:59.997  9332.315239  1076.492598  2018.220017   \n",
       "8783 2017-01-01 00:00:00.000  9029.597200  1029.875730  1991.563500   \n",
       "\n",
       "           NORTH         NCENT        SOUTH        SCENT        WEST  \\\n",
       "8781  713.668403  10200.589061  2655.172757  5172.592743  975.840716   \n",
       "8782  704.164722   9846.657014  2534.890339  4930.975674  950.065468   \n",
       "8783  689.630460   9543.490800  2427.623800  4707.750510  932.266730   \n",
       "\n",
       "             ERCOT  \n",
       "8781  32537.966593  \n",
       "8782  31393.781071  \n",
       "8783  30351.798730  "
      ]
     },
     "execution_count": 14,
     "metadata": {},
     "output_type": "execute_result"
    }
   ],
   "source": [
    "df_16 = pd.read_excel('2016 Ercot.xlsx')\n",
    "df_16.tail(3)"
   ]
  },
  {
   "cell_type": "code",
   "execution_count": 15,
   "id": "941b7a2e",
   "metadata": {},
   "outputs": [
    {
     "data": {
      "text/plain": [
       "(8784, 10)"
      ]
     },
     "execution_count": 15,
     "metadata": {},
     "output_type": "execute_result"
    }
   ],
   "source": [
    "df_16.shape"
   ]
  },
  {
   "cell_type": "code",
   "execution_count": 16,
   "id": "6f11a157",
   "metadata": {},
   "outputs": [
    {
     "data": {
      "text/html": [
       "<div>\n",
       "<style scoped>\n",
       "    .dataframe tbody tr th:only-of-type {\n",
       "        vertical-align: middle;\n",
       "    }\n",
       "\n",
       "    .dataframe tbody tr th {\n",
       "        vertical-align: top;\n",
       "    }\n",
       "\n",
       "    .dataframe thead th {\n",
       "        text-align: right;\n",
       "    }\n",
       "</style>\n",
       "<table border=\"1\" class=\"dataframe\">\n",
       "  <thead>\n",
       "    <tr style=\"text-align: right;\">\n",
       "      <th></th>\n",
       "      <th>Hour Ending</th>\n",
       "      <th>COAST</th>\n",
       "      <th>EAST</th>\n",
       "      <th>FWEST</th>\n",
       "      <th>NORTH</th>\n",
       "      <th>NCENT</th>\n",
       "      <th>SOUTH</th>\n",
       "      <th>SCENT</th>\n",
       "      <th>WEST</th>\n",
       "      <th>ERCOT</th>\n",
       "    </tr>\n",
       "  </thead>\n",
       "  <tbody>\n",
       "    <tr>\n",
       "      <th>8757</th>\n",
       "      <td>2015-12-31 22:00:00.003</td>\n",
       "      <td>9836.114934</td>\n",
       "      <td>1330.866082</td>\n",
       "      <td>2154.405686</td>\n",
       "      <td>840.608568</td>\n",
       "      <td>12578.409749</td>\n",
       "      <td>3054.399972</td>\n",
       "      <td>5919.270362</td>\n",
       "      <td>1215.899839</td>\n",
       "      <td>36929.975190</td>\n",
       "    </tr>\n",
       "    <tr>\n",
       "      <th>8758</th>\n",
       "      <td>2015-12-31 22:59:59.997</td>\n",
       "      <td>9533.866160</td>\n",
       "      <td>1301.045868</td>\n",
       "      <td>2134.855524</td>\n",
       "      <td>818.198219</td>\n",
       "      <td>12135.220068</td>\n",
       "      <td>2946.803689</td>\n",
       "      <td>5605.828903</td>\n",
       "      <td>1184.392095</td>\n",
       "      <td>35660.210526</td>\n",
       "    </tr>\n",
       "    <tr>\n",
       "      <th>8759</th>\n",
       "      <td>2016-01-01 00:00:00.000</td>\n",
       "      <td>9300.245000</td>\n",
       "      <td>1267.262520</td>\n",
       "      <td>2134.056300</td>\n",
       "      <td>812.456770</td>\n",
       "      <td>11782.715000</td>\n",
       "      <td>2870.463200</td>\n",
       "      <td>5346.676040</td>\n",
       "      <td>1163.503450</td>\n",
       "      <td>34677.378280</td>\n",
       "    </tr>\n",
       "  </tbody>\n",
       "</table>\n",
       "</div>"
      ],
      "text/plain": [
       "                 Hour Ending        COAST         EAST        FWEST  \\\n",
       "8757 2015-12-31 22:00:00.003  9836.114934  1330.866082  2154.405686   \n",
       "8758 2015-12-31 22:59:59.997  9533.866160  1301.045868  2134.855524   \n",
       "8759 2016-01-01 00:00:00.000  9300.245000  1267.262520  2134.056300   \n",
       "\n",
       "           NORTH         NCENT        SOUTH        SCENT         WEST  \\\n",
       "8757  840.608568  12578.409749  3054.399972  5919.270362  1215.899839   \n",
       "8758  818.198219  12135.220068  2946.803689  5605.828903  1184.392095   \n",
       "8759  812.456770  11782.715000  2870.463200  5346.676040  1163.503450   \n",
       "\n",
       "             ERCOT  \n",
       "8757  36929.975190  \n",
       "8758  35660.210526  \n",
       "8759  34677.378280  "
      ]
     },
     "execution_count": 16,
     "metadata": {},
     "output_type": "execute_result"
    }
   ],
   "source": [
    "df_15 = pd.read_excel('2015 Ercot.xls')\n",
    "df_15.tail(3)"
   ]
  },
  {
   "cell_type": "code",
   "execution_count": 17,
   "id": "04a4d892",
   "metadata": {},
   "outputs": [
    {
     "data": {
      "text/plain": [
       "(8760, 10)"
      ]
     },
     "execution_count": 17,
     "metadata": {},
     "output_type": "execute_result"
    }
   ],
   "source": [
    "df_15.shape"
   ]
  },
  {
   "cell_type": "code",
   "execution_count": 18,
   "id": "05b17fe2",
   "metadata": {},
   "outputs": [
    {
     "data": {
      "text/html": [
       "<div>\n",
       "<style scoped>\n",
       "    .dataframe tbody tr th:only-of-type {\n",
       "        vertical-align: middle;\n",
       "    }\n",
       "\n",
       "    .dataframe tbody tr th {\n",
       "        vertical-align: top;\n",
       "    }\n",
       "\n",
       "    .dataframe thead th {\n",
       "        text-align: right;\n",
       "    }\n",
       "</style>\n",
       "<table border=\"1\" class=\"dataframe\">\n",
       "  <thead>\n",
       "    <tr style=\"text-align: right;\">\n",
       "      <th></th>\n",
       "      <th>Hour Ending</th>\n",
       "      <th>COAST</th>\n",
       "      <th>EAST</th>\n",
       "      <th>FWEST</th>\n",
       "      <th>NORTH</th>\n",
       "      <th>NCENT</th>\n",
       "      <th>SOUTH</th>\n",
       "      <th>SCENT</th>\n",
       "      <th>WEST</th>\n",
       "      <th>ERCOT</th>\n",
       "    </tr>\n",
       "  </thead>\n",
       "  <tbody>\n",
       "    <tr>\n",
       "      <th>8757</th>\n",
       "      <td>2014-12-31 22:00:00.003</td>\n",
       "      <td>10922.048671</td>\n",
       "      <td>1501.159511</td>\n",
       "      <td>2206.712077</td>\n",
       "      <td>983.763871</td>\n",
       "      <td>15247.666856</td>\n",
       "      <td>3854.155416</td>\n",
       "      <td>7482.140823</td>\n",
       "      <td>1603.147327</td>\n",
       "      <td>43800.794552</td>\n",
       "    </tr>\n",
       "    <tr>\n",
       "      <th>8758</th>\n",
       "      <td>2014-12-31 22:59:59.997</td>\n",
       "      <td>10520.761596</td>\n",
       "      <td>1437.414501</td>\n",
       "      <td>2156.489005</td>\n",
       "      <td>945.929920</td>\n",
       "      <td>14547.834047</td>\n",
       "      <td>3731.051912</td>\n",
       "      <td>7164.857637</td>\n",
       "      <td>1550.957310</td>\n",
       "      <td>42055.295929</td>\n",
       "    </tr>\n",
       "    <tr>\n",
       "      <th>8759</th>\n",
       "      <td>2015-01-01 00:00:00.000</td>\n",
       "      <td>10156.086100</td>\n",
       "      <td>1389.019650</td>\n",
       "      <td>2117.036400</td>\n",
       "      <td>918.525200</td>\n",
       "      <td>14045.144600</td>\n",
       "      <td>3661.591600</td>\n",
       "      <td>6915.819180</td>\n",
       "      <td>1504.437620</td>\n",
       "      <td>40707.660350</td>\n",
       "    </tr>\n",
       "  </tbody>\n",
       "</table>\n",
       "</div>"
      ],
      "text/plain": [
       "                 Hour Ending         COAST         EAST        FWEST  \\\n",
       "8757 2014-12-31 22:00:00.003  10922.048671  1501.159511  2206.712077   \n",
       "8758 2014-12-31 22:59:59.997  10520.761596  1437.414501  2156.489005   \n",
       "8759 2015-01-01 00:00:00.000  10156.086100  1389.019650  2117.036400   \n",
       "\n",
       "           NORTH         NCENT        SOUTH        SCENT         WEST  \\\n",
       "8757  983.763871  15247.666856  3854.155416  7482.140823  1603.147327   \n",
       "8758  945.929920  14547.834047  3731.051912  7164.857637  1550.957310   \n",
       "8759  918.525200  14045.144600  3661.591600  6915.819180  1504.437620   \n",
       "\n",
       "             ERCOT  \n",
       "8757  43800.794552  \n",
       "8758  42055.295929  \n",
       "8759  40707.660350  "
      ]
     },
     "execution_count": 18,
     "metadata": {},
     "output_type": "execute_result"
    }
   ],
   "source": [
    "df_14 = pd.read_excel('2014 Ercot.xls')\n",
    "df_14.tail(3)"
   ]
  },
  {
   "cell_type": "code",
   "execution_count": 19,
   "id": "1829c681",
   "metadata": {},
   "outputs": [
    {
     "data": {
      "text/plain": [
       "(8760, 10)"
      ]
     },
     "execution_count": 19,
     "metadata": {},
     "output_type": "execute_result"
    }
   ],
   "source": [
    "df_14.shape"
   ]
  },
  {
   "cell_type": "code",
   "execution_count": 20,
   "id": "2f5c1f77",
   "metadata": {},
   "outputs": [
    {
     "data": {
      "text/html": [
       "<div>\n",
       "<style scoped>\n",
       "    .dataframe tbody tr th:only-of-type {\n",
       "        vertical-align: middle;\n",
       "    }\n",
       "\n",
       "    .dataframe tbody tr th {\n",
       "        vertical-align: top;\n",
       "    }\n",
       "\n",
       "    .dataframe thead th {\n",
       "        text-align: right;\n",
       "    }\n",
       "</style>\n",
       "<table border=\"1\" class=\"dataframe\">\n",
       "  <thead>\n",
       "    <tr style=\"text-align: right;\">\n",
       "      <th></th>\n",
       "      <th>Hour Ending</th>\n",
       "      <th>COAST</th>\n",
       "      <th>EAST</th>\n",
       "      <th>FWEST</th>\n",
       "      <th>NORTH</th>\n",
       "      <th>NCENT</th>\n",
       "      <th>SOUTH</th>\n",
       "      <th>SCENT</th>\n",
       "      <th>WEST</th>\n",
       "      <th>ERCOT</th>\n",
       "    </tr>\n",
       "  </thead>\n",
       "  <tbody>\n",
       "    <tr>\n",
       "      <th>8757</th>\n",
       "      <td>2013-12-31 22:00:00.003</td>\n",
       "      <td>10146.767461</td>\n",
       "      <td>1424.347535</td>\n",
       "      <td>1862.118638</td>\n",
       "      <td>840.019363</td>\n",
       "      <td>13113.728670</td>\n",
       "      <td>3597.222892</td>\n",
       "      <td>6589.516437</td>\n",
       "      <td>1147.052275</td>\n",
       "      <td>38720.773270</td>\n",
       "    </tr>\n",
       "    <tr>\n",
       "      <th>8758</th>\n",
       "      <td>2013-12-31 22:59:59.997</td>\n",
       "      <td>9740.175233</td>\n",
       "      <td>1388.813409</td>\n",
       "      <td>1846.269656</td>\n",
       "      <td>819.977135</td>\n",
       "      <td>12784.725967</td>\n",
       "      <td>3447.566135</td>\n",
       "      <td>6399.695034</td>\n",
       "      <td>1128.938267</td>\n",
       "      <td>37556.160835</td>\n",
       "    </tr>\n",
       "    <tr>\n",
       "      <th>8759</th>\n",
       "      <td>2014-01-01 00:00:00.000</td>\n",
       "      <td>9412.826300</td>\n",
       "      <td>1366.733450</td>\n",
       "      <td>1830.719100</td>\n",
       "      <td>802.318910</td>\n",
       "      <td>12516.250400</td>\n",
       "      <td>3340.239500</td>\n",
       "      <td>6240.917540</td>\n",
       "      <td>1117.115920</td>\n",
       "      <td>36627.121120</td>\n",
       "    </tr>\n",
       "  </tbody>\n",
       "</table>\n",
       "</div>"
      ],
      "text/plain": [
       "                 Hour Ending         COAST         EAST        FWEST  \\\n",
       "8757 2013-12-31 22:00:00.003  10146.767461  1424.347535  1862.118638   \n",
       "8758 2013-12-31 22:59:59.997   9740.175233  1388.813409  1846.269656   \n",
       "8759 2014-01-01 00:00:00.000   9412.826300  1366.733450  1830.719100   \n",
       "\n",
       "           NORTH         NCENT        SOUTH        SCENT         WEST  \\\n",
       "8757  840.019363  13113.728670  3597.222892  6589.516437  1147.052275   \n",
       "8758  819.977135  12784.725967  3447.566135  6399.695034  1128.938267   \n",
       "8759  802.318910  12516.250400  3340.239500  6240.917540  1117.115920   \n",
       "\n",
       "             ERCOT  \n",
       "8757  38720.773270  \n",
       "8758  37556.160835  \n",
       "8759  36627.121120  "
      ]
     },
     "execution_count": 20,
     "metadata": {},
     "output_type": "execute_result"
    }
   ],
   "source": [
    "df_13 = pd.read_excel('2013 Ercot.xls')\n",
    "df_13.tail(3)"
   ]
  },
  {
   "cell_type": "code",
   "execution_count": 21,
   "id": "1c0df5b2",
   "metadata": {},
   "outputs": [
    {
     "data": {
      "text/plain": [
       "(8760, 10)"
      ]
     },
     "execution_count": 21,
     "metadata": {},
     "output_type": "execute_result"
    }
   ],
   "source": [
    "df_13.shape"
   ]
  },
  {
   "cell_type": "code",
   "execution_count": 22,
   "id": "fdd29683",
   "metadata": {},
   "outputs": [
    {
     "data": {
      "text/html": [
       "<div>\n",
       "<style scoped>\n",
       "    .dataframe tbody tr th:only-of-type {\n",
       "        vertical-align: middle;\n",
       "    }\n",
       "\n",
       "    .dataframe tbody tr th {\n",
       "        vertical-align: top;\n",
       "    }\n",
       "\n",
       "    .dataframe thead th {\n",
       "        text-align: right;\n",
       "    }\n",
       "</style>\n",
       "<table border=\"1\" class=\"dataframe\">\n",
       "  <thead>\n",
       "    <tr style=\"text-align: right;\">\n",
       "      <th></th>\n",
       "      <th>Hour Ending</th>\n",
       "      <th>COAST</th>\n",
       "      <th>EAST</th>\n",
       "      <th>FWEST</th>\n",
       "      <th>NORTH</th>\n",
       "      <th>NCENT</th>\n",
       "      <th>SOUTH</th>\n",
       "      <th>SCENT</th>\n",
       "      <th>WEST</th>\n",
       "      <th>ERCOT</th>\n",
       "    </tr>\n",
       "  </thead>\n",
       "  <tbody>\n",
       "    <tr>\n",
       "      <th>8781</th>\n",
       "      <td>2012-12-31 22:00:00.003</td>\n",
       "      <td>8527.194858</td>\n",
       "      <td>1140.036890</td>\n",
       "      <td>1475.875350</td>\n",
       "      <td>821.077843</td>\n",
       "      <td>11718.377883</td>\n",
       "      <td>2609.661205</td>\n",
       "      <td>5103.819112</td>\n",
       "      <td>966.436026</td>\n",
       "      <td>32362.479166</td>\n",
       "    </tr>\n",
       "    <tr>\n",
       "      <th>8782</th>\n",
       "      <td>2012-12-31 22:59:59.997</td>\n",
       "      <td>8185.989966</td>\n",
       "      <td>1121.583439</td>\n",
       "      <td>1456.711482</td>\n",
       "      <td>798.205052</td>\n",
       "      <td>11150.109647</td>\n",
       "      <td>2459.220415</td>\n",
       "      <td>4841.914447</td>\n",
       "      <td>937.489827</td>\n",
       "      <td>30951.224275</td>\n",
       "    </tr>\n",
       "    <tr>\n",
       "      <th>8783</th>\n",
       "      <td>2013-01-01 00:00:00.000</td>\n",
       "      <td>7893.398200</td>\n",
       "      <td>1088.466640</td>\n",
       "      <td>1439.204660</td>\n",
       "      <td>778.922080</td>\n",
       "      <td>10730.757800</td>\n",
       "      <td>2315.334400</td>\n",
       "      <td>4591.715770</td>\n",
       "      <td>909.939940</td>\n",
       "      <td>29747.739490</td>\n",
       "    </tr>\n",
       "  </tbody>\n",
       "</table>\n",
       "</div>"
      ],
      "text/plain": [
       "                 Hour Ending        COAST         EAST        FWEST  \\\n",
       "8781 2012-12-31 22:00:00.003  8527.194858  1140.036890  1475.875350   \n",
       "8782 2012-12-31 22:59:59.997  8185.989966  1121.583439  1456.711482   \n",
       "8783 2013-01-01 00:00:00.000  7893.398200  1088.466640  1439.204660   \n",
       "\n",
       "           NORTH         NCENT        SOUTH        SCENT        WEST  \\\n",
       "8781  821.077843  11718.377883  2609.661205  5103.819112  966.436026   \n",
       "8782  798.205052  11150.109647  2459.220415  4841.914447  937.489827   \n",
       "8783  778.922080  10730.757800  2315.334400  4591.715770  909.939940   \n",
       "\n",
       "             ERCOT  \n",
       "8781  32362.479166  \n",
       "8782  30951.224275  \n",
       "8783  29747.739490  "
      ]
     },
     "execution_count": 22,
     "metadata": {},
     "output_type": "execute_result"
    }
   ],
   "source": [
    "df_12 = pd.read_excel('2012 Ercot.xls')\n",
    "df_12.tail(3)"
   ]
  },
  {
   "cell_type": "code",
   "execution_count": 23,
   "id": "37ab0809",
   "metadata": {},
   "outputs": [
    {
     "data": {
      "text/plain": [
       "(8784, 10)"
      ]
     },
     "execution_count": 23,
     "metadata": {},
     "output_type": "execute_result"
    }
   ],
   "source": [
    "df_12.shape"
   ]
  },
  {
   "cell_type": "code",
   "execution_count": 24,
   "id": "e7728a8f",
   "metadata": {},
   "outputs": [
    {
     "data": {
      "text/html": [
       "<div>\n",
       "<style scoped>\n",
       "    .dataframe tbody tr th:only-of-type {\n",
       "        vertical-align: middle;\n",
       "    }\n",
       "\n",
       "    .dataframe tbody tr th {\n",
       "        vertical-align: top;\n",
       "    }\n",
       "\n",
       "    .dataframe thead th {\n",
       "        text-align: right;\n",
       "    }\n",
       "</style>\n",
       "<table border=\"1\" class=\"dataframe\">\n",
       "  <thead>\n",
       "    <tr style=\"text-align: right;\">\n",
       "      <th></th>\n",
       "      <th>Hour Ending</th>\n",
       "      <th>COAST</th>\n",
       "      <th>EAST</th>\n",
       "      <th>FWEST</th>\n",
       "      <th>NORTH</th>\n",
       "      <th>NCENT</th>\n",
       "      <th>SOUTH</th>\n",
       "      <th>SCENT</th>\n",
       "      <th>WEST</th>\n",
       "      <th>ERCOT</th>\n",
       "    </tr>\n",
       "  </thead>\n",
       "  <tbody>\n",
       "    <tr>\n",
       "      <th>8757</th>\n",
       "      <td>2011-12-31 22:00:00.003</td>\n",
       "      <td>8692.533931</td>\n",
       "      <td>1027.242321</td>\n",
       "      <td>1306.902837</td>\n",
       "      <td>683.808364</td>\n",
       "      <td>9662.494605</td>\n",
       "      <td>2455.504473</td>\n",
       "      <td>4738.330423</td>\n",
       "      <td>887.467104</td>\n",
       "      <td>29454.284058</td>\n",
       "    </tr>\n",
       "    <tr>\n",
       "      <th>8758</th>\n",
       "      <td>2011-12-31 22:59:59.997</td>\n",
       "      <td>8327.877220</td>\n",
       "      <td>981.143365</td>\n",
       "      <td>1288.883581</td>\n",
       "      <td>668.308149</td>\n",
       "      <td>9279.883957</td>\n",
       "      <td>2343.906151</td>\n",
       "      <td>4529.861923</td>\n",
       "      <td>872.751047</td>\n",
       "      <td>28292.615393</td>\n",
       "    </tr>\n",
       "    <tr>\n",
       "      <th>8759</th>\n",
       "      <td>2012-01-01 00:00:00.000</td>\n",
       "      <td>8013.891300</td>\n",
       "      <td>928.241580</td>\n",
       "      <td>1286.278970</td>\n",
       "      <td>648.712210</td>\n",
       "      <td>8921.092600</td>\n",
       "      <td>2210.533700</td>\n",
       "      <td>4337.333430</td>\n",
       "      <td>857.648870</td>\n",
       "      <td>27203.732660</td>\n",
       "    </tr>\n",
       "  </tbody>\n",
       "</table>\n",
       "</div>"
      ],
      "text/plain": [
       "                 Hour Ending        COAST         EAST        FWEST  \\\n",
       "8757 2011-12-31 22:00:00.003  8692.533931  1027.242321  1306.902837   \n",
       "8758 2011-12-31 22:59:59.997  8327.877220   981.143365  1288.883581   \n",
       "8759 2012-01-01 00:00:00.000  8013.891300   928.241580  1286.278970   \n",
       "\n",
       "           NORTH        NCENT        SOUTH        SCENT        WEST  \\\n",
       "8757  683.808364  9662.494605  2455.504473  4738.330423  887.467104   \n",
       "8758  668.308149  9279.883957  2343.906151  4529.861923  872.751047   \n",
       "8759  648.712210  8921.092600  2210.533700  4337.333430  857.648870   \n",
       "\n",
       "             ERCOT  \n",
       "8757  29454.284058  \n",
       "8758  28292.615393  \n",
       "8759  27203.732660  "
      ]
     },
     "execution_count": 24,
     "metadata": {},
     "output_type": "execute_result"
    }
   ],
   "source": [
    "df_11 = pd.read_excel('2011 Ercot.xls')\n",
    "df_11.tail(3)"
   ]
  },
  {
   "cell_type": "code",
   "execution_count": 25,
   "id": "000f8cae",
   "metadata": {},
   "outputs": [
    {
     "data": {
      "text/plain": [
       "(8760, 10)"
      ]
     },
     "execution_count": 25,
     "metadata": {},
     "output_type": "execute_result"
    }
   ],
   "source": [
    "df_11.shape"
   ]
  },
  {
   "cell_type": "code",
   "execution_count": 26,
   "id": "2fc5d2fe",
   "metadata": {},
   "outputs": [
    {
     "data": {
      "text/html": [
       "<div>\n",
       "<style scoped>\n",
       "    .dataframe tbody tr th:only-of-type {\n",
       "        vertical-align: middle;\n",
       "    }\n",
       "\n",
       "    .dataframe tbody tr th {\n",
       "        vertical-align: top;\n",
       "    }\n",
       "\n",
       "    .dataframe thead th {\n",
       "        text-align: right;\n",
       "    }\n",
       "</style>\n",
       "<table border=\"1\" class=\"dataframe\">\n",
       "  <thead>\n",
       "    <tr style=\"text-align: right;\">\n",
       "      <th></th>\n",
       "      <th>Hour Ending</th>\n",
       "      <th>COAST</th>\n",
       "      <th>EAST</th>\n",
       "      <th>FWEST</th>\n",
       "      <th>NORTH</th>\n",
       "      <th>NCENT</th>\n",
       "      <th>SOUTH</th>\n",
       "      <th>SCENT</th>\n",
       "      <th>WEST</th>\n",
       "      <th>ERCOT</th>\n",
       "    </tr>\n",
       "  </thead>\n",
       "  <tbody>\n",
       "    <tr>\n",
       "      <th>8757</th>\n",
       "      <td>2010-12-31 22:00:00.003</td>\n",
       "      <td>8591.386958</td>\n",
       "      <td>1002.451993</td>\n",
       "      <td>1340.629911</td>\n",
       "      <td>747.974811</td>\n",
       "      <td>10663.028285</td>\n",
       "      <td>2408.204530</td>\n",
       "      <td>4902.355953</td>\n",
       "      <td>961.752932</td>\n",
       "      <td>30617.785373</td>\n",
       "    </tr>\n",
       "    <tr>\n",
       "      <th>8758</th>\n",
       "      <td>2010-12-31 22:59:59.997</td>\n",
       "      <td>8076.188036</td>\n",
       "      <td>955.719765</td>\n",
       "      <td>1307.676088</td>\n",
       "      <td>726.621714</td>\n",
       "      <td>10301.263076</td>\n",
       "      <td>2291.589174</td>\n",
       "      <td>4738.594513</td>\n",
       "      <td>953.731285</td>\n",
       "      <td>29351.383650</td>\n",
       "    </tr>\n",
       "    <tr>\n",
       "      <th>8759</th>\n",
       "      <td>2011-01-01 00:00:00.000</td>\n",
       "      <td>7767.217400</td>\n",
       "      <td>916.000730</td>\n",
       "      <td>1296.824070</td>\n",
       "      <td>722.303010</td>\n",
       "      <td>10105.770300</td>\n",
       "      <td>2148.656300</td>\n",
       "      <td>4597.810650</td>\n",
       "      <td>941.806390</td>\n",
       "      <td>28496.388850</td>\n",
       "    </tr>\n",
       "  </tbody>\n",
       "</table>\n",
       "</div>"
      ],
      "text/plain": [
       "                 Hour Ending        COAST         EAST        FWEST  \\\n",
       "8757 2010-12-31 22:00:00.003  8591.386958  1002.451993  1340.629911   \n",
       "8758 2010-12-31 22:59:59.997  8076.188036   955.719765  1307.676088   \n",
       "8759 2011-01-01 00:00:00.000  7767.217400   916.000730  1296.824070   \n",
       "\n",
       "           NORTH         NCENT        SOUTH        SCENT        WEST  \\\n",
       "8757  747.974811  10663.028285  2408.204530  4902.355953  961.752932   \n",
       "8758  726.621714  10301.263076  2291.589174  4738.594513  953.731285   \n",
       "8759  722.303010  10105.770300  2148.656300  4597.810650  941.806390   \n",
       "\n",
       "             ERCOT  \n",
       "8757  30617.785373  \n",
       "8758  29351.383650  \n",
       "8759  28496.388850  "
      ]
     },
     "execution_count": 26,
     "metadata": {},
     "output_type": "execute_result"
    }
   ],
   "source": [
    "df_10 = pd.read_excel('2010 Ercot.xls')\n",
    "df_10.tail(3)"
   ]
  },
  {
   "cell_type": "code",
   "execution_count": 27,
   "id": "0e0744b9",
   "metadata": {},
   "outputs": [
    {
     "data": {
      "text/plain": [
       "(8760, 10)"
      ]
     },
     "execution_count": 27,
     "metadata": {},
     "output_type": "execute_result"
    }
   ],
   "source": [
    "df_10.shape"
   ]
  },
  {
   "cell_type": "code",
   "execution_count": 28,
   "id": "06eee09d",
   "metadata": {},
   "outputs": [
    {
     "data": {
      "text/html": [
       "<div>\n",
       "<style scoped>\n",
       "    .dataframe tbody tr th:only-of-type {\n",
       "        vertical-align: middle;\n",
       "    }\n",
       "\n",
       "    .dataframe tbody tr th {\n",
       "        vertical-align: top;\n",
       "    }\n",
       "\n",
       "    .dataframe thead th {\n",
       "        text-align: right;\n",
       "    }\n",
       "</style>\n",
       "<table border=\"1\" class=\"dataframe\">\n",
       "  <thead>\n",
       "    <tr style=\"text-align: right;\">\n",
       "      <th></th>\n",
       "      <th>Hour Ending</th>\n",
       "      <th>COAST</th>\n",
       "      <th>EAST</th>\n",
       "      <th>FWEST</th>\n",
       "      <th>NORTH</th>\n",
       "      <th>NCENT</th>\n",
       "      <th>SOUTH</th>\n",
       "      <th>SCENT</th>\n",
       "      <th>WEST</th>\n",
       "      <th>ERCOT</th>\n",
       "    </tr>\n",
       "  </thead>\n",
       "  <tbody>\n",
       "    <tr>\n",
       "      <th>8757</th>\n",
       "      <td>2009-12-31 22:00:00.003</td>\n",
       "      <td>8692.202375</td>\n",
       "      <td>1292.862940</td>\n",
       "      <td>1341.624412</td>\n",
       "      <td>920.920616</td>\n",
       "      <td>13208.612241</td>\n",
       "      <td>2339.758172</td>\n",
       "      <td>5196.746491</td>\n",
       "      <td>1142.145389</td>\n",
       "      <td>34134.872637</td>\n",
       "    </tr>\n",
       "    <tr>\n",
       "      <th>8758</th>\n",
       "      <td>2009-12-31 22:59:59.997</td>\n",
       "      <td>8317.281570</td>\n",
       "      <td>1264.112794</td>\n",
       "      <td>1339.010558</td>\n",
       "      <td>903.633502</td>\n",
       "      <td>12862.343442</td>\n",
       "      <td>2247.692793</td>\n",
       "      <td>5116.761092</td>\n",
       "      <td>1119.730234</td>\n",
       "      <td>33170.565985</td>\n",
       "    </tr>\n",
       "    <tr>\n",
       "      <th>8759</th>\n",
       "      <td>2010-01-01 00:00:00.000</td>\n",
       "      <td>7931.241900</td>\n",
       "      <td>1230.413730</td>\n",
       "      <td>1330.863900</td>\n",
       "      <td>886.149810</td>\n",
       "      <td>12817.077700</td>\n",
       "      <td>2153.319300</td>\n",
       "      <td>5041.472000</td>\n",
       "      <td>1113.256790</td>\n",
       "      <td>32503.795130</td>\n",
       "    </tr>\n",
       "  </tbody>\n",
       "</table>\n",
       "</div>"
      ],
      "text/plain": [
       "                 Hour Ending        COAST         EAST        FWEST  \\\n",
       "8757 2009-12-31 22:00:00.003  8692.202375  1292.862940  1341.624412   \n",
       "8758 2009-12-31 22:59:59.997  8317.281570  1264.112794  1339.010558   \n",
       "8759 2010-01-01 00:00:00.000  7931.241900  1230.413730  1330.863900   \n",
       "\n",
       "           NORTH         NCENT        SOUTH        SCENT         WEST  \\\n",
       "8757  920.920616  13208.612241  2339.758172  5196.746491  1142.145389   \n",
       "8758  903.633502  12862.343442  2247.692793  5116.761092  1119.730234   \n",
       "8759  886.149810  12817.077700  2153.319300  5041.472000  1113.256790   \n",
       "\n",
       "             ERCOT  \n",
       "8757  34134.872637  \n",
       "8758  33170.565985  \n",
       "8759  32503.795130  "
      ]
     },
     "execution_count": 28,
     "metadata": {},
     "output_type": "execute_result"
    }
   ],
   "source": [
    "df_9 = pd.read_excel('2009 Ercot.xls')\n",
    "df_9.tail(3)"
   ]
  },
  {
   "cell_type": "code",
   "execution_count": 29,
   "id": "26b36a07",
   "metadata": {},
   "outputs": [],
   "source": [
    "# df_9.shape"
   ]
  },
  {
   "cell_type": "code",
   "execution_count": 30,
   "id": "f5250e94",
   "metadata": {},
   "outputs": [],
   "source": [
    "# df_8 = pd.read_excel('2008 Ercot.xls')\n",
    "# df_8.head(3)"
   ]
  },
  {
   "cell_type": "code",
   "execution_count": 31,
   "id": "50adf032",
   "metadata": {},
   "outputs": [],
   "source": [
    "# df_8.shape"
   ]
  },
  {
   "cell_type": "code",
   "execution_count": 32,
   "id": "11843a4e",
   "metadata": {},
   "outputs": [],
   "source": [
    "# df_7 = pd.read_excel('2007 Ercot.xls')\n",
    "# df_7.head(3)"
   ]
  },
  {
   "cell_type": "code",
   "execution_count": 33,
   "id": "9c1a240e",
   "metadata": {},
   "outputs": [],
   "source": [
    "# df_7.shape"
   ]
  },
  {
   "cell_type": "code",
   "execution_count": 34,
   "id": "fcec5700",
   "metadata": {},
   "outputs": [],
   "source": [
    "# df_6 = pd.read_excel('2006 Ercot.xls')\n",
    "# df_6.head(3)"
   ]
  },
  {
   "cell_type": "code",
   "execution_count": 35,
   "id": "da6b4194",
   "metadata": {},
   "outputs": [],
   "source": [
    "# df_6.shape"
   ]
  },
  {
   "cell_type": "code",
   "execution_count": 36,
   "id": "7a8ca00d",
   "metadata": {},
   "outputs": [],
   "source": [
    "# df_5 = pd.read_excel('2005 Ercot.xls')\n",
    "# df_5.head(3)"
   ]
  },
  {
   "cell_type": "code",
   "execution_count": 37,
   "id": "7b7e6913",
   "metadata": {},
   "outputs": [],
   "source": [
    "# df_5.shape"
   ]
  },
  {
   "cell_type": "code",
   "execution_count": 38,
   "id": "b3619f3a",
   "metadata": {},
   "outputs": [],
   "source": [
    "# df_4 = pd.read_excel('2004 Ercot.xls')\n",
    "# df_4.head(3)"
   ]
  },
  {
   "cell_type": "code",
   "execution_count": 39,
   "id": "356be126",
   "metadata": {},
   "outputs": [],
   "source": [
    "# df_4.shape"
   ]
  },
  {
   "cell_type": "code",
   "execution_count": 40,
   "id": "58aea8b6",
   "metadata": {},
   "outputs": [],
   "source": [
    "# df_3 = pd.read_excel('2003 Ercot.xls')\n",
    "# df_3.head(3)"
   ]
  },
  {
   "cell_type": "code",
   "execution_count": 41,
   "id": "6ff37556",
   "metadata": {},
   "outputs": [],
   "source": [
    "# df_3.shape"
   ]
  },
  {
   "cell_type": "code",
   "execution_count": 42,
   "id": "9764ac7d",
   "metadata": {},
   "outputs": [],
   "source": [
    "total_df = pd.concat([df_9, df_10, df_11, df_12, df_13, df_14, df_15, df_16, df_17, df_18, df_19, df_20, df_21, df_22])"
   ]
  },
  {
   "cell_type": "code",
   "execution_count": 43,
   "id": "6e69cdf4",
   "metadata": {},
   "outputs": [
    {
     "data": {
      "text/html": [
       "<div>\n",
       "<style scoped>\n",
       "    .dataframe tbody tr th:only-of-type {\n",
       "        vertical-align: middle;\n",
       "    }\n",
       "\n",
       "    .dataframe tbody tr th {\n",
       "        vertical-align: top;\n",
       "    }\n",
       "\n",
       "    .dataframe thead th {\n",
       "        text-align: right;\n",
       "    }\n",
       "</style>\n",
       "<table border=\"1\" class=\"dataframe\">\n",
       "  <thead>\n",
       "    <tr style=\"text-align: right;\">\n",
       "      <th></th>\n",
       "      <th>Hour Ending</th>\n",
       "      <th>COAST</th>\n",
       "      <th>EAST</th>\n",
       "      <th>FWEST</th>\n",
       "      <th>NORTH</th>\n",
       "      <th>NCENT</th>\n",
       "      <th>SOUTH</th>\n",
       "      <th>SCENT</th>\n",
       "      <th>WEST</th>\n",
       "      <th>ERCOT</th>\n",
       "    </tr>\n",
       "  </thead>\n",
       "  <tbody>\n",
       "    <tr>\n",
       "      <th>0</th>\n",
       "      <td>2009-01-01 01:00:00.003000</td>\n",
       "      <td>7300.317873</td>\n",
       "      <td>1173.516507</td>\n",
       "      <td>1221.195150</td>\n",
       "      <td>809.370368</td>\n",
       "      <td>10329.687507</td>\n",
       "      <td>1841.693608</td>\n",
       "      <td>4601.280319</td>\n",
       "      <td>902.794867</td>\n",
       "      <td>28179.856199</td>\n",
       "    </tr>\n",
       "    <tr>\n",
       "      <th>1</th>\n",
       "      <td>2009-01-01 01:59:59.997000</td>\n",
       "      <td>7174.769899</td>\n",
       "      <td>1161.605492</td>\n",
       "      <td>1221.723993</td>\n",
       "      <td>801.758344</td>\n",
       "      <td>10284.115785</td>\n",
       "      <td>1769.591445</td>\n",
       "      <td>4533.730682</td>\n",
       "      <td>903.455645</td>\n",
       "      <td>27850.751284</td>\n",
       "    </tr>\n",
       "    <tr>\n",
       "      <th>2</th>\n",
       "      <td>2009-01-01 03:00:00</td>\n",
       "      <td>7108.488956</td>\n",
       "      <td>1162.793073</td>\n",
       "      <td>1221.679497</td>\n",
       "      <td>796.833243</td>\n",
       "      <td>10238.594551</td>\n",
       "      <td>1722.553266</td>\n",
       "      <td>4452.980186</td>\n",
       "      <td>901.649905</td>\n",
       "      <td>27605.572678</td>\n",
       "    </tr>\n",
       "    <tr>\n",
       "      <th>3</th>\n",
       "      <td>2009-01-01 04:00:00.003000</td>\n",
       "      <td>7024.863242</td>\n",
       "      <td>1177.509559</td>\n",
       "      <td>1226.780490</td>\n",
       "      <td>802.548898</td>\n",
       "      <td>10315.930645</td>\n",
       "      <td>1678.045689</td>\n",
       "      <td>4405.209584</td>\n",
       "      <td>909.355940</td>\n",
       "      <td>27540.244047</td>\n",
       "    </tr>\n",
       "    <tr>\n",
       "      <th>4</th>\n",
       "      <td>2009-01-01 04:59:59.997000</td>\n",
       "      <td>7049.567942</td>\n",
       "      <td>1194.823014</td>\n",
       "      <td>1236.579870</td>\n",
       "      <td>814.159655</td>\n",
       "      <td>10521.472154</td>\n",
       "      <td>1686.109335</td>\n",
       "      <td>4451.359225</td>\n",
       "      <td>925.522322</td>\n",
       "      <td>27879.593517</td>\n",
       "    </tr>\n",
       "  </tbody>\n",
       "</table>\n",
       "</div>"
      ],
      "text/plain": [
       "                  Hour Ending        COAST         EAST        FWEST  \\\n",
       "0  2009-01-01 01:00:00.003000  7300.317873  1173.516507  1221.195150   \n",
       "1  2009-01-01 01:59:59.997000  7174.769899  1161.605492  1221.723993   \n",
       "2         2009-01-01 03:00:00  7108.488956  1162.793073  1221.679497   \n",
       "3  2009-01-01 04:00:00.003000  7024.863242  1177.509559  1226.780490   \n",
       "4  2009-01-01 04:59:59.997000  7049.567942  1194.823014  1236.579870   \n",
       "\n",
       "        NORTH         NCENT        SOUTH        SCENT        WEST  \\\n",
       "0  809.370368  10329.687507  1841.693608  4601.280319  902.794867   \n",
       "1  801.758344  10284.115785  1769.591445  4533.730682  903.455645   \n",
       "2  796.833243  10238.594551  1722.553266  4452.980186  901.649905   \n",
       "3  802.548898  10315.930645  1678.045689  4405.209584  909.355940   \n",
       "4  814.159655  10521.472154  1686.109335  4451.359225  925.522322   \n",
       "\n",
       "          ERCOT  \n",
       "0  28179.856199  \n",
       "1  27850.751284  \n",
       "2  27605.572678  \n",
       "3  27540.244047  \n",
       "4  27879.593517  "
      ]
     },
     "execution_count": 43,
     "metadata": {},
     "output_type": "execute_result"
    }
   ],
   "source": [
    "total_df.head()"
   ]
  },
  {
   "cell_type": "code",
   "execution_count": 44,
   "id": "9e7de51e",
   "metadata": {},
   "outputs": [
    {
     "data": {
      "text/html": [
       "<div>\n",
       "<style scoped>\n",
       "    .dataframe tbody tr th:only-of-type {\n",
       "        vertical-align: middle;\n",
       "    }\n",
       "\n",
       "    .dataframe tbody tr th {\n",
       "        vertical-align: top;\n",
       "    }\n",
       "\n",
       "    .dataframe thead th {\n",
       "        text-align: right;\n",
       "    }\n",
       "</style>\n",
       "<table border=\"1\" class=\"dataframe\">\n",
       "  <thead>\n",
       "    <tr style=\"text-align: right;\">\n",
       "      <th></th>\n",
       "      <th>Hour Ending</th>\n",
       "      <th>COAST</th>\n",
       "      <th>EAST</th>\n",
       "      <th>FWEST</th>\n",
       "      <th>NORTH</th>\n",
       "      <th>NCENT</th>\n",
       "      <th>SOUTH</th>\n",
       "      <th>SCENT</th>\n",
       "      <th>WEST</th>\n",
       "      <th>ERCOT</th>\n",
       "    </tr>\n",
       "  </thead>\n",
       "  <tbody>\n",
       "    <tr>\n",
       "      <th>4338</th>\n",
       "      <td>06/30/2022 20:00</td>\n",
       "      <td>14700.132848</td>\n",
       "      <td>2508.717077</td>\n",
       "      <td>5099.466893</td>\n",
       "      <td>1663.609500</td>\n",
       "      <td>22836.862003</td>\n",
       "      <td>5558.048575</td>\n",
       "      <td>12248.057323</td>\n",
       "      <td>1814.172453</td>\n",
       "      <td>66429.066672</td>\n",
       "    </tr>\n",
       "    <tr>\n",
       "      <th>4339</th>\n",
       "      <td>06/30/2022 21:00</td>\n",
       "      <td>14637.633680</td>\n",
       "      <td>2390.824977</td>\n",
       "      <td>5032.712777</td>\n",
       "      <td>1577.234645</td>\n",
       "      <td>21780.555059</td>\n",
       "      <td>5390.475137</td>\n",
       "      <td>11710.465084</td>\n",
       "      <td>1733.335687</td>\n",
       "      <td>64253.237046</td>\n",
       "    </tr>\n",
       "    <tr>\n",
       "      <th>4340</th>\n",
       "      <td>06/30/2022 22:00</td>\n",
       "      <td>14543.743791</td>\n",
       "      <td>2317.353423</td>\n",
       "      <td>5021.561581</td>\n",
       "      <td>1508.412332</td>\n",
       "      <td>21016.916699</td>\n",
       "      <td>5195.665749</td>\n",
       "      <td>11277.425213</td>\n",
       "      <td>1676.344944</td>\n",
       "      <td>62557.423731</td>\n",
       "    </tr>\n",
       "    <tr>\n",
       "      <th>4341</th>\n",
       "      <td>06/30/2022 23:00</td>\n",
       "      <td>14065.386852</td>\n",
       "      <td>2139.177590</td>\n",
       "      <td>4927.674302</td>\n",
       "      <td>1402.099350</td>\n",
       "      <td>19729.504600</td>\n",
       "      <td>4975.040599</td>\n",
       "      <td>10505.303075</td>\n",
       "      <td>1570.206421</td>\n",
       "      <td>59314.392788</td>\n",
       "    </tr>\n",
       "    <tr>\n",
       "      <th>4342</th>\n",
       "      <td>06/30/2022 24:00</td>\n",
       "      <td>13484.378935</td>\n",
       "      <td>1968.957888</td>\n",
       "      <td>4853.353997</td>\n",
       "      <td>1301.524698</td>\n",
       "      <td>18321.175210</td>\n",
       "      <td>4614.967884</td>\n",
       "      <td>9591.968920</td>\n",
       "      <td>1458.991228</td>\n",
       "      <td>55595.318760</td>\n",
       "    </tr>\n",
       "  </tbody>\n",
       "</table>\n",
       "</div>"
      ],
      "text/plain": [
       "           Hour Ending         COAST         EAST        FWEST        NORTH  \\\n",
       "4338  06/30/2022 20:00  14700.132848  2508.717077  5099.466893  1663.609500   \n",
       "4339  06/30/2022 21:00  14637.633680  2390.824977  5032.712777  1577.234645   \n",
       "4340  06/30/2022 22:00  14543.743791  2317.353423  5021.561581  1508.412332   \n",
       "4341  06/30/2022 23:00  14065.386852  2139.177590  4927.674302  1402.099350   \n",
       "4342  06/30/2022 24:00  13484.378935  1968.957888  4853.353997  1301.524698   \n",
       "\n",
       "             NCENT        SOUTH         SCENT         WEST         ERCOT  \n",
       "4338  22836.862003  5558.048575  12248.057323  1814.172453  66429.066672  \n",
       "4339  21780.555059  5390.475137  11710.465084  1733.335687  64253.237046  \n",
       "4340  21016.916699  5195.665749  11277.425213  1676.344944  62557.423731  \n",
       "4341  19729.504600  4975.040599  10505.303075  1570.206421  59314.392788  \n",
       "4342  18321.175210  4614.967884   9591.968920  1458.991228  55595.318760  "
      ]
     },
     "execution_count": 44,
     "metadata": {},
     "output_type": "execute_result"
    }
   ],
   "source": [
    "total_df.tail()"
   ]
  },
  {
   "cell_type": "code",
   "execution_count": 45,
   "id": "5725052a",
   "metadata": {},
   "outputs": [
    {
     "data": {
      "text/plain": [
       "(118295, 10)"
      ]
     },
     "execution_count": 45,
     "metadata": {},
     "output_type": "execute_result"
    }
   ],
   "source": [
    "total_df.shape"
   ]
  },
  {
   "cell_type": "code",
   "execution_count": 46,
   "id": "fcf5547e",
   "metadata": {
    "scrolled": false
   },
   "outputs": [
    {
     "data": {
      "text/html": [
       "<div>\n",
       "<style scoped>\n",
       "    .dataframe tbody tr th:only-of-type {\n",
       "        vertical-align: middle;\n",
       "    }\n",
       "\n",
       "    .dataframe tbody tr th {\n",
       "        vertical-align: top;\n",
       "    }\n",
       "\n",
       "    .dataframe thead th {\n",
       "        text-align: right;\n",
       "    }\n",
       "</style>\n",
       "<table border=\"1\" class=\"dataframe\">\n",
       "  <thead>\n",
       "    <tr style=\"text-align: right;\">\n",
       "      <th></th>\n",
       "      <th>Hour Ending</th>\n",
       "      <th>COAST</th>\n",
       "    </tr>\n",
       "  </thead>\n",
       "  <tbody>\n",
       "    <tr>\n",
       "      <th>0</th>\n",
       "      <td>2009-01-01 01:00:00.003000</td>\n",
       "      <td>7300.317873</td>\n",
       "    </tr>\n",
       "    <tr>\n",
       "      <th>1</th>\n",
       "      <td>2009-01-01 01:59:59.997000</td>\n",
       "      <td>7174.769899</td>\n",
       "    </tr>\n",
       "    <tr>\n",
       "      <th>2</th>\n",
       "      <td>2009-01-01 03:00:00</td>\n",
       "      <td>7108.488956</td>\n",
       "    </tr>\n",
       "    <tr>\n",
       "      <th>3</th>\n",
       "      <td>2009-01-01 04:00:00.003000</td>\n",
       "      <td>7024.863242</td>\n",
       "    </tr>\n",
       "    <tr>\n",
       "      <th>4</th>\n",
       "      <td>2009-01-01 04:59:59.997000</td>\n",
       "      <td>7049.567942</td>\n",
       "    </tr>\n",
       "  </tbody>\n",
       "</table>\n",
       "</div>"
      ],
      "text/plain": [
       "                  Hour Ending        COAST\n",
       "0  2009-01-01 01:00:00.003000  7300.317873\n",
       "1  2009-01-01 01:59:59.997000  7174.769899\n",
       "2         2009-01-01 03:00:00  7108.488956\n",
       "3  2009-01-01 04:00:00.003000  7024.863242\n",
       "4  2009-01-01 04:59:59.997000  7049.567942"
      ]
     },
     "execution_count": 46,
     "metadata": {},
     "output_type": "execute_result"
    }
   ],
   "source": [
    "coast_df = total_df.drop(columns = ['EAST', 'FWEST', 'NORTH', 'NCENT', 'SOUTH', 'SCENT', 'WEST', 'ERCOT'])\n",
    "coast_df.head()"
   ]
  },
  {
   "cell_type": "code",
   "execution_count": 47,
   "id": "2105e75c",
   "metadata": {},
   "outputs": [
    {
     "data": {
      "text/plain": [
       "(118295, 2)"
      ]
     },
     "execution_count": 47,
     "metadata": {},
     "output_type": "execute_result"
    }
   ],
   "source": [
    "coast_df.shape"
   ]
  },
  {
   "cell_type": "code",
   "execution_count": 48,
   "id": "36276150",
   "metadata": {},
   "outputs": [
    {
     "name": "stdout",
     "output_type": "stream",
     "text": [
      "<class 'pandas.core.frame.DataFrame'>\n",
      "Int64Index: 118295 entries, 0 to 4342\n",
      "Data columns (total 2 columns):\n",
      " #   Column       Non-Null Count   Dtype  \n",
      "---  ------       --------------   -----  \n",
      " 0   Hour Ending  118295 non-null  object \n",
      " 1   COAST        118294 non-null  float64\n",
      "dtypes: float64(1), object(1)\n",
      "memory usage: 2.7+ MB\n"
     ]
    }
   ],
   "source": [
    "coast_df.info()"
   ]
  },
  {
   "cell_type": "code",
   "execution_count": 49,
   "id": "0aa60308",
   "metadata": {},
   "outputs": [],
   "source": [
    "coast_df.rename(columns={\"Hour Ending\": \"datetime\", \"COAST\": \"ercot_load\"}, inplace=True)"
   ]
  },
  {
   "cell_type": "code",
   "execution_count": 50,
   "id": "92daefb2",
   "metadata": {},
   "outputs": [],
   "source": [
    "coast_df.to_csv('coast_df.csv')"
   ]
  },
  {
   "cell_type": "code",
   "execution_count": 51,
   "id": "b1b79346",
   "metadata": {},
   "outputs": [],
   "source": [
    "# total_df.to_csv('total_df.csv')"
   ]
  },
  {
   "cell_type": "code",
   "execution_count": 52,
   "id": "34cf7fe8",
   "metadata": {},
   "outputs": [],
   "source": [
    "# pd.to_datetime(coast_df.datetime)"
   ]
  },
  {
   "cell_type": "code",
   "execution_count": 53,
   "id": "2a7158dd",
   "metadata": {},
   "outputs": [],
   "source": [
    "# coast_df[coast_df.datetime>='2010-01-01']"
   ]
  },
  {
   "cell_type": "code",
   "execution_count": 54,
   "id": "69a27aa5",
   "metadata": {},
   "outputs": [],
   "source": [
    "# coast_df.set_index('datetime')"
   ]
  },
  {
   "cell_type": "code",
   "execution_count": 55,
   "id": "db73d6af",
   "metadata": {},
   "outputs": [],
   "source": [
    "# coast_df.info()"
   ]
  },
  {
   "cell_type": "code",
   "execution_count": 56,
   "id": "2078fe80",
   "metadata": {},
   "outputs": [
    {
     "data": {
      "text/plain": [
       "datetime      0\n",
       "ercot_load    1\n",
       "dtype: int64"
      ]
     },
     "execution_count": 56,
     "metadata": {},
     "output_type": "execute_result"
    }
   ],
   "source": [
    "coast_df.isna().sum()"
   ]
  },
  {
   "cell_type": "code",
   "execution_count": 66,
   "id": "b8283322",
   "metadata": {},
   "outputs": [
    {
     "data": {
      "text/html": [
       "<div>\n",
       "<style scoped>\n",
       "    .dataframe tbody tr th:only-of-type {\n",
       "        vertical-align: middle;\n",
       "    }\n",
       "\n",
       "    .dataframe tbody tr th {\n",
       "        vertical-align: top;\n",
       "    }\n",
       "\n",
       "    .dataframe thead th {\n",
       "        text-align: right;\n",
       "    }\n",
       "</style>\n",
       "<table border=\"1\" class=\"dataframe\">\n",
       "  <thead>\n",
       "    <tr style=\"text-align: right;\">\n",
       "      <th></th>\n",
       "      <th>Unnamed: 0</th>\n",
       "      <th>datetime</th>\n",
       "      <th>ercot_load</th>\n",
       "    </tr>\n",
       "  </thead>\n",
       "  <tbody>\n",
       "    <tr>\n",
       "      <th>0</th>\n",
       "      <td>0</td>\n",
       "      <td>2009-01-01 01:00:00.003000</td>\n",
       "      <td>7300.317873</td>\n",
       "    </tr>\n",
       "    <tr>\n",
       "      <th>1</th>\n",
       "      <td>1</td>\n",
       "      <td>2009-01-01 01:59:59.997000</td>\n",
       "      <td>7174.769899</td>\n",
       "    </tr>\n",
       "    <tr>\n",
       "      <th>2</th>\n",
       "      <td>2</td>\n",
       "      <td>2009-01-01 03:00:00</td>\n",
       "      <td>7108.488956</td>\n",
       "    </tr>\n",
       "    <tr>\n",
       "      <th>3</th>\n",
       "      <td>3</td>\n",
       "      <td>2009-01-01 04:00:00.003000</td>\n",
       "      <td>7024.863242</td>\n",
       "    </tr>\n",
       "    <tr>\n",
       "      <th>4</th>\n",
       "      <td>4</td>\n",
       "      <td>2009-01-01 04:59:59.997000</td>\n",
       "      <td>7049.567942</td>\n",
       "    </tr>\n",
       "    <tr>\n",
       "      <th>...</th>\n",
       "      <td>...</td>\n",
       "      <td>...</td>\n",
       "      <td>...</td>\n",
       "    </tr>\n",
       "    <tr>\n",
       "      <th>118290</th>\n",
       "      <td>4338</td>\n",
       "      <td>06/30/2022 20:00</td>\n",
       "      <td>14700.132848</td>\n",
       "    </tr>\n",
       "    <tr>\n",
       "      <th>118291</th>\n",
       "      <td>4339</td>\n",
       "      <td>06/30/2022 21:00</td>\n",
       "      <td>14637.633680</td>\n",
       "    </tr>\n",
       "    <tr>\n",
       "      <th>118292</th>\n",
       "      <td>4340</td>\n",
       "      <td>06/30/2022 22:00</td>\n",
       "      <td>14543.743791</td>\n",
       "    </tr>\n",
       "    <tr>\n",
       "      <th>118293</th>\n",
       "      <td>4341</td>\n",
       "      <td>06/30/2022 23:00</td>\n",
       "      <td>14065.386852</td>\n",
       "    </tr>\n",
       "    <tr>\n",
       "      <th>118294</th>\n",
       "      <td>4342</td>\n",
       "      <td>06/30/2022 24:00</td>\n",
       "      <td>13484.378935</td>\n",
       "    </tr>\n",
       "  </tbody>\n",
       "</table>\n",
       "<p>118295 rows × 3 columns</p>\n",
       "</div>"
      ],
      "text/plain": [
       "        Unnamed: 0                    datetime    ercot_load\n",
       "0                0  2009-01-01 01:00:00.003000   7300.317873\n",
       "1                1  2009-01-01 01:59:59.997000   7174.769899\n",
       "2                2         2009-01-01 03:00:00   7108.488956\n",
       "3                3  2009-01-01 04:00:00.003000   7024.863242\n",
       "4                4  2009-01-01 04:59:59.997000   7049.567942\n",
       "...            ...                         ...           ...\n",
       "118290        4338            06/30/2022 20:00  14700.132848\n",
       "118291        4339            06/30/2022 21:00  14637.633680\n",
       "118292        4340            06/30/2022 22:00  14543.743791\n",
       "118293        4341            06/30/2022 23:00  14065.386852\n",
       "118294        4342            06/30/2022 24:00  13484.378935\n",
       "\n",
       "[118295 rows x 3 columns]"
      ]
     },
     "execution_count": 66,
     "metadata": {},
     "output_type": "execute_result"
    }
   ],
   "source": [
    "df = pd.read_csv('coast_df.csv')\n",
    "df"
   ]
  },
  {
   "cell_type": "code",
   "execution_count": 67,
   "id": "1ae05ed0",
   "metadata": {},
   "outputs": [
    {
     "data": {
      "text/html": [
       "<div>\n",
       "<style scoped>\n",
       "    .dataframe tbody tr th:only-of-type {\n",
       "        vertical-align: middle;\n",
       "    }\n",
       "\n",
       "    .dataframe tbody tr th {\n",
       "        vertical-align: top;\n",
       "    }\n",
       "\n",
       "    .dataframe thead th {\n",
       "        text-align: right;\n",
       "    }\n",
       "</style>\n",
       "<table border=\"1\" class=\"dataframe\">\n",
       "  <thead>\n",
       "    <tr style=\"text-align: right;\">\n",
       "      <th></th>\n",
       "      <th>ercot_load</th>\n",
       "    </tr>\n",
       "    <tr>\n",
       "      <th>datetime</th>\n",
       "      <th></th>\n",
       "    </tr>\n",
       "  </thead>\n",
       "  <tbody>\n",
       "    <tr>\n",
       "      <th>2009-01-01 01:00:00</th>\n",
       "      <td>7300.317873</td>\n",
       "    </tr>\n",
       "    <tr>\n",
       "      <th>2009-01-01 02:00:00</th>\n",
       "      <td>7174.769899</td>\n",
       "    </tr>\n",
       "    <tr>\n",
       "      <th>2009-01-01 03:00:00</th>\n",
       "      <td>7108.488956</td>\n",
       "    </tr>\n",
       "    <tr>\n",
       "      <th>2009-01-01 04:00:00</th>\n",
       "      <td>7024.863242</td>\n",
       "    </tr>\n",
       "    <tr>\n",
       "      <th>2009-01-01 05:00:00</th>\n",
       "      <td>7049.567942</td>\n",
       "    </tr>\n",
       "    <tr>\n",
       "      <th>...</th>\n",
       "      <td>...</td>\n",
       "    </tr>\n",
       "    <tr>\n",
       "      <th>2022-06-30 20:00:00</th>\n",
       "      <td>14700.132848</td>\n",
       "    </tr>\n",
       "    <tr>\n",
       "      <th>2022-06-30 21:00:00</th>\n",
       "      <td>14637.633680</td>\n",
       "    </tr>\n",
       "    <tr>\n",
       "      <th>2022-06-30 22:00:00</th>\n",
       "      <td>14543.743791</td>\n",
       "    </tr>\n",
       "    <tr>\n",
       "      <th>2022-06-30 23:00:00</th>\n",
       "      <td>14065.386852</td>\n",
       "    </tr>\n",
       "    <tr>\n",
       "      <th>2022-07-01 00:00:00</th>\n",
       "      <td>13484.378935</td>\n",
       "    </tr>\n",
       "  </tbody>\n",
       "</table>\n",
       "<p>118295 rows × 1 columns</p>\n",
       "</div>"
      ],
      "text/plain": [
       "                       ercot_load\n",
       "datetime                         \n",
       "2009-01-01 01:00:00   7300.317873\n",
       "2009-01-01 02:00:00   7174.769899\n",
       "2009-01-01 03:00:00   7108.488956\n",
       "2009-01-01 04:00:00   7024.863242\n",
       "2009-01-01 05:00:00   7049.567942\n",
       "...                           ...\n",
       "2022-06-30 20:00:00  14700.132848\n",
       "2022-06-30 21:00:00  14637.633680\n",
       "2022-06-30 22:00:00  14543.743791\n",
       "2022-06-30 23:00:00  14065.386852\n",
       "2022-07-01 00:00:00  13484.378935\n",
       "\n",
       "[118295 rows x 1 columns]"
      ]
     },
     "execution_count": 67,
     "metadata": {},
     "output_type": "execute_result"
    }
   ],
   "source": [
    "df = wrangle.clean_ercot_datetime(df)\n",
    "df"
   ]
  },
  {
   "cell_type": "code",
   "execution_count": 86,
   "id": "0e4e3bbd",
   "metadata": {},
   "outputs": [],
   "source": [
    "df = df[(df.index >= '2010-01-01 00:00:00') & (df.index <= '2022-06-30 23:00:00')]"
   ]
  },
  {
   "cell_type": "code",
   "execution_count": 87,
   "id": "fd348c78",
   "metadata": {},
   "outputs": [
    {
     "data": {
      "text/plain": [
       "(                      ercot_load\n",
       " datetime                        \n",
       " 2010-01-01 00:00:00  7931.241900\n",
       " 2010-01-01 01:00:00  7775.456846\n",
       " 2010-01-01 02:00:00  7704.815982\n",
       " 2010-01-01 03:00:00  7650.575724\n",
       " 2010-01-01 04:00:00  7666.708317,\n",
       "                        ercot_load\n",
       " datetime                         \n",
       " 2022-06-30 19:00:00  15040.841510\n",
       " 2022-06-30 20:00:00  14700.132848\n",
       " 2022-06-30 21:00:00  14637.633680\n",
       " 2022-06-30 22:00:00  14543.743791\n",
       " 2022-06-30 23:00:00  14065.386852)"
      ]
     },
     "execution_count": 87,
     "metadata": {},
     "output_type": "execute_result"
    }
   ],
   "source": [
    "df.head(), df.tail()"
   ]
  },
  {
   "cell_type": "code",
   "execution_count": null,
   "id": "4acaa7f5",
   "metadata": {},
   "outputs": [],
   "source": []
  }
 ],
 "metadata": {
  "kernelspec": {
   "display_name": "Python 3 (ipykernel)",
   "language": "python",
   "name": "python3"
  },
  "language_info": {
   "codemirror_mode": {
    "name": "ipython",
    "version": 3
   },
   "file_extension": ".py",
   "mimetype": "text/x-python",
   "name": "python",
   "nbconvert_exporter": "python",
   "pygments_lexer": "ipython3",
   "version": "3.9.7"
  }
 },
 "nbformat": 4,
 "nbformat_minor": 5
}
