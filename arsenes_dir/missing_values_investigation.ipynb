{
 "cells": [
  {
   "cell_type": "markdown",
   "id": "26feefc7",
   "metadata": {},
   "source": [
    "# Missing values investigation"
   ]
  },
  {
   "cell_type": "code",
   "execution_count": 7,
   "id": "bb0f4770",
   "metadata": {},
   "outputs": [],
   "source": [
    "# Ignoring warning messages from python\n",
    "import warnings\n",
    "warnings.filterwarnings('ignore')\n",
    "\n",
    "# General use imports\n",
    "import pandas as pd\n",
    "import numpy as np\n",
    "from datetime import date\n",
    "from datetime import time\n",
    "from datetime import datetime\n",
    "from datetime import timedelta\n",
    "\n",
    "# Module helpers imports\n",
    "import wrangle\n",
    "\n",
    "# # Visualization imports\n",
    "import matplotlib.pyplot as plt\n",
    "import seaborn as sns\n",
    "import plotly.graph_objects as go\n",
    "import plotly\n",
    "import plotly.express as px\n",
    "from plotly.subplots import make_subplots"
   ]
  },
  {
   "cell_type": "code",
   "execution_count": 8,
   "id": "ced5506a",
   "metadata": {},
   "outputs": [
    {
     "data": {
      "text/html": [
       "<div>\n",
       "<style scoped>\n",
       "    .dataframe tbody tr th:only-of-type {\n",
       "        vertical-align: middle;\n",
       "    }\n",
       "\n",
       "    .dataframe tbody tr th {\n",
       "        vertical-align: top;\n",
       "    }\n",
       "\n",
       "    .dataframe thead th {\n",
       "        text-align: right;\n",
       "    }\n",
       "</style>\n",
       "<table border=\"1\" class=\"dataframe\">\n",
       "  <thead>\n",
       "    <tr style=\"text-align: right;\">\n",
       "      <th></th>\n",
       "      <th>ercot_load</th>\n",
       "      <th>dow</th>\n",
       "      <th>is_weekday</th>\n",
       "      <th>is_obs_holiday</th>\n",
       "    </tr>\n",
       "    <tr>\n",
       "      <th>datetime</th>\n",
       "      <th></th>\n",
       "      <th></th>\n",
       "      <th></th>\n",
       "      <th></th>\n",
       "    </tr>\n",
       "  </thead>\n",
       "  <tbody>\n",
       "    <tr>\n",
       "      <th>2010-01-01 01:00:00</th>\n",
       "      <td>7775.456846</td>\n",
       "      <td>Friday</td>\n",
       "      <td>1</td>\n",
       "      <td>1</td>\n",
       "    </tr>\n",
       "    <tr>\n",
       "      <th>2010-01-01 02:00:00</th>\n",
       "      <td>7704.815982</td>\n",
       "      <td>Friday</td>\n",
       "      <td>1</td>\n",
       "      <td>1</td>\n",
       "    </tr>\n",
       "    <tr>\n",
       "      <th>2010-01-01 03:00:00</th>\n",
       "      <td>7650.575724</td>\n",
       "      <td>Friday</td>\n",
       "      <td>1</td>\n",
       "      <td>1</td>\n",
       "    </tr>\n",
       "    <tr>\n",
       "      <th>2010-01-01 04:00:00</th>\n",
       "      <td>7666.708317</td>\n",
       "      <td>Friday</td>\n",
       "      <td>1</td>\n",
       "      <td>1</td>\n",
       "    </tr>\n",
       "    <tr>\n",
       "      <th>2010-01-01 05:00:00</th>\n",
       "      <td>7744.960869</td>\n",
       "      <td>Friday</td>\n",
       "      <td>1</td>\n",
       "      <td>1</td>\n",
       "    </tr>\n",
       "  </tbody>\n",
       "</table>\n",
       "</div>"
      ],
      "text/plain": [
       "                      ercot_load     dow  is_weekday  is_obs_holiday\n",
       "datetime                                                            \n",
       "2010-01-01 01:00:00  7775.456846  Friday           1               1\n",
       "2010-01-01 02:00:00  7704.815982  Friday           1               1\n",
       "2010-01-01 03:00:00  7650.575724  Friday           1               1\n",
       "2010-01-01 04:00:00  7666.708317  Friday           1               1\n",
       "2010-01-01 05:00:00  7744.960869  Friday           1               1"
      ]
     },
     "execution_count": 8,
     "metadata": {},
     "output_type": "execute_result"
    }
   ],
   "source": [
    "df = wrangle.get_ercot_df()\n",
    "df.head()"
   ]
  },
  {
   "cell_type": "code",
   "execution_count": 9,
   "id": "f68a3faa",
   "metadata": {},
   "outputs": [
    {
     "name": "stdout",
     "output_type": "stream",
     "text": [
      "<class 'pandas.core.frame.DataFrame'>\n",
      "DatetimeIndex: 109535 entries, 2010-01-01 01:00:00 to 2022-07-01 00:00:00\n",
      "Data columns (total 4 columns):\n",
      " #   Column          Non-Null Count   Dtype  \n",
      "---  ------          --------------   -----  \n",
      " 0   ercot_load      109534 non-null  float64\n",
      " 1   dow             109535 non-null  object \n",
      " 2   is_weekday      109535 non-null  int64  \n",
      " 3   is_obs_holiday  109535 non-null  int64  \n",
      "dtypes: float64(1), int64(2), object(1)\n",
      "memory usage: 4.2+ MB\n"
     ]
    }
   ],
   "source": [
    "df.info()"
   ]
  },
  {
   "cell_type": "code",
   "execution_count": 12,
   "id": "7d25d8ec",
   "metadata": {},
   "outputs": [
    {
     "data": {
      "text/plain": [
       "ercot_load        1\n",
       "dow               0\n",
       "is_weekday        0\n",
       "is_obs_holiday    0\n",
       "dtype: int64"
      ]
     },
     "execution_count": 12,
     "metadata": {},
     "output_type": "execute_result"
    }
   ],
   "source": [
    "df.isnull().sum()"
   ]
  },
  {
   "cell_type": "code",
   "execution_count": 13,
   "id": "305dc8ab",
   "metadata": {},
   "outputs": [
    {
     "data": {
      "text/html": [
       "<div>\n",
       "<style scoped>\n",
       "    .dataframe tbody tr th:only-of-type {\n",
       "        vertical-align: middle;\n",
       "    }\n",
       "\n",
       "    .dataframe tbody tr th {\n",
       "        vertical-align: top;\n",
       "    }\n",
       "\n",
       "    .dataframe thead th {\n",
       "        text-align: right;\n",
       "    }\n",
       "</style>\n",
       "<table border=\"1\" class=\"dataframe\">\n",
       "  <thead>\n",
       "    <tr style=\"text-align: right;\">\n",
       "      <th></th>\n",
       "      <th>ercot_load</th>\n",
       "      <th>dow</th>\n",
       "      <th>is_weekday</th>\n",
       "      <th>is_obs_holiday</th>\n",
       "    </tr>\n",
       "    <tr>\n",
       "      <th>datetime</th>\n",
       "      <th></th>\n",
       "      <th></th>\n",
       "      <th></th>\n",
       "      <th></th>\n",
       "    </tr>\n",
       "  </thead>\n",
       "  <tbody>\n",
       "    <tr>\n",
       "      <th>2016-11-07</th>\n",
       "      <td>NaN</td>\n",
       "      <td>Monday</td>\n",
       "      <td>1</td>\n",
       "      <td>0</td>\n",
       "    </tr>\n",
       "  </tbody>\n",
       "</table>\n",
       "</div>"
      ],
      "text/plain": [
       "            ercot_load     dow  is_weekday  is_obs_holiday\n",
       "datetime                                                  \n",
       "2016-11-07         NaN  Monday           1               0"
      ]
     },
     "execution_count": 13,
     "metadata": {},
     "output_type": "execute_result"
    }
   ],
   "source": [
    "df[df['ercot_load'].isnull()]"
   ]
  },
  {
   "cell_type": "code",
   "execution_count": 16,
   "id": "381c495e",
   "metadata": {},
   "outputs": [
    {
     "data": {
      "text/plain": [
       "datetime\n",
       "2016-11-06 00:00:00     9823.059300\n",
       "2016-11-06 01:00:00     9333.714877\n",
       "2016-11-06 02:00:00     8940.715464\n",
       "2016-11-06 02:00:00     8586.846227\n",
       "2016-11-06 03:00:00     8421.796870\n",
       "2016-11-06 04:00:00     8315.693497\n",
       "2016-11-06 05:00:00     8298.451888\n",
       "2016-11-06 06:00:00     8378.409884\n",
       "2016-11-06 07:00:00     8574.723399\n",
       "2016-11-06 08:00:00     8727.975197\n",
       "2016-11-06 09:00:00     9250.127880\n",
       "2016-11-06 10:00:00     9710.042373\n",
       "2016-11-06 11:00:00    10166.955143\n",
       "2016-11-06 12:00:00    10705.692924\n",
       "2016-11-06 13:00:00    11257.071051\n",
       "2016-11-06 14:00:00    11593.861939\n",
       "2016-11-06 15:00:00    11668.452052\n",
       "2016-11-06 16:00:00    11505.324075\n",
       "2016-11-06 17:00:00    11366.450501\n",
       "2016-11-06 18:00:00    11568.347403\n",
       "2016-11-06 19:00:00    11817.812064\n",
       "2016-11-06 20:00:00    11659.888806\n",
       "2016-11-06 21:00:00    11325.212073\n",
       "2016-11-06 22:00:00    10847.035095\n",
       "2016-11-06 23:00:00    10138.494300\n",
       "2016-11-07 00:00:00             NaN\n",
       "2016-11-07 01:00:00     8961.697811\n",
       "2016-11-07 02:00:00     8719.073733\n",
       "2016-11-07 03:00:00     8602.533316\n",
       "2016-11-07 04:00:00     8623.895250\n",
       "2016-11-07 05:00:00     8856.470136\n",
       "2016-11-07 06:00:00     9469.276490\n",
       "2016-11-07 07:00:00    10233.657987\n",
       "2016-11-07 08:00:00    10384.558931\n",
       "2016-11-07 09:00:00    10696.434427\n",
       "2016-11-07 10:00:00    11027.490313\n",
       "2016-11-07 11:00:00    11292.883292\n",
       "2016-11-07 12:00:00    11646.538266\n",
       "2016-11-07 13:00:00    11884.506494\n",
       "2016-11-07 14:00:00    12190.059245\n",
       "2016-11-07 15:00:00    12377.546400\n",
       "2016-11-07 16:00:00    12406.601813\n",
       "2016-11-07 17:00:00    12332.283267\n",
       "2016-11-07 18:00:00    12191.523125\n",
       "2016-11-07 19:00:00    12280.656551\n",
       "2016-11-07 20:00:00    12079.225448\n",
       "2016-11-07 21:00:00    11699.602943\n",
       "2016-11-07 22:00:00    11018.478786\n",
       "2016-11-07 23:00:00    10154.993885\n",
       "Name: ercot_load, dtype: float64"
      ]
     },
     "execution_count": 16,
     "metadata": {},
     "output_type": "execute_result"
    }
   ],
   "source": [
    "df['ercot_load']['2016-11-06':'2016-11-07']"
   ]
  },
  {
   "cell_type": "code",
   "execution_count": 17,
   "id": "30ccc2c0",
   "metadata": {},
   "outputs": [
    {
     "data": {
      "text/plain": [
       "9550.0960555"
      ]
     },
     "execution_count": 17,
     "metadata": {},
     "output_type": "execute_result"
    }
   ],
   "source": [
    "(10138.494300 + 8961.697811)/2"
   ]
  },
  {
   "cell_type": "code",
   "execution_count": 18,
   "id": "4db6b50e",
   "metadata": {},
   "outputs": [
    {
     "data": {
      "text/plain": [
       "datetime\n",
       "2016-11-06 00:00:00     9823.059300\n",
       "2016-11-06 01:00:00     9333.714877\n",
       "2016-11-06 02:00:00     8940.715464\n",
       "2016-11-06 02:00:00     8586.846227\n",
       "2016-11-06 03:00:00     8421.796870\n",
       "2016-11-06 04:00:00     8315.693497\n",
       "2016-11-06 05:00:00     8298.451888\n",
       "2016-11-06 06:00:00     8378.409884\n",
       "2016-11-06 07:00:00     8574.723399\n",
       "2016-11-06 08:00:00     8727.975197\n",
       "2016-11-06 09:00:00     9250.127880\n",
       "2016-11-06 10:00:00     9710.042373\n",
       "2016-11-06 11:00:00    10166.955143\n",
       "2016-11-06 12:00:00    10705.692924\n",
       "2016-11-06 13:00:00    11257.071051\n",
       "2016-11-06 14:00:00    11593.861939\n",
       "2016-11-06 15:00:00    11668.452052\n",
       "2016-11-06 16:00:00    11505.324075\n",
       "2016-11-06 17:00:00    11366.450501\n",
       "2016-11-06 18:00:00    11568.347403\n",
       "2016-11-06 19:00:00    11817.812064\n",
       "2016-11-06 20:00:00    11659.888806\n",
       "2016-11-06 21:00:00    11325.212073\n",
       "2016-11-06 22:00:00    10847.035095\n",
       "2016-11-06 23:00:00    10138.494300\n",
       "2016-11-07 00:00:00     9550.096055\n",
       "2016-11-07 01:00:00     8961.697811\n",
       "2016-11-07 02:00:00     8719.073733\n",
       "2016-11-07 03:00:00     8602.533316\n",
       "2016-11-07 04:00:00     8623.895250\n",
       "2016-11-07 05:00:00     8856.470136\n",
       "2016-11-07 06:00:00     9469.276490\n",
       "2016-11-07 07:00:00    10233.657987\n",
       "2016-11-07 08:00:00    10384.558931\n",
       "2016-11-07 09:00:00    10696.434427\n",
       "2016-11-07 10:00:00    11027.490313\n",
       "2016-11-07 11:00:00    11292.883292\n",
       "2016-11-07 12:00:00    11646.538266\n",
       "2016-11-07 13:00:00    11884.506494\n",
       "2016-11-07 14:00:00    12190.059245\n",
       "2016-11-07 15:00:00    12377.546400\n",
       "2016-11-07 16:00:00    12406.601813\n",
       "2016-11-07 17:00:00    12332.283267\n",
       "2016-11-07 18:00:00    12191.523125\n",
       "2016-11-07 19:00:00    12280.656551\n",
       "2016-11-07 20:00:00    12079.225448\n",
       "2016-11-07 21:00:00    11699.602943\n",
       "2016-11-07 22:00:00    11018.478786\n",
       "2016-11-07 23:00:00    10154.993885\n",
       "Name: ercot_load, dtype: float64"
      ]
     },
     "execution_count": 18,
     "metadata": {},
     "output_type": "execute_result"
    }
   ],
   "source": [
    "df.ercot_load['2016-11-06':'2016-11-07'].interpolate(method='time',limit_direction='both')"
   ]
  },
  {
   "cell_type": "code",
   "execution_count": null,
   "id": "1664a138",
   "metadata": {},
   "outputs": [],
   "source": [
    ", inplace="
   ]
  }
 ],
 "metadata": {
  "kernelspec": {
   "display_name": "Python 3 (ipykernel)",
   "language": "python",
   "name": "python3"
  },
  "language_info": {
   "codemirror_mode": {
    "name": "ipython",
    "version": 3
   },
   "file_extension": ".py",
   "mimetype": "text/x-python",
   "name": "python",
   "nbconvert_exporter": "python",
   "pygments_lexer": "ipython3",
   "version": "3.9.7"
  }
 },
 "nbformat": 4,
 "nbformat_minor": 5
}
