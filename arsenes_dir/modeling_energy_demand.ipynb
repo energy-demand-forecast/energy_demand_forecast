{
 "cells": [
  {
   "cell_type": "markdown",
   "id": "2710306e",
   "metadata": {},
   "source": [
    "# Modeling"
   ]
  },
  {
   "cell_type": "code",
   "execution_count": 79,
   "id": "4ed4ba8b",
   "metadata": {},
   "outputs": [],
   "source": [
    "# Ignoring warning messages from python\n",
    "import warnings\n",
    "warnings.filterwarnings('ignore')\n",
    "\n",
    "# General use imports\n",
    "import pandas as pd\n",
    "import numpy as np\n",
    "from datetime import date\n",
    "from datetime import time\n",
    "from datetime import datetime\n",
    "from datetime import timedelta\n",
    "\n",
    "# Useful modules imports\n",
    "import wrangle\n",
    "\n",
    "# Visualization imports\n",
    "import matplotlib.pyplot as plt\n",
    "import seaborn as sns\n",
    "import plotly.graph_objects as go\n",
    "import plotly\n",
    "import plotly.express as px\n",
    "from plotly.subplots import make_subplots\n",
    "from IPython.display import display_html\n",
    "from itertools import chain,cycle\n",
    "\n",
    "# Datetime, stats and modeling tools\n",
    "import statsmodels.api as sm\n",
    "from math import sqrt\n",
    "from statsmodels.tsa.stattools import acf\n",
    "from datetime import timedelta, datetime\n",
    "from statsmodels.tsa.seasonal import seasonal_decompose \n",
    "from statsmodels.tsa.holtwinters import SimpleExpSmoothing   \n",
    "from statsmodels.tsa.holtwinters import ExponentialSmoothing\n",
    "from statsmodels.tsa.seasonal import DecomposeResult, seasonal_decompose"
   ]
  },
  {
   "cell_type": "code",
   "execution_count": 2,
   "id": "6de3c8b2",
   "metadata": {},
   "outputs": [
    {
     "data": {
      "text/html": [
       "<div>\n",
       "<style scoped>\n",
       "    .dataframe tbody tr th:only-of-type {\n",
       "        vertical-align: middle;\n",
       "    }\n",
       "\n",
       "    .dataframe tbody tr th {\n",
       "        vertical-align: top;\n",
       "    }\n",
       "\n",
       "    .dataframe thead th {\n",
       "        text-align: right;\n",
       "    }\n",
       "</style>\n",
       "<table border=\"1\" class=\"dataframe\">\n",
       "  <thead>\n",
       "    <tr style=\"text-align: right;\">\n",
       "      <th></th>\n",
       "      <th>ercot_load</th>\n",
       "      <th>dow</th>\n",
       "      <th>is_weekday</th>\n",
       "      <th>is_obs_holiday</th>\n",
       "      <th>hs_temp</th>\n",
       "      <th>hs_feelslike</th>\n",
       "      <th>hs_dew</th>\n",
       "      <th>hs_humidity</th>\n",
       "      <th>hs_precip</th>\n",
       "      <th>hs_windgust</th>\n",
       "      <th>...</th>\n",
       "      <th>vc_precip</th>\n",
       "      <th>vc_windgust</th>\n",
       "      <th>vc_windspeed</th>\n",
       "      <th>vc_winddir</th>\n",
       "      <th>vc_sealevelpressure</th>\n",
       "      <th>vc_cloudcover</th>\n",
       "      <th>vc_visibility</th>\n",
       "      <th>vc_solarradiation</th>\n",
       "      <th>vc_solarenergy</th>\n",
       "      <th>vc_uvindex</th>\n",
       "    </tr>\n",
       "    <tr>\n",
       "      <th>datetime</th>\n",
       "      <th></th>\n",
       "      <th></th>\n",
       "      <th></th>\n",
       "      <th></th>\n",
       "      <th></th>\n",
       "      <th></th>\n",
       "      <th></th>\n",
       "      <th></th>\n",
       "      <th></th>\n",
       "      <th></th>\n",
       "      <th></th>\n",
       "      <th></th>\n",
       "      <th></th>\n",
       "      <th></th>\n",
       "      <th></th>\n",
       "      <th></th>\n",
       "      <th></th>\n",
       "      <th></th>\n",
       "      <th></th>\n",
       "      <th></th>\n",
       "      <th></th>\n",
       "    </tr>\n",
       "  </thead>\n",
       "  <tbody>\n",
       "    <tr>\n",
       "      <th>2010-01-01 00:00:00-06:00</th>\n",
       "      <td>7931.241900</td>\n",
       "      <td>Friday</td>\n",
       "      <td>1</td>\n",
       "      <td>1</td>\n",
       "      <td>47.3</td>\n",
       "      <td>41.2</td>\n",
       "      <td>43.2</td>\n",
       "      <td>85.37</td>\n",
       "      <td>0.0</td>\n",
       "      <td>27.5</td>\n",
       "      <td>...</td>\n",
       "      <td>0.0</td>\n",
       "      <td>24.2</td>\n",
       "      <td>16.1</td>\n",
       "      <td>360.0</td>\n",
       "      <td>1027.7</td>\n",
       "      <td>98.7</td>\n",
       "      <td>9.9</td>\n",
       "      <td>0.0</td>\n",
       "      <td>NaN</td>\n",
       "      <td>0</td>\n",
       "    </tr>\n",
       "    <tr>\n",
       "      <th>2010-01-01 01:00:00-06:00</th>\n",
       "      <td>7775.456846</td>\n",
       "      <td>Friday</td>\n",
       "      <td>1</td>\n",
       "      <td>1</td>\n",
       "      <td>46.8</td>\n",
       "      <td>39.9</td>\n",
       "      <td>41.4</td>\n",
       "      <td>81.38</td>\n",
       "      <td>0.0</td>\n",
       "      <td>24.2</td>\n",
       "      <td>...</td>\n",
       "      <td>0.0</td>\n",
       "      <td>26.5</td>\n",
       "      <td>15.1</td>\n",
       "      <td>350.0</td>\n",
       "      <td>1028.1</td>\n",
       "      <td>98.6</td>\n",
       "      <td>9.9</td>\n",
       "      <td>0.0</td>\n",
       "      <td>NaN</td>\n",
       "      <td>0</td>\n",
       "    </tr>\n",
       "  </tbody>\n",
       "</table>\n",
       "<p>2 rows × 60 columns</p>\n",
       "</div>"
      ],
      "text/plain": [
       "                            ercot_load     dow  is_weekday  is_obs_holiday  \\\n",
       "datetime                                                                     \n",
       "2010-01-01 00:00:00-06:00  7931.241900  Friday           1               1   \n",
       "2010-01-01 01:00:00-06:00  7775.456846  Friday           1               1   \n",
       "\n",
       "                           hs_temp  hs_feelslike  hs_dew  hs_humidity  \\\n",
       "datetime                                                                \n",
       "2010-01-01 00:00:00-06:00     47.3          41.2    43.2        85.37   \n",
       "2010-01-01 01:00:00-06:00     46.8          39.9    41.4        81.38   \n",
       "\n",
       "                           hs_precip  hs_windgust  ...  vc_precip  \\\n",
       "datetime                                           ...              \n",
       "2010-01-01 00:00:00-06:00        0.0         27.5  ...        0.0   \n",
       "2010-01-01 01:00:00-06:00        0.0         24.2  ...        0.0   \n",
       "\n",
       "                           vc_windgust  vc_windspeed  vc_winddir  \\\n",
       "datetime                                                           \n",
       "2010-01-01 00:00:00-06:00         24.2          16.1       360.0   \n",
       "2010-01-01 01:00:00-06:00         26.5          15.1       350.0   \n",
       "\n",
       "                           vc_sealevelpressure  vc_cloudcover  vc_visibility  \\\n",
       "datetime                                                                       \n",
       "2010-01-01 00:00:00-06:00               1027.7           98.7            9.9   \n",
       "2010-01-01 01:00:00-06:00               1028.1           98.6            9.9   \n",
       "\n",
       "                           vc_solarradiation  vc_solarenergy  vc_uvindex  \n",
       "datetime                                                                  \n",
       "2010-01-01 00:00:00-06:00                0.0             NaN           0  \n",
       "2010-01-01 01:00:00-06:00                0.0             NaN           0  \n",
       "\n",
       "[2 rows x 60 columns]"
      ]
     },
     "execution_count": 2,
     "metadata": {},
     "output_type": "execute_result"
    }
   ],
   "source": [
    "# Acquiring the data\n",
    "combined_df = wrangle.get_combined_df(get_central = True)\n",
    "combined_df.head(2)"
   ]
  },
  {
   "cell_type": "markdown",
   "id": "5fe36b31",
   "metadata": {},
   "source": [
    ">### Exmining the data for any impediment to modeling"
   ]
  },
  {
   "cell_type": "code",
   "execution_count": 8,
   "id": "f8dcb8c4",
   "metadata": {},
   "outputs": [
    {
     "data": {
      "text/plain": [
       "<pandas.core.resample.DatetimeIndexResampler object at 0x7fda883bc790>"
      ]
     },
     "execution_count": 8,
     "metadata": {},
     "output_type": "execute_result"
    }
   ],
   "source": [
    "df1 = df.resample('H')"
   ]
  },
  {
   "cell_type": "code",
   "execution_count": null,
   "id": "6f2ccb14",
   "metadata": {},
   "outputs": [],
   "source": []
  },
  {
   "cell_type": "code",
   "execution_count": 3,
   "id": "ea05e1b2",
   "metadata": {
    "collapsed": true
   },
   "outputs": [
    {
     "name": "stdout",
     "output_type": "stream",
     "text": [
      "<class 'pandas.core.frame.DataFrame'>\n",
      "DatetimeIndex: 109535 entries, 2010-01-01 00:00:00-06:00 to 2022-06-30 23:00:00-05:00\n",
      "Data columns (total 60 columns):\n",
      " #   Column               Non-Null Count   Dtype  \n",
      "---  ------               --------------   -----  \n",
      " 0   ercot_load           109535 non-null  float64\n",
      " 1   dow                  109535 non-null  object \n",
      " 2   is_weekday           109535 non-null  int64  \n",
      " 3   is_obs_holiday       109535 non-null  int64  \n",
      " 4   hs_temp              109535 non-null  float64\n",
      " 5   hs_feelslike         109535 non-null  float64\n",
      " 6   hs_dew               109535 non-null  float64\n",
      " 7   hs_humidity          109535 non-null  float64\n",
      " 8   hs_precip            109535 non-null  float64\n",
      " 9   hs_windgust          28674 non-null   float64\n",
      " 10  hs_windspeed         109535 non-null  float64\n",
      " 11  hs_winddir           109535 non-null  float64\n",
      " 12  hs_sealevelpressure  109435 non-null  float64\n",
      " 13  hs_cloudcover        109535 non-null  float64\n",
      " 14  hs_visibility        109535 non-null  float64\n",
      " 15  hs_solarradiation    109535 non-null  float64\n",
      " 16  hs_solarenergy       69237 non-null   float64\n",
      " 17  hs_uvindex           109535 non-null  int64  \n",
      " 18  gv_temp              109535 non-null  float64\n",
      " 19  gv_feelslike         109535 non-null  float64\n",
      " 20  gv_dew               109535 non-null  float64\n",
      " 21  gv_humidity          109535 non-null  float64\n",
      " 22  gv_precip            109535 non-null  float64\n",
      " 23  gv_windgust          53398 non-null   float64\n",
      " 24  gv_windspeed         109535 non-null  float64\n",
      " 25  gv_winddir           109535 non-null  float64\n",
      " 26  gv_sealevelpressure  109532 non-null  float64\n",
      " 27  gv_cloudcover        109535 non-null  float64\n",
      " 28  gv_visibility        109533 non-null  float64\n",
      " 29  gv_solarradiation    99620 non-null   float64\n",
      " 30  gv_solarenergy       66875 non-null   float64\n",
      " 31  gv_uvindex           99620 non-null   float64\n",
      " 32  pl_temp              109535 non-null  float64\n",
      " 33  pl_feelslike         109535 non-null  float64\n",
      " 34  pl_dew               109535 non-null  float64\n",
      " 35  pl_humidity          109535 non-null  float64\n",
      " 36  pl_precip            109535 non-null  float64\n",
      " 37  pl_windgust          49046 non-null   float64\n",
      " 38  pl_windspeed         109535 non-null  float64\n",
      " 39  pl_winddir           109535 non-null  float64\n",
      " 40  pl_sealevelpressure  109360 non-null  float64\n",
      " 41  pl_cloudcover        109535 non-null  float64\n",
      " 42  pl_visibility        109527 non-null  float64\n",
      " 43  pl_solarradiation    109535 non-null  float64\n",
      " 44  pl_solarenergy       63209 non-null   float64\n",
      " 45  pl_uvindex           109535 non-null  int64  \n",
      " 46  vc_temp              109535 non-null  float64\n",
      " 47  vc_feelslike         109535 non-null  float64\n",
      " 48  vc_dew               109535 non-null  float64\n",
      " 49  vc_humidity          109535 non-null  float64\n",
      " 50  vc_precip            109535 non-null  float64\n",
      " 51  vc_windgust          37687 non-null   float64\n",
      " 52  vc_windspeed         109535 non-null  float64\n",
      " 53  vc_winddir           109535 non-null  float64\n",
      " 54  vc_sealevelpressure  109458 non-null  float64\n",
      " 55  vc_cloudcover        109535 non-null  float64\n",
      " 56  vc_visibility        109500 non-null  float64\n",
      " 57  vc_solarradiation    109535 non-null  float64\n",
      " 58  vc_solarenergy       64818 non-null   float64\n",
      " 59  vc_uvindex           109535 non-null  int64  \n",
      "dtypes: float64(54), int64(5), object(1)\n",
      "memory usage: 51.0+ MB\n"
     ]
    }
   ],
   "source": [
    "combined_df.info()"
   ]
  },
  {
   "cell_type": "code",
   "execution_count": 4,
   "id": "f5657ff8",
   "metadata": {},
   "outputs": [
    {
     "data": {
      "text/plain": [
       "DatetimeIndex(['2010-01-01 00:00:00-06:00', '2010-01-01 01:00:00-06:00',\n",
       "               '2010-01-01 02:00:00-06:00', '2010-01-01 03:00:00-06:00',\n",
       "               '2010-01-01 04:00:00-06:00', '2010-01-01 05:00:00-06:00',\n",
       "               '2010-01-01 06:00:00-06:00', '2010-01-01 07:00:00-06:00',\n",
       "               '2010-01-01 08:00:00-06:00', '2010-01-01 09:00:00-06:00',\n",
       "               ...\n",
       "               '2022-06-30 14:00:00-05:00', '2022-06-30 15:00:00-05:00',\n",
       "               '2022-06-30 16:00:00-05:00', '2022-06-30 17:00:00-05:00',\n",
       "               '2022-06-30 18:00:00-05:00', '2022-06-30 19:00:00-05:00',\n",
       "               '2022-06-30 20:00:00-05:00', '2022-06-30 21:00:00-05:00',\n",
       "               '2022-06-30 22:00:00-05:00', '2022-06-30 23:00:00-05:00'],\n",
       "              dtype='datetime64[ns, US/Central]', name='datetime', length=109535, freq=None)"
      ]
     },
     "execution_count": 4,
     "metadata": {},
     "output_type": "execute_result"
    }
   ],
   "source": [
    "combined_df.index"
   ]
  },
  {
   "cell_type": "markdown",
   "id": "2be84643",
   "metadata": {},
   "source": [
    ">#### Checking the index shows that pandas do not recognize a frequency to the data although we know that it is hourly\n",
    ">#### I will resample to get the right frequency"
   ]
  },
  {
   "cell_type": "code",
   "execution_count": 5,
   "id": "91d65234",
   "metadata": {},
   "outputs": [],
   "source": [
    "# Resampling to hourly\n",
    "df = combined_df.resample('H').mean()"
   ]
  },
  {
   "cell_type": "code",
   "execution_count": 6,
   "id": "f7e37cbb",
   "metadata": {},
   "outputs": [
    {
     "data": {
      "text/plain": [
       "DatetimeIndex(['2010-01-01 00:00:00-06:00', '2010-01-01 01:00:00-06:00',\n",
       "               '2010-01-01 02:00:00-06:00', '2010-01-01 03:00:00-06:00',\n",
       "               '2010-01-01 04:00:00-06:00', '2010-01-01 05:00:00-06:00',\n",
       "               '2010-01-01 06:00:00-06:00', '2010-01-01 07:00:00-06:00',\n",
       "               '2010-01-01 08:00:00-06:00', '2010-01-01 09:00:00-06:00',\n",
       "               ...\n",
       "               '2022-06-30 14:00:00-05:00', '2022-06-30 15:00:00-05:00',\n",
       "               '2022-06-30 16:00:00-05:00', '2022-06-30 17:00:00-05:00',\n",
       "               '2022-06-30 18:00:00-05:00', '2022-06-30 19:00:00-05:00',\n",
       "               '2022-06-30 20:00:00-05:00', '2022-06-30 21:00:00-05:00',\n",
       "               '2022-06-30 22:00:00-05:00', '2022-06-30 23:00:00-05:00'],\n",
       "              dtype='datetime64[ns, US/Central]', name='datetime', length=109535, freq='H')"
      ]
     },
     "execution_count": 6,
     "metadata": {},
     "output_type": "execute_result"
    }
   ],
   "source": [
    "# The frequency shows up now\n",
    "df.index"
   ]
  },
  {
   "cell_type": "markdown",
   "id": "c0b531c3",
   "metadata": {},
   "source": [
    ">#### Resampling removes non numeric data so I'll check the difference between the two dataframe to make sure we are not missing on anything important"
   ]
  },
  {
   "cell_type": "code",
   "execution_count": 7,
   "id": "161d8003",
   "metadata": {
    "collapsed": true
   },
   "outputs": [
    {
     "name": "stdout",
     "output_type": "stream",
     "text": [
      "<class 'pandas.core.frame.DataFrame'>\n",
      "DatetimeIndex: 109535 entries, 2010-01-01 00:00:00-06:00 to 2022-06-30 23:00:00-05:00\n",
      "Freq: H\n",
      "Data columns (total 59 columns):\n",
      " #   Column               Non-Null Count   Dtype  \n",
      "---  ------               --------------   -----  \n",
      " 0   ercot_load           109535 non-null  float64\n",
      " 1   is_weekday           109535 non-null  float64\n",
      " 2   is_obs_holiday       109535 non-null  float64\n",
      " 3   hs_temp              109535 non-null  float64\n",
      " 4   hs_feelslike         109535 non-null  float64\n",
      " 5   hs_dew               109535 non-null  float64\n",
      " 6   hs_humidity          109535 non-null  float64\n",
      " 7   hs_precip            109535 non-null  float64\n",
      " 8   hs_windgust          28674 non-null   float64\n",
      " 9   hs_windspeed         109535 non-null  float64\n",
      " 10  hs_winddir           109535 non-null  float64\n",
      " 11  hs_sealevelpressure  109435 non-null  float64\n",
      " 12  hs_cloudcover        109535 non-null  float64\n",
      " 13  hs_visibility        109535 non-null  float64\n",
      " 14  hs_solarradiation    109535 non-null  float64\n",
      " 15  hs_solarenergy       69237 non-null   float64\n",
      " 16  hs_uvindex           109535 non-null  float64\n",
      " 17  gv_temp              109535 non-null  float64\n",
      " 18  gv_feelslike         109535 non-null  float64\n",
      " 19  gv_dew               109535 non-null  float64\n",
      " 20  gv_humidity          109535 non-null  float64\n",
      " 21  gv_precip            109535 non-null  float64\n",
      " 22  gv_windgust          53398 non-null   float64\n",
      " 23  gv_windspeed         109535 non-null  float64\n",
      " 24  gv_winddir           109535 non-null  float64\n",
      " 25  gv_sealevelpressure  109532 non-null  float64\n",
      " 26  gv_cloudcover        109535 non-null  float64\n",
      " 27  gv_visibility        109533 non-null  float64\n",
      " 28  gv_solarradiation    99620 non-null   float64\n",
      " 29  gv_solarenergy       66875 non-null   float64\n",
      " 30  gv_uvindex           99620 non-null   float64\n",
      " 31  pl_temp              109535 non-null  float64\n",
      " 32  pl_feelslike         109535 non-null  float64\n",
      " 33  pl_dew               109535 non-null  float64\n",
      " 34  pl_humidity          109535 non-null  float64\n",
      " 35  pl_precip            109535 non-null  float64\n",
      " 36  pl_windgust          49046 non-null   float64\n",
      " 37  pl_windspeed         109535 non-null  float64\n",
      " 38  pl_winddir           109535 non-null  float64\n",
      " 39  pl_sealevelpressure  109360 non-null  float64\n",
      " 40  pl_cloudcover        109535 non-null  float64\n",
      " 41  pl_visibility        109527 non-null  float64\n",
      " 42  pl_solarradiation    109535 non-null  float64\n",
      " 43  pl_solarenergy       63209 non-null   float64\n",
      " 44  pl_uvindex           109535 non-null  float64\n",
      " 45  vc_temp              109535 non-null  float64\n",
      " 46  vc_feelslike         109535 non-null  float64\n",
      " 47  vc_dew               109535 non-null  float64\n",
      " 48  vc_humidity          109535 non-null  float64\n",
      " 49  vc_precip            109535 non-null  float64\n",
      " 50  vc_windgust          37687 non-null   float64\n",
      " 51  vc_windspeed         109535 non-null  float64\n",
      " 52  vc_winddir           109535 non-null  float64\n",
      " 53  vc_sealevelpressure  109458 non-null  float64\n",
      " 54  vc_cloudcover        109535 non-null  float64\n",
      " 55  vc_visibility        109500 non-null  float64\n",
      " 56  vc_solarradiation    109535 non-null  float64\n",
      " 57  vc_solarenergy       64818 non-null   float64\n",
      " 58  vc_uvindex           109535 non-null  float64\n",
      "dtypes: float64(59)\n",
      "memory usage: 50.1 MB\n"
     ]
    }
   ],
   "source": [
    "df.info()"
   ]
  },
  {
   "cell_type": "code",
   "execution_count": 11,
   "id": "aa18924b",
   "metadata": {},
   "outputs": [],
   "source": [
    "columns1 = combined_df.columns"
   ]
  },
  {
   "cell_type": "code",
   "execution_count": 9,
   "id": "371017db",
   "metadata": {},
   "outputs": [],
   "source": [
    "columns2 = df.columns"
   ]
  },
  {
   "cell_type": "code",
   "execution_count": 12,
   "id": "129f030c",
   "metadata": {
    "collapsed": true
   },
   "outputs": [
    {
     "name": "stdout",
     "output_type": "stream",
     "text": [
      "['dow']\n"
     ]
    }
   ],
   "source": [
    "diff = list(set(columns1)-set(columns2))\n",
    "print(diff)"
   ]
  },
  {
   "cell_type": "code",
   "execution_count": 17,
   "id": "e1e2bc73",
   "metadata": {},
   "outputs": [
    {
     "data": {
      "text/plain": [
       "'5.9.0'"
      ]
     },
     "execution_count": 17,
     "metadata": {},
     "output_type": "execute_result"
    }
   ],
   "source": [
    "plotly.__version__"
   ]
  },
  {
   "cell_type": "markdown",
   "id": "40afedd0",
   "metadata": {},
   "source": [
    ">### Planning modeling  \n",
    "        * Baseline  \n",
    "            - Use simple average of the last day\n",
    "            - Could I get the moving averages of the day and get the average of all moving averge?\n",
    "        * Holt-Winter's Model application  \n",
    "            - "
   ]
  },
  {
   "cell_type": "markdown",
   "id": "8c71c1c7",
   "metadata": {},
   "source": [
    "## 1. Setting up the baseline"
   ]
  },
  {
   "cell_type": "code",
   "execution_count": 24,
   "id": "843a5409",
   "metadata": {},
   "outputs": [
    {
     "data": {
      "text/html": [
       "<div>\n",
       "<style scoped>\n",
       "    .dataframe tbody tr th:only-of-type {\n",
       "        vertical-align: middle;\n",
       "    }\n",
       "\n",
       "    .dataframe tbody tr th {\n",
       "        vertical-align: top;\n",
       "    }\n",
       "\n",
       "    .dataframe thead th {\n",
       "        text-align: right;\n",
       "    }\n",
       "</style>\n",
       "<table border=\"1\" class=\"dataframe\">\n",
       "  <thead>\n",
       "    <tr style=\"text-align: right;\">\n",
       "      <th></th>\n",
       "      <th>ercot_load</th>\n",
       "      <th>is_weekday</th>\n",
       "      <th>is_obs_holiday</th>\n",
       "      <th>hs_temp</th>\n",
       "      <th>hs_feelslike</th>\n",
       "      <th>hs_dew</th>\n",
       "      <th>hs_humidity</th>\n",
       "      <th>hs_precip</th>\n",
       "      <th>hs_windgust</th>\n",
       "      <th>hs_windspeed</th>\n",
       "      <th>...</th>\n",
       "      <th>vc_precip</th>\n",
       "      <th>vc_windgust</th>\n",
       "      <th>vc_windspeed</th>\n",
       "      <th>vc_winddir</th>\n",
       "      <th>vc_sealevelpressure</th>\n",
       "      <th>vc_cloudcover</th>\n",
       "      <th>vc_visibility</th>\n",
       "      <th>vc_solarradiation</th>\n",
       "      <th>vc_solarenergy</th>\n",
       "      <th>vc_uvindex</th>\n",
       "    </tr>\n",
       "    <tr>\n",
       "      <th>datetime</th>\n",
       "      <th></th>\n",
       "      <th></th>\n",
       "      <th></th>\n",
       "      <th></th>\n",
       "      <th></th>\n",
       "      <th></th>\n",
       "      <th></th>\n",
       "      <th></th>\n",
       "      <th></th>\n",
       "      <th></th>\n",
       "      <th></th>\n",
       "      <th></th>\n",
       "      <th></th>\n",
       "      <th></th>\n",
       "      <th></th>\n",
       "      <th></th>\n",
       "      <th></th>\n",
       "      <th></th>\n",
       "      <th></th>\n",
       "      <th></th>\n",
       "      <th></th>\n",
       "    </tr>\n",
       "  </thead>\n",
       "  <tbody>\n",
       "    <tr>\n",
       "      <th>2022-06-30 23:00:00-05:00</th>\n",
       "      <td>14065.386852</td>\n",
       "      <td>1.0</td>\n",
       "      <td>0.0</td>\n",
       "      <td>77.2</td>\n",
       "      <td>77.2</td>\n",
       "      <td>73.4</td>\n",
       "      <td>88.06</td>\n",
       "      <td>0.0</td>\n",
       "      <td>10.5</td>\n",
       "      <td>10.0</td>\n",
       "      <td>...</td>\n",
       "      <td>0.0</td>\n",
       "      <td>13.9</td>\n",
       "      <td>7.0</td>\n",
       "      <td>79.0</td>\n",
       "      <td>1014.0</td>\n",
       "      <td>0.4</td>\n",
       "      <td>9.9</td>\n",
       "      <td>0.0</td>\n",
       "      <td>NaN</td>\n",
       "      <td>0.0</td>\n",
       "    </tr>\n",
       "  </tbody>\n",
       "</table>\n",
       "<p>1 rows × 59 columns</p>\n",
       "</div>"
      ],
      "text/plain": [
       "                             ercot_load  is_weekday  is_obs_holiday  hs_temp  \\\n",
       "datetime                                                                       \n",
       "2022-06-30 23:00:00-05:00  14065.386852         1.0             0.0     77.2   \n",
       "\n",
       "                           hs_feelslike  hs_dew  hs_humidity  hs_precip  \\\n",
       "datetime                                                                  \n",
       "2022-06-30 23:00:00-05:00          77.2    73.4        88.06        0.0   \n",
       "\n",
       "                           hs_windgust  hs_windspeed  ...  vc_precip  \\\n",
       "datetime                                              ...              \n",
       "2022-06-30 23:00:00-05:00         10.5          10.0  ...        0.0   \n",
       "\n",
       "                           vc_windgust  vc_windspeed  vc_winddir  \\\n",
       "datetime                                                           \n",
       "2022-06-30 23:00:00-05:00         13.9           7.0        79.0   \n",
       "\n",
       "                           vc_sealevelpressure  vc_cloudcover  vc_visibility  \\\n",
       "datetime                                                                       \n",
       "2022-06-30 23:00:00-05:00               1014.0            0.4            9.9   \n",
       "\n",
       "                           vc_solarradiation  vc_solarenergy  vc_uvindex  \n",
       "datetime                                                                  \n",
       "2022-06-30 23:00:00-05:00                0.0             NaN         0.0  \n",
       "\n",
       "[1 rows x 59 columns]"
      ]
     },
     "execution_count": 24,
     "metadata": {},
     "output_type": "execute_result"
    }
   ],
   "source": [
    "df.tail(1)"
   ]
  },
  {
   "cell_type": "code",
   "execution_count": 23,
   "id": "6a01e978",
   "metadata": {},
   "outputs": [
    {
     "data": {
      "text/plain": [
       "DatetimeIndex(['2010-01-01 00:00:00-06:00', '2010-01-01 01:00:00-06:00',\n",
       "               '2010-01-01 02:00:00-06:00', '2010-01-01 03:00:00-06:00',\n",
       "               '2010-01-01 04:00:00-06:00', '2010-01-01 05:00:00-06:00',\n",
       "               '2010-01-01 06:00:00-06:00', '2010-01-01 07:00:00-06:00',\n",
       "               '2010-01-01 08:00:00-06:00', '2010-01-01 09:00:00-06:00',\n",
       "               ...\n",
       "               '2022-06-30 14:00:00-05:00', '2022-06-30 15:00:00-05:00',\n",
       "               '2022-06-30 16:00:00-05:00', '2022-06-30 17:00:00-05:00',\n",
       "               '2022-06-30 18:00:00-05:00', '2022-06-30 19:00:00-05:00',\n",
       "               '2022-06-30 20:00:00-05:00', '2022-06-30 21:00:00-05:00',\n",
       "               '2022-06-30 22:00:00-05:00', '2022-06-30 23:00:00-05:00'],\n",
       "              dtype='datetime64[ns, US/Central]', name='datetime', length=109535, freq='H')"
      ]
     },
     "execution_count": 23,
     "metadata": {},
     "output_type": "execute_result"
    }
   ],
   "source": [
    "df.index"
   ]
  },
  {
   "cell_type": "code",
   "execution_count": 44,
   "id": "2b4855bb",
   "metadata": {},
   "outputs": [
    {
     "name": "stdout",
     "output_type": "stream",
     "text": [
      "\u001b[94m \u001b[1m The baseline model has an average consumption demand of: 14233.84 Megawatt \u001b[0m\n"
     ]
    }
   ],
   "source": [
    "# Finding the average of the last day of our dataset (June 30, 2022)\n",
    "Baseline = df.loc['2022-06-30 00:00:00-05:00':'2022-06-30 23:00:00-05:00'].ercot_load.mean()\n",
    "\n",
    "print(f\"\\033[94m \\033[1m The baseline model has an average consumption demand of: {Baseline:.2f} Megawatt \\033[0m\")"
   ]
  },
  {
   "cell_type": "markdown",
   "id": "23551d04",
   "metadata": {},
   "source": [
    ">### Attempt at an average of moving averages as a baseline"
   ]
  },
  {
   "cell_type": "markdown",
   "id": "5305dda6",
   "metadata": {},
   "source": [
    "## 2. Holt-Winter use set up"
   ]
  },
  {
   "cell_type": "markdown",
   "id": "a67d7dca",
   "metadata": {},
   "source": [
    ">### Splitting the data  \n",
    "        - I'll split the data in two Train: 2010 - 2017.  Test: 2018 - 2022 I'll use blocked cross-validation on the train set  \n",
    "        - For using Holt-Winters, I need to make sure the data has levels, a trend and some seasonality  \n",
    "        - "
   ]
  },
  {
   "cell_type": "markdown",
   "id": "861ac3b5",
   "metadata": {},
   "source": [
    ">#### Checking for seasonality, trend and level through graphs"
   ]
  },
  {
   "cell_type": "code",
   "execution_count": 48,
   "id": "0cf7e61e",
   "metadata": {},
   "outputs": [
    {
     "data": {
      "text/html": [
       "<div>\n",
       "<style scoped>\n",
       "    .dataframe tbody tr th:only-of-type {\n",
       "        vertical-align: middle;\n",
       "    }\n",
       "\n",
       "    .dataframe tbody tr th {\n",
       "        vertical-align: top;\n",
       "    }\n",
       "\n",
       "    .dataframe thead th {\n",
       "        text-align: right;\n",
       "    }\n",
       "</style>\n",
       "<table border=\"1\" class=\"dataframe\">\n",
       "  <thead>\n",
       "    <tr style=\"text-align: right;\">\n",
       "      <th></th>\n",
       "      <th>ercot_load</th>\n",
       "      <th>is_weekday</th>\n",
       "      <th>is_obs_holiday</th>\n",
       "      <th>hs_temp</th>\n",
       "      <th>hs_feelslike</th>\n",
       "      <th>hs_dew</th>\n",
       "      <th>hs_humidity</th>\n",
       "      <th>hs_precip</th>\n",
       "      <th>hs_windgust</th>\n",
       "      <th>hs_windspeed</th>\n",
       "      <th>...</th>\n",
       "      <th>vc_precip</th>\n",
       "      <th>vc_windgust</th>\n",
       "      <th>vc_windspeed</th>\n",
       "      <th>vc_winddir</th>\n",
       "      <th>vc_sealevelpressure</th>\n",
       "      <th>vc_cloudcover</th>\n",
       "      <th>vc_visibility</th>\n",
       "      <th>vc_solarradiation</th>\n",
       "      <th>vc_solarenergy</th>\n",
       "      <th>vc_uvindex</th>\n",
       "    </tr>\n",
       "    <tr>\n",
       "      <th>datetime</th>\n",
       "      <th></th>\n",
       "      <th></th>\n",
       "      <th></th>\n",
       "      <th></th>\n",
       "      <th></th>\n",
       "      <th></th>\n",
       "      <th></th>\n",
       "      <th></th>\n",
       "      <th></th>\n",
       "      <th></th>\n",
       "      <th></th>\n",
       "      <th></th>\n",
       "      <th></th>\n",
       "      <th></th>\n",
       "      <th></th>\n",
       "      <th></th>\n",
       "      <th></th>\n",
       "      <th></th>\n",
       "      <th></th>\n",
       "      <th></th>\n",
       "      <th></th>\n",
       "    </tr>\n",
       "  </thead>\n",
       "  <tbody>\n",
       "    <tr>\n",
       "      <th>2010-01-01 00:00:00-06:00</th>\n",
       "      <td>7931.2419</td>\n",
       "      <td>1.0</td>\n",
       "      <td>1.0</td>\n",
       "      <td>47.3</td>\n",
       "      <td>41.2</td>\n",
       "      <td>43.2</td>\n",
       "      <td>85.37</td>\n",
       "      <td>0.0</td>\n",
       "      <td>27.5</td>\n",
       "      <td>15.1</td>\n",
       "      <td>...</td>\n",
       "      <td>0.0</td>\n",
       "      <td>24.2</td>\n",
       "      <td>16.1</td>\n",
       "      <td>360.0</td>\n",
       "      <td>1027.7</td>\n",
       "      <td>98.7</td>\n",
       "      <td>9.9</td>\n",
       "      <td>0.0</td>\n",
       "      <td>NaN</td>\n",
       "      <td>0.0</td>\n",
       "    </tr>\n",
       "  </tbody>\n",
       "</table>\n",
       "<p>1 rows × 59 columns</p>\n",
       "</div>"
      ],
      "text/plain": [
       "                           ercot_load  is_weekday  is_obs_holiday  hs_temp  \\\n",
       "datetime                                                                     \n",
       "2010-01-01 00:00:00-06:00   7931.2419         1.0             1.0     47.3   \n",
       "\n",
       "                           hs_feelslike  hs_dew  hs_humidity  hs_precip  \\\n",
       "datetime                                                                  \n",
       "2010-01-01 00:00:00-06:00          41.2    43.2        85.37        0.0   \n",
       "\n",
       "                           hs_windgust  hs_windspeed  ...  vc_precip  \\\n",
       "datetime                                              ...              \n",
       "2010-01-01 00:00:00-06:00         27.5          15.1  ...        0.0   \n",
       "\n",
       "                           vc_windgust  vc_windspeed  vc_winddir  \\\n",
       "datetime                                                           \n",
       "2010-01-01 00:00:00-06:00         24.2          16.1       360.0   \n",
       "\n",
       "                           vc_sealevelpressure  vc_cloudcover  vc_visibility  \\\n",
       "datetime                                                                       \n",
       "2010-01-01 00:00:00-06:00               1027.7           98.7            9.9   \n",
       "\n",
       "                           vc_solarradiation  vc_solarenergy  vc_uvindex  \n",
       "datetime                                                                  \n",
       "2010-01-01 00:00:00-06:00                0.0             NaN         0.0  \n",
       "\n",
       "[1 rows x 59 columns]"
      ]
     },
     "execution_count": 48,
     "metadata": {},
     "output_type": "execute_result"
    }
   ],
   "source": [
    "df.head(1)"
   ]
  },
  {
   "cell_type": "code",
   "execution_count": null,
   "id": "4b89effe",
   "metadata": {},
   "outputs": [],
   "source": [
    "def display_side_by_side(*args,titles=cycle([''])):\n",
    "    '''\n",
    "    \n",
    "    '''\n",
    "    html_str=''\n",
    "    for df,title in zip(args, chain(titles,cycle(['</br>'])) ):\n",
    "        html_str+='<th style=\"text-align:center\"><td style=\"vertical-align:top\">'\n",
    "        html_str+=f'<h2>{title}</h2>'\n",
    "        html_str+=df.to_html().replace('table','table style=\"display:inline\"')\n",
    "        html_str+='</td></th>'"
   ]
  },
  {
   "cell_type": "code",
   "execution_count": null,
   "id": "9fb4e49b",
   "metadata": {},
   "outputs": [],
   "source": [
    "def display_cohort_traffic(freq_df):\n",
    "display_side_by_side(freq_df[:5], freq_df[-5:], titles = ['Top 5 Cohorts by Traffic', 'Bottom 5 Cohorts by Traffic'])"
   ]
  },
  {
   "cell_type": "code",
   "execution_count": null,
   "id": "eeb7ca86",
   "metadata": {},
   "outputs": [],
   "source": [
    "def top_bot_5(intro_freq):\n",
    "    top_5 = round(intro_freq['count'][:5].sum() / intro_freq['count'].sum() * 100, 1)\n",
    "    bot_5 = round(intro_freq['count'][-5:].sum()/ intro_freq['count'].sum() * 100, 1)\n",
    "    print(f'The top 5 cohorts account for {top_5}% of traffic to the most popular lesson, while the bottom 5 cohorts\\\n",
    "    account for {bot_5}% of traffic.')  "
   ]
  },
  {
   "cell_type": "code",
   "execution_count": 63,
   "id": "e669cfe9",
   "metadata": {},
   "outputs": [
    {
     "data": {
      "text/plain": [
       "datetime\n",
       "2010-01-01 00:00:00-06:00     7931.241900\n",
       "2010-01-01 01:00:00-06:00     7775.456846\n",
       "2010-01-01 02:00:00-06:00     7704.815982\n",
       "2010-01-01 03:00:00-06:00     7650.575724\n",
       "2010-01-01 04:00:00-06:00     7666.708317\n",
       "                                 ...     \n",
       "2017-12-31 19:00:00-06:00    12061.549401\n",
       "2017-12-31 20:00:00-06:00    12015.663549\n",
       "2017-12-31 21:00:00-06:00    11883.114122\n",
       "2017-12-31 22:00:00-06:00    11754.250889\n",
       "2017-12-31 23:00:00-06:00    11579.853459\n",
       "Freq: H, Name: ercot_load, Length: 70128, dtype: float64"
      ]
     },
     "execution_count": 63,
     "metadata": {},
     "output_type": "execute_result"
    }
   ],
   "source": [
    "df[:'2017'].ercot_load"
   ]
  },
  {
   "cell_type": "code",
   "execution_count": 72,
   "id": "bbc8ad61",
   "metadata": {},
   "outputs": [
    {
     "name": "stdout",
     "output_type": "stream",
     "text": [
      "The Train dtatset:\n",
      " datetime\n",
      "2010-01-01 00:00:00-06:00    7931.241900\n",
      "2010-01-01 01:00:00-06:00    7775.456846\n",
      "2010-01-01 02:00:00-06:00    7704.815982\n",
      "2010-01-01 03:00:00-06:00    7650.575724\n",
      "2010-01-01 04:00:00-06:00    7666.708317\n",
      "Freq: H, Name: ercot_load, dtype: float64\n",
      "\n",
      "\n",
      "The Test dataset:\n",
      " datetime\n",
      "2018-01-01 00:00:00-06:00    11452.163689\n",
      "2018-01-01 01:00:00-06:00    11425.979115\n",
      "2018-01-01 02:00:00-06:00    11408.418023\n",
      "2018-01-01 03:00:00-06:00    11405.198365\n",
      "2018-01-01 04:00:00-06:00    11450.560138\n",
      "Freq: H, Name: ercot_load, dtype: float64\n"
     ]
    }
   ],
   "source": [
    "# Splitting the data\n",
    "\n",
    "train = df[:'2017'].ercot_load\n",
    "test = df['2018':].ercot_load\n",
    "\n",
    "print(f'The Train dtatset:\\n {train.head()}')\n",
    "print('\\n')\n",
    "print(f'The Test dataset:\\n {test.head()}')"
   ]
  },
  {
   "cell_type": "code",
   "execution_count": 76,
   "id": "31d2e472",
   "metadata": {},
   "outputs": [
    {
     "name": "stdout",
     "output_type": "stream",
     "text": [
      "                             ercot_load\n",
      "datetime                               \n",
      "2010-01-01 00:00:00-06:00   7931.241900\n",
      "2010-01-01 01:00:00-06:00   7775.456846\n",
      "2010-01-01 02:00:00-06:00   7704.815982\n",
      "2010-01-01 03:00:00-06:00   7650.575724\n",
      "2010-01-01 04:00:00-06:00   7666.708317\n",
      "...                                 ...\n",
      "2017-12-31 19:00:00-06:00  12061.549401\n",
      "2017-12-31 20:00:00-06:00  12015.663549\n",
      "2017-12-31 21:00:00-06:00  11883.114122\n",
      "2017-12-31 22:00:00-06:00  11754.250889\n",
      "2017-12-31 23:00:00-06:00  11579.853459\n",
      "\n",
      "[70128 rows x 1 columns]                              ercot_load\n",
      "datetime                               \n",
      "2018-01-01 00:00:00-06:00  11452.163689\n",
      "2018-01-01 01:00:00-06:00  11425.979115\n",
      "2018-01-01 02:00:00-06:00  11408.418023\n",
      "2018-01-01 03:00:00-06:00  11405.198365\n",
      "2018-01-01 04:00:00-06:00  11450.560138\n",
      "...                                 ...\n",
      "2022-06-30 19:00:00-05:00  15040.841510\n",
      "2022-06-30 20:00:00-05:00  14700.132848\n",
      "2022-06-30 21:00:00-05:00  14637.633680\n",
      "2022-06-30 22:00:00-05:00  14543.743791\n",
      "2022-06-30 23:00:00-05:00  14065.386852\n",
      "\n",
      "[39407 rows x 1 columns]\n"
     ]
    }
   ],
   "source": [
    "print(train.to_frame(), test.to_frame())"
   ]
  },
  {
   "cell_type": "code",
   "execution_count": 68,
   "id": "86356469",
   "metadata": {},
   "outputs": [
    {
     "data": {
      "text/plain": [
       "pandas.core.series.Series"
      ]
     },
     "execution_count": 68,
     "metadata": {},
     "output_type": "execute_result"
    }
   ],
   "source": [
    "type(train)"
   ]
  },
  {
   "cell_type": "code",
   "execution_count": 80,
   "id": "89690e68",
   "metadata": {},
   "outputs": [],
   "source": [
    "def display_side_by_side(*args,titles=cycle([''])):\n",
    "    html_str=''\n",
    "    for df,title in zip(args, chain(titles,cycle(['</br>'])) ):\n",
    "        html_str+='<th style=\"text-align:center\"><td style=\"vertical-align:top\">'\n",
    "        html_str+=f'<h2 style=\"text-align: center;\">{title}</h2>'\n",
    "        html_str+=df.to_html().replace('table','table style=\"display:inline\"')\n",
    "        html_str+='</td></th>'\n",
    "    display_html(html_str,raw=True)"
   ]
  },
  {
   "cell_type": "code",
   "execution_count": null,
   "id": "08878d34",
   "metadata": {},
   "outputs": [],
   "source": [
    "# Plotting the split data\n",
    "\n",
    "fig = make_subplots(rows=1, cols=2)\n",
    "fig.add_trace(\n",
    "    go.Scatter(x=mean_train.sale_date, y=mean_train.sales_total),\n",
    "    row=1, col=1\n",
    ")\n",
    "fig.add_trace(\n",
    "    go.Scatter(x=mean_test.sale_date, y=mean_test.sales_total),\n",
    "    row=1, col=2\n",
    ")\n",
    "fig.update_layout(height=500, width=700, title_text=\"Side By Side Subplots of Train and Test\")\n",
    "fig.show()"
   ]
  },
  {
   "cell_type": "code",
   "execution_count": null,
   "id": "aaba9863",
   "metadata": {},
   "outputs": [],
   "source": [
    "df_monthly = train.resample('W').sales_total.mean().to_frame().reset_index()"
   ]
  },
  {
   "cell_type": "code",
   "execution_count": 47,
   "id": "60a972b7",
   "metadata": {},
   "outputs": [],
   "source": [
    "'''\n",
    "This function takes in a statistical model:\n",
    "1.the seasonal decomposition using moving averages:\n",
    "a pd Series of the value to plot (df.column_name, pd.Series, np.array),\n",
    "the model or type of seasonal component ('additive' or 'multiplicative'),\n",
    "and a period determining the amount of lag (integer),\n",
    "2.the dates of the dataset as a Series (df.column_name, pd.Series) or\n",
    "the length of the observed variable (np.arange(len(result.observed)))\n",
    "'''\n",
    "\n",
    "def plot_seasonal_decomposition(result:DecomposeResult, dates:pd.Series=None, title:str='Seasonal Decomposition'):\n",
    "    x_values = dates if dates is not None else np.arange(len(result.observed))\n",
    "    return (\n",
    "        make_subplots(\n",
    "            rows=4,\n",
    "            cols=1,\n",
    "            subplot_titles=['Observed', 'Trend', 'Seasonal', 'Residuals'],\n",
    "        )\n",
    "        .add_trace(\n",
    "            go.Scatter(x=x_values, y=result.observed, mode='lines', name='Observed'),\n",
    "            row=1,\n",
    "            col=1,\n",
    "        )\n",
    "        .add_trace(\n",
    "            go.Scatter(x=x_values, y=result.trend, mode='lines', name='Trend'),\n",
    "            row=2,\n",
    "            col=1,\n",
    "        )\n",
    "        .add_trace(\n",
    "            go.Scatter(x=x_values, y=result.seasonal, mode='lines', name='Seasonal'),\n",
    "            row=3,\n",
    "            col=1,\n",
    "        )\n",
    "        .add_trace(\n",
    "            go.Scatter(x=x_values, y=result.resid, mode='markers', name='Residual'),\n",
    "            row=4,\n",
    "            col=1,\n",
    "        )\n",
    "        .update_layout(\n",
    "            height=900, title=f'<b>{title}</b>', margin={'t':100}, title_x=0.5, showlegend=False\n",
    "        )\n",
    "    )"
   ]
  },
  {
   "cell_type": "code",
   "execution_count": null,
   "id": "cd5d759f",
   "metadata": {},
   "outputs": [],
   "source": [
    "# Plotting the seasonal decomposition with a resampled data by week and a lag of 25 weeks\n",
    "\n",
    "decomposition = seasonal_decompose(df.ercot_load, model='additive', period=25)\n",
    "fig = plot_seasonal_decomposition(decomposition, dates=mean_train_week.sale_date)\n",
    "fig.show()"
   ]
  },
  {
   "cell_type": "code",
   "execution_count": 56,
   "id": "c0c3f0e1",
   "metadata": {},
   "outputs": [
    {
     "data": {
      "text/plain": [
       "['ArithmeticError',\n",
       " 'AssertionError',\n",
       " 'AttributeError',\n",
       " 'BaseException',\n",
       " 'BlockingIOError',\n",
       " 'BrokenPipeError',\n",
       " 'BufferError',\n",
       " 'BytesWarning',\n",
       " 'ChildProcessError',\n",
       " 'ConnectionAbortedError',\n",
       " 'ConnectionError',\n",
       " 'ConnectionRefusedError',\n",
       " 'ConnectionResetError',\n",
       " 'DeprecationWarning',\n",
       " 'EOFError',\n",
       " 'Ellipsis',\n",
       " 'EnvironmentError',\n",
       " 'Exception',\n",
       " 'False',\n",
       " 'FileExistsError',\n",
       " 'FileNotFoundError',\n",
       " 'FloatingPointError',\n",
       " 'FutureWarning',\n",
       " 'GeneratorExit',\n",
       " 'IOError',\n",
       " 'ImportError',\n",
       " 'ImportWarning',\n",
       " 'IndentationError',\n",
       " 'IndexError',\n",
       " 'InterruptedError',\n",
       " 'IsADirectoryError',\n",
       " 'KeyError',\n",
       " 'KeyboardInterrupt',\n",
       " 'LookupError',\n",
       " 'MemoryError',\n",
       " 'ModuleNotFoundError',\n",
       " 'NameError',\n",
       " 'None',\n",
       " 'NotADirectoryError',\n",
       " 'NotImplemented',\n",
       " 'NotImplementedError',\n",
       " 'OSError',\n",
       " 'OverflowError',\n",
       " 'PendingDeprecationWarning',\n",
       " 'PermissionError',\n",
       " 'ProcessLookupError',\n",
       " 'RecursionError',\n",
       " 'ReferenceError',\n",
       " 'ResourceWarning',\n",
       " 'RuntimeError',\n",
       " 'RuntimeWarning',\n",
       " 'StopAsyncIteration',\n",
       " 'StopIteration',\n",
       " 'SyntaxError',\n",
       " 'SyntaxWarning',\n",
       " 'SystemError',\n",
       " 'SystemExit',\n",
       " 'TabError',\n",
       " 'TimeoutError',\n",
       " 'True',\n",
       " 'TypeError',\n",
       " 'UnboundLocalError',\n",
       " 'UnicodeDecodeError',\n",
       " 'UnicodeEncodeError',\n",
       " 'UnicodeError',\n",
       " 'UnicodeTranslateError',\n",
       " 'UnicodeWarning',\n",
       " 'UserWarning',\n",
       " 'ValueError',\n",
       " 'Warning',\n",
       " 'ZeroDivisionError',\n",
       " '__IPYTHON__',\n",
       " '__build_class__',\n",
       " '__debug__',\n",
       " '__doc__',\n",
       " '__import__',\n",
       " '__loader__',\n",
       " '__name__',\n",
       " '__package__',\n",
       " '__pybind11_internals_v4_clang_libcpp_cxxabi1002__',\n",
       " '__spec__',\n",
       " 'abs',\n",
       " 'all',\n",
       " 'any',\n",
       " 'ascii',\n",
       " 'bin',\n",
       " 'bool',\n",
       " 'breakpoint',\n",
       " 'bytearray',\n",
       " 'bytes',\n",
       " 'callable',\n",
       " 'chr',\n",
       " 'classmethod',\n",
       " 'compile',\n",
       " 'complex',\n",
       " 'copyright',\n",
       " 'credits',\n",
       " 'delattr',\n",
       " 'dict',\n",
       " 'dir',\n",
       " 'display',\n",
       " 'divmod',\n",
       " 'enumerate',\n",
       " 'eval',\n",
       " 'exec',\n",
       " 'execfile',\n",
       " 'filter',\n",
       " 'float',\n",
       " 'format',\n",
       " 'frozenset',\n",
       " 'get_ipython',\n",
       " 'getattr',\n",
       " 'globals',\n",
       " 'hasattr',\n",
       " 'hash',\n",
       " 'help',\n",
       " 'hex',\n",
       " 'id',\n",
       " 'input',\n",
       " 'int',\n",
       " 'isinstance',\n",
       " 'issubclass',\n",
       " 'iter',\n",
       " 'len',\n",
       " 'license',\n",
       " 'list',\n",
       " 'locals',\n",
       " 'map',\n",
       " 'max',\n",
       " 'memoryview',\n",
       " 'min',\n",
       " 'next',\n",
       " 'object',\n",
       " 'oct',\n",
       " 'open',\n",
       " 'ord',\n",
       " 'pow',\n",
       " 'print',\n",
       " 'property',\n",
       " 'range',\n",
       " 'repr',\n",
       " 'reversed',\n",
       " 'round',\n",
       " 'runfile',\n",
       " 'set',\n",
       " 'setattr',\n",
       " 'slice',\n",
       " 'sorted',\n",
       " 'staticmethod',\n",
       " 'str',\n",
       " 'sum',\n",
       " 'super',\n",
       " 'tuple',\n",
       " 'type',\n",
       " 'vars',\n",
       " 'zip']"
      ]
     },
     "execution_count": 56,
     "metadata": {},
     "output_type": "execute_result"
    }
   ],
   "source": [
    "dir(__builtins__)"
   ]
  },
  {
   "cell_type": "code",
   "execution_count": null,
   "id": "bd50b926",
   "metadata": {},
   "outputs": [],
   "source": []
  }
 ],
 "metadata": {
  "kernelspec": {
   "display_name": "Python 3 (ipykernel)",
   "language": "python",
   "name": "python3"
  },
  "language_info": {
   "codemirror_mode": {
    "name": "ipython",
    "version": 3
   },
   "file_extension": ".py",
   "mimetype": "text/x-python",
   "name": "python",
   "nbconvert_exporter": "python",
   "pygments_lexer": "ipython3",
   "version": "3.9.7"
  }
 },
 "nbformat": 4,
 "nbformat_minor": 5
}
