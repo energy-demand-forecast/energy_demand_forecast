{
 "cells": [
  {
   "cell_type": "code",
   "execution_count": 26,
   "id": "0f551fcd",
   "metadata": {},
   "outputs": [],
   "source": [
    "import pandas as pd\n",
    "\n",
    "import warnings\n",
    "warnings.filterwarnings('ignore')"
   ]
  },
  {
   "cell_type": "markdown",
   "id": "5068813a",
   "metadata": {},
   "source": [
    "# Joining DataFrames and Creating Unified CSV:"
   ]
  },
  {
   "cell_type": "markdown",
   "id": "6297c9a1",
   "metadata": {},
   "source": [
    "## Houston:"
   ]
  },
  {
   "cell_type": "code",
   "execution_count": 29,
   "id": "e8c2bb5d",
   "metadata": {},
   "outputs": [],
   "source": [
    "hstn1 = pd.read_csv('houston_00_04.csv')\n",
    "hstn2 = pd.read_csv('houston_05_09.csv')\n",
    "hstn3 = pd.read_csv('houston_10_14.csv')\n",
    "hstn4 = pd.read_csv('houston_15_19.csv')\n",
    "hstn5 = pd.read_csv('houston_20_22.csv')\n",
    "houston = pd.concat([hstn1, hstn2, hstn3, hstn4, hstn5])"
   ]
  },
  {
   "cell_type": "code",
   "execution_count": 25,
   "id": "7569d2dc",
   "metadata": {},
   "outputs": [
    {
     "data": {
      "text/plain": [
       "197831"
      ]
     },
     "execution_count": 25,
     "metadata": {},
     "output_type": "execute_result"
    }
   ],
   "source": [
    "houston.shape[0]"
   ]
  },
  {
   "cell_type": "markdown",
   "id": "c095b18a",
   "metadata": {},
   "source": [
    "## Galveston:"
   ]
  },
  {
   "cell_type": "code",
   "execution_count": 27,
   "id": "6a83c8c3",
   "metadata": {},
   "outputs": [],
   "source": [
    "gvsn1 = pd.read_csv('galveston_00_04.csv')\n",
    "gvsn2 = pd.read_csv('galveston_05_09.csv')\n",
    "gvsn3 = pd.read_csv('galveston_10_14.csv')\n",
    "gvsn4 = pd.read_csv('galveston_15_19.csv')\n",
    "gvsn5 = pd.read_csv('galveston_20_22.csv')\n",
    "galveston = pd.concat([gvsn1, gvsn2, gvsn3, gvsn4, gvsn5])"
   ]
  },
  {
   "cell_type": "code",
   "execution_count": 24,
   "id": "5ef512ed",
   "metadata": {},
   "outputs": [
    {
     "data": {
      "text/plain": [
       "197831"
      ]
     },
     "execution_count": 24,
     "metadata": {},
     "output_type": "execute_result"
    }
   ],
   "source": [
    "galveston.shape[0]"
   ]
  },
  {
   "cell_type": "markdown",
   "id": "c191b5a7",
   "metadata": {},
   "source": [
    "## Port Lavaca:"
   ]
  },
  {
   "cell_type": "code",
   "execution_count": 31,
   "id": "17ed9e54",
   "metadata": {},
   "outputs": [],
   "source": [
    "ptlv1 = pd.read_csv('portlavaca_00_04.csv')\n",
    "ptlv2 = pd.read_csv('portlavaca_05_09.csv')\n",
    "ptlv3 = pd.read_csv('portlavaca_10_14.csv')\n",
    "ptlv4 = pd.read_csv('portlavaca_15_19.csv')\n",
    "ptlv5 = pd.read_csv('portlavaca_20_22.csv')\n",
    "port_lavaca = pd.concat([ptlv1, ptlv2, ptlv3, ptlv4, ptlv5])"
   ]
  },
  {
   "cell_type": "code",
   "execution_count": 23,
   "id": "5504343f",
   "metadata": {},
   "outputs": [
    {
     "data": {
      "text/plain": [
       "197831"
      ]
     },
     "execution_count": 23,
     "metadata": {},
     "output_type": "execute_result"
    }
   ],
   "source": [
    "port_lavaca.shape[0]"
   ]
  },
  {
   "cell_type": "markdown",
   "id": "914bbd32",
   "metadata": {},
   "source": [
    "## Victoria:"
   ]
  },
  {
   "cell_type": "code",
   "execution_count": 32,
   "id": "8454c0d0",
   "metadata": {},
   "outputs": [],
   "source": [
    "vctr1 = pd.read_csv('victoria_00_04.csv')\n",
    "vctr2 = pd.read_csv('victoria_05_09.csv')\n",
    "vctr3 = pd.read_csv('victoria_10_14.csv')\n",
    "vctr4 = pd.read_csv('victoria_15_19.csv')\n",
    "vctr5 = pd.read_csv('victoria_20_22.csv')\n",
    "victoria = pd.concat([vctr1, vctr2, vctr3, vctr4, vctr5])"
   ]
  },
  {
   "cell_type": "code",
   "execution_count": 33,
   "id": "a8778717",
   "metadata": {},
   "outputs": [
    {
     "data": {
      "text/plain": [
       "197831"
      ]
     },
     "execution_count": 33,
     "metadata": {},
     "output_type": "execute_result"
    }
   ],
   "source": [
    "victoria.shape[0]"
   ]
  },
  {
   "cell_type": "markdown",
   "id": "443312f8",
   "metadata": {},
   "source": [
    "## All together now:"
   ]
  },
  {
   "cell_type": "code",
   "execution_count": 35,
   "id": "bc5be40b",
   "metadata": {},
   "outputs": [],
   "source": [
    "weather_df = pd.concat([houston, galveston, port_lavaca, victoria])"
   ]
  },
  {
   "cell_type": "code",
   "execution_count": 36,
   "id": "7a78e427",
   "metadata": {},
   "outputs": [
    {
     "data": {
      "text/plain": [
       "791324"
      ]
     },
     "execution_count": 36,
     "metadata": {},
     "output_type": "execute_result"
    }
   ],
   "source": [
    "weather_df.shape[0]"
   ]
  },
  {
   "cell_type": "markdown",
   "id": "f1702eca",
   "metadata": {},
   "source": [
    "### Writing joined DataFrame to CSV:"
   ]
  },
  {
   "cell_type": "code",
   "execution_count": 38,
   "id": "803f1201",
   "metadata": {},
   "outputs": [],
   "source": [
    "weather_df.to_csv('weather.csv')"
   ]
  }
 ],
 "metadata": {
  "kernelspec": {
   "display_name": "Python 3 (ipykernel)",
   "language": "python",
   "name": "python3"
  },
  "language_info": {
   "codemirror_mode": {
    "name": "ipython",
    "version": 3
   },
   "file_extension": ".py",
   "mimetype": "text/x-python",
   "name": "python",
   "nbconvert_exporter": "python",
   "pygments_lexer": "ipython3",
   "version": "3.9.7"
  }
 },
 "nbformat": 4,
 "nbformat_minor": 5
}
