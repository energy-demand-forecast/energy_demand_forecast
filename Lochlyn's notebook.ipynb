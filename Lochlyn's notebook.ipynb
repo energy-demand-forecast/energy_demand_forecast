{
 "cells": [
  {
   "cell_type": "code",
   "execution_count": 1,
   "id": "bae37777",
   "metadata": {},
   "outputs": [],
   "source": [
    "import pandas as pd\n",
    "import os"
   ]
  },
  {
   "cell_type": "code",
   "execution_count": 2,
   "id": "1e869f23",
   "metadata": {
    "scrolled": true
   },
   "outputs": [],
   "source": [
    "# df_22 = pd.read_excel('2022 Ercot.xlsx')\n",
    "# df_22.head(3)"
   ]
  },
  {
   "cell_type": "code",
   "execution_count": 3,
   "id": "72788db7",
   "metadata": {},
   "outputs": [],
   "source": [
    "# df_22.shape"
   ]
  },
  {
   "cell_type": "code",
   "execution_count": 4,
   "id": "ea321d51",
   "metadata": {},
   "outputs": [],
   "source": [
    "# df_21 = pd.read_excel('2021 Ercot.xlsx')\n",
    "# df_21.head(3)"
   ]
  },
  {
   "cell_type": "code",
   "execution_count": 5,
   "id": "43f9fa62",
   "metadata": {},
   "outputs": [],
   "source": [
    "# df_21.shape"
   ]
  },
  {
   "cell_type": "code",
   "execution_count": 6,
   "id": "076a98d7",
   "metadata": {},
   "outputs": [],
   "source": [
    "# df_20 = pd.read_excel('2020 Ercot.xlsx')\n",
    "# df_20.head(3)"
   ]
  },
  {
   "cell_type": "code",
   "execution_count": 7,
   "id": "4af2d902",
   "metadata": {},
   "outputs": [],
   "source": [
    "# df_20.shape"
   ]
  },
  {
   "cell_type": "code",
   "execution_count": 8,
   "id": "66489e5d",
   "metadata": {},
   "outputs": [],
   "source": [
    "# df_19 = pd.read_excel('2019 Ercot.xlsx')\n",
    "# df_19.head(3)"
   ]
  },
  {
   "cell_type": "code",
   "execution_count": 9,
   "id": "c5273420",
   "metadata": {},
   "outputs": [],
   "source": [
    "# df_19.shape"
   ]
  },
  {
   "cell_type": "code",
   "execution_count": 10,
   "id": "89ba28a2",
   "metadata": {},
   "outputs": [],
   "source": [
    "# df_18 = pd.read_excel('2018 Ercot.xlsx')\n",
    "# df_18.head(3)"
   ]
  },
  {
   "cell_type": "code",
   "execution_count": 11,
   "id": "294cc0b4",
   "metadata": {},
   "outputs": [],
   "source": [
    "# df_18.shape"
   ]
  },
  {
   "cell_type": "code",
   "execution_count": 12,
   "id": "e0fd04dc",
   "metadata": {},
   "outputs": [
    {
     "data": {
      "text/html": [
       "<div>\n",
       "<style scoped>\n",
       "    .dataframe tbody tr th:only-of-type {\n",
       "        vertical-align: middle;\n",
       "    }\n",
       "\n",
       "    .dataframe tbody tr th {\n",
       "        vertical-align: top;\n",
       "    }\n",
       "\n",
       "    .dataframe thead th {\n",
       "        text-align: right;\n",
       "    }\n",
       "</style>\n",
       "<table border=\"1\" class=\"dataframe\">\n",
       "  <thead>\n",
       "    <tr style=\"text-align: right;\">\n",
       "      <th></th>\n",
       "      <th>Hour Ending</th>\n",
       "      <th>COAST</th>\n",
       "      <th>EAST</th>\n",
       "      <th>FWEST</th>\n",
       "      <th>NORTH</th>\n",
       "      <th>NCENT</th>\n",
       "      <th>SOUTH</th>\n",
       "      <th>SCENT</th>\n",
       "      <th>WEST</th>\n",
       "      <th>ERCOT</th>\n",
       "    </tr>\n",
       "  </thead>\n",
       "  <tbody>\n",
       "    <tr>\n",
       "      <th>0</th>\n",
       "      <td>01/01/2017 01:00</td>\n",
       "      <td>8791.789509</td>\n",
       "      <td>896.746302</td>\n",
       "      <td>1997.717635</td>\n",
       "      <td>683.621986</td>\n",
       "      <td>9239.153285</td>\n",
       "      <td>2366.632745</td>\n",
       "      <td>4490.781365</td>\n",
       "      <td>954.192864</td>\n",
       "      <td>29420.635691</td>\n",
       "    </tr>\n",
       "    <tr>\n",
       "      <th>1</th>\n",
       "      <td>01/01/2017 02:00</td>\n",
       "      <td>8569.708419</td>\n",
       "      <td>865.930568</td>\n",
       "      <td>1997.781319</td>\n",
       "      <td>677.969375</td>\n",
       "      <td>9104.997245</td>\n",
       "      <td>2332.744630</td>\n",
       "      <td>4370.656830</td>\n",
       "      <td>951.025166</td>\n",
       "      <td>28870.813551</td>\n",
       "    </tr>\n",
       "    <tr>\n",
       "      <th>2</th>\n",
       "      <td>01/01/2017 03:00</td>\n",
       "      <td>8326.425638</td>\n",
       "      <td>839.051175</td>\n",
       "      <td>1993.699160</td>\n",
       "      <td>671.998949</td>\n",
       "      <td>8988.035201</td>\n",
       "      <td>2237.506202</td>\n",
       "      <td>4210.650003</td>\n",
       "      <td>944.357749</td>\n",
       "      <td>28211.724078</td>\n",
       "    </tr>\n",
       "  </tbody>\n",
       "</table>\n",
       "</div>"
      ],
      "text/plain": [
       "        Hour Ending        COAST        EAST        FWEST       NORTH  \\\n",
       "0  01/01/2017 01:00  8791.789509  896.746302  1997.717635  683.621986   \n",
       "1  01/01/2017 02:00  8569.708419  865.930568  1997.781319  677.969375   \n",
       "2  01/01/2017 03:00  8326.425638  839.051175  1993.699160  671.998949   \n",
       "\n",
       "         NCENT        SOUTH        SCENT        WEST         ERCOT  \n",
       "0  9239.153285  2366.632745  4490.781365  954.192864  29420.635691  \n",
       "1  9104.997245  2332.744630  4370.656830  951.025166  28870.813551  \n",
       "2  8988.035201  2237.506202  4210.650003  944.357749  28211.724078  "
      ]
     },
     "execution_count": 12,
     "metadata": {},
     "output_type": "execute_result"
    }
   ],
   "source": [
    "df_17 = pd.read_excel('2017 Ercot.xlsx')\n",
    "df_17.head(3)"
   ]
  },
  {
   "cell_type": "code",
   "execution_count": 13,
   "id": "a1567948",
   "metadata": {},
   "outputs": [
    {
     "data": {
      "text/plain": [
       "(8760, 10)"
      ]
     },
     "execution_count": 13,
     "metadata": {},
     "output_type": "execute_result"
    }
   ],
   "source": [
    "df_17.shape"
   ]
  },
  {
   "cell_type": "code",
   "execution_count": 14,
   "id": "03f3a0b0",
   "metadata": {},
   "outputs": [
    {
     "data": {
      "text/html": [
       "<div>\n",
       "<style scoped>\n",
       "    .dataframe tbody tr th:only-of-type {\n",
       "        vertical-align: middle;\n",
       "    }\n",
       "\n",
       "    .dataframe tbody tr th {\n",
       "        vertical-align: top;\n",
       "    }\n",
       "\n",
       "    .dataframe thead th {\n",
       "        text-align: right;\n",
       "    }\n",
       "</style>\n",
       "<table border=\"1\" class=\"dataframe\">\n",
       "  <thead>\n",
       "    <tr style=\"text-align: right;\">\n",
       "      <th></th>\n",
       "      <th>Hour Ending</th>\n",
       "      <th>COAST</th>\n",
       "      <th>EAST</th>\n",
       "      <th>FWEST</th>\n",
       "      <th>NORTH</th>\n",
       "      <th>NCENT</th>\n",
       "      <th>SOUTH</th>\n",
       "      <th>SCENT</th>\n",
       "      <th>WEST</th>\n",
       "      <th>ERCOT</th>\n",
       "    </tr>\n",
       "  </thead>\n",
       "  <tbody>\n",
       "    <tr>\n",
       "      <th>0</th>\n",
       "      <td>2016-01-01 01:00:00.003</td>\n",
       "      <td>9001.477932</td>\n",
       "      <td>1148.358788</td>\n",
       "      <td>2107.895986</td>\n",
       "      <td>788.543919</td>\n",
       "      <td>11409.339036</td>\n",
       "      <td>2829.993195</td>\n",
       "      <td>5479.057816</td>\n",
       "      <td>1088.091916</td>\n",
       "      <td>33852.758587</td>\n",
       "    </tr>\n",
       "    <tr>\n",
       "      <th>1</th>\n",
       "      <td>2016-01-01 01:59:59.997</td>\n",
       "      <td>8864.555456</td>\n",
       "      <td>1134.909662</td>\n",
       "      <td>2100.702470</td>\n",
       "      <td>782.355108</td>\n",
       "      <td>11235.174936</td>\n",
       "      <td>2830.075196</td>\n",
       "      <td>5405.955778</td>\n",
       "      <td>1080.369336</td>\n",
       "      <td>33434.097940</td>\n",
       "    </tr>\n",
       "    <tr>\n",
       "      <th>2</th>\n",
       "      <td>2016-01-01 03:00:00.000</td>\n",
       "      <td>8745.758728</td>\n",
       "      <td>1126.864026</td>\n",
       "      <td>2099.966167</td>\n",
       "      <td>781.237004</td>\n",
       "      <td>11151.965219</td>\n",
       "      <td>2789.470654</td>\n",
       "      <td>5334.159606</td>\n",
       "      <td>1069.644619</td>\n",
       "      <td>33099.066023</td>\n",
       "    </tr>\n",
       "  </tbody>\n",
       "</table>\n",
       "</div>"
      ],
      "text/plain": [
       "              Hour Ending        COAST         EAST        FWEST       NORTH  \\\n",
       "0 2016-01-01 01:00:00.003  9001.477932  1148.358788  2107.895986  788.543919   \n",
       "1 2016-01-01 01:59:59.997  8864.555456  1134.909662  2100.702470  782.355108   \n",
       "2 2016-01-01 03:00:00.000  8745.758728  1126.864026  2099.966167  781.237004   \n",
       "\n",
       "          NCENT        SOUTH        SCENT         WEST         ERCOT  \n",
       "0  11409.339036  2829.993195  5479.057816  1088.091916  33852.758587  \n",
       "1  11235.174936  2830.075196  5405.955778  1080.369336  33434.097940  \n",
       "2  11151.965219  2789.470654  5334.159606  1069.644619  33099.066023  "
      ]
     },
     "execution_count": 14,
     "metadata": {},
     "output_type": "execute_result"
    }
   ],
   "source": [
    "df_16 = pd.read_excel('2016 Ercot.xlsx')\n",
    "df_16.head(3)"
   ]
  },
  {
   "cell_type": "code",
   "execution_count": 15,
   "id": "d5873704",
   "metadata": {},
   "outputs": [
    {
     "data": {
      "text/plain": [
       "(8784, 10)"
      ]
     },
     "execution_count": 15,
     "metadata": {},
     "output_type": "execute_result"
    }
   ],
   "source": [
    "df_16.shape"
   ]
  },
  {
   "cell_type": "code",
   "execution_count": 16,
   "id": "2de3df53",
   "metadata": {},
   "outputs": [
    {
     "data": {
      "text/html": [
       "<div>\n",
       "<style scoped>\n",
       "    .dataframe tbody tr th:only-of-type {\n",
       "        vertical-align: middle;\n",
       "    }\n",
       "\n",
       "    .dataframe tbody tr th {\n",
       "        vertical-align: top;\n",
       "    }\n",
       "\n",
       "    .dataframe thead th {\n",
       "        text-align: right;\n",
       "    }\n",
       "</style>\n",
       "<table border=\"1\" class=\"dataframe\">\n",
       "  <thead>\n",
       "    <tr style=\"text-align: right;\">\n",
       "      <th></th>\n",
       "      <th>Hour Ending</th>\n",
       "      <th>COAST</th>\n",
       "      <th>EAST</th>\n",
       "      <th>FWEST</th>\n",
       "      <th>NORTH</th>\n",
       "      <th>NCENT</th>\n",
       "      <th>SOUTH</th>\n",
       "      <th>SCENT</th>\n",
       "      <th>WEST</th>\n",
       "      <th>ERCOT</th>\n",
       "    </tr>\n",
       "  </thead>\n",
       "  <tbody>\n",
       "    <tr>\n",
       "      <th>0</th>\n",
       "      <td>2015-01-01 01:00:00.003</td>\n",
       "      <td>9844.200268</td>\n",
       "      <td>1350.784678</td>\n",
       "      <td>2078.060021</td>\n",
       "      <td>901.770195</td>\n",
       "      <td>13640.024978</td>\n",
       "      <td>3607.904503</td>\n",
       "      <td>6731.301663</td>\n",
       "      <td>1470.814721</td>\n",
       "      <td>39624.861027</td>\n",
       "    </tr>\n",
       "    <tr>\n",
       "      <th>1</th>\n",
       "      <td>2015-01-01 01:59:59.997</td>\n",
       "      <td>9653.456269</td>\n",
       "      <td>1333.434943</td>\n",
       "      <td>2057.993265</td>\n",
       "      <td>890.150373</td>\n",
       "      <td>13425.121941</td>\n",
       "      <td>3609.619438</td>\n",
       "      <td>6602.935629</td>\n",
       "      <td>1440.832944</td>\n",
       "      <td>39013.544802</td>\n",
       "    </tr>\n",
       "    <tr>\n",
       "      <th>2</th>\n",
       "      <td>2015-01-01 03:00:00.000</td>\n",
       "      <td>9502.299659</td>\n",
       "      <td>1323.908498</td>\n",
       "      <td>2039.019542</td>\n",
       "      <td>880.926639</td>\n",
       "      <td>13286.070909</td>\n",
       "      <td>3573.158363</td>\n",
       "      <td>6530.663273</td>\n",
       "      <td>1430.495044</td>\n",
       "      <td>38566.541927</td>\n",
       "    </tr>\n",
       "  </tbody>\n",
       "</table>\n",
       "</div>"
      ],
      "text/plain": [
       "              Hour Ending        COAST         EAST        FWEST       NORTH  \\\n",
       "0 2015-01-01 01:00:00.003  9844.200268  1350.784678  2078.060021  901.770195   \n",
       "1 2015-01-01 01:59:59.997  9653.456269  1333.434943  2057.993265  890.150373   \n",
       "2 2015-01-01 03:00:00.000  9502.299659  1323.908498  2039.019542  880.926639   \n",
       "\n",
       "          NCENT        SOUTH        SCENT         WEST         ERCOT  \n",
       "0  13640.024978  3607.904503  6731.301663  1470.814721  39624.861027  \n",
       "1  13425.121941  3609.619438  6602.935629  1440.832944  39013.544802  \n",
       "2  13286.070909  3573.158363  6530.663273  1430.495044  38566.541927  "
      ]
     },
     "execution_count": 16,
     "metadata": {},
     "output_type": "execute_result"
    }
   ],
   "source": [
    "df_15 = pd.read_excel('2015 Ercot.xls')\n",
    "df_15.head(3)"
   ]
  },
  {
   "cell_type": "code",
   "execution_count": 17,
   "id": "e23776ea",
   "metadata": {},
   "outputs": [
    {
     "data": {
      "text/plain": [
       "(8760, 10)"
      ]
     },
     "execution_count": 17,
     "metadata": {},
     "output_type": "execute_result"
    }
   ],
   "source": [
    "df_15.shape"
   ]
  },
  {
   "cell_type": "code",
   "execution_count": 18,
   "id": "a1c9e702",
   "metadata": {},
   "outputs": [
    {
     "data": {
      "text/html": [
       "<div>\n",
       "<style scoped>\n",
       "    .dataframe tbody tr th:only-of-type {\n",
       "        vertical-align: middle;\n",
       "    }\n",
       "\n",
       "    .dataframe tbody tr th {\n",
       "        vertical-align: top;\n",
       "    }\n",
       "\n",
       "    .dataframe thead th {\n",
       "        text-align: right;\n",
       "    }\n",
       "</style>\n",
       "<table border=\"1\" class=\"dataframe\">\n",
       "  <thead>\n",
       "    <tr style=\"text-align: right;\">\n",
       "      <th></th>\n",
       "      <th>Hour Ending</th>\n",
       "      <th>COAST</th>\n",
       "      <th>EAST</th>\n",
       "      <th>FWEST</th>\n",
       "      <th>NORTH</th>\n",
       "      <th>NCENT</th>\n",
       "      <th>SOUTH</th>\n",
       "      <th>SCENT</th>\n",
       "      <th>WEST</th>\n",
       "      <th>ERCOT</th>\n",
       "    </tr>\n",
       "  </thead>\n",
       "  <tbody>\n",
       "    <tr>\n",
       "      <th>0</th>\n",
       "      <td>2014-01-01 01:00:00.003</td>\n",
       "      <td>9101.691219</td>\n",
       "      <td>1338.197939</td>\n",
       "      <td>1820.206244</td>\n",
       "      <td>793.458458</td>\n",
       "      <td>12298.801147</td>\n",
       "      <td>3236.109065</td>\n",
       "      <td>6121.146143</td>\n",
       "      <td>1102.523505</td>\n",
       "      <td>35812.133719</td>\n",
       "    </tr>\n",
       "    <tr>\n",
       "      <th>1</th>\n",
       "      <td>2014-01-01 01:59:59.997</td>\n",
       "      <td>8907.975782</td>\n",
       "      <td>1328.940064</td>\n",
       "      <td>1809.180861</td>\n",
       "      <td>791.141630</td>\n",
       "      <td>12297.109823</td>\n",
       "      <td>3246.493375</td>\n",
       "      <td>6091.018850</td>\n",
       "      <td>1098.774771</td>\n",
       "      <td>35570.635156</td>\n",
       "    </tr>\n",
       "    <tr>\n",
       "      <th>2</th>\n",
       "      <td>2014-01-01 03:00:00.000</td>\n",
       "      <td>8738.460973</td>\n",
       "      <td>1317.990846</td>\n",
       "      <td>1804.524573</td>\n",
       "      <td>789.791906</td>\n",
       "      <td>12285.295247</td>\n",
       "      <td>3217.721388</td>\n",
       "      <td>6060.017515</td>\n",
       "      <td>1097.716762</td>\n",
       "      <td>35311.519210</td>\n",
       "    </tr>\n",
       "  </tbody>\n",
       "</table>\n",
       "</div>"
      ],
      "text/plain": [
       "              Hour Ending        COAST         EAST        FWEST       NORTH  \\\n",
       "0 2014-01-01 01:00:00.003  9101.691219  1338.197939  1820.206244  793.458458   \n",
       "1 2014-01-01 01:59:59.997  8907.975782  1328.940064  1809.180861  791.141630   \n",
       "2 2014-01-01 03:00:00.000  8738.460973  1317.990846  1804.524573  789.791906   \n",
       "\n",
       "          NCENT        SOUTH        SCENT         WEST         ERCOT  \n",
       "0  12298.801147  3236.109065  6121.146143  1102.523505  35812.133719  \n",
       "1  12297.109823  3246.493375  6091.018850  1098.774771  35570.635156  \n",
       "2  12285.295247  3217.721388  6060.017515  1097.716762  35311.519210  "
      ]
     },
     "execution_count": 18,
     "metadata": {},
     "output_type": "execute_result"
    }
   ],
   "source": [
    "df_14 = pd.read_excel('2014 Ercot.xls')\n",
    "df_14.head(3)"
   ]
  },
  {
   "cell_type": "code",
   "execution_count": 19,
   "id": "5580bb77",
   "metadata": {},
   "outputs": [
    {
     "data": {
      "text/plain": [
       "(8760, 10)"
      ]
     },
     "execution_count": 19,
     "metadata": {},
     "output_type": "execute_result"
    }
   ],
   "source": [
    "df_14.shape"
   ]
  },
  {
   "cell_type": "code",
   "execution_count": 20,
   "id": "735aae2a",
   "metadata": {},
   "outputs": [
    {
     "data": {
      "text/html": [
       "<div>\n",
       "<style scoped>\n",
       "    .dataframe tbody tr th:only-of-type {\n",
       "        vertical-align: middle;\n",
       "    }\n",
       "\n",
       "    .dataframe tbody tr th {\n",
       "        vertical-align: top;\n",
       "    }\n",
       "\n",
       "    .dataframe thead th {\n",
       "        text-align: right;\n",
       "    }\n",
       "</style>\n",
       "<table border=\"1\" class=\"dataframe\">\n",
       "  <thead>\n",
       "    <tr style=\"text-align: right;\">\n",
       "      <th></th>\n",
       "      <th>Hour Ending</th>\n",
       "      <th>COAST</th>\n",
       "      <th>EAST</th>\n",
       "      <th>FWEST</th>\n",
       "      <th>NORTH</th>\n",
       "      <th>NCENT</th>\n",
       "      <th>SOUTH</th>\n",
       "      <th>SCENT</th>\n",
       "      <th>WEST</th>\n",
       "      <th>ERCOT</th>\n",
       "    </tr>\n",
       "  </thead>\n",
       "  <tbody>\n",
       "    <tr>\n",
       "      <th>0</th>\n",
       "      <td>2013-01-01 01:00:00.003</td>\n",
       "      <td>7607.189871</td>\n",
       "      <td>1074.024285</td>\n",
       "      <td>1411.823159</td>\n",
       "      <td>763.069242</td>\n",
       "      <td>10370.322921</td>\n",
       "      <td>2206.945802</td>\n",
       "      <td>4368.528687</td>\n",
       "      <td>883.029500</td>\n",
       "      <td>28684.933467</td>\n",
       "    </tr>\n",
       "    <tr>\n",
       "      <th>1</th>\n",
       "      <td>2013-01-01 01:59:59.997</td>\n",
       "      <td>7389.267519</td>\n",
       "      <td>1035.189180</td>\n",
       "      <td>1403.601093</td>\n",
       "      <td>754.425986</td>\n",
       "      <td>10153.942806</td>\n",
       "      <td>2160.082197</td>\n",
       "      <td>4233.635250</td>\n",
       "      <td>872.532258</td>\n",
       "      <td>28002.676290</td>\n",
       "    </tr>\n",
       "    <tr>\n",
       "      <th>2</th>\n",
       "      <td>2013-01-01 03:00:00.000</td>\n",
       "      <td>7179.748411</td>\n",
       "      <td>1036.216739</td>\n",
       "      <td>1395.131213</td>\n",
       "      <td>746.215515</td>\n",
       "      <td>9989.243532</td>\n",
       "      <td>2065.369913</td>\n",
       "      <td>4082.897707</td>\n",
       "      <td>868.951334</td>\n",
       "      <td>27363.774363</td>\n",
       "    </tr>\n",
       "  </tbody>\n",
       "</table>\n",
       "</div>"
      ],
      "text/plain": [
       "              Hour Ending        COAST         EAST        FWEST       NORTH  \\\n",
       "0 2013-01-01 01:00:00.003  7607.189871  1074.024285  1411.823159  763.069242   \n",
       "1 2013-01-01 01:59:59.997  7389.267519  1035.189180  1403.601093  754.425986   \n",
       "2 2013-01-01 03:00:00.000  7179.748411  1036.216739  1395.131213  746.215515   \n",
       "\n",
       "          NCENT        SOUTH        SCENT        WEST         ERCOT  \n",
       "0  10370.322921  2206.945802  4368.528687  883.029500  28684.933467  \n",
       "1  10153.942806  2160.082197  4233.635250  872.532258  28002.676290  \n",
       "2   9989.243532  2065.369913  4082.897707  868.951334  27363.774363  "
      ]
     },
     "execution_count": 20,
     "metadata": {},
     "output_type": "execute_result"
    }
   ],
   "source": [
    "df_13 = pd.read_excel('2013 Ercot.xls')\n",
    "df_13.head(3)"
   ]
  },
  {
   "cell_type": "code",
   "execution_count": 21,
   "id": "bf36137d",
   "metadata": {},
   "outputs": [
    {
     "data": {
      "text/plain": [
       "(8760, 10)"
      ]
     },
     "execution_count": 21,
     "metadata": {},
     "output_type": "execute_result"
    }
   ],
   "source": [
    "df_13.shape"
   ]
  },
  {
   "cell_type": "code",
   "execution_count": 22,
   "id": "d6db5565",
   "metadata": {},
   "outputs": [
    {
     "data": {
      "text/html": [
       "<div>\n",
       "<style scoped>\n",
       "    .dataframe tbody tr th:only-of-type {\n",
       "        vertical-align: middle;\n",
       "    }\n",
       "\n",
       "    .dataframe tbody tr th {\n",
       "        vertical-align: top;\n",
       "    }\n",
       "\n",
       "    .dataframe thead th {\n",
       "        text-align: right;\n",
       "    }\n",
       "</style>\n",
       "<table border=\"1\" class=\"dataframe\">\n",
       "  <thead>\n",
       "    <tr style=\"text-align: right;\">\n",
       "      <th></th>\n",
       "      <th>Hour Ending</th>\n",
       "      <th>COAST</th>\n",
       "      <th>EAST</th>\n",
       "      <th>FWEST</th>\n",
       "      <th>NORTH</th>\n",
       "      <th>NCENT</th>\n",
       "      <th>SOUTH</th>\n",
       "      <th>SCENT</th>\n",
       "      <th>WEST</th>\n",
       "      <th>ERCOT</th>\n",
       "    </tr>\n",
       "  </thead>\n",
       "  <tbody>\n",
       "    <tr>\n",
       "      <th>0</th>\n",
       "      <td>2012-01-01 01:00:00.003</td>\n",
       "      <td>7748.160500</td>\n",
       "      <td>878.438488</td>\n",
       "      <td>1289.746813</td>\n",
       "      <td>652.153054</td>\n",
       "      <td>8648.989316</td>\n",
       "      <td>2105.379142</td>\n",
       "      <td>4162.162310</td>\n",
       "      <td>849.000892</td>\n",
       "      <td>26334.030515</td>\n",
       "    </tr>\n",
       "    <tr>\n",
       "      <th>1</th>\n",
       "      <td>2012-01-01 01:59:59.997</td>\n",
       "      <td>7559.728089</td>\n",
       "      <td>839.092904</td>\n",
       "      <td>1294.272245</td>\n",
       "      <td>643.483530</td>\n",
       "      <td>8553.212708</td>\n",
       "      <td>2047.755534</td>\n",
       "      <td>4070.416593</td>\n",
       "      <td>845.097363</td>\n",
       "      <td>25853.058967</td>\n",
       "    </tr>\n",
       "    <tr>\n",
       "      <th>2</th>\n",
       "      <td>2012-01-01 03:00:00.000</td>\n",
       "      <td>7337.789042</td>\n",
       "      <td>817.995707</td>\n",
       "      <td>1296.491345</td>\n",
       "      <td>631.940923</td>\n",
       "      <td>8461.317967</td>\n",
       "      <td>1961.909818</td>\n",
       "      <td>3946.994332</td>\n",
       "      <td>840.902848</td>\n",
       "      <td>25295.341984</td>\n",
       "    </tr>\n",
       "  </tbody>\n",
       "</table>\n",
       "</div>"
      ],
      "text/plain": [
       "              Hour Ending        COAST        EAST        FWEST       NORTH  \\\n",
       "0 2012-01-01 01:00:00.003  7748.160500  878.438488  1289.746813  652.153054   \n",
       "1 2012-01-01 01:59:59.997  7559.728089  839.092904  1294.272245  643.483530   \n",
       "2 2012-01-01 03:00:00.000  7337.789042  817.995707  1296.491345  631.940923   \n",
       "\n",
       "         NCENT        SOUTH        SCENT        WEST         ERCOT  \n",
       "0  8648.989316  2105.379142  4162.162310  849.000892  26334.030515  \n",
       "1  8553.212708  2047.755534  4070.416593  845.097363  25853.058967  \n",
       "2  8461.317967  1961.909818  3946.994332  840.902848  25295.341984  "
      ]
     },
     "execution_count": 22,
     "metadata": {},
     "output_type": "execute_result"
    }
   ],
   "source": [
    "df_12 = pd.read_excel('2012 Ercot.xls')\n",
    "df_12.head(3)"
   ]
  },
  {
   "cell_type": "code",
   "execution_count": 23,
   "id": "68f504b7",
   "metadata": {},
   "outputs": [
    {
     "data": {
      "text/plain": [
       "(8784, 10)"
      ]
     },
     "execution_count": 23,
     "metadata": {},
     "output_type": "execute_result"
    }
   ],
   "source": [
    "df_12.shape"
   ]
  },
  {
   "cell_type": "code",
   "execution_count": 24,
   "id": "dddf3bdd",
   "metadata": {},
   "outputs": [
    {
     "data": {
      "text/html": [
       "<div>\n",
       "<style scoped>\n",
       "    .dataframe tbody tr th:only-of-type {\n",
       "        vertical-align: middle;\n",
       "    }\n",
       "\n",
       "    .dataframe tbody tr th {\n",
       "        vertical-align: top;\n",
       "    }\n",
       "\n",
       "    .dataframe thead th {\n",
       "        text-align: right;\n",
       "    }\n",
       "</style>\n",
       "<table border=\"1\" class=\"dataframe\">\n",
       "  <thead>\n",
       "    <tr style=\"text-align: right;\">\n",
       "      <th></th>\n",
       "      <th>Hour Ending</th>\n",
       "      <th>COAST</th>\n",
       "      <th>EAST</th>\n",
       "      <th>FWEST</th>\n",
       "      <th>NORTH</th>\n",
       "      <th>NCENT</th>\n",
       "      <th>SOUTH</th>\n",
       "      <th>SCENT</th>\n",
       "      <th>WEST</th>\n",
       "      <th>ERCOT</th>\n",
       "    </tr>\n",
       "  </thead>\n",
       "  <tbody>\n",
       "    <tr>\n",
       "      <th>0</th>\n",
       "      <td>2011-01-01 01:00:00.003</td>\n",
       "      <td>7242.844978</td>\n",
       "      <td>919.318501</td>\n",
       "      <td>1273.185354</td>\n",
       "      <td>762.181838</td>\n",
       "      <td>10038.701857</td>\n",
       "      <td>2033.434272</td>\n",
       "      <td>4448.833193</td>\n",
       "      <td>943.943487</td>\n",
       "      <td>27662.443480</td>\n",
       "    </tr>\n",
       "    <tr>\n",
       "      <th>1</th>\n",
       "      <td>2011-01-01 01:59:59.997</td>\n",
       "      <td>7028.298944</td>\n",
       "      <td>906.680146</td>\n",
       "      <td>1273.258677</td>\n",
       "      <td>762.644083</td>\n",
       "      <td>9982.845460</td>\n",
       "      <td>1964.750313</td>\n",
       "      <td>4401.280885</td>\n",
       "      <td>930.286207</td>\n",
       "      <td>27250.044715</td>\n",
       "    </tr>\n",
       "    <tr>\n",
       "      <th>2</th>\n",
       "      <td>2011-01-01 03:00:00.000</td>\n",
       "      <td>6870.407297</td>\n",
       "      <td>877.968337</td>\n",
       "      <td>1272.137325</td>\n",
       "      <td>763.843552</td>\n",
       "      <td>9870.152864</td>\n",
       "      <td>1885.766434</td>\n",
       "      <td>4320.909860</td>\n",
       "      <td>922.040412</td>\n",
       "      <td>26783.226081</td>\n",
       "    </tr>\n",
       "  </tbody>\n",
       "</table>\n",
       "</div>"
      ],
      "text/plain": [
       "              Hour Ending        COAST        EAST        FWEST       NORTH  \\\n",
       "0 2011-01-01 01:00:00.003  7242.844978  919.318501  1273.185354  762.181838   \n",
       "1 2011-01-01 01:59:59.997  7028.298944  906.680146  1273.258677  762.644083   \n",
       "2 2011-01-01 03:00:00.000  6870.407297  877.968337  1272.137325  763.843552   \n",
       "\n",
       "          NCENT        SOUTH        SCENT        WEST         ERCOT  \n",
       "0  10038.701857  2033.434272  4448.833193  943.943487  27662.443480  \n",
       "1   9982.845460  1964.750313  4401.280885  930.286207  27250.044715  \n",
       "2   9870.152864  1885.766434  4320.909860  922.040412  26783.226081  "
      ]
     },
     "execution_count": 24,
     "metadata": {},
     "output_type": "execute_result"
    }
   ],
   "source": [
    "df_11 = pd.read_excel('2011 Ercot.xls')\n",
    "df_11.head(3)"
   ]
  },
  {
   "cell_type": "code",
   "execution_count": 25,
   "id": "bd962642",
   "metadata": {},
   "outputs": [
    {
     "data": {
      "text/plain": [
       "(8760, 10)"
      ]
     },
     "execution_count": 25,
     "metadata": {},
     "output_type": "execute_result"
    }
   ],
   "source": [
    "df_11.shape"
   ]
  },
  {
   "cell_type": "code",
   "execution_count": 26,
   "id": "30153ca1",
   "metadata": {},
   "outputs": [
    {
     "data": {
      "text/html": [
       "<div>\n",
       "<style scoped>\n",
       "    .dataframe tbody tr th:only-of-type {\n",
       "        vertical-align: middle;\n",
       "    }\n",
       "\n",
       "    .dataframe tbody tr th {\n",
       "        vertical-align: top;\n",
       "    }\n",
       "\n",
       "    .dataframe thead th {\n",
       "        text-align: right;\n",
       "    }\n",
       "</style>\n",
       "<table border=\"1\" class=\"dataframe\">\n",
       "  <thead>\n",
       "    <tr style=\"text-align: right;\">\n",
       "      <th></th>\n",
       "      <th>Hour Ending</th>\n",
       "      <th>COAST</th>\n",
       "      <th>EAST</th>\n",
       "      <th>FWEST</th>\n",
       "      <th>NORTH</th>\n",
       "      <th>NCENT</th>\n",
       "      <th>SOUTH</th>\n",
       "      <th>SCENT</th>\n",
       "      <th>WEST</th>\n",
       "      <th>ERCOT</th>\n",
       "    </tr>\n",
       "  </thead>\n",
       "  <tbody>\n",
       "    <tr>\n",
       "      <th>0</th>\n",
       "      <td>2010-01-01 01:00:00.003</td>\n",
       "      <td>7775.456846</td>\n",
       "      <td>1238.179861</td>\n",
       "      <td>1237.649967</td>\n",
       "      <td>877.672404</td>\n",
       "      <td>12405.849409</td>\n",
       "      <td>2467.581039</td>\n",
       "      <td>5031.931981</td>\n",
       "      <td>1059.742927</td>\n",
       "      <td>32094.064435</td>\n",
       "    </tr>\n",
       "    <tr>\n",
       "      <th>1</th>\n",
       "      <td>2010-01-01 01:59:59.997</td>\n",
       "      <td>7704.815982</td>\n",
       "      <td>1236.050964</td>\n",
       "      <td>1248.907364</td>\n",
       "      <td>883.621724</td>\n",
       "      <td>12485.814858</td>\n",
       "      <td>2436.025369</td>\n",
       "      <td>5111.468920</td>\n",
       "      <td>1064.617365</td>\n",
       "      <td>32171.322546</td>\n",
       "    </tr>\n",
       "    <tr>\n",
       "      <th>2</th>\n",
       "      <td>2010-01-01 03:00:00.000</td>\n",
       "      <td>7650.575724</td>\n",
       "      <td>1244.073140</td>\n",
       "      <td>1251.207485</td>\n",
       "      <td>881.155327</td>\n",
       "      <td>12559.461123</td>\n",
       "      <td>2414.440222</td>\n",
       "      <td>5168.887617</td>\n",
       "      <td>1071.951825</td>\n",
       "      <td>32241.752463</td>\n",
       "    </tr>\n",
       "  </tbody>\n",
       "</table>\n",
       "</div>"
      ],
      "text/plain": [
       "              Hour Ending        COAST         EAST        FWEST       NORTH  \\\n",
       "0 2010-01-01 01:00:00.003  7775.456846  1238.179861  1237.649967  877.672404   \n",
       "1 2010-01-01 01:59:59.997  7704.815982  1236.050964  1248.907364  883.621724   \n",
       "2 2010-01-01 03:00:00.000  7650.575724  1244.073140  1251.207485  881.155327   \n",
       "\n",
       "          NCENT        SOUTH        SCENT         WEST         ERCOT  \n",
       "0  12405.849409  2467.581039  5031.931981  1059.742927  32094.064435  \n",
       "1  12485.814858  2436.025369  5111.468920  1064.617365  32171.322546  \n",
       "2  12559.461123  2414.440222  5168.887617  1071.951825  32241.752463  "
      ]
     },
     "execution_count": 26,
     "metadata": {},
     "output_type": "execute_result"
    }
   ],
   "source": [
    "df_10 = pd.read_excel('2010 Ercot.xls')\n",
    "df_10.head(3)"
   ]
  },
  {
   "cell_type": "code",
   "execution_count": 27,
   "id": "92eb5cd9",
   "metadata": {},
   "outputs": [
    {
     "data": {
      "text/plain": [
       "(8760, 10)"
      ]
     },
     "execution_count": 27,
     "metadata": {},
     "output_type": "execute_result"
    }
   ],
   "source": [
    "df_10.shape"
   ]
  },
  {
   "cell_type": "code",
   "execution_count": 28,
   "id": "638b6fd8",
   "metadata": {},
   "outputs": [],
   "source": [
    "# df_9 = pd.read_excel('2009 Ercot.xls')\n",
    "# df_9.head(3)"
   ]
  },
  {
   "cell_type": "code",
   "execution_count": 29,
   "id": "5171f1b9",
   "metadata": {},
   "outputs": [],
   "source": [
    "# df_9.shape"
   ]
  },
  {
   "cell_type": "code",
   "execution_count": 30,
   "id": "ce47a384",
   "metadata": {},
   "outputs": [],
   "source": [
    "# df_8 = pd.read_excel('2008 Ercot.xls')\n",
    "# df_8.head(3)"
   ]
  },
  {
   "cell_type": "code",
   "execution_count": 31,
   "id": "c874285c",
   "metadata": {},
   "outputs": [],
   "source": [
    "# df_8.shape"
   ]
  },
  {
   "cell_type": "code",
   "execution_count": 32,
   "id": "ae1c5ee9",
   "metadata": {},
   "outputs": [],
   "source": [
    "# df_7 = pd.read_excel('2007 Ercot.xls')\n",
    "# df_7.head(3)"
   ]
  },
  {
   "cell_type": "code",
   "execution_count": 33,
   "id": "a2e9ef10",
   "metadata": {},
   "outputs": [],
   "source": [
    "# df_7.shape"
   ]
  },
  {
   "cell_type": "code",
   "execution_count": 34,
   "id": "ee8a8e34",
   "metadata": {},
   "outputs": [],
   "source": [
    "# df_6 = pd.read_excel('2006 Ercot.xls')\n",
    "# df_6.head(3)"
   ]
  },
  {
   "cell_type": "code",
   "execution_count": 35,
   "id": "05276955",
   "metadata": {},
   "outputs": [],
   "source": [
    "# df_6.shape"
   ]
  },
  {
   "cell_type": "code",
   "execution_count": 36,
   "id": "5b58c2d3",
   "metadata": {},
   "outputs": [],
   "source": [
    "# df_5 = pd.read_excel('2005 Ercot.xls')\n",
    "# df_5.head(3)"
   ]
  },
  {
   "cell_type": "code",
   "execution_count": 37,
   "id": "e916b37f",
   "metadata": {},
   "outputs": [],
   "source": [
    "# df_5.shape"
   ]
  },
  {
   "cell_type": "code",
   "execution_count": 38,
   "id": "e44821f9",
   "metadata": {},
   "outputs": [],
   "source": [
    "# df_4 = pd.read_excel('2004 Ercot.xls')\n",
    "# df_4.head(3)"
   ]
  },
  {
   "cell_type": "code",
   "execution_count": 39,
   "id": "6e4f63fc",
   "metadata": {},
   "outputs": [],
   "source": [
    "# df_4.shape"
   ]
  },
  {
   "cell_type": "code",
   "execution_count": 40,
   "id": "b6c8558c",
   "metadata": {},
   "outputs": [],
   "source": [
    "# df_3 = pd.read_excel('2003 Ercot.xls')\n",
    "# df_3.head(3)"
   ]
  },
  {
   "cell_type": "code",
   "execution_count": 41,
   "id": "d442ec01",
   "metadata": {},
   "outputs": [],
   "source": [
    "# df_3.shape"
   ]
  },
  {
   "cell_type": "code",
   "execution_count": 42,
   "id": "e6120eeb",
   "metadata": {},
   "outputs": [],
   "source": [
    "total_df = pd.concat([df_10, df_11, df_12, df_13, df_14, df_15, df_16, df_17])"
   ]
  },
  {
   "cell_type": "code",
   "execution_count": 43,
   "id": "3f4b677c",
   "metadata": {},
   "outputs": [
    {
     "data": {
      "text/html": [
       "<div>\n",
       "<style scoped>\n",
       "    .dataframe tbody tr th:only-of-type {\n",
       "        vertical-align: middle;\n",
       "    }\n",
       "\n",
       "    .dataframe tbody tr th {\n",
       "        vertical-align: top;\n",
       "    }\n",
       "\n",
       "    .dataframe thead th {\n",
       "        text-align: right;\n",
       "    }\n",
       "</style>\n",
       "<table border=\"1\" class=\"dataframe\">\n",
       "  <thead>\n",
       "    <tr style=\"text-align: right;\">\n",
       "      <th></th>\n",
       "      <th>Hour Ending</th>\n",
       "      <th>COAST</th>\n",
       "      <th>EAST</th>\n",
       "      <th>FWEST</th>\n",
       "      <th>NORTH</th>\n",
       "      <th>NCENT</th>\n",
       "      <th>SOUTH</th>\n",
       "      <th>SCENT</th>\n",
       "      <th>WEST</th>\n",
       "      <th>ERCOT</th>\n",
       "    </tr>\n",
       "  </thead>\n",
       "  <tbody>\n",
       "    <tr>\n",
       "      <th>0</th>\n",
       "      <td>2010-01-01 01:00:00.003000</td>\n",
       "      <td>7775.456846</td>\n",
       "      <td>1238.179861</td>\n",
       "      <td>1237.649967</td>\n",
       "      <td>877.672404</td>\n",
       "      <td>12405.849409</td>\n",
       "      <td>2467.581039</td>\n",
       "      <td>5031.931981</td>\n",
       "      <td>1059.742927</td>\n",
       "      <td>32094.064435</td>\n",
       "    </tr>\n",
       "    <tr>\n",
       "      <th>1</th>\n",
       "      <td>2010-01-01 01:59:59.997000</td>\n",
       "      <td>7704.815982</td>\n",
       "      <td>1236.050964</td>\n",
       "      <td>1248.907364</td>\n",
       "      <td>883.621724</td>\n",
       "      <td>12485.814858</td>\n",
       "      <td>2436.025369</td>\n",
       "      <td>5111.468920</td>\n",
       "      <td>1064.617365</td>\n",
       "      <td>32171.322546</td>\n",
       "    </tr>\n",
       "    <tr>\n",
       "      <th>2</th>\n",
       "      <td>2010-01-01 03:00:00</td>\n",
       "      <td>7650.575724</td>\n",
       "      <td>1244.073140</td>\n",
       "      <td>1251.207485</td>\n",
       "      <td>881.155327</td>\n",
       "      <td>12559.461123</td>\n",
       "      <td>2414.440222</td>\n",
       "      <td>5168.887617</td>\n",
       "      <td>1071.951825</td>\n",
       "      <td>32241.752463</td>\n",
       "    </tr>\n",
       "    <tr>\n",
       "      <th>3</th>\n",
       "      <td>2010-01-01 04:00:00.003000</td>\n",
       "      <td>7666.708317</td>\n",
       "      <td>1253.211110</td>\n",
       "      <td>1260.419002</td>\n",
       "      <td>894.330100</td>\n",
       "      <td>12671.847950</td>\n",
       "      <td>2383.948564</td>\n",
       "      <td>5241.889124</td>\n",
       "      <td>1086.839061</td>\n",
       "      <td>32459.193227</td>\n",
       "    </tr>\n",
       "    <tr>\n",
       "      <th>4</th>\n",
       "      <td>2010-01-01 04:59:59.997000</td>\n",
       "      <td>7744.960869</td>\n",
       "      <td>1284.055257</td>\n",
       "      <td>1264.653516</td>\n",
       "      <td>906.325283</td>\n",
       "      <td>12912.267303</td>\n",
       "      <td>2498.179406</td>\n",
       "      <td>5401.453950</td>\n",
       "      <td>1111.855463</td>\n",
       "      <td>33123.751047</td>\n",
       "    </tr>\n",
       "  </tbody>\n",
       "</table>\n",
       "</div>"
      ],
      "text/plain": [
       "                  Hour Ending        COAST         EAST        FWEST  \\\n",
       "0  2010-01-01 01:00:00.003000  7775.456846  1238.179861  1237.649967   \n",
       "1  2010-01-01 01:59:59.997000  7704.815982  1236.050964  1248.907364   \n",
       "2         2010-01-01 03:00:00  7650.575724  1244.073140  1251.207485   \n",
       "3  2010-01-01 04:00:00.003000  7666.708317  1253.211110  1260.419002   \n",
       "4  2010-01-01 04:59:59.997000  7744.960869  1284.055257  1264.653516   \n",
       "\n",
       "        NORTH         NCENT        SOUTH        SCENT         WEST  \\\n",
       "0  877.672404  12405.849409  2467.581039  5031.931981  1059.742927   \n",
       "1  883.621724  12485.814858  2436.025369  5111.468920  1064.617365   \n",
       "2  881.155327  12559.461123  2414.440222  5168.887617  1071.951825   \n",
       "3  894.330100  12671.847950  2383.948564  5241.889124  1086.839061   \n",
       "4  906.325283  12912.267303  2498.179406  5401.453950  1111.855463   \n",
       "\n",
       "          ERCOT  \n",
       "0  32094.064435  \n",
       "1  32171.322546  \n",
       "2  32241.752463  \n",
       "3  32459.193227  \n",
       "4  33123.751047  "
      ]
     },
     "execution_count": 43,
     "metadata": {},
     "output_type": "execute_result"
    }
   ],
   "source": [
    "total_df.head()"
   ]
  },
  {
   "cell_type": "code",
   "execution_count": 44,
   "id": "7761aa4f",
   "metadata": {},
   "outputs": [
    {
     "data": {
      "text/html": [
       "<div>\n",
       "<style scoped>\n",
       "    .dataframe tbody tr th:only-of-type {\n",
       "        vertical-align: middle;\n",
       "    }\n",
       "\n",
       "    .dataframe tbody tr th {\n",
       "        vertical-align: top;\n",
       "    }\n",
       "\n",
       "    .dataframe thead th {\n",
       "        text-align: right;\n",
       "    }\n",
       "</style>\n",
       "<table border=\"1\" class=\"dataframe\">\n",
       "  <thead>\n",
       "    <tr style=\"text-align: right;\">\n",
       "      <th></th>\n",
       "      <th>Hour Ending</th>\n",
       "      <th>COAST</th>\n",
       "      <th>EAST</th>\n",
       "      <th>FWEST</th>\n",
       "      <th>NORTH</th>\n",
       "      <th>NCENT</th>\n",
       "      <th>SOUTH</th>\n",
       "      <th>SCENT</th>\n",
       "      <th>WEST</th>\n",
       "      <th>ERCOT</th>\n",
       "    </tr>\n",
       "  </thead>\n",
       "  <tbody>\n",
       "    <tr>\n",
       "      <th>8755</th>\n",
       "      <td>12/31/2017 20:00</td>\n",
       "      <td>12015.663549</td>\n",
       "      <td>1910.720587</td>\n",
       "      <td>2989.824568</td>\n",
       "      <td>1202.222117</td>\n",
       "      <td>20633.414345</td>\n",
       "      <td>3771.864865</td>\n",
       "      <td>9626.306799</td>\n",
       "      <td>1813.399697</td>\n",
       "      <td>53963.416528</td>\n",
       "    </tr>\n",
       "    <tr>\n",
       "      <th>8756</th>\n",
       "      <td>12/31/2017 21:00</td>\n",
       "      <td>11883.114122</td>\n",
       "      <td>1907.585299</td>\n",
       "      <td>2970.854839</td>\n",
       "      <td>1191.309197</td>\n",
       "      <td>20174.983131</td>\n",
       "      <td>3719.315447</td>\n",
       "      <td>9519.748453</td>\n",
       "      <td>1795.416337</td>\n",
       "      <td>53162.326825</td>\n",
       "    </tr>\n",
       "    <tr>\n",
       "      <th>8757</th>\n",
       "      <td>12/31/2017 22:00</td>\n",
       "      <td>11754.250889</td>\n",
       "      <td>1890.359350</td>\n",
       "      <td>2942.227121</td>\n",
       "      <td>1178.171245</td>\n",
       "      <td>19726.459865</td>\n",
       "      <td>3690.567365</td>\n",
       "      <td>9402.193277</td>\n",
       "      <td>1767.742081</td>\n",
       "      <td>52351.971192</td>\n",
       "    </tr>\n",
       "    <tr>\n",
       "      <th>8758</th>\n",
       "      <td>12/31/2017 23:00</td>\n",
       "      <td>11579.853459</td>\n",
       "      <td>1855.937814</td>\n",
       "      <td>2898.567893</td>\n",
       "      <td>1157.488537</td>\n",
       "      <td>19211.158684</td>\n",
       "      <td>3689.751261</td>\n",
       "      <td>9260.416988</td>\n",
       "      <td>1735.764393</td>\n",
       "      <td>51388.939028</td>\n",
       "    </tr>\n",
       "    <tr>\n",
       "      <th>8759</th>\n",
       "      <td>12/31/2017 24:00</td>\n",
       "      <td>11452.163689</td>\n",
       "      <td>1834.871741</td>\n",
       "      <td>2856.941683</td>\n",
       "      <td>1145.645045</td>\n",
       "      <td>18944.980941</td>\n",
       "      <td>3726.039934</td>\n",
       "      <td>9172.714892</td>\n",
       "      <td>1701.543039</td>\n",
       "      <td>50834.900964</td>\n",
       "    </tr>\n",
       "  </tbody>\n",
       "</table>\n",
       "</div>"
      ],
      "text/plain": [
       "           Hour Ending         COAST         EAST        FWEST        NORTH  \\\n",
       "8755  12/31/2017 20:00  12015.663549  1910.720587  2989.824568  1202.222117   \n",
       "8756  12/31/2017 21:00  11883.114122  1907.585299  2970.854839  1191.309197   \n",
       "8757  12/31/2017 22:00  11754.250889  1890.359350  2942.227121  1178.171245   \n",
       "8758  12/31/2017 23:00  11579.853459  1855.937814  2898.567893  1157.488537   \n",
       "8759  12/31/2017 24:00  11452.163689  1834.871741  2856.941683  1145.645045   \n",
       "\n",
       "             NCENT        SOUTH        SCENT         WEST         ERCOT  \n",
       "8755  20633.414345  3771.864865  9626.306799  1813.399697  53963.416528  \n",
       "8756  20174.983131  3719.315447  9519.748453  1795.416337  53162.326825  \n",
       "8757  19726.459865  3690.567365  9402.193277  1767.742081  52351.971192  \n",
       "8758  19211.158684  3689.751261  9260.416988  1735.764393  51388.939028  \n",
       "8759  18944.980941  3726.039934  9172.714892  1701.543039  50834.900964  "
      ]
     },
     "execution_count": 44,
     "metadata": {},
     "output_type": "execute_result"
    }
   ],
   "source": [
    "total_df.tail()"
   ]
  },
  {
   "cell_type": "code",
   "execution_count": 45,
   "id": "80a8c0d4",
   "metadata": {},
   "outputs": [
    {
     "data": {
      "text/plain": [
       "(70128, 10)"
      ]
     },
     "execution_count": 45,
     "metadata": {},
     "output_type": "execute_result"
    }
   ],
   "source": [
    "total_df.shape"
   ]
  },
  {
   "cell_type": "code",
   "execution_count": 46,
   "id": "44ceff10",
   "metadata": {},
   "outputs": [
    {
     "data": {
      "text/html": [
       "<div>\n",
       "<style scoped>\n",
       "    .dataframe tbody tr th:only-of-type {\n",
       "        vertical-align: middle;\n",
       "    }\n",
       "\n",
       "    .dataframe tbody tr th {\n",
       "        vertical-align: top;\n",
       "    }\n",
       "\n",
       "    .dataframe thead th {\n",
       "        text-align: right;\n",
       "    }\n",
       "</style>\n",
       "<table border=\"1\" class=\"dataframe\">\n",
       "  <thead>\n",
       "    <tr style=\"text-align: right;\">\n",
       "      <th></th>\n",
       "      <th>count</th>\n",
       "      <th>unique</th>\n",
       "      <th>top</th>\n",
       "      <th>freq</th>\n",
       "      <th>mean</th>\n",
       "      <th>std</th>\n",
       "      <th>min</th>\n",
       "      <th>25%</th>\n",
       "      <th>50%</th>\n",
       "      <th>75%</th>\n",
       "      <th>max</th>\n",
       "    </tr>\n",
       "  </thead>\n",
       "  <tbody>\n",
       "    <tr>\n",
       "      <th>Hour Ending</th>\n",
       "      <td>70128</td>\n",
       "      <td>70121</td>\n",
       "      <td>2013-11-03 01:59:59.997</td>\n",
       "      <td>2</td>\n",
       "      <td>NaN</td>\n",
       "      <td>NaN</td>\n",
       "      <td>NaN</td>\n",
       "      <td>NaN</td>\n",
       "      <td>NaN</td>\n",
       "      <td>NaN</td>\n",
       "      <td>NaN</td>\n",
       "    </tr>\n",
       "    <tr>\n",
       "      <th>COAST</th>\n",
       "      <td>70127.0</td>\n",
       "      <td>NaN</td>\n",
       "      <td>NaT</td>\n",
       "      <td>NaN</td>\n",
       "      <td>11061.544872</td>\n",
       "      <td>2590.730406</td>\n",
       "      <td>6293.573072</td>\n",
       "      <td>9191.317513</td>\n",
       "      <td>10466.772212</td>\n",
       "      <td>12476.841037</td>\n",
       "      <td>20100.758612</td>\n",
       "    </tr>\n",
       "    <tr>\n",
       "      <th>EAST</th>\n",
       "      <td>70127.0</td>\n",
       "      <td>NaN</td>\n",
       "      <td>NaT</td>\n",
       "      <td>NaN</td>\n",
       "      <td>1393.349451</td>\n",
       "      <td>330.452951</td>\n",
       "      <td>757.569125</td>\n",
       "      <td>1162.043727</td>\n",
       "      <td>1319.414631</td>\n",
       "      <td>1573.893842</td>\n",
       "      <td>2570.031835</td>\n",
       "    </tr>\n",
       "    <tr>\n",
       "      <th>FWEST</th>\n",
       "      <td>70127.0</td>\n",
       "      <td>NaN</td>\n",
       "      <td>NaT</td>\n",
       "      <td>NaN</td>\n",
       "      <td>1795.595894</td>\n",
       "      <td>430.024887</td>\n",
       "      <td>915.737194</td>\n",
       "      <td>1418.126563</td>\n",
       "      <td>1809.199957</td>\n",
       "      <td>2098.761849</td>\n",
       "      <td>3164.186431</td>\n",
       "    </tr>\n",
       "    <tr>\n",
       "      <th>NORTH</th>\n",
       "      <td>70127.0</td>\n",
       "      <td>NaN</td>\n",
       "      <td>NaT</td>\n",
       "      <td>NaN</td>\n",
       "      <td>840.267177</td>\n",
       "      <td>184.608258</td>\n",
       "      <td>508.671875</td>\n",
       "      <td>712.47165</td>\n",
       "      <td>792.605905</td>\n",
       "      <td>935.028339</td>\n",
       "      <td>1563.751051</td>\n",
       "    </tr>\n",
       "    <tr>\n",
       "      <th>NCENT</th>\n",
       "      <td>70127.0</td>\n",
       "      <td>NaN</td>\n",
       "      <td>NaT</td>\n",
       "      <td>NaN</td>\n",
       "      <td>12877.079303</td>\n",
       "      <td>3523.571961</td>\n",
       "      <td>6681.244677</td>\n",
       "      <td>10486.915989</td>\n",
       "      <td>11991.582841</td>\n",
       "      <td>14663.578059</td>\n",
       "      <td>25626.484526</td>\n",
       "    </tr>\n",
       "    <tr>\n",
       "      <th>SOUTH</th>\n",
       "      <td>70127.0</td>\n",
       "      <td>NaN</td>\n",
       "      <td>NaT</td>\n",
       "      <td>NaN</td>\n",
       "      <td>3172.880416</td>\n",
       "      <td>798.371548</td>\n",
       "      <td>1616.394449</td>\n",
       "      <td>2575.892091</td>\n",
       "      <td>3005.003674</td>\n",
       "      <td>3694.1102</td>\n",
       "      <td>5845.283666</td>\n",
       "    </tr>\n",
       "    <tr>\n",
       "      <th>SCENT</th>\n",
       "      <td>70127.0</td>\n",
       "      <td>NaN</td>\n",
       "      <td>NaT</td>\n",
       "      <td>NaN</td>\n",
       "      <td>6338.542158</td>\n",
       "      <td>1707.31061</td>\n",
       "      <td>3400.245576</td>\n",
       "      <td>5147.183304</td>\n",
       "      <td>5917.92682</td>\n",
       "      <td>7257.727094</td>\n",
       "      <td>12344.841642</td>\n",
       "    </tr>\n",
       "    <tr>\n",
       "      <th>WEST</th>\n",
       "      <td>70127.0</td>\n",
       "      <td>NaN</td>\n",
       "      <td>NaT</td>\n",
       "      <td>NaN</td>\n",
       "      <td>1097.961705</td>\n",
       "      <td>232.461764</td>\n",
       "      <td>631.803702</td>\n",
       "      <td>932.695415</td>\n",
       "      <td>1044.24406</td>\n",
       "      <td>1223.551299</td>\n",
       "      <td>1901.940577</td>\n",
       "    </tr>\n",
       "    <tr>\n",
       "      <th>ERCOT</th>\n",
       "      <td>70127.0</td>\n",
       "      <td>NaN</td>\n",
       "      <td>NaT</td>\n",
       "      <td>NaN</td>\n",
       "      <td>38577.220976</td>\n",
       "      <td>9287.133052</td>\n",
       "      <td>21797.72923</td>\n",
       "      <td>32029.674422</td>\n",
       "      <td>36436.143421</td>\n",
       "      <td>43465.209824</td>\n",
       "      <td>71092.609221</td>\n",
       "    </tr>\n",
       "  </tbody>\n",
       "</table>\n",
       "</div>"
      ],
      "text/plain": [
       "               count unique                     top freq          mean  \\\n",
       "Hour Ending    70128  70121 2013-11-03 01:59:59.997    2           NaN   \n",
       "COAST        70127.0    NaN                     NaT  NaN  11061.544872   \n",
       "EAST         70127.0    NaN                     NaT  NaN   1393.349451   \n",
       "FWEST        70127.0    NaN                     NaT  NaN   1795.595894   \n",
       "NORTH        70127.0    NaN                     NaT  NaN    840.267177   \n",
       "NCENT        70127.0    NaN                     NaT  NaN  12877.079303   \n",
       "SOUTH        70127.0    NaN                     NaT  NaN   3172.880416   \n",
       "SCENT        70127.0    NaN                     NaT  NaN   6338.542158   \n",
       "WEST         70127.0    NaN                     NaT  NaN   1097.961705   \n",
       "ERCOT        70127.0    NaN                     NaT  NaN  38577.220976   \n",
       "\n",
       "                     std          min           25%           50%  \\\n",
       "Hour Ending          NaN          NaN           NaN           NaN   \n",
       "COAST        2590.730406  6293.573072   9191.317513  10466.772212   \n",
       "EAST          330.452951   757.569125   1162.043727   1319.414631   \n",
       "FWEST         430.024887   915.737194   1418.126563   1809.199957   \n",
       "NORTH         184.608258   508.671875     712.47165    792.605905   \n",
       "NCENT        3523.571961  6681.244677  10486.915989  11991.582841   \n",
       "SOUTH         798.371548  1616.394449   2575.892091   3005.003674   \n",
       "SCENT         1707.31061  3400.245576   5147.183304    5917.92682   \n",
       "WEST          232.461764   631.803702    932.695415    1044.24406   \n",
       "ERCOT        9287.133052  21797.72923  32029.674422  36436.143421   \n",
       "\n",
       "                      75%           max  \n",
       "Hour Ending           NaN           NaN  \n",
       "COAST        12476.841037  20100.758612  \n",
       "EAST          1573.893842   2570.031835  \n",
       "FWEST         2098.761849   3164.186431  \n",
       "NORTH          935.028339   1563.751051  \n",
       "NCENT        14663.578059  25626.484526  \n",
       "SOUTH           3694.1102   5845.283666  \n",
       "SCENT         7257.727094  12344.841642  \n",
       "WEST          1223.551299   1901.940577  \n",
       "ERCOT        43465.209824  71092.609221  "
      ]
     },
     "execution_count": 46,
     "metadata": {},
     "output_type": "execute_result"
    }
   ],
   "source": [
    "total_df.describe(include='all').T"
   ]
  },
  {
   "cell_type": "code",
   "execution_count": 47,
   "id": "4fdefcf9",
   "metadata": {},
   "outputs": [
    {
     "data": {
      "text/html": [
       "<div>\n",
       "<style scoped>\n",
       "    .dataframe tbody tr th:only-of-type {\n",
       "        vertical-align: middle;\n",
       "    }\n",
       "\n",
       "    .dataframe tbody tr th {\n",
       "        vertical-align: top;\n",
       "    }\n",
       "\n",
       "    .dataframe thead th {\n",
       "        text-align: right;\n",
       "    }\n",
       "</style>\n",
       "<table border=\"1\" class=\"dataframe\">\n",
       "  <thead>\n",
       "    <tr style=\"text-align: right;\">\n",
       "      <th></th>\n",
       "      <th>Hour Ending</th>\n",
       "      <th>COAST</th>\n",
       "    </tr>\n",
       "  </thead>\n",
       "  <tbody>\n",
       "    <tr>\n",
       "      <th>0</th>\n",
       "      <td>2010-01-01 01:00:00.003000</td>\n",
       "      <td>7775.456846</td>\n",
       "    </tr>\n",
       "    <tr>\n",
       "      <th>1</th>\n",
       "      <td>2010-01-01 01:59:59.997000</td>\n",
       "      <td>7704.815982</td>\n",
       "    </tr>\n",
       "    <tr>\n",
       "      <th>2</th>\n",
       "      <td>2010-01-01 03:00:00</td>\n",
       "      <td>7650.575724</td>\n",
       "    </tr>\n",
       "    <tr>\n",
       "      <th>3</th>\n",
       "      <td>2010-01-01 04:00:00.003000</td>\n",
       "      <td>7666.708317</td>\n",
       "    </tr>\n",
       "    <tr>\n",
       "      <th>4</th>\n",
       "      <td>2010-01-01 04:59:59.997000</td>\n",
       "      <td>7744.960869</td>\n",
       "    </tr>\n",
       "  </tbody>\n",
       "</table>\n",
       "</div>"
      ],
      "text/plain": [
       "                  Hour Ending        COAST\n",
       "0  2010-01-01 01:00:00.003000  7775.456846\n",
       "1  2010-01-01 01:59:59.997000  7704.815982\n",
       "2         2010-01-01 03:00:00  7650.575724\n",
       "3  2010-01-01 04:00:00.003000  7666.708317\n",
       "4  2010-01-01 04:59:59.997000  7744.960869"
      ]
     },
     "execution_count": 47,
     "metadata": {},
     "output_type": "execute_result"
    }
   ],
   "source": [
    "coast_df = total_df.drop(columns = ['EAST', 'FWEST', 'NORTH', 'NCENT', 'SOUTH', 'SCENT', 'WEST', 'ERCOT'])\n",
    "coast_df.head()"
   ]
  },
  {
   "cell_type": "code",
   "execution_count": 48,
   "id": "b4bdaa47",
   "metadata": {},
   "outputs": [
    {
     "data": {
      "text/plain": [
       "(70128, 2)"
      ]
     },
     "execution_count": 48,
     "metadata": {},
     "output_type": "execute_result"
    }
   ],
   "source": [
    "coast_df.shape"
   ]
  },
  {
   "cell_type": "code",
   "execution_count": 49,
   "id": "ac15d3c5",
   "metadata": {},
   "outputs": [],
   "source": [
    "total_df.to_csv('total_df.csv')"
   ]
  },
  {
   "cell_type": "code",
   "execution_count": 50,
   "id": "e03d08c1",
   "metadata": {},
   "outputs": [],
   "source": [
    "coast_df.to_csv('coast_df.csv')"
   ]
  },
  {
   "cell_type": "code",
   "execution_count": 51,
   "id": "971fc7ef",
   "metadata": {},
   "outputs": [
    {
     "name": "stdout",
     "output_type": "stream",
     "text": [
      "<class 'pandas.core.frame.DataFrame'>\n",
      "Int64Index: 70128 entries, 0 to 8759\n",
      "Data columns (total 2 columns):\n",
      " #   Column       Non-Null Count  Dtype  \n",
      "---  ------       --------------  -----  \n",
      " 0   Hour Ending  70128 non-null  object \n",
      " 1   COAST        70127 non-null  float64\n",
      "dtypes: float64(1), object(1)\n",
      "memory usage: 1.6+ MB\n"
     ]
    }
   ],
   "source": [
    "coast_df.info()"
   ]
  },
  {
   "cell_type": "code",
   "execution_count": 52,
   "id": "f1056e27",
   "metadata": {},
   "outputs": [],
   "source": [
    "coast_df.rename(columns={\"Hour Ending\": \"datetime\", \"COAST\": \"coastal_region\"}, inplace=True)"
   ]
  },
  {
   "cell_type": "code",
   "execution_count": 53,
   "id": "c1fae0e4",
   "metadata": {},
   "outputs": [
    {
     "ename": "ParserError",
     "evalue": "hour must be in 0..23: 01/01/2017 24:00",
     "output_type": "error",
     "traceback": [
      "\u001b[0;31m---------------------------------------------------------------------------\u001b[0m",
      "\u001b[0;31mValueError\u001b[0m                                Traceback (most recent call last)",
      "File \u001b[0;32m/opt/homebrew/anaconda3/lib/python3.9/site-packages/dateutil/parser/_parser.py:649\u001b[0m, in \u001b[0;36mparser.parse\u001b[0;34m(self, timestr, default, ignoretz, tzinfos, **kwargs)\u001b[0m\n\u001b[1;32m    648\u001b[0m \u001b[38;5;28;01mtry\u001b[39;00m:\n\u001b[0;32m--> 649\u001b[0m     ret \u001b[38;5;241m=\u001b[39m \u001b[38;5;28;43mself\u001b[39;49m\u001b[38;5;241;43m.\u001b[39;49m\u001b[43m_build_naive\u001b[49m\u001b[43m(\u001b[49m\u001b[43mres\u001b[49m\u001b[43m,\u001b[49m\u001b[43m \u001b[49m\u001b[43mdefault\u001b[49m\u001b[43m)\u001b[49m\n\u001b[1;32m    650\u001b[0m \u001b[38;5;28;01mexcept\u001b[39;00m \u001b[38;5;167;01mValueError\u001b[39;00m \u001b[38;5;28;01mas\u001b[39;00m e:\n",
      "File \u001b[0;32m/opt/homebrew/anaconda3/lib/python3.9/site-packages/dateutil/parser/_parser.py:1235\u001b[0m, in \u001b[0;36mparser._build_naive\u001b[0;34m(self, res, default)\u001b[0m\n\u001b[1;32m   1233\u001b[0m         repl[\u001b[38;5;124m'\u001b[39m\u001b[38;5;124mday\u001b[39m\u001b[38;5;124m'\u001b[39m] \u001b[38;5;241m=\u001b[39m monthrange(cyear, cmonth)[\u001b[38;5;241m1\u001b[39m]\n\u001b[0;32m-> 1235\u001b[0m naive \u001b[38;5;241m=\u001b[39m \u001b[43mdefault\u001b[49m\u001b[38;5;241;43m.\u001b[39;49m\u001b[43mreplace\u001b[49m\u001b[43m(\u001b[49m\u001b[38;5;241;43m*\u001b[39;49m\u001b[38;5;241;43m*\u001b[39;49m\u001b[43mrepl\u001b[49m\u001b[43m)\u001b[49m\n\u001b[1;32m   1237\u001b[0m \u001b[38;5;28;01mif\u001b[39;00m res\u001b[38;5;241m.\u001b[39mweekday \u001b[38;5;129;01mis\u001b[39;00m \u001b[38;5;129;01mnot\u001b[39;00m \u001b[38;5;28;01mNone\u001b[39;00m \u001b[38;5;129;01mand\u001b[39;00m \u001b[38;5;129;01mnot\u001b[39;00m res\u001b[38;5;241m.\u001b[39mday:\n",
      "\u001b[0;31mValueError\u001b[0m: hour must be in 0..23",
      "\nThe above exception was the direct cause of the following exception:\n",
      "\u001b[0;31mParserError\u001b[0m                               Traceback (most recent call last)",
      "File \u001b[0;32m/opt/homebrew/anaconda3/lib/python3.9/site-packages/pandas/_libs/tslib.pyx:536\u001b[0m, in \u001b[0;36mpandas._libs.tslib.array_to_datetime\u001b[0;34m()\u001b[0m\n",
      "File \u001b[0;32m/opt/homebrew/anaconda3/lib/python3.9/site-packages/pandas/_libs/tslibs/parsing.pyx:281\u001b[0m, in \u001b[0;36mpandas._libs.tslibs.parsing.parse_datetime_string\u001b[0;34m()\u001b[0m\n",
      "File \u001b[0;32m/opt/homebrew/anaconda3/lib/python3.9/site-packages/dateutil/parser/_parser.py:1368\u001b[0m, in \u001b[0;36mparse\u001b[0;34m(timestr, parserinfo, **kwargs)\u001b[0m\n\u001b[1;32m   1367\u001b[0m \u001b[38;5;28;01melse\u001b[39;00m:\n\u001b[0;32m-> 1368\u001b[0m     \u001b[38;5;28;01mreturn\u001b[39;00m \u001b[43mDEFAULTPARSER\u001b[49m\u001b[38;5;241;43m.\u001b[39;49m\u001b[43mparse\u001b[49m\u001b[43m(\u001b[49m\u001b[43mtimestr\u001b[49m\u001b[43m,\u001b[49m\u001b[43m \u001b[49m\u001b[38;5;241;43m*\u001b[39;49m\u001b[38;5;241;43m*\u001b[39;49m\u001b[43mkwargs\u001b[49m\u001b[43m)\u001b[49m\n",
      "File \u001b[0;32m/opt/homebrew/anaconda3/lib/python3.9/site-packages/dateutil/parser/_parser.py:651\u001b[0m, in \u001b[0;36mparser.parse\u001b[0;34m(self, timestr, default, ignoretz, tzinfos, **kwargs)\u001b[0m\n\u001b[1;32m    650\u001b[0m \u001b[38;5;28;01mexcept\u001b[39;00m \u001b[38;5;167;01mValueError\u001b[39;00m \u001b[38;5;28;01mas\u001b[39;00m e:\n\u001b[0;32m--> 651\u001b[0m     \u001b[43msix\u001b[49m\u001b[38;5;241;43m.\u001b[39;49m\u001b[43mraise_from\u001b[49m\u001b[43m(\u001b[49m\u001b[43mParserError\u001b[49m\u001b[43m(\u001b[49m\u001b[38;5;28;43mstr\u001b[39;49m\u001b[43m(\u001b[49m\u001b[43me\u001b[49m\u001b[43m)\u001b[49m\u001b[43m \u001b[49m\u001b[38;5;241;43m+\u001b[39;49m\u001b[43m \u001b[49m\u001b[38;5;124;43m\"\u001b[39;49m\u001b[38;5;124;43m: \u001b[39;49m\u001b[38;5;132;43;01m%s\u001b[39;49;00m\u001b[38;5;124;43m\"\u001b[39;49m\u001b[43m,\u001b[49m\u001b[43m \u001b[49m\u001b[43mtimestr\u001b[49m\u001b[43m)\u001b[49m\u001b[43m,\u001b[49m\u001b[43m \u001b[49m\u001b[43me\u001b[49m\u001b[43m)\u001b[49m\n\u001b[1;32m    653\u001b[0m \u001b[38;5;28;01mif\u001b[39;00m \u001b[38;5;129;01mnot\u001b[39;00m ignoretz:\n",
      "File \u001b[0;32m<string>:3\u001b[0m, in \u001b[0;36mraise_from\u001b[0;34m(value, from_value)\u001b[0m\n",
      "\u001b[0;31mParserError\u001b[0m: hour must be in 0..23: 01/01/2017 24:00",
      "\nDuring handling of the above exception, another exception occurred:\n",
      "\u001b[0;31mTypeError\u001b[0m                                 Traceback (most recent call last)",
      "File \u001b[0;32m/opt/homebrew/anaconda3/lib/python3.9/site-packages/pandas/_libs/tslib.pyx:547\u001b[0m, in \u001b[0;36mpandas._libs.tslib.array_to_datetime\u001b[0;34m()\u001b[0m\n",
      "\u001b[0;31mTypeError\u001b[0m: invalid string coercion to datetime",
      "\nDuring handling of the above exception, another exception occurred:\n",
      "\u001b[0;31mValueError\u001b[0m                                Traceback (most recent call last)",
      "File \u001b[0;32m/opt/homebrew/anaconda3/lib/python3.9/site-packages/dateutil/parser/_parser.py:649\u001b[0m, in \u001b[0;36mparser.parse\u001b[0;34m(self, timestr, default, ignoretz, tzinfos, **kwargs)\u001b[0m\n\u001b[1;32m    648\u001b[0m \u001b[38;5;28;01mtry\u001b[39;00m:\n\u001b[0;32m--> 649\u001b[0m     ret \u001b[38;5;241m=\u001b[39m \u001b[38;5;28;43mself\u001b[39;49m\u001b[38;5;241;43m.\u001b[39;49m\u001b[43m_build_naive\u001b[49m\u001b[43m(\u001b[49m\u001b[43mres\u001b[49m\u001b[43m,\u001b[49m\u001b[43m \u001b[49m\u001b[43mdefault\u001b[49m\u001b[43m)\u001b[49m\n\u001b[1;32m    650\u001b[0m \u001b[38;5;28;01mexcept\u001b[39;00m \u001b[38;5;167;01mValueError\u001b[39;00m \u001b[38;5;28;01mas\u001b[39;00m e:\n",
      "File \u001b[0;32m/opt/homebrew/anaconda3/lib/python3.9/site-packages/dateutil/parser/_parser.py:1235\u001b[0m, in \u001b[0;36mparser._build_naive\u001b[0;34m(self, res, default)\u001b[0m\n\u001b[1;32m   1233\u001b[0m         repl[\u001b[38;5;124m'\u001b[39m\u001b[38;5;124mday\u001b[39m\u001b[38;5;124m'\u001b[39m] \u001b[38;5;241m=\u001b[39m monthrange(cyear, cmonth)[\u001b[38;5;241m1\u001b[39m]\n\u001b[0;32m-> 1235\u001b[0m naive \u001b[38;5;241m=\u001b[39m \u001b[43mdefault\u001b[49m\u001b[38;5;241;43m.\u001b[39;49m\u001b[43mreplace\u001b[49m\u001b[43m(\u001b[49m\u001b[38;5;241;43m*\u001b[39;49m\u001b[38;5;241;43m*\u001b[39;49m\u001b[43mrepl\u001b[49m\u001b[43m)\u001b[49m\n\u001b[1;32m   1237\u001b[0m \u001b[38;5;28;01mif\u001b[39;00m res\u001b[38;5;241m.\u001b[39mweekday \u001b[38;5;129;01mis\u001b[39;00m \u001b[38;5;129;01mnot\u001b[39;00m \u001b[38;5;28;01mNone\u001b[39;00m \u001b[38;5;129;01mand\u001b[39;00m \u001b[38;5;129;01mnot\u001b[39;00m res\u001b[38;5;241m.\u001b[39mday:\n",
      "\u001b[0;31mValueError\u001b[0m: hour must be in 0..23",
      "\nThe above exception was the direct cause of the following exception:\n",
      "\u001b[0;31mParserError\u001b[0m                               Traceback (most recent call last)",
      "Input \u001b[0;32mIn [53]\u001b[0m, in \u001b[0;36m<cell line: 1>\u001b[0;34m()\u001b[0m\n\u001b[0;32m----> 1\u001b[0m \u001b[43mpd\u001b[49m\u001b[38;5;241;43m.\u001b[39;49m\u001b[43mto_datetime\u001b[49m\u001b[43m(\u001b[49m\u001b[43mcoast_df\u001b[49m\u001b[38;5;241;43m.\u001b[39;49m\u001b[43mdatetime\u001b[49m\u001b[43m)\u001b[49m\n",
      "File \u001b[0;32m/opt/homebrew/anaconda3/lib/python3.9/site-packages/pandas/core/tools/datetimes.py:1051\u001b[0m, in \u001b[0;36mto_datetime\u001b[0;34m(arg, errors, dayfirst, yearfirst, utc, format, exact, unit, infer_datetime_format, origin, cache)\u001b[0m\n\u001b[1;32m   1049\u001b[0m         result \u001b[38;5;241m=\u001b[39m arg\u001b[38;5;241m.\u001b[39mmap(cache_array)\n\u001b[1;32m   1050\u001b[0m     \u001b[38;5;28;01melse\u001b[39;00m:\n\u001b[0;32m-> 1051\u001b[0m         values \u001b[38;5;241m=\u001b[39m \u001b[43mconvert_listlike\u001b[49m\u001b[43m(\u001b[49m\u001b[43marg\u001b[49m\u001b[38;5;241;43m.\u001b[39;49m\u001b[43m_values\u001b[49m\u001b[43m,\u001b[49m\u001b[43m \u001b[49m\u001b[38;5;28;43mformat\u001b[39;49m\u001b[43m)\u001b[49m\n\u001b[1;32m   1052\u001b[0m         result \u001b[38;5;241m=\u001b[39m arg\u001b[38;5;241m.\u001b[39m_constructor(values, index\u001b[38;5;241m=\u001b[39marg\u001b[38;5;241m.\u001b[39mindex, name\u001b[38;5;241m=\u001b[39marg\u001b[38;5;241m.\u001b[39mname)\n\u001b[1;32m   1053\u001b[0m \u001b[38;5;28;01melif\u001b[39;00m \u001b[38;5;28misinstance\u001b[39m(arg, (ABCDataFrame, abc\u001b[38;5;241m.\u001b[39mMutableMapping)):\n",
      "File \u001b[0;32m/opt/homebrew/anaconda3/lib/python3.9/site-packages/pandas/core/tools/datetimes.py:402\u001b[0m, in \u001b[0;36m_convert_listlike_datetimes\u001b[0;34m(arg, format, name, tz, unit, errors, infer_datetime_format, dayfirst, yearfirst, exact)\u001b[0m\n\u001b[1;32m    400\u001b[0m \u001b[38;5;28;01massert\u001b[39;00m \u001b[38;5;28mformat\u001b[39m \u001b[38;5;129;01mis\u001b[39;00m \u001b[38;5;28;01mNone\u001b[39;00m \u001b[38;5;129;01mor\u001b[39;00m infer_datetime_format\n\u001b[1;32m    401\u001b[0m utc \u001b[38;5;241m=\u001b[39m tz \u001b[38;5;241m==\u001b[39m \u001b[38;5;124m\"\u001b[39m\u001b[38;5;124mutc\u001b[39m\u001b[38;5;124m\"\u001b[39m\n\u001b[0;32m--> 402\u001b[0m result, tz_parsed \u001b[38;5;241m=\u001b[39m \u001b[43mobjects_to_datetime64ns\u001b[49m\u001b[43m(\u001b[49m\n\u001b[1;32m    403\u001b[0m \u001b[43m    \u001b[49m\u001b[43marg\u001b[49m\u001b[43m,\u001b[49m\n\u001b[1;32m    404\u001b[0m \u001b[43m    \u001b[49m\u001b[43mdayfirst\u001b[49m\u001b[38;5;241;43m=\u001b[39;49m\u001b[43mdayfirst\u001b[49m\u001b[43m,\u001b[49m\n\u001b[1;32m    405\u001b[0m \u001b[43m    \u001b[49m\u001b[43myearfirst\u001b[49m\u001b[38;5;241;43m=\u001b[39;49m\u001b[43myearfirst\u001b[49m\u001b[43m,\u001b[49m\n\u001b[1;32m    406\u001b[0m \u001b[43m    \u001b[49m\u001b[43mutc\u001b[49m\u001b[38;5;241;43m=\u001b[39;49m\u001b[43mutc\u001b[49m\u001b[43m,\u001b[49m\n\u001b[1;32m    407\u001b[0m \u001b[43m    \u001b[49m\u001b[43merrors\u001b[49m\u001b[38;5;241;43m=\u001b[39;49m\u001b[43merrors\u001b[49m\u001b[43m,\u001b[49m\n\u001b[1;32m    408\u001b[0m \u001b[43m    \u001b[49m\u001b[43mrequire_iso8601\u001b[49m\u001b[38;5;241;43m=\u001b[39;49m\u001b[43mrequire_iso8601\u001b[49m\u001b[43m,\u001b[49m\n\u001b[1;32m    409\u001b[0m \u001b[43m    \u001b[49m\u001b[43mallow_object\u001b[49m\u001b[38;5;241;43m=\u001b[39;49m\u001b[38;5;28;43;01mTrue\u001b[39;49;00m\u001b[43m,\u001b[49m\n\u001b[1;32m    410\u001b[0m \u001b[43m\u001b[49m\u001b[43m)\u001b[49m\n\u001b[1;32m    412\u001b[0m \u001b[38;5;28;01mif\u001b[39;00m tz_parsed \u001b[38;5;129;01mis\u001b[39;00m \u001b[38;5;129;01mnot\u001b[39;00m \u001b[38;5;28;01mNone\u001b[39;00m:\n\u001b[1;32m    413\u001b[0m     \u001b[38;5;66;03m# We can take a shortcut since the datetime64 numpy array\u001b[39;00m\n\u001b[1;32m    414\u001b[0m     \u001b[38;5;66;03m# is in UTC\u001b[39;00m\n\u001b[1;32m    415\u001b[0m     dta \u001b[38;5;241m=\u001b[39m DatetimeArray(result, dtype\u001b[38;5;241m=\u001b[39mtz_to_dtype(tz_parsed))\n",
      "File \u001b[0;32m/opt/homebrew/anaconda3/lib/python3.9/site-packages/pandas/core/arrays/datetimes.py:2217\u001b[0m, in \u001b[0;36mobjects_to_datetime64ns\u001b[0;34m(data, dayfirst, yearfirst, utc, errors, require_iso8601, allow_object, allow_mixed)\u001b[0m\n\u001b[1;32m   2215\u001b[0m         \u001b[38;5;28;01mreturn\u001b[39;00m values\u001b[38;5;241m.\u001b[39mview(\u001b[38;5;124m\"\u001b[39m\u001b[38;5;124mi8\u001b[39m\u001b[38;5;124m\"\u001b[39m), tz_parsed\n\u001b[1;32m   2216\u001b[0m     \u001b[38;5;28;01mexcept\u001b[39;00m (\u001b[38;5;167;01mValueError\u001b[39;00m, \u001b[38;5;167;01mTypeError\u001b[39;00m):\n\u001b[0;32m-> 2217\u001b[0m         \u001b[38;5;28;01mraise\u001b[39;00m err\n\u001b[1;32m   2219\u001b[0m \u001b[38;5;28;01mif\u001b[39;00m tz_parsed \u001b[38;5;129;01mis\u001b[39;00m \u001b[38;5;129;01mnot\u001b[39;00m \u001b[38;5;28;01mNone\u001b[39;00m:\n\u001b[1;32m   2220\u001b[0m     \u001b[38;5;66;03m# We can take a shortcut since the datetime64 numpy array\u001b[39;00m\n\u001b[1;32m   2221\u001b[0m     \u001b[38;5;66;03m#  is in UTC\u001b[39;00m\n\u001b[1;32m   2222\u001b[0m     \u001b[38;5;66;03m# Return i8 values to denote unix timestamps\u001b[39;00m\n\u001b[1;32m   2223\u001b[0m     \u001b[38;5;28;01mreturn\u001b[39;00m result\u001b[38;5;241m.\u001b[39mview(\u001b[38;5;124m\"\u001b[39m\u001b[38;5;124mi8\u001b[39m\u001b[38;5;124m\"\u001b[39m), tz_parsed\n",
      "File \u001b[0;32m/opt/homebrew/anaconda3/lib/python3.9/site-packages/pandas/core/arrays/datetimes.py:2199\u001b[0m, in \u001b[0;36mobjects_to_datetime64ns\u001b[0;34m(data, dayfirst, yearfirst, utc, errors, require_iso8601, allow_object, allow_mixed)\u001b[0m\n\u001b[1;32m   2197\u001b[0m order: Literal[\u001b[38;5;124m\"\u001b[39m\u001b[38;5;124mF\u001b[39m\u001b[38;5;124m\"\u001b[39m, \u001b[38;5;124m\"\u001b[39m\u001b[38;5;124mC\u001b[39m\u001b[38;5;124m\"\u001b[39m] \u001b[38;5;241m=\u001b[39m \u001b[38;5;124m\"\u001b[39m\u001b[38;5;124mF\u001b[39m\u001b[38;5;124m\"\u001b[39m \u001b[38;5;28;01mif\u001b[39;00m flags\u001b[38;5;241m.\u001b[39mf_contiguous \u001b[38;5;28;01melse\u001b[39;00m \u001b[38;5;124m\"\u001b[39m\u001b[38;5;124mC\u001b[39m\u001b[38;5;124m\"\u001b[39m\n\u001b[1;32m   2198\u001b[0m \u001b[38;5;28;01mtry\u001b[39;00m:\n\u001b[0;32m-> 2199\u001b[0m     result, tz_parsed \u001b[38;5;241m=\u001b[39m \u001b[43mtslib\u001b[49m\u001b[38;5;241;43m.\u001b[39;49m\u001b[43marray_to_datetime\u001b[49m\u001b[43m(\u001b[49m\n\u001b[1;32m   2200\u001b[0m \u001b[43m        \u001b[49m\u001b[43mdata\u001b[49m\u001b[38;5;241;43m.\u001b[39;49m\u001b[43mravel\u001b[49m\u001b[43m(\u001b[49m\u001b[38;5;124;43m\"\u001b[39;49m\u001b[38;5;124;43mK\u001b[39;49m\u001b[38;5;124;43m\"\u001b[39;49m\u001b[43m)\u001b[49m\u001b[43m,\u001b[49m\n\u001b[1;32m   2201\u001b[0m \u001b[43m        \u001b[49m\u001b[43merrors\u001b[49m\u001b[38;5;241;43m=\u001b[39;49m\u001b[43merrors\u001b[49m\u001b[43m,\u001b[49m\n\u001b[1;32m   2202\u001b[0m \u001b[43m        \u001b[49m\u001b[43mutc\u001b[49m\u001b[38;5;241;43m=\u001b[39;49m\u001b[43mutc\u001b[49m\u001b[43m,\u001b[49m\n\u001b[1;32m   2203\u001b[0m \u001b[43m        \u001b[49m\u001b[43mdayfirst\u001b[49m\u001b[38;5;241;43m=\u001b[39;49m\u001b[43mdayfirst\u001b[49m\u001b[43m,\u001b[49m\n\u001b[1;32m   2204\u001b[0m \u001b[43m        \u001b[49m\u001b[43myearfirst\u001b[49m\u001b[38;5;241;43m=\u001b[39;49m\u001b[43myearfirst\u001b[49m\u001b[43m,\u001b[49m\n\u001b[1;32m   2205\u001b[0m \u001b[43m        \u001b[49m\u001b[43mrequire_iso8601\u001b[49m\u001b[38;5;241;43m=\u001b[39;49m\u001b[43mrequire_iso8601\u001b[49m\u001b[43m,\u001b[49m\n\u001b[1;32m   2206\u001b[0m \u001b[43m        \u001b[49m\u001b[43mallow_mixed\u001b[49m\u001b[38;5;241;43m=\u001b[39;49m\u001b[43mallow_mixed\u001b[49m\u001b[43m,\u001b[49m\n\u001b[1;32m   2207\u001b[0m \u001b[43m    \u001b[49m\u001b[43m)\u001b[49m\n\u001b[1;32m   2208\u001b[0m     result \u001b[38;5;241m=\u001b[39m result\u001b[38;5;241m.\u001b[39mreshape(data\u001b[38;5;241m.\u001b[39mshape, order\u001b[38;5;241m=\u001b[39morder)\n\u001b[1;32m   2209\u001b[0m \u001b[38;5;28;01mexcept\u001b[39;00m \u001b[38;5;167;01mValueError\u001b[39;00m \u001b[38;5;28;01mas\u001b[39;00m err:\n",
      "File \u001b[0;32m/opt/homebrew/anaconda3/lib/python3.9/site-packages/pandas/_libs/tslib.pyx:381\u001b[0m, in \u001b[0;36mpandas._libs.tslib.array_to_datetime\u001b[0;34m()\u001b[0m\n",
      "File \u001b[0;32m/opt/homebrew/anaconda3/lib/python3.9/site-packages/pandas/_libs/tslib.pyx:613\u001b[0m, in \u001b[0;36mpandas._libs.tslib.array_to_datetime\u001b[0;34m()\u001b[0m\n",
      "File \u001b[0;32m/opt/homebrew/anaconda3/lib/python3.9/site-packages/pandas/_libs/tslib.pyx:751\u001b[0m, in \u001b[0;36mpandas._libs.tslib._array_to_datetime_object\u001b[0;34m()\u001b[0m\n",
      "File \u001b[0;32m/opt/homebrew/anaconda3/lib/python3.9/site-packages/pandas/_libs/tslib.pyx:742\u001b[0m, in \u001b[0;36mpandas._libs.tslib._array_to_datetime_object\u001b[0;34m()\u001b[0m\n",
      "File \u001b[0;32m/opt/homebrew/anaconda3/lib/python3.9/site-packages/pandas/_libs/tslibs/parsing.pyx:281\u001b[0m, in \u001b[0;36mpandas._libs.tslibs.parsing.parse_datetime_string\u001b[0;34m()\u001b[0m\n",
      "File \u001b[0;32m/opt/homebrew/anaconda3/lib/python3.9/site-packages/dateutil/parser/_parser.py:1368\u001b[0m, in \u001b[0;36mparse\u001b[0;34m(timestr, parserinfo, **kwargs)\u001b[0m\n\u001b[1;32m   1366\u001b[0m     \u001b[38;5;28;01mreturn\u001b[39;00m parser(parserinfo)\u001b[38;5;241m.\u001b[39mparse(timestr, \u001b[38;5;241m*\u001b[39m\u001b[38;5;241m*\u001b[39mkwargs)\n\u001b[1;32m   1367\u001b[0m \u001b[38;5;28;01melse\u001b[39;00m:\n\u001b[0;32m-> 1368\u001b[0m     \u001b[38;5;28;01mreturn\u001b[39;00m \u001b[43mDEFAULTPARSER\u001b[49m\u001b[38;5;241;43m.\u001b[39;49m\u001b[43mparse\u001b[49m\u001b[43m(\u001b[49m\u001b[43mtimestr\u001b[49m\u001b[43m,\u001b[49m\u001b[43m \u001b[49m\u001b[38;5;241;43m*\u001b[39;49m\u001b[38;5;241;43m*\u001b[39;49m\u001b[43mkwargs\u001b[49m\u001b[43m)\u001b[49m\n",
      "File \u001b[0;32m/opt/homebrew/anaconda3/lib/python3.9/site-packages/dateutil/parser/_parser.py:651\u001b[0m, in \u001b[0;36mparser.parse\u001b[0;34m(self, timestr, default, ignoretz, tzinfos, **kwargs)\u001b[0m\n\u001b[1;32m    649\u001b[0m     ret \u001b[38;5;241m=\u001b[39m \u001b[38;5;28mself\u001b[39m\u001b[38;5;241m.\u001b[39m_build_naive(res, default)\n\u001b[1;32m    650\u001b[0m \u001b[38;5;28;01mexcept\u001b[39;00m \u001b[38;5;167;01mValueError\u001b[39;00m \u001b[38;5;28;01mas\u001b[39;00m e:\n\u001b[0;32m--> 651\u001b[0m     \u001b[43msix\u001b[49m\u001b[38;5;241;43m.\u001b[39;49m\u001b[43mraise_from\u001b[49m\u001b[43m(\u001b[49m\u001b[43mParserError\u001b[49m\u001b[43m(\u001b[49m\u001b[38;5;28;43mstr\u001b[39;49m\u001b[43m(\u001b[49m\u001b[43me\u001b[49m\u001b[43m)\u001b[49m\u001b[43m \u001b[49m\u001b[38;5;241;43m+\u001b[39;49m\u001b[43m \u001b[49m\u001b[38;5;124;43m\"\u001b[39;49m\u001b[38;5;124;43m: \u001b[39;49m\u001b[38;5;132;43;01m%s\u001b[39;49;00m\u001b[38;5;124;43m\"\u001b[39;49m\u001b[43m,\u001b[49m\u001b[43m \u001b[49m\u001b[43mtimestr\u001b[49m\u001b[43m)\u001b[49m\u001b[43m,\u001b[49m\u001b[43m \u001b[49m\u001b[43me\u001b[49m\u001b[43m)\u001b[49m\n\u001b[1;32m    653\u001b[0m \u001b[38;5;28;01mif\u001b[39;00m \u001b[38;5;129;01mnot\u001b[39;00m ignoretz:\n\u001b[1;32m    654\u001b[0m     ret \u001b[38;5;241m=\u001b[39m \u001b[38;5;28mself\u001b[39m\u001b[38;5;241m.\u001b[39m_build_tzaware(ret, res, tzinfos)\n",
      "File \u001b[0;32m<string>:3\u001b[0m, in \u001b[0;36mraise_from\u001b[0;34m(value, from_value)\u001b[0m\n",
      "\u001b[0;31mParserError\u001b[0m: hour must be in 0..23: 01/01/2017 24:00"
     ]
    }
   ],
   "source": [
    "pd.to_datetime(coast_df.datetime)"
   ]
  },
  {
   "cell_type": "code",
   "execution_count": 54,
   "id": "3c40210f",
   "metadata": {},
   "outputs": [
    {
     "data": {
      "text/plain": [
       "2013-11-03 01:59:59.997000    2\n",
       "2016-11-06 01:59:59.997000    2\n",
       "2015-11-01 01:59:59.997000    2\n",
       "2011-11-06 01:59:59.997000    2\n",
       "2012-11-04 01:59:59.997000    2\n",
       "                             ..\n",
       "2012-09-01 07:59:59.997000    1\n",
       "2012-09-01 09:00:00           1\n",
       "2012-09-01 10:00:00.003000    1\n",
       "2012-09-01 10:59:59.997000    1\n",
       "12/31/2017 24:00              1\n",
       "Name: datetime, Length: 70121, dtype: int64"
      ]
     },
     "execution_count": 54,
     "metadata": {},
     "output_type": "execute_result"
    }
   ],
   "source": []
  },
  {
   "cell_type": "code",
   "execution_count": null,
   "id": "f97a10c1",
   "metadata": {},
   "outputs": [],
   "source": []
  }
 ],
 "metadata": {
  "kernelspec": {
   "display_name": "Python 3 (ipykernel)",
   "language": "python",
   "name": "python3"
  },
  "language_info": {
   "codemirror_mode": {
    "name": "ipython",
    "version": 3
   },
   "file_extension": ".py",
   "mimetype": "text/x-python",
   "name": "python",
   "nbconvert_exporter": "python",
   "pygments_lexer": "ipython3",
   "version": "3.9.7"
  }
 },
 "nbformat": 4,
 "nbformat_minor": 5
}
